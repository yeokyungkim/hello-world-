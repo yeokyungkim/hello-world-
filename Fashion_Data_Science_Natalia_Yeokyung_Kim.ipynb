{
  "nbformat": 4,
  "nbformat_minor": 0,
  "metadata": {
    "colab": {
      "name": "Fashion Data Science_Natalia Yeokyung Kim.ipynb",
      "provenance": [],
      "collapsed_sections": [],
      "authorship_tag": "ABX9TyMnFSzMFPEVrVsSGlGfE6VZ",
      "include_colab_link": true
    },
    "kernelspec": {
      "name": "python3",
      "display_name": "Python 3"
    },
    "language_info": {
      "name": "python"
    }
  },
  "cells": [
    {
      "cell_type": "markdown",
      "metadata": {
        "id": "view-in-github",
        "colab_type": "text"
      },
      "source": [
        "<a href=\"https://colab.research.google.com/github/yeokyungkim/hello-world-/blob/main/Fashion_Data_Science_Natalia_Yeokyung_Kim.ipynb\" target=\"_parent\"><img src=\"https://colab.research.google.com/assets/colab-badge.svg\" alt=\"Open In Colab\"/></a>"
      ]
    },
    {
      "cell_type": "markdown",
      "metadata": {
        "id": "q0IG0gx0sL8d"
      },
      "source": [
        "# 5/25/2021 Class Examples"
      ]
    },
    {
      "cell_type": "code",
      "metadata": {
        "colab": {
          "base_uri": "https://localhost:8080/"
        },
        "id": "iLknID8SaJAg",
        "outputId": "d2eb3186-bc19-47a3-a365-a33cf83bcfcf"
      },
      "source": [
        "import requests\n",
        "url = \"http://google.com/search?q=hello\"\n",
        "response = requests.get(url)\n",
        "#response.content\n",
        "#response.headers\n",
        "type(response.content)"
      ],
      "execution_count": null,
      "outputs": [
        {
          "output_type": "execute_result",
          "data": {
            "text/plain": [
              "bytes"
            ]
          },
          "metadata": {
            "tags": []
          },
          "execution_count": 21
        }
      ]
    },
    {
      "cell_type": "code",
      "metadata": {
        "colab": {
          "base_uri": "https://localhost:8080/"
        },
        "id": "jH3TIVIOlZmF",
        "outputId": "916f7460-6c67-45f5-dc89-e7bab9405b06"
      },
      "source": [
        "import requests\n",
        "url = \"http://google.com/search?q=data science\"\n",
        "response = requests.get(url)\n",
        "response.text.find(\"data science - Google Search\")"
      ],
      "execution_count": null,
      "outputs": [
        {
          "output_type": "execute_result",
          "data": {
            "text/plain": [
              "160"
            ]
          },
          "metadata": {
            "tags": []
          },
          "execution_count": 15
        }
      ]
    },
    {
      "cell_type": "code",
      "metadata": {
        "colab": {
          "base_uri": "https://localhost:8080/"
        },
        "id": "buPkMvp2wf79",
        "outputId": "1d4c8606-ccc3-4615-9ae5-5ffa77dc8933"
      },
      "source": [
        "import requests\n",
        "import json\n",
        "\n",
        "url = \"http://google.com/search?q=something else\"\n",
        "response = requests.get(url)\n",
        "response.text.find(\"something else - Google Search\")\n",
        "#response.content\n",
        "#response.headers\n",
        "#type(response.content)\n",
        "\n",
        "isJson = response.headers['Content-Type'].find('json') != -1\n",
        "print(isJson)\n",
        "\n",
        "if isJson: json.loads(response.text)"
      ],
      "execution_count": null,
      "outputs": [
        {
          "output_type": "stream",
          "text": [
            "False\n"
          ],
          "name": "stdout"
        }
      ]
    },
    {
      "cell_type": "code",
      "metadata": {
        "colab": {
          "base_uri": "https://localhost:8080/",
          "height": 52
        },
        "id": "yElJLTZQqWF3",
        "outputId": "7d59a067-40a8-48ef-8e2a-546dd0f25599"
      },
      "source": [
        "import json\n",
        "\n",
        "url = \"https://api.github.com/events\"\n",
        "response = requests.get(url)\n",
        "isJson =response.headers['Content-Type'].find('json') != -1\n",
        "print(isJson)\n",
        "\n",
        "if isJson: data = json.loads(response.text)\n",
        "#data = response.text\n",
        "len(data)\n",
        "data[-1]['actor']['display_login']"
      ],
      "execution_count": null,
      "outputs": [
        {
          "output_type": "stream",
          "text": [
            "True\n"
          ],
          "name": "stdout"
        },
        {
          "output_type": "execute_result",
          "data": {
            "application/vnd.google.colaboratory.intrinsic+json": {
              "type": "string"
            },
            "text/plain": [
              "'pull'"
            ]
          },
          "metadata": {
            "tags": []
          },
          "execution_count": 23
        }
      ]
    },
    {
      "cell_type": "code",
      "metadata": {
        "colab": {
          "base_uri": "https://localhost:8080/"
        },
        "id": "KoCh1h940Ivp",
        "outputId": "4fd65ba1-a5aa-45a9-c4b6-3dbba32b47a6"
      },
      "source": [
        "from bs4 import BeautifulSoup\n",
        "import requests\n",
        "import json\n",
        "\n",
        "url = \"http://google.com/search?q=something else\"\n",
        "response = requests.get(url)\n",
        "\n",
        "cnt_type = response.headers['Content-Type']\n",
        "isJson = cnt_type.find('json') != -1\n",
        "\n",
        "print(isJson)\n",
        "\n",
        "if isJson: json.loads(response.text)"
      ],
      "execution_count": null,
      "outputs": [
        {
          "output_type": "stream",
          "text": [
            "False\n"
          ],
          "name": "stdout"
        }
      ]
    },
    {
      "cell_type": "code",
      "metadata": {
        "id": "TkAzmAMo85Cr"
      },
      "source": [
        "review a code introduced in class\n"
      ],
      "execution_count": null,
      "outputs": []
    },
    {
      "cell_type": "markdown",
      "metadata": {
        "id": "BKHCdOM1c0z9"
      },
      "source": [
        "**06/01/2021 Class Exercises**"
      ]
    },
    {
      "cell_type": "markdown",
      "metadata": {
        "id": "NtUG2G8ieV54"
      },
      "source": [
        "Fashion Designers Database\n",
        "https://en.wikipedia.org/wiki/List_of_fashion_designers\n",
        "\n",
        "To collect data about all the fashion designers. "
      ]
    },
    {
      "cell_type": "code",
      "metadata": {
        "colab": {
          "base_uri": "https://localhost:8080/"
        },
        "id": "RSxREue_SqC_",
        "outputId": "231a96bb-b346-4db3-9879-6e8ee9e236a0"
      },
      "source": [
        "# fetch wikipedia page\n",
        "import requests\n",
        "from bs4 import BeautifulSoup\n",
        "from bs4 import Tag\n",
        "\n",
        "url = \"https://en.wikipedia.org/wiki/List_of_fashion_designers\"\n",
        "r = requests.get(url)\n",
        "\n",
        "soup = BeautifulSoup(r.text, 'html.parser')\n",
        "\n",
        "#print(soup.prettify())\n",
        "h2 = soup.find_all('h2')\n",
        "countries = {}\n",
        "\n",
        "for c in h2:\n",
        "  #print(c.next_element)\n",
        "  #check if find child returns None\n",
        "  child = c.findChild()\n",
        "  if child != None:\n",
        "    #the child element is now <span>\n",
        "    #get the country name from <span> tag\n",
        "   print(child.contents[0])\n",
        "\n",
        "   # add the country to the dictionary\n",
        "   countries[child.contents[0]] = []\n",
        "\n",
        "   #extract fashion designers using <li> tag\n",
        "   #for designer in c.find_all_next('li'):\n",
        "     #print(designer.contents)\n",
        "   divs = c.findNextSibling('div')\n",
        "\n",
        "   #for designer in divs.find_all('a'):\n",
        "     #print('* ' + designer.contents[0])\n",
        "\n",
        "   for li in divs.find_all('li'):\n",
        "     for designer in li:\n",
        "       if isinstance(designer, Tag):\n",
        "         print('* ' + designer.string)\n",
        "         countries[child.contents[0]].append(designer.string)\n",
        "       else:\n",
        "         print('* ' + designer)\n",
        "         countries[child.contents[0]].append(designer)\n",
        "   break\n",
        "print(countries)\n",
        "\n",
        "   \n",
        "   "
      ],
      "execution_count": null,
      "outputs": [
        {
          "output_type": "stream",
          "text": [
            "Argentina\n",
            "* Aitor Throup\n",
            "* Concepción Cochrane Blaquier\n",
            "* Dalila Puzzovio\n",
            "* Delia Cancela\n",
            "* Franc Fernandez\n",
            "* Gustavo Cadile\n",
            "* Jazmín Chebar\n",
            "* Paco Jamandreu\n",
            "* Pilar Zeta\n",
            "* Vanessa Seward\n",
            "{'Argentina': ['Aitor Throup', 'Concepción Cochrane Blaquier', 'Dalila Puzzovio', 'Delia Cancela', 'Franc Fernandez', 'Gustavo Cadile', 'Jazmín Chebar', 'Paco Jamandreu', 'Pilar Zeta', 'Vanessa Seward']}\n"
          ],
          "name": "stdout"
        }
      ]
    },
    {
      "cell_type": "code",
      "metadata": {
        "colab": {
          "base_uri": "https://localhost:8080/",
          "height": 303
        },
        "id": "OPolFubOCcko",
        "outputId": "42c4a339-c7d0-4ca8-9678-e3a0ad592f04"
      },
      "source": [
        "#list\n",
        "l = [1,2,3,4,5]\n",
        "print(l[0])\n",
        "print(l[-1])\n",
        "print(l[-2])\n",
        "print(l[1:3])\n",
        "print(l[:3])\n",
        "\n",
        "#dictionary\n",
        "d = {'q':0.25, 'd':0.1, 'n':0.05, 'p':0.01}\n",
        "print(d['q'])\n",
        "print(d['e']) # 'e' is not in the list. --> key error"
      ],
      "execution_count": null,
      "outputs": [
        {
          "output_type": "stream",
          "text": [
            "1\n",
            "5\n",
            "4\n",
            "[2, 3]\n",
            "[1, 2, 3]\n",
            "0.25\n"
          ],
          "name": "stdout"
        },
        {
          "output_type": "error",
          "ename": "KeyError",
          "evalue": "ignored",
          "traceback": [
            "\u001b[0;31m---------------------------------------------------------------------------\u001b[0m",
            "\u001b[0;31mKeyError\u001b[0m                                  Traceback (most recent call last)",
            "\u001b[0;32m<ipython-input-1-c88e415b70dc>\u001b[0m in \u001b[0;36m<module>\u001b[0;34m()\u001b[0m\n\u001b[1;32m     10\u001b[0m \u001b[0md\u001b[0m \u001b[0;34m=\u001b[0m \u001b[0;34m{\u001b[0m\u001b[0;34m'q'\u001b[0m\u001b[0;34m:\u001b[0m\u001b[0;36m0.25\u001b[0m\u001b[0;34m,\u001b[0m \u001b[0;34m'd'\u001b[0m\u001b[0;34m:\u001b[0m\u001b[0;36m0.1\u001b[0m\u001b[0;34m,\u001b[0m \u001b[0;34m'n'\u001b[0m\u001b[0;34m:\u001b[0m\u001b[0;36m0.05\u001b[0m\u001b[0;34m,\u001b[0m \u001b[0;34m'p'\u001b[0m\u001b[0;34m:\u001b[0m\u001b[0;36m0.01\u001b[0m\u001b[0;34m}\u001b[0m\u001b[0;34m\u001b[0m\u001b[0;34m\u001b[0m\u001b[0m\n\u001b[1;32m     11\u001b[0m \u001b[0mprint\u001b[0m\u001b[0;34m(\u001b[0m\u001b[0md\u001b[0m\u001b[0;34m[\u001b[0m\u001b[0;34m'q'\u001b[0m\u001b[0;34m]\u001b[0m\u001b[0;34m)\u001b[0m\u001b[0;34m\u001b[0m\u001b[0;34m\u001b[0m\u001b[0m\n\u001b[0;32m---> 12\u001b[0;31m \u001b[0mprint\u001b[0m\u001b[0;34m(\u001b[0m\u001b[0md\u001b[0m\u001b[0;34m[\u001b[0m\u001b[0;34m'e'\u001b[0m\u001b[0;34m]\u001b[0m\u001b[0;34m)\u001b[0m \u001b[0;31m# 'e' is not in the list. --> key error\u001b[0m\u001b[0;34m\u001b[0m\u001b[0;34m\u001b[0m\u001b[0m\n\u001b[0m",
            "\u001b[0;31mKeyError\u001b[0m: 'e'"
          ]
        }
      ]
    },
    {
      "cell_type": "code",
      "metadata": {
        "colab": {
          "base_uri": "https://localhost:8080/"
        },
        "id": "GEInNZvh_8lE",
        "outputId": "6ee1d4cb-2af6-4080-ae14-faf203cfe570"
      },
      "source": [
        "isinstance('5',int)\n"
      ],
      "execution_count": null,
      "outputs": [
        {
          "output_type": "execute_result",
          "data": {
            "text/plain": [
              "False"
            ]
          },
          "metadata": {
            "tags": []
          },
          "execution_count": 22
        }
      ]
    },
    {
      "cell_type": "markdown",
      "metadata": {
        "id": "lJ_lVahjgPrh"
      },
      "source": [
        "****Lecture 3: June 2nd, 2021 Homework (Deadline June 7th, 2021)****\n",
        "\n",
        "*   Scraping\n",
        "\n",
        "\n",
        "Instructions\n",
        "The goal of this assignment is to scrape the data from these pages using python and the libraries related to scraping. The links below are wikipedia pages about footwear designers, fashion events and jewellery designers. Review these wikipedia pages to determine if the names of the designers/events and country data can be retrieved from these pages. Describe your strategy for each web page and write a python script to retrieve the data. Print the data collected in google colab so that the data can be verified.\n",
        "\n",
        "Wikipedia Pages\n",
        "Footwear Designers: https://en.wikipedia.org/wiki/List_of_footwear_designers\n",
        "Fashion Events: https://en.wikipedia.org/wiki/List_of_fashion_events\n",
        "Jewellery Designers: https://en.wikipedia.org/wiki/List_of_jewellery_designers\n",
        "Submit your assignment by sharing your google colab document with the email address praveeng@andrew.cmu.edu\n",
        "\n",
        "The deadline for this assignment is Jun 7, 2021."
      ]
    },
    {
      "cell_type": "markdown",
      "metadata": {
        "id": "Fq2XP3Vwh61v"
      },
      "source": [
        "**Exercise 1** (Option 1): Scraping  Retrieve a list of jewellery designers by country from origianl HTML source using beautifulsoup\n",
        "\n",
        "https://en.wikipedia.org/wiki/List_of_jewellery_designers \n",
        "\n"
      ]
    },
    {
      "cell_type": "code",
      "metadata": {
        "colab": {
          "base_uri": "https://localhost:8080/",
          "height": 1000
        },
        "id": "HCY_7wJMgeE0",
        "outputId": "252341cc-5118-481a-b245-d97ed13e6969"
      },
      "source": [
        "# fetch wikipedia page\n",
        "import requests\n",
        "from bs4 import BeautifulSoup\n",
        "from bs4 import Tag\n",
        "\n",
        "url = \"https://en.wikipedia.org/wiki/List_of_jewellery_designers\"\n",
        "r = requests.get(url)\n",
        "\n",
        "soup = BeautifulSoup(r.text, 'html.parser')\n",
        "\n",
        "# print(soup.prettify())\n",
        "\n",
        "countries = soup.find_all('h2')\n",
        "\n",
        "# print(countries)\n",
        "\n",
        "\n",
        "for c in countries:\n",
        "  # check if find child returns None\n",
        "  child = c.findChild()\n",
        "  # print(child)\n",
        "  if child != None:\n",
        "    # the child element is now <span>\n",
        "    # get the country name from <span> tag\n",
        "    print(child.contents[0])\n",
        "\n",
        "    \n",
        "    #extract jewellery designers using <li> tag\n",
        "    uls = c.find_next_sibling('ul')\n",
        "  \n",
        "    for jewellery_designer in uls.find_all('a'):\n",
        "      if type(jewellery_designer) != None :\n",
        "        print('*' + jewellery_designer.contents[0])\n",
        "       \n",
        "\n",
        "\n",
        "\n",
        "    \n",
        "        \n",
        "      \n",
        "          \n",
        " \n",
        "        "
      ],
      "execution_count": null,
      "outputs": [
        {
          "output_type": "stream",
          "text": [
            "Argentina\n",
            "*Ricardo Basta\n",
            "Australia\n",
            "*Joanna Angelett\n",
            "*Wilfrid Nelson Isaac\n",
            "*Alice Elsie Reeve\n",
            "Austria\n",
            "*Ingo Appelt\n",
            "*Elena Kriegner\n",
            "*Nettie Rosenstein\n",
            "*Daniel Swarovski\n",
            "Belgium\n",
            "*Lodewyk van Bercken\n",
            "*Philippe Van Dievoet\n",
            "Brazil\n",
            "*Kim Poor\n",
            "*Fernando Jorge\n",
            "Canada\n",
            "*Lois Betteridge\n",
            "*H.V. Dalling\n",
            "*Charles Edenshaw\n",
            "*David Neel\n",
            "*Bill Reid\n",
            "*Tobi Wong\n",
            "*Dean Davidson\n",
            "Czech Republic\n",
            "*George Brooks\n",
            "*Julie Wimmer\n",
            "Denmark\n",
            "*Joachim Matthias Wendt\n",
            "Dominican Republic\n",
            "*Jenny Polanco\n",
            "*[1]\n",
            "Estonia\n",
            "*Mari Käbin\n",
            "*Kadri Mälk\n",
            "France\n",
            "*Ilias Lalaounis\n",
            "*Elena Votsi\n",
            "*Sotirios Voulgaris\n",
            "Germany\n",
            "*Ilias Lalaounis\n",
            "*Elena Votsi\n",
            "*Sotirios Voulgaris\n",
            "Greece\n",
            "*Ilias Lalaounis\n",
            "*Elena Votsi\n",
            "*Sotirios Voulgaris\n",
            "Guyana\n",
            "*Vannetta Seecharran\n",
            "Hong Kong\n",
            "*Wallace Chan\n",
            "Hungary\n",
            "*Zoltan David\n",
            "India\n",
            "*Waris Ahluwalia\n",
            "*Farah Khan Ali\n",
            "*Khailshanker Durlabhji\n",
            "*Shantidas Jhaveri\n",
            "*Neelam Kothari\n",
            "*Nayna Mehta\n",
            "*Sudha Pennathur\n",
            "*Suhani Pittie\n",
            "*Ambaji Shinde\n",
            "Ireland\n",
            "*Slim Barrett\n",
            "*Melissa Curry\n",
            "Israel\n",
            "*Dorrit Moussaieff\n",
            "Italy\n",
            "*Yasuki Hiramatsu\n",
            "*Kimiko Kasai\n",
            "*Akiko Kawarai\n",
            "*Mikimoto Kōkichi\n",
            "Japan\n",
            "*Yasuki Hiramatsu\n",
            "*Kimiko Kasai\n",
            "*Akiko Kawarai\n",
            "*Mikimoto Kōkichi\n",
            "Lebanon\n",
            "*Dina Azar\n",
            "*Selim Mouzannar\n",
            "*Tabbah\n",
            "Netherlands\n",
            "*Gijs Bakker\n",
            "*Bert Nienhuis\n",
            "*Ted Noten\n",
            "*Marly van der Velden\n",
            "Pakistan\n",
            "*Tapu Javeri\n",
            "Romania\n",
            "*Daniel Stoenescu\n",
            "Russia\n",
            "*Dmitriy Bellman\n",
            "*Carl Edvard Bolin\n",
            "*Erté\n",
            "*Gustav Fabergé\n",
            "*Peter Carl Fabergé\n",
            "*Joseph Marchak\n",
            "Spain\n",
            "*Salvador Dalí\n",
            "South Africa\n",
            "*Kirsten Goss\n",
            "Sweden\n",
            "*Efva Attling\n",
            "*Arne Blomberg\n",
            "*Carolina Gynning\n",
            "*Vivianna Torun Bülow-Hübe\n",
            "Switzerland\n",
            "*Kurt Aepli\n",
            "*Gilbert Albert\n",
            "*Jean Jahnsson\n",
            "Taiwan\n",
            "*Cindy Chao\n",
            "*Onch Movement\n",
            "Turkey\n",
            "*Gurhan Orhan\n",
            "Ukraine\n",
            "*Natasha Zinko\n",
            "United Kingdom\n",
            "*Rosalina Lydster\n",
            "United States\n",
            "*Rosalina Lydster\n",
            "Vietnam\n",
            "*Rosalina Lydster\n",
            "See also\n",
            "*List of fashion designers\n",
            "*List of footwear designers\n",
            "References\n"
          ],
          "name": "stdout"
        },
        {
          "output_type": "error",
          "ename": "AttributeError",
          "evalue": "ignored",
          "traceback": [
            "\u001b[0;31m---------------------------------------------------------------------------\u001b[0m",
            "\u001b[0;31mAttributeError\u001b[0m                            Traceback (most recent call last)",
            "\u001b[0;32m<ipython-input-8-196571922138>\u001b[0m in \u001b[0;36m<module>\u001b[0;34m()\u001b[0m\n\u001b[1;32m     29\u001b[0m     \u001b[0muls\u001b[0m \u001b[0;34m=\u001b[0m \u001b[0mc\u001b[0m\u001b[0;34m.\u001b[0m\u001b[0mfind_next_sibling\u001b[0m\u001b[0;34m(\u001b[0m\u001b[0;34m'ul'\u001b[0m\u001b[0;34m)\u001b[0m\u001b[0;34m\u001b[0m\u001b[0;34m\u001b[0m\u001b[0m\n\u001b[1;32m     30\u001b[0m \u001b[0;34m\u001b[0m\u001b[0m\n\u001b[0;32m---> 31\u001b[0;31m     \u001b[0;32mfor\u001b[0m \u001b[0mjewellery_designer\u001b[0m \u001b[0;32min\u001b[0m \u001b[0muls\u001b[0m\u001b[0;34m.\u001b[0m\u001b[0mfind_all\u001b[0m\u001b[0;34m(\u001b[0m\u001b[0;34m'a'\u001b[0m\u001b[0;34m)\u001b[0m\u001b[0;34m:\u001b[0m\u001b[0;34m\u001b[0m\u001b[0;34m\u001b[0m\u001b[0m\n\u001b[0m\u001b[1;32m     32\u001b[0m       \u001b[0;32mif\u001b[0m \u001b[0mtype\u001b[0m\u001b[0;34m(\u001b[0m\u001b[0mjewellery_designer\u001b[0m\u001b[0;34m)\u001b[0m \u001b[0;34m!=\u001b[0m \u001b[0;32mNone\u001b[0m \u001b[0;34m:\u001b[0m\u001b[0;34m\u001b[0m\u001b[0;34m\u001b[0m\u001b[0m\n\u001b[1;32m     33\u001b[0m         \u001b[0mprint\u001b[0m\u001b[0;34m(\u001b[0m\u001b[0;34m'*'\u001b[0m \u001b[0;34m+\u001b[0m \u001b[0mjewellery_designer\u001b[0m\u001b[0;34m.\u001b[0m\u001b[0mcontents\u001b[0m\u001b[0;34m[\u001b[0m\u001b[0;36m0\u001b[0m\u001b[0;34m]\u001b[0m\u001b[0;34m)\u001b[0m\u001b[0;34m\u001b[0m\u001b[0;34m\u001b[0m\u001b[0m\n",
            "\u001b[0;31mAttributeError\u001b[0m: 'NoneType' object has no attribute 'find_all'"
          ]
        }
      ]
    },
    {
      "cell_type": "markdown",
      "metadata": {
        "id": "E7SSBiVI4Z9S"
      },
      "source": [
        "**Exercise 1** (Option 2): Scraping Retrieve a list of jewellery designers by country from origianl HTML source using beautifulsoup\n",
        "\n",
        "https://en.wikipedia.org/wiki/List_of_jewellery_designers"
      ]
    },
    {
      "cell_type": "code",
      "metadata": {
        "colab": {
          "base_uri": "https://localhost:8080/"
        },
        "id": "8cISnCsK1BRv",
        "outputId": "b398c8de-88f9-463c-ab68-9f7277676f55"
      },
      "source": [
        "# fetch wikipedia page\n",
        "import requests\n",
        "from bs4 import BeautifulSoup\n",
        "from bs4 import Tag\n",
        "\n",
        "url = \"https://en.wikipedia.org/wiki/List_of_jewellery_designers\"\n",
        "r = requests.get(url)\n",
        "\n",
        "soup = BeautifulSoup(r.text, 'html.parser')\n",
        "\n",
        "# print(soup.prettify())\n",
        "\n",
        "countries = soup.find_all('h2')\n",
        "\n",
        "# print(countries)\n",
        "\n",
        "\n",
        "for c in countries:\n",
        "  # check if find child returns None\n",
        "  child = c.findChild()\n",
        "  # print(child)\n",
        "  if child != None:\n",
        "    # the child element is now <span>\n",
        "    # get the country name from <span> tag\n",
        "    if child.contents[0] == \"See also\":\n",
        "      break\n",
        "    print(child.contents[0])\n",
        "  \n",
        "\n",
        "    \n",
        "    #extract jewellery designers using <li> tag\n",
        "    uls = c.find_next('ul')\n",
        "    #print(uls)\n",
        "    \n",
        "    for jewellery_designer in uls.children:\n",
        "     if isinstance(jewellery_designer, Tag):\n",
        "      if jewellery_designer.string != None:\n",
        "       print('* ' + jewellery_designer.string)\n",
        "     #else:\n",
        "      #print('* ' + jewellery_designer)\n",
        "          \n",
        "\n",
        "       \n"
      ],
      "execution_count": null,
      "outputs": [
        {
          "output_type": "stream",
          "text": [
            "Argentina\n",
            "* Ricardo Basta\n",
            "Australia\n",
            "* Joanna Angelett\n",
            "* Wilfrid Nelson Isaac\n",
            "* Alice Elsie Reeve\n",
            "Austria\n",
            "* Ingo Appelt\n",
            "* Elena Kriegner\n",
            "* Nettie Rosenstein\n",
            "* Daniel Swarovski\n",
            "Belgium\n",
            "* Lodewyk van Bercken\n",
            "* Philippe Van Dievoet\n",
            "Brazil\n",
            "* Kim Poor\n",
            "* Fernando Jorge\n",
            "Canada\n",
            "* Lois Betteridge\n",
            "* H.V. Dalling\n",
            "* Charles Edenshaw\n",
            "* David Neel\n",
            "* Bill Reid\n",
            "* Tobi Wong\n",
            "* Dean Davidson\n",
            "Czech Republic\n",
            "* George Brooks\n",
            "* Julie Wimmer\n",
            "Denmark\n",
            "* Joachim Matthias Wendt\n",
            "Dominican Republic\n",
            "Estonia\n",
            "* Mari Käbin\n",
            "* Kadri Mälk\n",
            "France\n",
            "* Louis Aucoc\n",
            "* Dominique Aurientis\n",
            "* Guy Bedarida\n",
            "* Suzanne Belperron\n",
            "* Marcel Boucher\n",
            "* Frédéric Boucheron\n",
            "* Jacques-Théodule Cartier\n",
            "* Pierre C. Cartier\n",
            "* Dolly Cohen\n",
            "* Jean-Baptiste Fossin\n",
            "* James de Givenchy\n",
            "* Robert Goossens\n",
            "* Jade Jagger\n",
            "* René Sim Lacaze\n",
            "* René Lalique\n",
            "* Jean Mayeur\n",
            "* Robert Mazlo\n",
            "* Jean-Valentin Morel\n",
            "* Alexandra Nereïev\n",
            "* Marie-Etienne Nitot\n",
            "* Sebastien Parfait\n",
            "* Paloma Picasso\n",
            "* Jacques von Polier\n",
            "* Alexandre Reza\n",
            "* Fred Samuel\n",
            "* Jean Schlumberger\n",
            "* Lea Stein\n",
            "* Pierre Sterlé\n",
            "Germany\n",
            "* Jakob Bengel\n",
            "* Gregor Clemens\n",
            "* Carl Dau\n",
            "* Joachim Grallert\n",
            "* Heidrun Mohr-Mayer\n",
            "* Anni Schaad\n",
            "* Julius Ludwig Schomburgk\n",
            "* Georg Friedrich Strass\n",
            "* Ferdinand Anton Nicolaus Teutenberg\n",
            "* Lilian von Trapp\n",
            "Greece\n",
            "* Ilias Lalaounis\n",
            "* Elena Votsi\n",
            "* Sotirios Voulgaris\n",
            "Guyana\n",
            "* Vannetta Seecharran\n",
            "Hong Kong\n",
            "* Wallace Chan\n",
            "Hungary\n",
            "* Zoltan David\n",
            "India\n",
            "* Waris Ahluwalia\n",
            "* Farah Khan Ali\n",
            "* Khailshanker Durlabhji\n",
            "* Shantidas Jhaveri\n",
            "* Neelam Kothari\n",
            "* Nayna Mehta\n",
            "* Sudha Pennathur\n",
            "* Suhani Pittie\n",
            "* Ambaji Shinde\n",
            "Ireland\n",
            "* Slim Barrett\n",
            "* Melissa Curry\n",
            "Israel\n",
            "* Dorrit Moussaieff\n",
            "Italy\n",
            "* Loris Abate\n",
            "* Akelo (Andrea Cagnetti)\n",
            "* Carolina Bucci\n",
            "* Gianni Bulgari\n",
            "* Fortunato Pio Castellani\n",
            "* Benvenuto Cellini\n",
            "* Ugo Correani\n",
            "* Enrico and Damiano Damiani\n",
            "* Carlo Giuliano\n",
            "* Andrew Grima\n",
            "* Allessandro Masnago\n",
            "* Roberto Faraone Mennella\n",
            "* Giovanni Sebastiano Meyandi\n",
            "* Elsa Peretti\n",
            "* Luciana Pignatelli\n",
            "* Giò Pomodoro\n",
            "* Ippolita Rostagno\n",
            "* Fulco di Verdura\n",
            "Japan\n",
            "* Yasuki Hiramatsu\n",
            "* Kimiko Kasai\n",
            "* Akiko Kawarai\n",
            "* Mikimoto Kōkichi\n",
            "Lebanon\n",
            "* Dina Azar\n",
            "* Selim Mouzannar\n",
            "* Tabbah\n",
            "Netherlands\n",
            "* Gijs Bakker\n",
            "* Bert Nienhuis\n",
            "* Ted Noten\n",
            "* Marly van der Velden\n",
            "Pakistan\n",
            "* Tapu Javeri\n",
            "Romania\n",
            "* Daniel Stoenescu\n",
            "Russia\n",
            "* Dmitriy Bellman\n",
            "* Carl Edvard Bolin\n",
            "* Erté\n",
            "* Gustav Fabergé\n",
            "* Peter Carl Fabergé\n",
            "* Joseph Marchak\n",
            "Spain\n",
            "* Salvador Dalí\n",
            "South Africa\n",
            "* Kirsten Goss\n",
            "Sweden\n",
            "* Efva Attling\n",
            "* Arne Blomberg\n",
            "* Carolina Gynning\n",
            "* Vivianna Torun Bülow-Hübe\n",
            "Switzerland\n",
            "* Kurt Aepli\n",
            "* Gilbert Albert\n",
            "* Jean Jahnsson\n",
            "Taiwan\n",
            "* Cindy Chao\n",
            "* Onch Movement\n",
            "Turkey\n",
            "* Gurhan Orhan\n",
            "Ukraine\n",
            "* Natasha Zinko\n",
            "United Kingdom\n",
            "* Joanna Angelett\n",
            "* Kali Arulpragasam\n",
            "* Bec Astley Clarke\n",
            "* Solange Azagury-Partridge\n",
            "* Tom Binns\n",
            "* Judy Blame\n",
            "* Robert Brandon\n",
            "* John Brogden\n",
            "* Jocelyn Burton\n",
            "* John Paul Cooper\n",
            "* David Stewart Dawson\n",
            "* Nelson Dawson\n",
            "* Monty Don\n",
            "* John Donald\n",
            "* Samuel Henry Drew\n",
            "* Annoushka Ducas\n",
            "* Theo Fabergé\n",
            "* Theo Fennell\n",
            "* John Francillon\n",
            "* Elizabeth Gage\n",
            "* Arthur Gaskin\n",
            "* Georgie Gaskin\n",
            "* Sabine Getty\n",
            "* Ola Gorie\n",
            "* Laurence Graff\n",
            "* John Greed\n",
            "* Andrew Grima\n",
            "* John Hardy\n",
            "* Sophie Harley\n",
            "* George Heriot\n",
            "* William Herrick\n",
            "* Philippa Holland\n",
            "* Charles Horner\n",
            "* George Edward Hunt\n",
            "* Annabel Jones\n",
            "* Xander Kostroma\n",
            "* Shaun Leane\n",
            "* Andrew Logan\n",
            "* Joseph Mayer\n",
            "* Kiki McDonough\n",
            "* Flora McLean\n",
            "* Edith Emily Morris\n",
            "* Ella Naper\n",
            "* Louise Nippierd\n",
            "* Ari Norman\n",
            "* Dorrie Nossiter\n",
            "* Henry Raeburn\n",
            "* Angharad Rees\n",
            "* Tony Swatton\n",
            "* James Tassie\n",
            "* William Tassie\n",
            "* Monica Vinader\n",
            "* Hester Wagstaff\n",
            "* David Watkins\n",
            "* James Cromar Watt\n",
            "* Stephen Webster\n",
            "United States\n",
            "* James Avery\n",
            "* Webb C. Ball\n",
            "* Bill Barrett\n",
            "* BillyBoy*\n",
            "* Gail Bird\n",
            "* Alexis Bittar\n",
            "* Steven Brody\n",
            "* Richard Shaw Brown\n",
            "* Ben Nighthorse Campbell\n",
            "* Alexander Calder\n",
            "* Eric Daman\n",
            "* Henry Dunay\n",
            "* Robert Ebendorf\n",
            "* Marie el-Khoury\n",
            "* Mignon Faget\n",
            "* Paulding Farnham\n",
            "* Jennifer Fisher\n",
            "* Paul Flato\n",
            "* Susan Foster\n",
            "* Sophia Forero\n",
            "* Jane A. Gordon\n",
            "* William Snelling Hadaway\n",
            "* William Claude Harper\n",
            "* Miriam Haskell\n",
            "* George W. Headley\n",
            "* Joan Hornig\n",
            "* Michael Horse\n",
            "* Holly Hosterman\n",
            "* Mary Lee Hu\n",
            "* Richard W. Hughes\n",
            "* Yazzie Johnson\n",
            "* Fred Kabotie\n",
            "* Michael Kabotie\n",
            "* Jessica Kagan Cushman\n",
            "* Alfred Karram\n",
            "* Martin Katz\n",
            "* Linda Fry Kenzle\n",
            "* Omar Kiam\n",
            "* Alexis Kirk\n",
            "* Florence Koehler\n",
            "* Carolyn Kriegman\n",
            "* Kenneth Jay Lane\n",
            "* Stanley Lechtzin\n",
            "* Charles Loloma\n",
            "* Pamela Love\n",
            "* Mary Lyon\n",
            "* Peter Macchiarini\n",
            "* Linda MacNeil\n",
            "* Tim McCreight\n",
            "* Jennifer Meyer\n",
            "* Alexandra Mor\n",
            "* Robert Lee Morris\n",
            "* Celia Newman\n",
            "* Clifton Nicholson\n",
            "* Kevin O'Dwyer\n",
            "* Gurhan Orhan\n",
            "* Dellamarie Parrilli\n",
            "* Philip Press\n",
            "* Nettie Rosenstein\n",
            "* Marty Ruza\n",
            "* Cynthia Sakai\n",
            "* Atsidi Sani\n",
            "* Marjorie Schick\n",
            "* Lorraine Schwartz\n",
            "* Kendra Scott\n",
            "* Emory Sekaquaptewa\n",
            "* Coreen Simpson\n",
            "* Tommy Singer\n",
            "* Albion Smith\n",
            "* Bill Smith\n",
            "* Mimi So\n",
            "* Hans Stern\n",
            "* Tarina Tarantino\n",
            "* Maria Tash\n",
            "* Rachelle Thiewes\n",
            "* Charles Lewis Tiffany\n",
            "* Louis Comfort Tiffany\n",
            "* Justin Tranter\n",
            "* Betony Vernon\n",
            "* Diana Vincent\n",
            "* Cathy Waterman\n",
            "* Stephanie Wells\n",
            "* Harry Winston\n",
            "* Sherry Wolf\n",
            "* Alex Woo\n",
            "* David Yurman\n",
            "Vietnam\n",
            "* Rosalina Lydster\n"
          ],
          "name": "stdout"
        }
      ]
    },
    {
      "cell_type": "markdown",
      "metadata": {
        "id": "B7deaaQT3Wm_"
      },
      "source": [
        "**Exercise 2**: Scraping - Retrieve a list of fashion events 1) first by continent; 2) then, by country from origianl HTML source using beautifulsoup\n",
        "\n",
        "https://en.wikipedia.org/wiki/List_of_fashion_events \n",
        "\n",
        "\n",
        "\n"
      ]
    },
    {
      "cell_type": "code",
      "metadata": {
        "colab": {
          "base_uri": "https://localhost:8080/"
        },
        "id": "jKsNGtBj3Imk",
        "outputId": "d9beb526-0614-46fe-a7c6-1a6205bdcd26"
      },
      "source": [
        "# fetch wikipedia page\n",
        "import requests\n",
        "from bs4 import BeautifulSoup\n",
        "from bs4 import Tag\n",
        "\n",
        "url = \"https://en.wikipedia.org/wiki/List_of_fashion_events\"\n",
        "r = requests.get(url)\n",
        "\n",
        "soup = BeautifulSoup(r.text, 'html.parser')\n",
        "\n",
        "# print(soup.prettify())\n",
        "\n",
        "continents = soup.find_all('h2')[1:6] # clean up: to avoid showing details, e.g., notes, see also etc.\n",
        "\n",
        "for c in continents:\n",
        "  #check if find child returns None\n",
        "  child = c.findChild()\n",
        "  if child != None:\n",
        "    #the child element is now <span>\n",
        "    #get the continent name from <span> tag\n",
        "    print(child.contents[0])\n",
        "    print()\n",
        "    \n",
        "countries = soup.find_all('h3')\n",
        "#list(countries)\n",
        "for c in countries:\n",
        "  # check if find child returns None\n",
        "   child = c.findChild()\n",
        "   if child != None:\n",
        "    # the child element is now <span>\n",
        "    # get the country name from <span> tag\n",
        "    if child.contents == ['Personal tools']:\n",
        "      break\n",
        "    print(child.contents)\n",
        "     \n",
        "    #extract fashion events using <li> tag\n",
        "    uls = c.find_next_sibling('ul')\n",
        "    for fashion_events in uls.find_all('a'):\n",
        "      if type(fashion_events in uls.find_all('a')) != None :\n",
        "       print(\"* \" + fashion_events.contents[0])\n",
        " \n",
        "\n",
        "\n",
        "\n",
        "\n",
        "\n",
        "\n"
      ],
      "execution_count": null,
      "outputs": [
        {
          "output_type": "stream",
          "text": [
            "Africa\n",
            "\n",
            "America\n",
            "\n",
            "Asia\n",
            "\n",
            "Europe\n",
            "\n",
            "Oceania\n",
            "\n",
            "['Algeria']\n",
            "* Algiers Fashion Week\n",
            "* Oran Fashion Week\n",
            "['Botswana']\n",
            "* Gaborone Fashion Weekend\n",
            "[]\n",
            "* Cote d' Ivoire Fashion Week\n",
            "['Egypt']\n",
            "* Cairo Fashion Festival\n",
            "* Cairo Couture Collections\n",
            "* Cairo Fashion Week\n",
            "* La Mode A Beyrouth - Cairo\n",
            "['Ethiopia']\n",
            "* Hub of Africa! Fashion Week\n",
            "['Kenya']\n",
            "* Nairobi Fashion Week\n",
            "['Malawi']\n",
            "* Fashion Malawi Edition\n",
            "['Nigeria']\n",
            "* Hayati Fashion Week\n",
            "* Lagos Fashion Week\n",
            "* Kwara Fashion Week\n",
            "* Port Harcourt International Fashion Week\n",
            "['South Africa']\n",
            "* South African Fashion Week\n",
            "* AFI Fashion Week\n",
            "* Soweto Fashion Week\n",
            "['Argentina']\n",
            "* Buenos Aires Fashion Week\n",
            "* Cordoba Fashion Week\n",
            "* Mendoza Fashion Week\n",
            "* Santa Fe Fashion Week\n",
            "['Bolivia']\n",
            "* Bolivia Fashion Week\n",
            "* International Fashion Week Bolivia\n",
            "['Brazil']\n",
            "* Minas Trend Preview\n",
            "* Brasília Fashion Week\n",
            "* Fortaleza Fashion Week\n",
            "* Amazônia Fashion Week\n",
            "* Rio Fashion Week\n",
            "* Salvador de Bahia Black Fashion Week\n",
            "* São Paulo Fashion Week\n",
            "['Canada']\n",
            "* Alberta Fashion Week\n",
            "* Fashion Cares\n",
            "* Montréal Fashion and Design Festival\n",
            "* Toronto Fashion Week\n",
            "* Vancouver Fashion Week\n",
            "['Chile']\n",
            "* Chile Fashion Week\n",
            "* Elite Model Look Chile\n",
            "* Santiago Fashion Week\n",
            "['Colombia']\n",
            "* Bogota Fashion Week\n",
            "* Barranquilla Fashion Week\n",
            "* Cali Fashion Week\n",
            "* Cali ExpoShow\n",
            "* Cartagena Fashion\n",
            "* ColombiaModa\n",
            "* ColombiaTex\n",
            "* Medellin Fashion Week\n",
            "* Plataforma K\n",
            "['Dominican Republic']\n",
            "* Dominicana Moda Fashion Week\n",
            "* RD Bridal Fashion Week\n",
            "['Jamaica']\n",
            "* Caribbean Fashion Week\n",
            "* Style Week Jamaica\n",
            "* Kingston Bridal Week\n",
            "['Mexico']\n",
            "* Guadalajara Design Week\n",
            "* Cancun Coture Week\n",
            "* Mexico City Fashion Week\n",
            "* MT Fashion Week (Monterrey)\n",
            "* Puebla Fashion Show\n",
            "['Panama']\n",
            "* Panama Fashion Week\n",
            "['Paraguay']\n",
            "* Asunción Fashion Week\n",
            "* Ciudad del Este Fashion Week\n",
            "['Peru']\n",
            "* LIF Fashion Week\n",
            "['Puerto Rico']\n",
            "* Elite Model Look Puerto Rico\n",
            "* Puerto Rico High Fashion Week\n",
            "* San Juan Moda\n",
            "* West Fashion Week\n",
            "* South Fashion Week\n",
            "['United States']\n",
            "* Africa Fashion Week New York\n",
            "* African Fashion Week Houston\n",
            "* Atlantic City Fashion Week\n",
            "* Boston Fashion Week\n",
            "* Christian Fashion Week\n",
            "* Fashion Week Cleveland\n",
            "* Houston Fashion Week\n",
            "* Los Angeles Fashion Week\n",
            "* Men's Fashion Week\n",
            "* Men's Fashion Week Los Angeles\n",
            "* Mercedes-Benz Fashion Week Miami\n",
            "* Met Gala\n",
            "* Miami Fashion Week\n",
            "* New York Fashion Week\n",
            "* Fall 2008 fashion weeks\n",
            "* List of Fall 2008 New York Fashion Week fashion shows\n",
            "* Men's Fashion Week\n",
            "* Rip the Runway\n",
            "* Pittsburgh Fashion Week\n",
            "* The Retreat Miami\n",
            "* Splendid Indian Closet Fashion Tour\n",
            "* Spring 2008 New York Fashion Week\n",
            "* Victoria's Secret Fashion Show\n",
            "['Uruguay']\n",
            "* Montevideo Fashion Week\n",
            "['Venezuela']\n",
            "* Caracas Fashion Week\n",
            "['Bahrain']\n",
            "* Bahrain International Design Week\n",
            "['Bangladesh']\n",
            "* Bangladesh Fashion Week\n",
            "* Dhaka Fashion Week\n",
            "* International Women's Day Show 2019 Chittagong\n",
            "['China']\n",
            "* Centrestage\n",
            "* China Fashion Week\n",
            "* Elite Model Look International 2009\n",
            "* Guangzhou Fashion Week\n",
            "* Hong Kong Fashion Week for Fall/Winter\n",
            "* Shanghai Fashion Week\n",
            "* Shenzhen Fashion Week\n",
            "* Tianjin Fashion Week\n",
            "['India']\n",
            "* Bangalore Fashion Week\n",
            "* India Fashion Week\n",
            "* India Runway Week\n",
            "* Lakme Fashion Week\n",
            "* India International Fashion Festival\n",
            "['Indonesia']\n",
            "* Indonesia Fashion Week\n",
            "* Jakarta Fashion Week\n",
            "* Plaza Indonesia's Men Fashion Week\n",
            "* Surabaya Fashion Parade\n",
            "* Bandung Fashion Week\n",
            "* Jember Fashion Carnaval\n",
            "* Bali Fashion Trend\n",
            "* Jogja Fashion Week\n",
            "* Jakarta Modest Fashion Week\n",
            "* Jakarta Hijab Fashion Week\n",
            "* Femme\n",
            "* Celebes Beauty Fashion Week\n",
            "['Iran']\n",
            "* Iran Fashion Week\n",
            "* Tehran Fashion Week\n",
            "['Israel']\n",
            "* Tel Aviv Fashion Week\n",
            "* he\n",
            "['Japan']\n",
            "* Girls Award\n",
            "* Hiroshima Fashion Week\n",
            "* Kobe Collection\n",
            "* Kyoto Fashion Week\n",
            "* Nagoya Fashion Week\n",
            "* Osaka Fashion Week\n",
            "* Sapporo Fashion Week\n",
            "* Tokyo Fashion week\n",
            "* ja\n",
            "* Tokyo Girls Collection\n",
            "['Malaysia']\n",
            "* Kuala Lumpur Fashion Week\n",
            "* Malaysian International Fashion Alliance (MIFA)\n",
            "* Asia Islamic Fashion Week 2017 (AIFW 2017)\n",
            "* Borneo Fashion Week\n",
            "['Mongolia']\n",
            "* Goyol Fashion Festival\n",
            "['Nepal']\n",
            "* Model Hunt Nepal\n",
            "* Voyage of creation\n",
            "* Nepal Fashion Week\n",
            "* CHIC Fashion Show\n",
            "* The Show\n",
            "['Pakistan']\n",
            "* Pakistan Fashion Week\n",
            "* Islamabad Fashion Week\n",
            "* Karachi Fashion Week\n",
            "* Lahore Fashion Week\n",
            "* Peshawar Fashion Week\n",
            "* PFDC Sunsilk Fashion Week\n",
            "* Media Box Fashion Week\n",
            "['Philippines']\n",
            "* Philippine Fashion Week\n",
            "* Manila Fashion Festival\n",
            "* Mega Fashion Week\n",
            "* Stylefest Ph\n",
            "* Philippine Fashion Gala\n",
            "* Bench Fashion Week\n",
            "['Qatar']\n",
            "* Doha Fashion Week\n",
            "['Russia']\n",
            "* Nizhny Fashion Week\n",
            "* Novosibirsk Fashion Week\n",
            "* Yekaterinburg Ural Fashion Week\n",
            "* Russia Fashion Week\n",
            "* Mercedes-Benz Fashion Week Russia\n",
            "* St. Petersburg Fashion Week\n",
            "* Volvo Moscow Fashion Week\n",
            "['Singapore']\n",
            "* Asia Fashion Exchange\n",
            "* Asia Style Collection\n",
            "* Fide Fashion Weeks\n",
            "* Men's Fashion Week\n",
            "* Singapore Fashion Festival\n",
            "* Singapore Fashion Week\n",
            "['South Korea']\n",
            "* Miss Supertalent\n",
            "* Seoul Fashion Week\n",
            "* Preview in Daegu\n",
            "* Busan Fashion Week\n",
            "* Daegu Fashion Fair (Week)\n",
            "* Seoul Girls Collection\n",
            "['Sri Lanka']\n",
            "* Colombo Fashion Week\n",
            "['Taiwan']\n",
            "* Taipei Fashion Week\n",
            "['Thailand']\n",
            "* Bangkok International Fashion Week\n",
            "* Elle Fashion Week\n",
            "['Turkey']\n",
            "* Antalya Fashion Week\n",
            "* Istanbul Fashion Week\n",
            "['United Arab Emirates']\n",
            "* Arab Fashion Week\n",
            "['Vietnam']\n",
            "* Vietnam International Fashion Week\n",
            "['Austria']\n",
            "* Vienna Fashion Week\n",
            "['Belarus']\n",
            "* Belarus Fashion Week\n",
            "['Belgium']\n",
            "* Antwerp Fashion Show\n",
            "* Brussels Fashion Week\n",
            "['Bulgaria']\n",
            "* Sofia Fashion Week Couture\n",
            "* Kids Fashion Week\n",
            "* Men's Fashion Week Plovdiv\n",
            "* Plovdiv Fashion Week Prêt-à-Porter\n",
            "* Bridal Fashion Week Plovdiv\n",
            "* Dance Fashion Week Burgas\n",
            "* Lingerie & Swimwear Fashion Week Varna\n",
            "['Czech Republic']\n",
            "* Prague Fashion Week\n",
            "['Croatia']\n",
            "* Zagreb Fashion Week\n",
            "['Denmark']\n",
            "* Copenhagen Fashion Week\n",
            "* Gallery Int Fashion Fair\n",
            "['Finland']\n",
            "* Helsinki Fashion Week\n",
            "* African Fashion Week Helsinki\n",
            "['France']\n",
            "* Africa Fashion Week Paris\n",
            "* Bordeaux Fashion Week\n",
            "* Elite Model Look\n",
            "* Cannes-Nice Fashion Week\n",
            "* Bal des débutantes\n",
            "* Paris Fashion Week\n",
            "* Fall 2008 fashion weeks\n",
            "* Men's Fashion Week\n",
            "* Lille Fashion Week\n",
            "* Lyon Fashion Week (FashionCity Show)\n",
            "* Marseille Fashion Week\n",
            "* Nantes Fashion Week\n",
            "* Rennes Fashion Week\n",
            "* Toulouse Fashion Week\n",
            "* Strasbourg Fashion Week (EM Fashion Week)\n",
            "* St. Tropez Fashion Week\n",
            "* Spring 2004 Dior couture collection\n",
            "['Georgia']\n",
            "* Adjara Fashion Week\n",
            "* Mercedes-Benz Fashion Week Tbilisi\n",
            "* Tbilisi Fashion Week\n",
            "['Germany']\n",
            "* Baltic Fashion Week\n",
            "* Usedom Island\n",
            "* Berlin Fashion Week\n",
            "* Bread and Butter tradeshow\n",
            "* Stylenite\n",
            "* Michael Michalsky\n",
            "* Düsseldorf Fashion Week\n",
            "* Frankfurt Fashion Week\n",
            "* Hamburg Fashion Week\n",
            "* Cologne Fashion Week\n",
            "* Krefeld Street Fashion Show\n",
            "* Munich Fashion Week\n",
            "* Schwerin LOOK\n",
            "* Stuttgart Fashion Week\n",
            "* Warnemünde Fashion Week\n",
            "['Greece']\n",
            "* Athens Xclusive Designers Week\n",
            "['Hungary']\n",
            "* Budapest Fashion Week\n",
            "['Italy']\n",
            "* Bari Fashion Week\n",
            "* Benevento Fashion Week\n",
            "* Benevento In Moda\n",
            "* Bologne Fashion Week\n",
            "* Catania Fashion Week\n",
            "* Cesena Fashion Week\n",
            "* Cortina Fashion Week\n",
            "* Firenze Fashion Week\n",
            "* Genova Fashion Week\n",
            "['Latvia']\n",
            "* Riga Fashion Week\n",
            "['Lithuania']\n",
            "* Mados infekcija\n",
            "['Luxembourg']\n",
            "* Luxembourg Fashion Week\n",
            "['Malta']\n",
            "* Mercedes Benz Malta Fashion Week\n",
            "['Monaco']\n",
            "* Montecarlo Fashion Week (Fashion Fair Week)\n",
            "['Netherlands']\n",
            "* Amsterdam Fashion Week\n",
            "* Rotterdam Fashion Week\n",
            "* Canal Catwalk\n",
            "* Floating Fashion Week\n",
            "['Norway']\n",
            "* Oslo Fashion Week\n",
            "['Poland']\n",
            "* Łódź FashionPhilosophy Fashion Week Poland\n",
            "* Mercedes Benz Fashion Weekend Warsaw\n",
            "['Portugal']\n",
            "* Lisbon Fashion Week\n",
            "* Portugal Fashion\n",
            "['Romania']\n",
            "* Kasta Morrely Fashion Week Iasi\n",
            "* Feeric Fashion Week\n",
            "* Bucharest Fashion Week\n",
            "['Serbia']\n",
            "* Belgrade Fashion Week\n",
            "* Elite Model Look Serbia\n",
            "* Belgrade Design Week\n",
            "* Serbia Fashion Week\n",
            "['Spain']\n",
            "* Cibeles Madrid Fashion Week\n",
            "* Barcelona Fashion Week (Pasarela Gaudí)\n",
            "* Malagá Fashion Week (Plaza Mayor Week)\n",
            "* Murcia Fashion Week\n",
            "* Valencia Fashion Week\n",
            "* Sevilla Fashion Week\n",
            "* Zaragoza Fashion Week\n",
            "* The Brandery\n",
            "['Sweden']\n",
            "* Stockolm Fashion Week\n",
            "* Umeå Fashion Week\n",
            "['United Kingdom']\n",
            "* Aberdeen Fashion Week\n",
            "* Asia Fashion Week London\n",
            "* Africa Fashion Week London\n",
            "* Birmingham Fashion Week\n",
            "* Brighton Fashion Week\n",
            "* Bristol Fashion Week\n",
            "* Cheltenham Fashion Week\n",
            "* Clothes Show Live\n",
            "* Essex Fashion Week\n",
            "* Fashion in Film Festival\n",
            "* Leeds Fashion Show\n",
            "* Liverpool Fashion Week\n",
            "* London Fashion Week\n",
            "* Fall 2008 fashion weeks\n",
            "* Men's Fashion Week\n",
            "* Manchester Fashion Week\n",
            "* Oxford Fashion Week\n",
            "* Pure London\n",
            "* Strut\n",
            "* Sunrise in Baku Fashion Project\n",
            "* Vivz World Fashion Week\n",
            "['Ukraine']\n",
            "* Ukrainian Fashion Week\n",
            "* Odesa Fashion Week\n",
            "['Australia']\n",
            "* Australian Fashion Week\n",
            "* Melbourne Fashion Festival\n",
            "* Melbourne Spring Fashion Week\n",
            "* Mercedes-Benz Fashion Festival Brisbane\n",
            "* Adelaide Fashion Festival\n",
            "* Telstra Perth Fashion Festival\n",
            "['Fiji']\n",
            "* Fiji Fashion Week\n",
            "['New Zealand']\n",
            "* NZ Fashion Week\n"
          ],
          "name": "stdout"
        }
      ]
    },
    {
      "cell_type": "markdown",
      "metadata": {
        "id": "yn49vKs4NXLo"
      },
      "source": [
        "**Exercise 3:** Scraping - Retrieve a list of footwear designers from origianl HTML source using beautifulsoup\n",
        "\n",
        "https://en.wikipedia.org/wiki/List_of_footwear_designers"
      ]
    },
    {
      "cell_type": "code",
      "metadata": {
        "colab": {
          "base_uri": "https://localhost:8080/"
        },
        "id": "J_Vwa0mfNW3E",
        "outputId": "574de842-1f08-4bf3-a2a4-36398aabd5dc"
      },
      "source": [
        "# fetch wikipedia page\n",
        "import requests\n",
        "from bs4 import BeautifulSoup\n",
        "from bs4 import Tag\n",
        "\n",
        "url = \"https://en.wikipedia.org/wiki/List_of_footwear_designers\"\n",
        "r = requests.get(url)\n",
        "\n",
        "soup = BeautifulSoup(r.text, 'html.parser')\n",
        "\n",
        "#print(soup.prettify())\n",
        "\n",
        "#extract footwear designers using <li> tag\n",
        "shoe_designers = soup.find_all('li')\n",
        "for shoe_designer in shoe_designers:\n",
        "  if shoe_designer.contents[0][\"title\"] == \"List of fashion designers\":\n",
        "    break\n",
        "  print(\"* \" + shoe_designer.contents[0][\"title\"])\n",
        "\n",
        "\n",
        "\n"
      ],
      "execution_count": null,
      "outputs": [
        {
          "output_type": "stream",
          "text": [
            "* Alberta Ferretti\n",
            "* Aldo Group\n",
            "* Alexander Wang (designer)\n",
            "* Alexander White (designer)\n",
            "* Alexandre Birman\n",
            "* André Perugia\n",
            "* Badgley Mischka\n",
            "* Balenciaga\n",
            "* Bally Shoe\n",
            "* Balmain (fashion house)\n",
            "* Beatrix Ong\n",
            "* Bebe Stores\n",
            "* Betsey Johnson\n",
            "* Bionda Castana\n",
            "* Blufin\n",
            "* Bottega Veneta\n",
            "* Brian Atwood\n",
            "* Bruno Magli\n",
            "* Calvin Klein\n",
            "* Cesare Paciotti\n",
            "* Chanel\n",
            "* Charlotte Olympia\n",
            "* Christian Dior\n",
            "* Christian Lacroix\n",
            "* Christian Louboutin\n",
            "* Christian Siriano\n",
            "* Chuck Taylor (salesman)\n",
            "* Collin Thompson\n",
            "* Common Projects\n",
            "* Dean and Dan Caten\n",
            "* Dolce & Gabbana\n",
            "* Edward Rayne\n",
            "* Emilio Pucci\n",
            "* Emma Hope\n",
            "* Fendi\n",
            "* Giambattista Valli\n",
            "* Giuseppe Zanotti\n",
            "* Givenchy\n",
            "* Gucci\n",
            "* Guess (clothing)\n",
            "* Hervé Leger\n",
            "* Irregular Choice\n",
            "* Jimmy Choo\n",
            "* John Fluevog\n",
            "* Joker's Closet\n",
            "* Kurt Geiger\n",
            "* L.A.M.B.\n",
            "* Lanvin (company)\n",
            "* Liam Fahy\n",
            "* Louis Vuitton\n",
            "* Manolo Blahnik\n",
            "* Maud Frizon\n",
            "* Miu Miu\n",
            "* Monika Chiang\n",
            "* Monique Lhuillier\n",
            "* Moya Bowler\n",
            "* Natacha Marro\n",
            "* Nicholas Kirkwood\n",
            "* Nine West\n",
            "* Olga Peterson\n",
            "* Patrick Cox\n",
            "* Paul Andrew (designer)\n",
            "* Philipp Plein\n",
            "* Prabal Gurung\n",
            "* Prada\n",
            "* Pura Lopez\n",
            "* Ralph & Russo\n",
            "* Rene Caovilla\n",
            "* Roberto Cavalli\n",
            "* Roger Vivier\n",
            "* Rupert Sanderson\n",
            "* Ruthie Davis\n",
            "* Salvatore Ferragamo\n",
            "* Caleres\n",
            "* Alexandre Birman\n",
            "* Sergio Rossi (shoe designer)\n",
            "* Sophia Webster\n",
            "* Stefi Talman\n",
            "* Steve Madden\n",
            "* Stuart Weitzman\n",
            "* Susan Bennis/Warren Edwards\n",
            "* Ted Baker\n",
            "* Terry de Havilland\n",
            "* The Chelsea Cobbler\n",
            "* Tinker Hatfield\n",
            "* Tod's\n",
            "* Tom Ford\n",
            "* Valentino (fashion designer)\n",
            "* Vanessa Noel\n",
            "* Versace\n",
            "* Caleres\n",
            "* Walter Steiger\n",
            "* Warren Edwards\n",
            "* Yves Saint Laurent (brand)\n",
            "* Zara (retailer)\n"
          ],
          "name": "stdout"
        }
      ]
    },
    {
      "cell_type": "markdown",
      "metadata": {
        "id": "r02_Un5ZbrJx"
      },
      "source": [
        "06/08/2021 Class Exercises"
      ]
    },
    {
      "cell_type": "markdown",
      "metadata": {
        "id": "mAyCibXZdRB9"
      },
      "source": [
        "Learning Goals\n",
        "1. Index and slice into strings to break them up into parts\n",
        "2. Use for loops to loop over string by index\n",
        "3. Use string operations and menthods to solve problems\n",
        "\n",
        "Data structures are used while programming to organize multiple pieces of data in different ways. Examples are strings, lists, dictionaries, trees and graphs"
      ]
    },
    {
      "cell_type": "code",
      "metadata": {
        "colab": {
          "base_uri": "https://localhost:8080/",
          "height": 174
        },
        "id": "ER9mPyiibn7D",
        "outputId": "3d1d5c3f-9979-4212-df69-97cd6d126ea0"
      },
      "source": [
        "s = \"hello\"\n",
        "print('Print char in string using index')\n",
        "print(s[0])\n",
        "print(s[1])\n",
        "print(s[-1])\n",
        "print(s[-2])\n",
        "\n",
        "print('Print the length if the string')\n",
        "print(len(s))\n",
        "\n",
        "print('Print the last character using the len function') \n",
        "s[len(s) - 1] # '-1' becuase it starts counting from 0"
      ],
      "execution_count": null,
      "outputs": [
        {
          "output_type": "stream",
          "text": [
            "Print char in string using index\n",
            "h\n",
            "e\n",
            "o\n",
            "l\n",
            "Print the length if the string\n",
            "5\n",
            "Print the last character using the len function\n"
          ],
          "name": "stdout"
        },
        {
          "output_type": "execute_result",
          "data": {
            "application/vnd.google.colaboratory.intrinsic+json": {
              "type": "string"
            },
            "text/plain": [
              "'o'"
            ]
          },
          "metadata": {
            "tags": []
          },
          "execution_count": 10
        }
      ]
    },
    {
      "cell_type": "code",
      "metadata": {
        "colab": {
          "base_uri": "https://localhost:8080/",
          "height": 35
        },
        "id": "dAm32tqkhOF4",
        "outputId": "3ab6e80d-fd75-4903-ad32-8475a6e9767b"
      },
      "source": [
        "t = \"abc123\"\n",
        "#\"a\"\n",
        "t[0]\n",
        "#\"c\"\n",
        "t[2]\n",
        "#\"3\"\n",
        "t[5]"
      ],
      "execution_count": null,
      "outputs": [
        {
          "output_type": "execute_result",
          "data": {
            "application/vnd.google.colaboratory.intrinsic+json": {
              "type": "string"
            },
            "text/plain": [
              "'3'"
            ]
          },
          "metadata": {
            "tags": []
          },
          "execution_count": 12
        }
      ]
    },
    {
      "cell_type": "markdown",
      "metadata": {
        "id": "QiL2B3SHkqtC"
      },
      "source": [
        "The code below is an example of string slicing. "
      ]
    },
    {
      "cell_type": "code",
      "metadata": {
        "colab": {
          "base_uri": "https://localhost:8080/"
        },
        "id": "033Ji9EHhjzz",
        "outputId": "30670a2d-42f1-4638-d5b4-65560655ddb7"
      },
      "source": [
        "# String slicing\n",
        "t = \"abc123def456\"\n",
        "print(t[0:3]) # sub string\n",
        "\n",
        "print(t[3:]) # print till the end if it doesn't indicite the end of the string\n",
        "\n",
        "print(t[0:len(t):2]) # start:end:skip count (step size) *default step size = 1 if not specified\n",
        "\n",
        "print(t[::2]) # equal to t[0:len(t):2]\n",
        "\n",
        "t = \"abcdefghij\"\n",
        "print(t[2:len(t):3]) #cfi\n",
        "print(t[2::3])"
      ],
      "execution_count": null,
      "outputs": [
        {
          "output_type": "stream",
          "text": [
            "abc\n",
            "123def456\n",
            "ac2df5\n",
            "ac2df5\n",
            "cfi\n",
            "cfi\n"
          ],
          "name": "stdout"
        }
      ]
    },
    {
      "cell_type": "markdown",
      "metadata": {
        "id": "KnaQfM_ZlR2Y"
      },
      "source": [
        "Loop over strings or lists"
      ]
    },
    {
      "cell_type": "code",
      "metadata": {
        "colab": {
          "base_uri": "https://localhost:8080/"
        },
        "id": "PbStRRcEoJ4H",
        "outputId": "2bc91310-baa9-4a75-9016-3f2f12f59434"
      },
      "source": [
        "count = 0\n",
        "print(\"Count befire the loop\", count)\n",
        "for x in range(10,15):\n",
        "  count = count + x #update count by adding x\n",
        "  #pass # --> do nothing \n",
        "  print(\"Count after each iteration\", count, x)\n",
        "print(\"Count after the loop\", count)"
      ],
      "execution_count": null,
      "outputs": [
        {
          "output_type": "stream",
          "text": [
            "Count befire the loop 0\n",
            "Count after each iteration 10 10\n",
            "Count after each iteration 21 11\n",
            "Count after each iteration 33 12\n",
            "Count after each iteration 46 13\n",
            "Count after each iteration 60 14\n",
            "Count after the loop 60\n"
          ],
          "name": "stdout"
        }
      ]
    },
    {
      "cell_type": "code",
      "metadata": {
        "colab": {
          "base_uri": "https://localhost:8080/"
        },
        "id": "Ab3GcB77lTUo",
        "outputId": "763da1a8-89a9-4451-e52e-27e2fcf2bfda"
      },
      "source": [
        "t = \"Wow!! This is so! exciting!!!\"\n",
        "\n",
        "count = 0\n",
        "for i in range(len(t)): \n",
        "  print(i,t[i])\n",
        "  if t[i] == '!':\n",
        "   count = count + 1 \n",
        "print(\"The count of ! is: \", count)"
      ],
      "execution_count": null,
      "outputs": [
        {
          "output_type": "stream",
          "text": [
            "0 W\n",
            "1 o\n",
            "2 w\n",
            "3 !\n",
            "4 !\n",
            "5  \n",
            "6 T\n",
            "7 h\n",
            "8 i\n",
            "9 s\n",
            "10  \n",
            "11 i\n",
            "12 s\n",
            "13  \n",
            "14 s\n",
            "15 o\n",
            "16 !\n",
            "17  \n",
            "18 e\n",
            "19 x\n",
            "20 c\n",
            "21 i\n",
            "22 t\n",
            "23 i\n",
            "24 n\n",
            "25 g\n",
            "26 !\n",
            "27 !\n",
            "28 !\n",
            "The count of ! is:  6\n"
          ],
          "name": "stdout"
        }
      ]
    },
    {
      "cell_type": "code",
      "metadata": {
        "colab": {
          "base_uri": "https://localhost:8080/"
        },
        "id": "nY7gAsk3nj1s",
        "outputId": "17bc3233-fd48-4252-f625-06e69479ea2f"
      },
      "source": [
        "t = \"Wow!! This is so! exciting!!!\"\n",
        "\n",
        "start = 0\n",
        "stop = len(t)\n",
        "\n",
        "count = 0\n",
        "for i in range(start, stop): \n",
        "  print(i,t[i])\n",
        "  if t[i] == '!':\n",
        "   count = count + 1 \n",
        "print(\"The count of ! is: \", count)"
      ],
      "execution_count": null,
      "outputs": [
        {
          "output_type": "stream",
          "text": [
            "0 W\n",
            "1 o\n",
            "2 w\n",
            "3 !\n",
            "4 !\n",
            "5  \n",
            "6 T\n",
            "7 h\n",
            "8 i\n",
            "9 s\n",
            "10  \n",
            "11 i\n",
            "12 s\n",
            "13  \n",
            "14 s\n",
            "15 o\n",
            "16 !\n",
            "17  \n",
            "18 e\n",
            "19 x\n",
            "20 c\n",
            "21 i\n",
            "22 t\n",
            "23 i\n",
            "24 n\n",
            "25 g\n",
            "26 !\n",
            "27 !\n",
            "28 !\n",
            "The count of ! is:  6\n"
          ],
          "name": "stdout"
        }
      ]
    },
    {
      "cell_type": "code",
      "metadata": {
        "colab": {
          "base_uri": "https://localhost:8080/"
        },
        "id": "ZwMn_8StrmgU",
        "outputId": "0d7b0610-5a0b-40bd-c048-a1d54351e9e0"
      },
      "source": [
        "for i in range(5):\n",
        " print(i)"
      ],
      "execution_count": null,
      "outputs": [
        {
          "output_type": "stream",
          "text": [
            "0\n",
            "1\n",
            "2\n",
            "3\n",
            "4\n"
          ],
          "name": "stdout"
        }
      ]
    },
    {
      "cell_type": "code",
      "metadata": {
        "colab": {
          "base_uri": "https://localhost:8080/"
        },
        "id": "0S9zJxEgtWu1",
        "outputId": "e55e6a37-9bf6-4f9f-c13c-93952cba76aa"
      },
      "source": [
        "for i in range(5):\n",
        "  #print(i)\n",
        "  i=i+1\n",
        "  print(i)"
      ],
      "execution_count": null,
      "outputs": [
        {
          "output_type": "stream",
          "text": [
            "1\n",
            "2\n",
            "3\n",
            "4\n",
            "5\n"
          ],
          "name": "stdout"
        }
      ]
    },
    {
      "cell_type": "markdown",
      "metadata": {
        "id": "kNBoCTO1009G"
      },
      "source": [
        "## Trace table practice "
      ]
    },
    {
      "cell_type": "code",
      "metadata": {
        "colab": {
          "base_uri": "https://localhost:8080/"
        },
        "id": "dN6JptzI06M9",
        "outputId": "2f01ff4d-08b3-4c20-d580-e698108047f2"
      },
      "source": [
        "s = \"abccba\"\n",
        "print(\"Length of the string is: \", len(s))\n",
        "for i in range(len(s)):\n",
        "  print(i, s[i], s[len(s) - 1 -i], s[i] != s[len(s) - 1 -i])\n",
        "  if s[i] != s[len(s) - 1 -i]:\n",
        "   print(\"It is not a palindrome\")\n",
        "   break"
      ],
      "execution_count": null,
      "outputs": [
        {
          "output_type": "stream",
          "text": [
            "Length of the string is:  6\n",
            "0 a a False\n",
            "1 b b False\n",
            "2 c c False\n",
            "3 c c False\n",
            "4 b b False\n",
            "5 a a False\n"
          ],
          "name": "stdout"
        }
      ]
    },
    {
      "cell_type": "code",
      "metadata": {
        "colab": {
          "base_uri": "https://localhost:8080/"
        },
        "id": "x1CgkZEd8XLQ",
        "outputId": "b5dca7ae-4a7a-4b24-8fe4-fb65620c8b4d"
      },
      "source": [
        "'a' != 'b'"
      ],
      "execution_count": null,
      "outputs": [
        {
          "output_type": "execute_result",
          "data": {
            "text/plain": [
              "True"
            ]
          },
          "metadata": {
            "tags": []
          },
          "execution_count": 58
        }
      ]
    },
    {
      "cell_type": "code",
      "metadata": {
        "colab": {
          "base_uri": "https://localhost:8080/",
          "height": 35
        },
        "id": "lsN-0vuF8eoh",
        "outputId": "179d7ffc-77fc-4eea-9ce3-6ca51a3032db"
      },
      "source": [
        "\"hello \" + \"world\""
      ],
      "execution_count": null,
      "outputs": [
        {
          "output_type": "execute_result",
          "data": {
            "application/vnd.google.colaboratory.intrinsic+json": {
              "type": "string"
            },
            "text/plain": [
              "'hello world'"
            ]
          },
          "metadata": {
            "tags": []
          },
          "execution_count": 60
        }
      ]
    },
    {
      "cell_type": "code",
      "metadata": {
        "colab": {
          "base_uri": "https://localhost:8080/",
          "height": 35
        },
        "id": "n2xvgduj8kuT",
        "outputId": "68e5c06e-bbb7-4e99-b7c7-6e3f260fd1f1"
      },
      "source": [
        "\"hello \" * 3"
      ],
      "execution_count": null,
      "outputs": [
        {
          "output_type": "execute_result",
          "data": {
            "application/vnd.google.colaboratory.intrinsic+json": {
              "type": "string"
            },
            "text/plain": [
              "'hello hello hello '"
            ]
          },
          "metadata": {
            "tags": []
          },
          "execution_count": 62
        }
      ]
    },
    {
      "cell_type": "code",
      "metadata": {
        "colab": {
          "base_uri": "https://localhost:8080/"
        },
        "id": "JFpomgSM8rB5",
        "outputId": "aa305447-d126-454d-ab18-7c53d69793d0"
      },
      "source": [
        "'a' in 'apple'"
      ],
      "execution_count": null,
      "outputs": [
        {
          "output_type": "execute_result",
          "data": {
            "text/plain": [
              "True"
            ]
          },
          "metadata": {
            "tags": []
          },
          "execution_count": 63
        }
      ]
    },
    {
      "cell_type": "code",
      "metadata": {
        "colab": {
          "base_uri": "https://localhost:8080/"
        },
        "id": "-dDHJbqI88Hw",
        "outputId": "9a2a2fd5-36f4-4cd8-95a0-27b01b8a91b3"
      },
      "source": [
        "'a' < 'b' # ascii value "
      ],
      "execution_count": null,
      "outputs": [
        {
          "output_type": "execute_result",
          "data": {
            "text/plain": [
              "True"
            ]
          },
          "metadata": {
            "tags": []
          },
          "execution_count": 64
        }
      ]
    },
    {
      "cell_type": "code",
      "metadata": {
        "colab": {
          "base_uri": "https://localhost:8080/"
        },
        "id": "UeQUeVVW9fLa",
        "outputId": "64392037-b4ff-47fb-eee5-03434970d539"
      },
      "source": [
        "'bad'< 'bat'"
      ],
      "execution_count": null,
      "outputs": [
        {
          "output_type": "execute_result",
          "data": {
            "text/plain": [
              "True"
            ]
          },
          "metadata": {
            "tags": []
          },
          "execution_count": 66
        }
      ]
    },
    {
      "cell_type": "code",
      "metadata": {
        "colab": {
          "base_uri": "https://localhost:8080/"
        },
        "id": "KR4PK9ZD9kCo",
        "outputId": "e6cc8d45-df54-4373-dad1-3e8d0eac6764"
      },
      "source": [
        "'bad' > 'batter' # it will check until the condition is met and compare and stop."
      ],
      "execution_count": null,
      "outputs": [
        {
          "output_type": "execute_result",
          "data": {
            "text/plain": [
              "False"
            ]
          },
          "metadata": {
            "tags": []
          },
          "execution_count": 68
        }
      ]
    },
    {
      "cell_type": "code",
      "metadata": {
        "colab": {
          "base_uri": "https://localhost:8080/"
        },
        "id": "aocC1CTN9_eT",
        "outputId": "d2bf9860-ccd4-4728-be12-09ddb5cd4aea"
      },
      "source": [
        "s = '123'\n",
        "s.isdigit()"
      ],
      "execution_count": null,
      "outputs": [
        {
          "output_type": "execute_result",
          "data": {
            "text/plain": [
              "True"
            ]
          },
          "metadata": {
            "tags": []
          },
          "execution_count": 72
        }
      ]
    },
    {
      "cell_type": "code",
      "metadata": {
        "colab": {
          "base_uri": "https://localhost:8080/"
        },
        "id": "7HB3v4o1-6FQ",
        "outputId": "f7d9e5ca-3883-49b3-8a48-697d2dd16eb3"
      },
      "source": [
        "s = 'ifa'\n",
        "s_new = s.capitalize()\n",
        "s_uppercase = s.upper()\n",
        "\n",
        "print(s_new)\n",
        "print(s)\n",
        "print(s_uppercase)"
      ],
      "execution_count": null,
      "outputs": [
        {
          "output_type": "stream",
          "text": [
            "Ifa\n",
            "ifa\n",
            "IFA\n"
          ],
          "name": "stdout"
        }
      ]
    },
    {
      "cell_type": "code",
      "metadata": {
        "colab": {
          "base_uri": "https://localhost:8080/"
        },
        "id": "rcXC3aZS_nZn",
        "outputId": "a46a40f3-f9cf-4903-d938-de402add87a7"
      },
      "source": [
        "s = 'apple'\n",
        "print(s.count('p')) #count how many # of P in s\n",
        "print(\"number of occurances of pp: \", s.count('pp'))\n",
        "print(\"find the index of: \", s.find('le')) # because 'le' starts with index 3 \n",
        "print(\"find the index of: \", s.find('lex')) # return -1 if sub is not found "
      ],
      "execution_count": null,
      "outputs": [
        {
          "output_type": "stream",
          "text": [
            "2\n",
            "number of occurances of pp:  1\n",
            "find the index of:  3\n",
            "find the index of:  -1\n"
          ],
          "name": "stdout"
        }
      ]
    },
    {
      "cell_type": "code",
      "metadata": {
        "colab": {
          "base_uri": "https://localhost:8080/",
          "height": 35
        },
        "id": "pvtRzQPkA4BP",
        "outputId": "260f3ad6-867c-4e7c-823b-2f3519d9d86e"
      },
      "source": [
        "#find the first name in a given full name\n",
        "\n",
        "name = \"praveen garimella\"\n",
        "\n",
        "name = \"andy moore\"\n",
        "\n",
        "name = \"adfasdfa\"\n",
        "\n",
        "# how to identify the index of space\n",
        "# print(name.find(' '))\n",
        "name[0:name.find(' ')] # first name\n",
        "name[name.find(' ') + 1:] # last name "
      ],
      "execution_count": null,
      "outputs": [
        {
          "output_type": "execute_result",
          "data": {
            "application/vnd.google.colaboratory.intrinsic+json": {
              "type": "string"
            },
            "text/plain": [
              "'adfasdfa'"
            ]
          },
          "metadata": {
            "tags": []
          },
          "execution_count": 94
        }
      ]
    },
    {
      "cell_type": "markdown",
      "metadata": {
        "id": "diSDlleMe8TK"
      },
      "source": [
        "### variables and objects (June 15, 2021)"
      ]
    },
    {
      "cell_type": "code",
      "metadata": {
        "colab": {
          "base_uri": "https://localhost:8080/"
        },
        "id": "rf1h6YMUefmt",
        "outputId": "115761c7-9f58-48c2-f4bd-72ac3c014c36"
      },
      "source": [
        "# using and updating variables\n",
        "\n",
        "x = 5\n",
        "y = x - 2\n",
        "x = x - 1 # overwrite the previous x value\n",
        "\n",
        "print(\"x: \", x)"
      ],
      "execution_count": null,
      "outputs": [
        {
          "output_type": "stream",
          "text": [
            "x:  4\n"
          ],
          "name": "stdout"
        }
      ]
    },
    {
      "cell_type": "code",
      "metadata": {
        "colab": {
          "base_uri": "https://localhost:8080/",
          "height": 216
        },
        "id": "-PhJaOmigqAZ",
        "outputId": "b579e7a5-2cbc-4a60-bc00-aac63cefd57c"
      },
      "source": [
        "# python is sequential\n",
        "\n",
        "print(foo)\n",
        "foo = 42 # reverse the order to make it work (move to line 2)"
      ],
      "execution_count": null,
      "outputs": [
        {
          "output_type": "error",
          "ename": "NameError",
          "evalue": "ignored",
          "traceback": [
            "\u001b[0;31m---------------------------------------------------------------------------\u001b[0m",
            "\u001b[0;31mNameError\u001b[0m                                 Traceback (most recent call last)",
            "\u001b[0;32m<ipython-input-4-46521596171e>\u001b[0m in \u001b[0;36m<module>\u001b[0;34m()\u001b[0m\n\u001b[1;32m      1\u001b[0m \u001b[0;31m# python is sequential\u001b[0m\u001b[0;34m\u001b[0m\u001b[0;34m\u001b[0m\u001b[0;34m\u001b[0m\u001b[0m\n\u001b[1;32m      2\u001b[0m \u001b[0;34m\u001b[0m\u001b[0m\n\u001b[0;32m----> 3\u001b[0;31m \u001b[0mprint\u001b[0m\u001b[0;34m(\u001b[0m\u001b[0mfoo\u001b[0m\u001b[0;34m)\u001b[0m\u001b[0;34m\u001b[0m\u001b[0;34m\u001b[0m\u001b[0m\n\u001b[0m\u001b[1;32m      4\u001b[0m \u001b[0mfoo\u001b[0m \u001b[0;34m=\u001b[0m \u001b[0;36m42\u001b[0m \u001b[0;31m# reverse the order to make it work\u001b[0m\u001b[0;34m\u001b[0m\u001b[0;34m\u001b[0m\u001b[0m\n",
            "\u001b[0;31mNameError\u001b[0m: name 'foo' is not defined"
          ]
        }
      ]
    },
    {
      "cell_type": "code",
      "metadata": {
        "colab": {
          "base_uri": "https://localhost:8080/"
        },
        "id": "hyNYaoZgg-Gt",
        "outputId": "8d476219-c657-4239-ba07-1a3227fc3d36"
      },
      "source": [
        "#another example\n",
        "a =4\n",
        "b = a-2\n",
        "a = a+1\n",
        "b = 7\n",
        "\n",
        "print(\"a: \", a)\n",
        "print(\"b: \", b)"
      ],
      "execution_count": null,
      "outputs": [
        {
          "output_type": "stream",
          "text": [
            "a:  5\n",
            "b:  7\n"
          ],
          "name": "stdout"
        }
      ]
    },
    {
      "cell_type": "code",
      "metadata": {
        "colab": {
          "base_uri": "https://localhost:8080/"
        },
        "id": "CCPysZUZhdUN",
        "outputId": "bd0d3c48-06de-485d-8713-ce27b5de4f50"
      },
      "source": [
        "# finding data types using type function\n",
        "print(\"type of a: \", type(a))\n",
        "b = 2.7\n",
        "print(\"type of b: \", type(b))\n",
        "c = \"hello\"\n",
        "print(\"type of c: \", type(c))\n",
        "d = True\n",
        "print(\"type of d: \", type(d))\n",
        "e = []\n",
        "print(\"type of e: \", type(e))\n",
        "f = {}\n",
        "print(\"type of f: \", type(f))\n",
        "g = set()\n",
        "print(\"type of g: \", type(g))\n",
        "h = None\n",
        "print(\"type of h: \", type(h))\n",
        "\n",
        "z = a + b\n",
        "print(\"a as int: \", a)\n",
        "a = float(a)\n",
        "print(\"a as float: \", a)\n",
        "print(\"z: \", z)\n",
        "print(\"z: \", int(z)) # convert float to int\n",
        "print(\"a + b: \", type(z))\n",
        "\n",
        "z = str(a) + c\n",
        "print(\"a + c: \", z)"
      ],
      "execution_count": null,
      "outputs": [
        {
          "output_type": "stream",
          "text": [
            "type of a:  <class 'float'>\n",
            "type of b:  <class 'float'>\n",
            "type of c:  <class 'str'>\n",
            "type of d:  <class 'bool'>\n",
            "type of e:  <class 'list'>\n",
            "type of f:  <class 'dict'>\n",
            "type of g:  <class 'set'>\n",
            "type of h:  <class 'NoneType'>\n",
            "a as int:  5.0\n",
            "a as float:  5.0\n",
            "z:  7.7\n",
            "z:  7\n",
            "a + b:  <class 'float'>\n",
            "a + c:  5.0hello\n"
          ],
          "name": "stdout"
        }
      ]
    },
    {
      "cell_type": "code",
      "metadata": {
        "colab": {
          "base_uri": "https://localhost:8080/"
        },
        "id": "TeGXbB09mpf3",
        "outputId": "20e88b0a-b1d9-4192-95ee-3bd904d67bf4"
      },
      "source": [
        "# check if z is a string\n",
        "z = \"hi\"\n",
        "print(isinstance(z, str))"
      ],
      "execution_count": null,
      "outputs": [
        {
          "output_type": "stream",
          "text": [
            "True\n"
          ],
          "name": "stdout"
        }
      ]
    },
    {
      "cell_type": "code",
      "metadata": {
        "colab": {
          "base_uri": "https://localhost:8080/",
          "height": 268
        },
        "id": "wopir934nnv8",
        "outputId": "1db99f40-99f9-4b9e-a109-02c960e3ae80"
      },
      "source": [
        "# functions vs methods (refer to python.doc built in functions)\n",
        "\n",
        "#result = type(a) #input #function\n",
        "result = isinstance(a, str)\n",
        "print(\"result: \", result)    #output\n",
        "print(\"type of result: \", type(result))\n",
        "print(\"type of a: \", type(a)) #composing multiple functions together\n",
        "\n",
        "# c.upper() #method -> similar to function but have different structure \n",
        "result = c.upper() # if it were a function, it would have been \"upper(c)\"\n",
        "result = a.upper()\n",
        "print(\"result of upper: \", result)"
      ],
      "execution_count": null,
      "outputs": [
        {
          "output_type": "stream",
          "text": [
            "result:  False\n",
            "type of result:  <class 'bool'>\n",
            "type of a:  <class 'float'>\n"
          ],
          "name": "stdout"
        },
        {
          "output_type": "error",
          "ename": "AttributeError",
          "evalue": "ignored",
          "traceback": [
            "\u001b[0;31m---------------------------------------------------------------------------\u001b[0m",
            "\u001b[0;31mAttributeError\u001b[0m                            Traceback (most recent call last)",
            "\u001b[0;32m<ipython-input-35-8d7820e018db>\u001b[0m in \u001b[0;36m<module>\u001b[0;34m()\u001b[0m\n\u001b[1;32m      9\u001b[0m \u001b[0;31m# c.upper() #method -> similar to function but have different structure\u001b[0m\u001b[0;34m\u001b[0m\u001b[0;34m\u001b[0m\u001b[0;34m\u001b[0m\u001b[0m\n\u001b[1;32m     10\u001b[0m \u001b[0mresult\u001b[0m \u001b[0;34m=\u001b[0m \u001b[0mc\u001b[0m\u001b[0;34m.\u001b[0m\u001b[0mupper\u001b[0m\u001b[0;34m(\u001b[0m\u001b[0;34m)\u001b[0m \u001b[0;31m# if it were a function, it would have been \"upper(c)\"\u001b[0m\u001b[0;34m\u001b[0m\u001b[0;34m\u001b[0m\u001b[0m\n\u001b[0;32m---> 11\u001b[0;31m \u001b[0mresult\u001b[0m \u001b[0;34m=\u001b[0m \u001b[0ma\u001b[0m\u001b[0;34m.\u001b[0m\u001b[0mupper\u001b[0m\u001b[0;34m(\u001b[0m\u001b[0;34m)\u001b[0m\u001b[0;34m\u001b[0m\u001b[0;34m\u001b[0m\u001b[0m\n\u001b[0m\u001b[1;32m     12\u001b[0m \u001b[0mprint\u001b[0m\u001b[0;34m(\u001b[0m\u001b[0;34m\"result of upper: \"\u001b[0m\u001b[0;34m,\u001b[0m \u001b[0mresult\u001b[0m\u001b[0;34m)\u001b[0m\u001b[0;34m\u001b[0m\u001b[0;34m\u001b[0m\u001b[0m\n",
            "\u001b[0;31mAttributeError\u001b[0m: 'float' object has no attribute 'upper'"
          ]
        }
      ]
    },
    {
      "cell_type": "markdown",
      "metadata": {
        "id": "i5HpENjOzfc5"
      },
      "source": [
        "Learning Goals\n",
        "1. Read and write code using 1D and 2D lists\n",
        "2. Use list methods to change lists "
      ]
    },
    {
      "cell_type": "code",
      "metadata": {
        "colab": {
          "base_uri": "https://localhost:8080/"
        },
        "id": "rqVSWsv3zXUy",
        "outputId": "c5794059-8e64-4bd4-b138-a3f8115c8e16"
      },
      "source": [
        "# an empty list\n",
        "a = []\n",
        "print(\"items in list are: \", a)\n",
        "a = [\"one\", \"two\", \"three\"]\n",
        "print(\"items in list are: \", a)\n",
        "a = [1, \"two\", 3.0] # you can have mixed types of data in the list\n",
        "print(\"items in list are: \", a)"
      ],
      "execution_count": null,
      "outputs": [
        {
          "output_type": "stream",
          "text": [
            "items in list are:  []\n",
            "items in list are:  ['one', 'two', 'three']\n",
            "items in list are:  [1, 'two', 3.0]\n"
          ],
          "name": "stdout"
        }
      ]
    },
    {
      "cell_type": "code",
      "metadata": {
        "colab": {
          "base_uri": "https://localhost:8080/"
        },
        "id": "GbMBzkHI1CT-",
        "outputId": "b8e12da3-19dd-40a2-d190-1ca72df54e33"
      },
      "source": [
        "a = [1,2] + [3,4]\n",
        "print(\"items in list are: \", a) # combine to a single list\n",
        "a = [\"a\", \"b\"] * 3\n",
        "print(\"items in list are: \", a)\n",
        "x = [1,5] < [2,4] #comparing the first value of the list\n",
        "print(\"result of comparing two lists: \", x)\n",
        "y = [1,5] < [1,4]\n",
        "print(\"result of comparing two lists: \", y)\n",
        "z = [1,4] == [1,4]\n",
        "print(\"result of comparing two lists: \", z)\n",
        "w = [1,4,5] == [1,4]\n",
        "print(\"result of comparing two lists: \", w)\n",
        "x = 4 in [1,2,3]\n",
        "print(\"membership of item in the list: \", x)\n",
        "\n",
        "s = \"hello\"\n",
        "print(\"the third char of s: \" + s[1])\n",
        "print(\"the third char of s: \" + s[:4])\n",
        "\n",
        "l = [1,2,3,4,-1,7,10,3,3,3]\n",
        "print(\"index of the list: \", l[-1]) # last item on the list\n",
        "print(\"index of the list: \", l[:]) #compelete list "
      ],
      "execution_count": null,
      "outputs": [
        {
          "output_type": "stream",
          "text": [
            "items in list are:  [1, 2, 3, 4]\n",
            "items in list are:  ['a', 'b', 'a', 'b', 'a', 'b']\n",
            "result of comparing two lists:  True\n",
            "result of comparing two lists:  False\n",
            "result of comparing two lists:  True\n",
            "result of comparing two lists:  False\n",
            "membership of item in the list:  False\n",
            "the third char of s: e\n",
            "the third char of s: hell\n",
            "index of the list:  3\n",
            "index of the list:  [1, 2, 3, 4, -1, 7, 10, 3, 3, 3]\n"
          ],
          "name": "stdout"
        }
      ]
    },
    {
      "cell_type": "code",
      "metadata": {
        "colab": {
          "base_uri": "https://localhost:8080/"
        },
        "id": "m0oBTjuJ3mOV",
        "outputId": "37696e52-e7db-4a98-b556-69de216344fb"
      },
      "source": [
        "# the following functions work on lists\n",
        "print(\"length of the list is: \", len(l))\n",
        "print(\"min value in the list is: \", min(l))\n",
        "print(\"max value in the list is: \", max(l))\n",
        "print(\"sum value in the list is: \", sum(l)) # add up all the values\n",
        "\n",
        "# there are a few methods for lists\n",
        "print(\"return the number of times 3 repeats in the list: \", l.count(3))\n",
        "print(\"index of max int he list: \", l.index(max(l)))"
      ],
      "execution_count": null,
      "outputs": [
        {
          "output_type": "stream",
          "text": [
            "length of the list is:  10\n",
            "min value in the list is:  -1\n",
            "max value in the list is:  10\n",
            "sum value in the list is:  35\n",
            "return the number of times 3 repeats in the list:  4\n",
            "index of max int he list:  6\n"
          ],
          "name": "stdout"
        }
      ]
    },
    {
      "cell_type": "code",
      "metadata": {
        "colab": {
          "base_uri": "https://localhost:8080/"
        },
        "id": "LRYQYL5V5jCG",
        "outputId": "9e56c0b5-c9d6-4678-a2e8-2736c603308c"
      },
      "source": [
        "# loopinng over lists\n",
        "\n",
        "print(\"l:\", l)\n",
        "l = [1,2,3,4,5]\n",
        "mean = sum(l)/len(l)\n",
        "print(\"mean: \", mean)"
      ],
      "execution_count": null,
      "outputs": [
        {
          "output_type": "stream",
          "text": [
            "l: [1, 2, 3, 4, 5]\n",
            "mean:  3.0\n"
          ],
          "name": "stdout"
        }
      ]
    },
    {
      "cell_type": "code",
      "metadata": {
        "colab": {
          "base_uri": "https://localhost:8080/"
        },
        "id": "nMrPbzph7Sw_",
        "outputId": "def36e05-150e-4552-da52-01bda4858135"
      },
      "source": [
        "print(\"l:\", l)\n",
        "print() # print blank line\n",
        "l = [11,21,31,41,51]\n",
        "\n",
        "sum = 0\n",
        "for i in l: \n",
        "  sum = sum + i\n",
        "  print(i, sum)\n",
        "print(\"sum of numbers in l is: \", sum)\n",
        "mean = sum/ len(l)\n",
        "print(\"mean: \", mean)"
      ],
      "execution_count": null,
      "outputs": [
        {
          "output_type": "stream",
          "text": [
            "l: [11, 21, 31, 41, 51]\n",
            "\n",
            "11 11\n",
            "21 32\n",
            "31 63\n",
            "41 104\n",
            "51 155\n",
            "sum of numbers in l is:  155\n",
            "mean:  31.0\n"
          ],
          "name": "stdout"
        }
      ]
    },
    {
      "cell_type": "code",
      "metadata": {
        "colab": {
          "base_uri": "https://localhost:8080/"
        },
        "id": "hxeF_CFw80nY",
        "outputId": "f808d9fe-7ee9-4745-bbf1-1d36ac241790"
      },
      "source": [
        "l = ['a', 'b', 'c', 'd', 'e']\n",
        "\n",
        "# write a loop to print the items \n",
        "# that are in the even numbered index\n",
        "\n",
        "for i in range(len(l)):\n",
        "  if i % 2 == 0: # modulo - balance(remainder of division) is equal to 0\n",
        "    print(l[i])"
      ],
      "execution_count": null,
      "outputs": [
        {
          "output_type": "stream",
          "text": [
            "a\n",
            "c\n",
            "e\n"
          ],
          "name": "stdout"
        }
      ]
    },
    {
      "cell_type": "code",
      "metadata": {
        "colab": {
          "base_uri": "https://localhost:8080/"
        },
        "id": "cgsygETfCYSj",
        "outputId": "9723f700-229b-4739-d0bb-47ade486ba27"
      },
      "source": [
        "l = ['a', 'b', 'c', 'd', 'e']\n",
        "\n",
        "# write a loop to print the items \n",
        "# that are in the odd numbered index\n",
        "\n",
        "for i in range(len(l)):\n",
        "  if i % 2 != 0: # modulo - balance(remainder of division) is not equal to 0\n",
        "    print(l[i])"
      ],
      "execution_count": null,
      "outputs": [
        {
          "output_type": "stream",
          "text": [
            "b\n",
            "d\n"
          ],
          "name": "stdout"
        }
      ]
    },
    {
      "cell_type": "code",
      "metadata": {
        "colab": {
          "base_uri": "https://localhost:8080/"
        },
        "id": "CQgf1csE-ZDl",
        "outputId": "fbbf0a19-fa91-4135-975d-a3de951875cd"
      },
      "source": [
        "x = [\"a\", \"b\", 1 , 2]\n",
        "print(x[1])\n",
        "\n",
        "s = \"\" # empty string\n",
        "for i in range(len(x)):\n",
        "  print(\"i is: \", i)\n",
        "  print(\"x[i] is: \", x[i])\n",
        "  print(\"s is: \", s)\n",
        "  s = s + str(x[i])\n",
        "  print()\n",
        "print(\"s after for loop: \", s)"
      ],
      "execution_count": null,
      "outputs": [
        {
          "output_type": "stream",
          "text": [
            "b\n",
            "i is:  0\n",
            "x[i] is:  a\n",
            "s is:  \n",
            "\n",
            "i is:  1\n",
            "x[i] is:  b\n",
            "s is:  a\n",
            "\n",
            "i is:  2\n",
            "x[i] is:  1\n",
            "s is:  ab\n",
            "\n",
            "i is:  3\n",
            "x[i] is:  2\n",
            "s is:  ab1\n",
            "\n",
            "s after for loop:  ab12\n"
          ],
          "name": "stdout"
        }
      ]
    },
    {
      "cell_type": "code",
      "metadata": {
        "colab": {
          "base_uri": "https://localhost:8080/"
        },
        "id": "DRTeZ4dAC13v",
        "outputId": "427875c6-7e2d-4ab9-c58c-1414254dd172"
      },
      "source": [
        "# 2D list (2 dimensional list) # lists of the lists (nested list)- example: table data\n",
        "\n",
        "baby_names = [\n",
        "              [\"Jacob\", 1, \"boy\", 2010],\n",
        "              [\"Isabella\", 1, \"girl\", 2010],\n",
        "              [\"Ethan\", 2, \"boy\", 2010],\n",
        "              [\"Michael\", 3, \"boy\", 2010]\n",
        "              ]\n",
        "print(baby_names)\n",
        "print(baby_names[1])\n",
        "print(baby_names[1][0])\n",
        "\n",
        "print(\"len of outer list: \", len(baby_names)) #outer list has 3 inner lists\n",
        "print(\"len of inner list: \", len(baby_names[0])) #length of the particular row "
      ],
      "execution_count": null,
      "outputs": [
        {
          "output_type": "stream",
          "text": [
            "[['Jacob', 1, 'boy', 2010], ['Isabella', 1, 'girl', 2010], ['Ethan', 2, 'boy', 2010], ['Michael', 3, 'boy', 2010]]\n",
            "['Isabella', 1, 'girl', 2010]\n",
            "Isabella\n",
            "len of outer list:  4\n",
            "len of inner list:  4\n"
          ],
          "name": "stdout"
        }
      ]
    },
    {
      "cell_type": "code",
      "metadata": {
        "colab": {
          "base_uri": "https://localhost:8080/"
        },
        "id": "_bzTg1ilFie0",
        "outputId": "bbc23ff8-8919-401f-defb-0c5f7d32e4cb"
      },
      "source": [
        "# looping over 2D lists\n",
        "\n",
        "for i in range(len(baby_names)):\n",
        " print(\"row \", i+1 , \": \", baby_names[i])"
      ],
      "execution_count": null,
      "outputs": [
        {
          "output_type": "stream",
          "text": [
            "row  1 :  ['Jacob', 1, 'boy', 2010]\n",
            "row  2 :  ['Isabella', 1, 'girl', 2010]\n",
            "row  3 :  ['Ethan', 2, 'boy', 2010]\n",
            "row  4 :  ['Michael', 3, 'boy', 2010]\n"
          ],
          "name": "stdout"
        }
      ]
    },
    {
      "cell_type": "code",
      "metadata": {
        "colab": {
          "base_uri": "https://localhost:8080/"
        },
        "id": "kl0oaBllF-H6",
        "outputId": "6bf0511e-c286-4a33-be8e-11d0f3df7425"
      },
      "source": [
        "count = 0\n",
        "for i in range(len(baby_names)):\n",
        "  if baby_names[i][2] == 'boy':\n",
        "    count = count + 1\n",
        "print (count)"
      ],
      "execution_count": null,
      "outputs": [
        {
          "output_type": "stream",
          "text": [
            "3\n"
          ],
          "name": "stdout"
        }
      ]
    },
    {
      "cell_type": "code",
      "metadata": {
        "colab": {
          "base_uri": "https://localhost:8080/"
        },
        "id": "vGuAno2WkeUn",
        "outputId": "3d4e2db3-bffe-4a05-f6ec-6ecfde02275c"
      },
      "source": [
        "print(l)\n",
        "l.append('x') # item is added to the end of the list\n",
        "print(l)\n",
        "l.insert(-2, 'f')\n",
        "print(l)\n",
        "l.insert(0, 'z')\n",
        "print(l)"
      ],
      "execution_count": null,
      "outputs": [
        {
          "output_type": "stream",
          "text": [
            "['z', 'a', 'b', 'c', 'd', 'e', 'f', 'x']\n",
            "['z', 'a', 'b', 'c', 'd', 'e', 'f', 'x', 'x']\n",
            "['z', 'a', 'b', 'c', 'd', 'e', 'f', 'f', 'x', 'x']\n",
            "['z', 'z', 'a', 'b', 'c', 'd', 'e', 'f', 'f', 'x', 'x']\n"
          ],
          "name": "stdout"
        }
      ]
    },
    {
      "cell_type": "code",
      "metadata": {
        "colab": {
          "base_uri": "https://localhost:8080/"
        },
        "id": "YTWOQyMOm8N5",
        "outputId": "042fb13d-e757-4340-bd02-d95c215f57d1"
      },
      "source": [
        "print(l)\n",
        "print()\n",
        "\n",
        "for i in range(len(l)):\n",
        "  print(i, l[i], l.count(l[i]))\n",
        "  if l.count(l[i]) > 1: # if there is a duplicate, count value will be greater than 1\n",
        "    l.remove(l[i])\n",
        "\n",
        "    # to handle the index out of range error\n",
        "    if i == len(l) - 1: # because index starts from 0\n",
        "      break\n",
        " \n",
        "\n",
        "print() \n",
        "print(l)"
      ],
      "execution_count": null,
      "outputs": [
        {
          "output_type": "stream",
          "text": [
            "['z', 'z', 'a', 'b', 'c', 'd', 'e', 'f', 'f', 'x', 'x']\n",
            "\n",
            "0 z 2\n",
            "1 a 1\n",
            "2 b 1\n",
            "3 c 1\n",
            "4 d 1\n",
            "5 e 1\n",
            "6 f 2\n",
            "7 x 2\n",
            "\n",
            "['z', 'a', 'b', 'c', 'd', 'e', 'f', 'x']\n"
          ],
          "name": "stdout"
        }
      ]
    },
    {
      "cell_type": "code",
      "metadata": {
        "colab": {
          "base_uri": "https://localhost:8080/"
        },
        "id": "7GTLeWa-pjWK",
        "outputId": "5d740185-7e66-4dd2-fc35-59679c2210e2"
      },
      "source": [
        "x = [1,2,3,4]\n",
        "x.count(1)"
      ],
      "execution_count": null,
      "outputs": [
        {
          "output_type": "execute_result",
          "data": {
            "text/plain": [
              "1"
            ]
          },
          "metadata": {
            "tags": []
          },
          "execution_count": 124
        }
      ]
    },
    {
      "cell_type": "code",
      "metadata": {
        "colab": {
          "base_uri": "https://localhost:8080/",
          "height": 182
        },
        "id": "_LYj5FJwoW0u",
        "outputId": "e810d688-333c-4716-8a2c-db23ca0fcb34"
      },
      "source": [
        "x = [1,2,3]\n",
        "x[4]"
      ],
      "execution_count": null,
      "outputs": [
        {
          "output_type": "error",
          "ename": "IndexError",
          "evalue": "ignored",
          "traceback": [
            "\u001b[0;31m---------------------------------------------------------------------------\u001b[0m",
            "\u001b[0;31mIndexError\u001b[0m                                Traceback (most recent call last)",
            "\u001b[0;32m<ipython-input-120-2dc34aeab767>\u001b[0m in \u001b[0;36m<module>\u001b[0;34m()\u001b[0m\n\u001b[1;32m      1\u001b[0m \u001b[0mx\u001b[0m \u001b[0;34m=\u001b[0m \u001b[0;34m[\u001b[0m\u001b[0;36m1\u001b[0m\u001b[0;34m,\u001b[0m\u001b[0;36m2\u001b[0m\u001b[0;34m,\u001b[0m\u001b[0;36m3\u001b[0m\u001b[0;34m]\u001b[0m\u001b[0;34m\u001b[0m\u001b[0;34m\u001b[0m\u001b[0m\n\u001b[0;32m----> 2\u001b[0;31m \u001b[0mx\u001b[0m\u001b[0;34m[\u001b[0m\u001b[0;36m4\u001b[0m\u001b[0;34m]\u001b[0m\u001b[0;34m\u001b[0m\u001b[0;34m\u001b[0m\u001b[0m\n\u001b[0m",
            "\u001b[0;31mIndexError\u001b[0m: list index out of range"
          ]
        }
      ]
    },
    {
      "cell_type": "code",
      "metadata": {
        "colab": {
          "base_uri": "https://localhost:8080/"
        },
        "id": "noB3uVAfsIWh",
        "outputId": "d7e7bfa0-2b66-4fca-b0e6-4b552ca8ff16"
      },
      "source": [
        "l.sort()\n",
        "print(l)"
      ],
      "execution_count": null,
      "outputs": [
        {
          "output_type": "stream",
          "text": [
            "['a', 'b', 'c', 'd', 'e', 'f', 'x', 'z']\n"
          ],
          "name": "stdout"
        }
      ]
    },
    {
      "cell_type": "code",
      "metadata": {
        "colab": {
          "base_uri": "https://localhost:8080/",
          "height": 216
        },
        "id": "mVblgJk-ssnF",
        "outputId": "5d68d77e-83cc-4280-ff1d-b954e30db44c"
      },
      "source": [
        "# immutable data types    # immutable data cannot be changed but can be replaced. \n",
        "\n",
        "s = \"hola\"\n",
        "print(s[1])\n",
        "s[1] = 't' #individual data cannot be changed. "
      ],
      "execution_count": null,
      "outputs": [
        {
          "output_type": "stream",
          "text": [
            "o\n"
          ],
          "name": "stdout"
        },
        {
          "output_type": "error",
          "ename": "TypeError",
          "evalue": "ignored",
          "traceback": [
            "\u001b[0;31m---------------------------------------------------------------------------\u001b[0m",
            "\u001b[0;31mTypeError\u001b[0m                                 Traceback (most recent call last)",
            "\u001b[0;32m<ipython-input-138-b4f27a2a4a89>\u001b[0m in \u001b[0;36m<module>\u001b[0;34m()\u001b[0m\n\u001b[1;32m      3\u001b[0m \u001b[0ms\u001b[0m \u001b[0;34m=\u001b[0m \u001b[0;34m\"hola\"\u001b[0m\u001b[0;34m\u001b[0m\u001b[0;34m\u001b[0m\u001b[0m\n\u001b[1;32m      4\u001b[0m \u001b[0mprint\u001b[0m\u001b[0;34m(\u001b[0m\u001b[0ms\u001b[0m\u001b[0;34m[\u001b[0m\u001b[0;36m1\u001b[0m\u001b[0;34m]\u001b[0m\u001b[0;34m)\u001b[0m\u001b[0;34m\u001b[0m\u001b[0;34m\u001b[0m\u001b[0m\n\u001b[0;32m----> 5\u001b[0;31m \u001b[0ms\u001b[0m\u001b[0;34m[\u001b[0m\u001b[0;36m1\u001b[0m\u001b[0;34m]\u001b[0m \u001b[0;34m=\u001b[0m \u001b[0;34m't'\u001b[0m\u001b[0;34m\u001b[0m\u001b[0;34m\u001b[0m\u001b[0m\n\u001b[0m",
            "\u001b[0;31mTypeError\u001b[0m: 'str' object does not support item assignment"
          ]
        }
      ]
    },
    {
      "cell_type": "code",
      "metadata": {
        "colab": {
          "base_uri": "https://localhost:8080/"
        },
        "id": "IbSOwZovtueY",
        "outputId": "0e9bd19d-04a4-4c06-9403-c7342a09bf8f"
      },
      "source": [
        "# how to create a set\n",
        "\n",
        "t = {1,2,3,1,2,3,1,2,3}\n",
        "print(t)"
      ],
      "execution_count": null,
      "outputs": [
        {
          "output_type": "stream",
          "text": [
            "{1, 2, 3}\n"
          ],
          "name": "stdout"
        }
      ]
    },
    {
      "cell_type": "code",
      "metadata": {
        "colab": {
          "base_uri": "https://localhost:8080/"
        },
        "id": "6CwLZhrVu7ny",
        "outputId": "b55b4284-9720-4e0b-88ff-85717fc7a6d6"
      },
      "source": [
        "# dictionary data structure (key & value pair = attribute & value pair)\n",
        "\n",
        "students = {\n",
        "    1: \"abc\",\n",
        "    2: \"def\",\n",
        "    3: \"ghi\",\n",
        "    1: \"xyz\"\n",
        "}\n",
        "\n",
        "print(students.keys())\n",
        "print(students[1])"
      ],
      "execution_count": null,
      "outputs": [
        {
          "output_type": "stream",
          "text": [
            "dict_keys([1, 2, 3])\n",
            "xyz\n"
          ],
          "name": "stdout"
        }
      ]
    },
    {
      "cell_type": "code",
      "metadata": {
        "colab": {
          "base_uri": "https://localhost:8080/"
        },
        "id": "1gUz2dPowlY4",
        "outputId": "4a7b1aba-3b75-4dba-a2a0-98d72d8e34c8"
      },
      "source": [
        "# loop over dictionary   #dictionary is useful when you count items\n",
        "\n",
        "for k in students:\n",
        "  print(k, students[k])"
      ],
      "execution_count": null,
      "outputs": [
        {
          "output_type": "stream",
          "text": [
            "1 xyz\n",
            "2 def\n",
            "3 ghi\n"
          ],
          "name": "stdout"
        }
      ]
    },
    {
      "cell_type": "code",
      "metadata": {
        "id": "NwvnwLgpxCY2"
      },
      "source": [
        "# '3 quotes' to insert a text\n",
        "s = ''' \n",
        "Marjorie Madeline Henzell (born 21 September 1948) is an Australian politician. She was an Australian Labor Party member of the Australian House of Representatives from 1993 to 1996, representing the electorate of Capricornia.\n",
        "\n",
        "Henzell graduated from the University of Melbourne with a Bachelor of Arts and Diploma of Social Studies before becoming a social worker.[1] At the time of her election to parliament, she managed a counselling service supporting the employees of two coal mines at Middlemount and Tieri outside Rockhampton, along with their associated communities.[2]\n",
        "\n",
        "She was elected to the House of Representatives at the 1993 federal election, defeating disgraced ex-Labor MP Keith Wright, who was recontesting as an independent despite facing criminal child sex charges.[3] Henzell became the first woman MP to hold the seat in its history.[4] She later described her ability to be elected as a woman in Capricornia at that time as a \"quirk of history\" and that she was \"only here\" because of Wright's conduct. Henzell was aligned with the party's Labor Left faction.[5] She was appointed deputy chairman of the Labor caucus in 1993.[6]\n",
        "\n",
        "As a new MP, Henzell described Question Time as \"a bit of a boys' locker room\" and described her own approach to parliament as a woman as \"I won't sit around being patted on the head. We didn't get here to be sweet and malleable, but we can play hard ball without personal abuse.\"[7] She publicly criticised senior colleague John Dawkins for referring to opposition MP Kathy Sullivan as \"sweetheart\" in parliament in 1993.[5] In 1994, she questioned her own party's Prime Minister, Paul Keating, about his decision to personally take over the women's affairs portfolio following the resignation of Ros Kelly, asking him if he did not believe anyone in the caucus was sufficiently able; an angry Keating claimed Henzell was sexist, and Henzell expressed her annoyance at not being taken seriously over the issue.[8][5]\n",
        "\n",
        "In 1994, as chairwoman of a federal parliamentary inquiry into the implementation of the recommendations of the Royal Commission into Black Deaths in Custody, Henzell attacked state governments for not using or inappropriately using $50 million in federal implementation funding, stating (in relation to New South Wales) that \"two years down the track no service has been put into place for the people they were designed to assist\", criticising the poor state of services for Aboriginal people, and stating \"the only conclusion you can draw is the fact that there is a continuing abrogation of people's rights...the fact that we are tolerating this sort of racism diminishes us as a country.\" She also lambasted the Victorian government for failing to implement key recommendations of the Royal Commission and failing to submit reports on its implementation progress.[9][10]\n",
        "\n",
        "In October 1994, in relation to a contentious debate on a sexual privacy bill, Henzell claimed in parliament that \"we are all born bisexual\", which made front-page news in the Rockhampton newspaper The Morning Bulletin and led to her receiving many angry letters from constituents; she subsequently clarified that her comment \"was not referring to people's sexual orientation; it referred to the fact that we all have male and female traits and hormones and that human sexuality is a widely misunderstood subject\".[11] In September 1995, she was one of several Labor MPs to speak in parliament against a bill to sell off the Australian National Line, even though she later voted for it in line with caucus solidarity rules.[12] Throughout all or most of her term, she was a member of the Joint Select Committee on Certain Family Law Issues and the House of Representatives Standing Committees on Aboriginal and Torres Strait Islander Affairs and Long Term Strategies.[1] She was defeated by National Party candidate Paul Marek at the 1996 federal election.[13]\n",
        "\n",
        "She later relocated to Armidale in New South Wales and was an unsuccessful candidate for the Armidale Dumaresq Council in 2004.[14] She remained involved with the Labor Party and served as secretary of the party's Armidale State Electoral Council.[15]\n",
        "'''"
      ],
      "execution_count": null,
      "outputs": []
    },
    {
      "cell_type": "code",
      "metadata": {
        "colab": {
          "base_uri": "https://localhost:8080/"
        },
        "id": "NTX9eiZs73lo",
        "outputId": "f25203cb-4453-41b8-a3e4-e57ebccafa75"
      },
      "source": [
        "t = {'later':1, 'in':5}\n",
        "t['later'] += 1\n",
        "# t['later'] = t['later'] + 1\n",
        "print(t)"
      ],
      "execution_count": null,
      "outputs": [
        {
          "output_type": "stream",
          "text": [
            "{'later': 2, 'in': 5}\n"
          ],
          "name": "stdout"
        }
      ]
    },
    {
      "cell_type": "code",
      "metadata": {
        "colab": {
          "base_uri": "https://localhost:8080/"
        },
        "id": "2ho_byvHA3S1",
        "outputId": "de22cf34-44ba-4d74-ad17-6c87e6a66e50"
      },
      "source": [
        "import re\n",
        "s = \"Hello!!! (World) [123]\"\n",
        "s = re.sub(r\"!\", \" \", s) #pre-syntax r before the unwanted expression and replace with space (\" \")\n",
        "s = re.sub(r\"\\(\", \" \", s)\n",
        "s = re.sub(r\"\\)\", \" \", s)\n",
        "s = re.sub(r\"\\[\", \" \", s)\n",
        "s = re.sub(r\"\\]\", \" \", s)\n",
        "s = re.sub(r\"0-9\", \" \", s) # get rid of numbers \n",
        "print(s)"
      ],
      "execution_count": null,
      "outputs": [
        {
          "output_type": "stream",
          "text": [
            "Hello     World   123 \n"
          ],
          "name": "stdout"
        }
      ]
    },
    {
      "cell_type": "code",
      "metadata": {
        "colab": {
          "base_uri": "https://localhost:8080/"
        },
        "id": "itnN-Doxx0zL",
        "outputId": "b3c95d5f-85ab-45a4-c151-aff07cce1700"
      },
      "source": [
        "# print(len(s)) \n",
        "\n",
        "# use regular express to replacce unwanted characters with spaces\n",
        "s =re.sub(r\"\\(\", \" \", s)\n",
        "s =re.sub(r\"\\)\", \" \", s)\n",
        "s =re.sub(r\"\\[\", \" \", s)\n",
        "s =re.sub(r\"\\]\", \" \", s)\n",
        "s =re.sub(r\"\\.\", \" \", s)\n",
        "s =re.sub(r\",\", \" \", s)\n",
        "s =re.sub(r\";\", \" \", s)\n",
        "s =re.sub(r\"\\'\", \" \", s)\n",
        "s =re.sub(r\"\\\"\", \" \", s)\n",
        "\n",
        "word_list = s.split(\" \") #split by space between words\n",
        "print(word_list)\n",
        "print(\"number of words in the list: \", len(word_list))\n",
        "\n",
        "# use the word list to build a dictionary\n",
        "words = {} # create an empty dictionary first\n",
        "\n",
        "# loop over the word list\n",
        "for i in range(len(word_list)) :\n",
        "  w = word_list[i].strip()  # to remove white space \n",
        "  w = w.lower() # covert to lower case to maximize the chance to match words\n",
        "  if w in words: # if the word is already in the list\n",
        "    words[w] += 1 # increase the value by 1\n",
        "  else:\n",
        "    words[w] = 1\n",
        "\n",
        "# pretty print dictionary\n",
        "for k in words:\n",
        " print(k, words[k])"
      ],
      "execution_count": null,
      "outputs": [
        {
          "output_type": "stream",
          "text": [
            "['', '\\nMarjorie', 'Madeline', 'Henzell', '', 'born', '21', 'September', '1948', '', 'is', 'an', 'Australian', 'politician', '', 'She', 'was', 'an', 'Australian', 'Labor', 'Party', 'member', 'of', 'the', 'Australian', 'House', 'of', 'Representatives', 'from', '1993', 'to', '1996', '', 'representing', 'the', 'electorate', 'of', 'Capricornia', '\\n\\nHenzell', 'graduated', 'from', 'the', 'University', 'of', 'Melbourne', 'with', 'a', 'Bachelor', 'of', 'Arts', 'and', 'Diploma', 'of', 'Social', 'Studies', 'before', 'becoming', 'a', 'social', 'worker', '', '1', '', 'At', 'the', 'time', 'of', 'her', 'election', 'to', 'parliament', '', 'she', 'managed', 'a', 'counselling', 'service', 'supporting', 'the', 'employees', 'of', 'two', 'coal', 'mines', 'at', 'Middlemount', 'and', 'Tieri', 'outside', 'Rockhampton', '', 'along', 'with', 'their', 'associated', 'communities', '', '2', '\\n\\nShe', 'was', 'elected', 'to', 'the', 'House', 'of', 'Representatives', 'at', 'the', '1993', 'federal', 'election', '', 'defeating', 'disgraced', 'ex-Labor', 'MP', 'Keith', 'Wright', '', 'who', 'was', 'recontesting', 'as', 'an', 'independent', 'despite', 'facing', 'criminal', 'child', 'sex', 'charges', '', '3', '', 'Henzell', 'became', 'the', 'first', 'woman', 'MP', 'to', 'hold', 'the', 'seat', 'in', 'its', 'history', '', '4', '', 'She', 'later', 'described', 'her', 'ability', 'to', 'be', 'elected', 'as', 'a', 'woman', 'in', 'Capricornia', 'at', 'that', 'time', 'as', 'a', '', 'quirk', 'of', 'history', '', 'and', 'that', 'she', 'was', '', 'only', 'here', '', 'because', 'of', 'Wright', 's', 'conduct', '', 'Henzell', 'was', 'aligned', 'with', 'the', 'party', 's', 'Labor', 'Left', 'faction', '', '5', '', 'She', 'was', 'appointed', 'deputy', 'chairman', 'of', 'the', 'Labor', 'caucus', 'in', '1993', '', '6', '\\n\\nAs', 'a', 'new', 'MP', '', 'Henzell', 'described', 'Question', 'Time', 'as', '', 'a', 'bit', 'of', 'a', 'boys', '', 'locker', 'room', '', 'and', 'described', 'her', 'own', 'approach', 'to', 'parliament', 'as', 'a', 'woman', 'as', '', 'I', 'won', 't', 'sit', 'around', 'being', 'patted', 'on', 'the', 'head', '', 'We', 'didn', 't', 'get', 'here', 'to', 'be', 'sweet', 'and', 'malleable', '', 'but', 'we', 'can', 'play', 'hard', 'ball', 'without', 'personal', 'abuse', '', '', '7', '', 'She', 'publicly', 'criticised', 'senior', 'colleague', 'John', 'Dawkins', 'for', 'referring', 'to', 'opposition', 'MP', 'Kathy', 'Sullivan', 'as', '', 'sweetheart', '', 'in', 'parliament', 'in', '1993', '', '5', '', 'In', '1994', '', 'she', 'questioned', 'her', 'own', 'party', 's', 'Prime', 'Minister', '', 'Paul', 'Keating', '', 'about', 'his', 'decision', 'to', 'personally', 'take', 'over', 'the', 'women', 's', 'affairs', 'portfolio', 'following', 'the', 'resignation', 'of', 'Ros', 'Kelly', '', 'asking', 'him', 'if', 'he', 'did', 'not', 'believe', 'anyone', 'in', 'the', 'caucus', 'was', 'sufficiently', 'able', '', 'an', 'angry', 'Keating', 'claimed', 'Henzell', 'was', 'sexist', '', 'and', 'Henzell', 'expressed', 'her', 'annoyance', 'at', 'not', 'being', 'taken', 'seriously', 'over', 'the', 'issue', '', '8', '', '5', '\\n\\nIn', '1994', '', 'as', 'chairwoman', 'of', 'a', 'federal', 'parliamentary', 'inquiry', 'into', 'the', 'implementation', 'of', 'the', 'recommendations', 'of', 'the', 'Royal', 'Commission', 'into', 'Black', 'Deaths', 'in', 'Custody', '', 'Henzell', 'attacked', 'state', 'governments', 'for', 'not', 'using', 'or', 'inappropriately', 'using', '$50', 'million', 'in', 'federal', 'implementation', 'funding', '', 'stating', '', 'in', 'relation', 'to', 'New', 'South', 'Wales', '', 'that', '', 'two', 'years', 'down', 'the', 'track', 'no', 'service', 'has', 'been', 'put', 'into', 'place', 'for', 'the', 'people', 'they', 'were', 'designed', 'to', 'assist', '', '', 'criticising', 'the', 'poor', 'state', 'of', 'services', 'for', 'Aboriginal', 'people', '', 'and', 'stating', '', 'the', 'only', 'conclusion', 'you', 'can', 'draw', 'is', 'the', 'fact', 'that', 'there', 'is', 'a', 'continuing', 'abrogation', 'of', 'people', 's', 'rights', '', '', 'the', 'fact', 'that', 'we', 'are', 'tolerating', 'this', 'sort', 'of', 'racism', 'diminishes', 'us', 'as', 'a', 'country', '', '', 'She', 'also', 'lambasted', 'the', 'Victorian', 'government', 'for', 'failing', 'to', 'implement', 'key', 'recommendations', 'of', 'the', 'Royal', 'Commission', 'and', 'failing', 'to', 'submit', 'reports', 'on', 'its', 'implementation', 'progress', '', '9', '', '10', '\\n\\nIn', 'October', '1994', '', 'in', 'relation', 'to', 'a', 'contentious', 'debate', 'on', 'a', 'sexual', 'privacy', 'bill', '', 'Henzell', 'claimed', 'in', 'parliament', 'that', '', 'we', 'are', 'all', 'born', 'bisexual', '', '', 'which', 'made', 'front-page', 'news', 'in', 'the', 'Rockhampton', 'newspaper', 'The', 'Morning', 'Bulletin', 'and', 'led', 'to', 'her', 'receiving', 'many', 'angry', 'letters', 'from', 'constituents', '', 'she', 'subsequently', 'clarified', 'that', 'her', 'comment', '', 'was', 'not', 'referring', 'to', 'people', 's', 'sexual', 'orientation', '', 'it', 'referred', 'to', 'the', 'fact', 'that', 'we', 'all', 'have', 'male', 'and', 'female', 'traits', 'and', 'hormones', 'and', 'that', 'human', 'sexuality', 'is', 'a', 'widely', 'misunderstood', 'subject', '', '', '11', '', 'In', 'September', '1995', '', 'she', 'was', 'one', 'of', 'several', 'Labor', 'MPs', 'to', 'speak', 'in', 'parliament', 'against', 'a', 'bill', 'to', 'sell', 'off', 'the', 'Australian', 'National', 'Line', '', 'even', 'though', 'she', 'later', 'voted', 'for', 'it', 'in', 'line', 'with', 'caucus', 'solidarity', 'rules', '', '12', '', 'Throughout', 'all', 'or', 'most', 'of', 'her', 'term', '', 'she', 'was', 'a', 'member', 'of', 'the', 'Joint', 'Select', 'Committee', 'on', 'Certain', 'Family', 'Law', 'Issues', 'and', 'the', 'House', 'of', 'Representatives', 'Standing', 'Committees', 'on', 'Aboriginal', 'and', 'Torres', 'Strait', 'Islander', 'Affairs', 'and', 'Long', 'Term', 'Strategies', '', '1', '', 'She', 'was', 'defeated', 'by', 'National', 'Party', 'candidate', 'Paul', 'Marek', 'at', 'the', '1996', 'federal', 'election', '', '13', '\\n\\nShe', 'later', 'relocated', 'to', 'Armidale', 'in', 'New', 'South', 'Wales', 'and', 'was', 'an', 'unsuccessful', 'candidate', 'for', 'the', 'Armidale', 'Dumaresq', 'Council', 'in', '2004', '', '14', '', 'She', 'remained', 'involved', 'with', 'the', 'Labor', 'Party', 'and', 'served', 'as', 'secretary', 'of', 'the', 'party', 's', 'Armidale', 'State', 'Electoral', 'Council', '', '15', '\\n']\n",
            "number of words in the list:  777\n",
            " 85\n",
            "marjorie 1\n",
            "madeline 1\n",
            "henzell 9\n",
            "born 2\n",
            "21 1\n",
            "september 2\n",
            "1948 1\n",
            "is 4\n",
            "an 5\n",
            "australian 4\n",
            "politician 1\n",
            "she 16\n",
            "was 13\n",
            "labor 5\n",
            "party 6\n",
            "member 2\n",
            "of 26\n",
            "the 37\n",
            "house 3\n",
            "representatives 3\n",
            "from 3\n",
            "1993 4\n",
            "to 20\n",
            "1996 2\n",
            "representing 1\n",
            "electorate 1\n",
            "capricornia 2\n",
            "graduated 1\n",
            "university 1\n",
            "melbourne 1\n",
            "with 5\n",
            "a 17\n",
            "bachelor 1\n",
            "arts 1\n",
            "and 17\n",
            "diploma 1\n",
            "social 2\n",
            "studies 1\n",
            "before 1\n",
            "becoming 1\n",
            "worker 1\n",
            "1 2\n",
            "at 6\n",
            "time 3\n",
            "her 8\n",
            "election 3\n",
            "parliament 5\n",
            "managed 1\n",
            "counselling 1\n",
            "service 2\n",
            "supporting 1\n",
            "employees 1\n",
            "two 2\n",
            "coal 1\n",
            "mines 1\n",
            "middlemount 1\n",
            "tieri 1\n",
            "outside 1\n",
            "rockhampton 2\n",
            "along 1\n",
            "their 1\n",
            "associated 1\n",
            "communities 1\n",
            "2 1\n",
            "elected 2\n",
            "federal 4\n",
            "defeating 1\n",
            "disgraced 1\n",
            "ex-labor 1\n",
            "mp 4\n",
            "keith 1\n",
            "wright 2\n",
            "who 1\n",
            "recontesting 1\n",
            "as 11\n",
            "independent 1\n",
            "despite 1\n",
            "facing 1\n",
            "criminal 1\n",
            "child 1\n",
            "sex 1\n",
            "charges 1\n",
            "3 1\n",
            "became 1\n",
            "first 1\n",
            "woman 3\n",
            "hold 1\n",
            "seat 1\n",
            "in 20\n",
            "its 2\n",
            "history 2\n",
            "4 1\n",
            "later 3\n",
            "described 3\n",
            "ability 1\n",
            "be 2\n",
            "that 9\n",
            "quirk 1\n",
            "only 2\n",
            "here 2\n",
            "because 1\n",
            "s 7\n",
            "conduct 1\n",
            "aligned 1\n",
            "left 1\n",
            "faction 1\n",
            "5 3\n",
            "appointed 1\n",
            "deputy 1\n",
            "chairman 1\n",
            "caucus 3\n",
            "6 1\n",
            "new 3\n",
            "question 1\n",
            "bit 1\n",
            "boys 1\n",
            "locker 1\n",
            "room 1\n",
            "own 2\n",
            "approach 1\n",
            "i 1\n",
            "won 1\n",
            "t 2\n",
            "sit 1\n",
            "around 1\n",
            "being 2\n",
            "patted 1\n",
            "on 5\n",
            "head 1\n",
            "we 5\n",
            "didn 1\n",
            "get 1\n",
            "sweet 1\n",
            "malleable 1\n",
            "but 1\n",
            "can 2\n",
            "play 1\n",
            "hard 1\n",
            "ball 1\n",
            "without 1\n",
            "personal 1\n",
            "abuse 1\n",
            "7 1\n",
            "publicly 1\n",
            "criticised 1\n",
            "senior 1\n",
            "colleague 1\n",
            "john 1\n",
            "dawkins 1\n",
            "for 7\n",
            "referring 2\n",
            "opposition 1\n",
            "kathy 1\n",
            "sullivan 1\n",
            "sweetheart 1\n",
            "1994 3\n",
            "questioned 1\n",
            "prime 1\n",
            "minister 1\n",
            "paul 2\n",
            "keating 2\n",
            "about 1\n",
            "his 1\n",
            "decision 1\n",
            "personally 1\n",
            "take 1\n",
            "over 2\n",
            "women 1\n",
            "affairs 2\n",
            "portfolio 1\n",
            "following 1\n",
            "resignation 1\n",
            "ros 1\n",
            "kelly 1\n",
            "asking 1\n",
            "him 1\n",
            "if 1\n",
            "he 1\n",
            "did 1\n",
            "not 4\n",
            "believe 1\n",
            "anyone 1\n",
            "sufficiently 1\n",
            "able 1\n",
            "angry 2\n",
            "claimed 2\n",
            "sexist 1\n",
            "expressed 1\n",
            "annoyance 1\n",
            "taken 1\n",
            "seriously 1\n",
            "issue 1\n",
            "8 1\n",
            "chairwoman 1\n",
            "parliamentary 1\n",
            "inquiry 1\n",
            "into 3\n",
            "implementation 3\n",
            "recommendations 2\n",
            "royal 2\n",
            "commission 2\n",
            "black 1\n",
            "deaths 1\n",
            "custody 1\n",
            "attacked 1\n",
            "state 3\n",
            "governments 1\n",
            "using 2\n",
            "or 2\n",
            "inappropriately 1\n",
            "$50 1\n",
            "million 1\n",
            "funding 1\n",
            "stating 2\n",
            "relation 2\n",
            "south 2\n",
            "wales 2\n",
            "years 1\n",
            "down 1\n",
            "track 1\n",
            "no 1\n",
            "has 1\n",
            "been 1\n",
            "put 1\n",
            "place 1\n",
            "people 4\n",
            "they 1\n",
            "were 1\n",
            "designed 1\n",
            "assist 1\n",
            "criticising 1\n",
            "poor 1\n",
            "services 1\n",
            "aboriginal 2\n",
            "conclusion 1\n",
            "you 1\n",
            "draw 1\n",
            "fact 3\n",
            "there 1\n",
            "continuing 1\n",
            "abrogation 1\n",
            "rights 1\n",
            "are 2\n",
            "tolerating 1\n",
            "this 1\n",
            "sort 1\n",
            "racism 1\n",
            "diminishes 1\n",
            "us 1\n",
            "country 1\n",
            "also 1\n",
            "lambasted 1\n",
            "victorian 1\n",
            "government 1\n",
            "failing 2\n",
            "implement 1\n",
            "key 1\n",
            "submit 1\n",
            "reports 1\n",
            "progress 1\n",
            "9 1\n",
            "10 1\n",
            "october 1\n",
            "contentious 1\n",
            "debate 1\n",
            "sexual 2\n",
            "privacy 1\n",
            "bill 2\n",
            "all 3\n",
            "bisexual 1\n",
            "which 1\n",
            "made 1\n",
            "front-page 1\n",
            "news 1\n",
            "newspaper 1\n",
            "morning 1\n",
            "bulletin 1\n",
            "led 1\n",
            "receiving 1\n",
            "many 1\n",
            "letters 1\n",
            "constituents 1\n",
            "subsequently 1\n",
            "clarified 1\n",
            "comment 1\n",
            "orientation 1\n",
            "it 2\n",
            "referred 1\n",
            "have 1\n",
            "male 1\n",
            "female 1\n",
            "traits 1\n",
            "hormones 1\n",
            "human 1\n",
            "sexuality 1\n",
            "widely 1\n",
            "misunderstood 1\n",
            "subject 1\n",
            "11 1\n",
            "1995 1\n",
            "one 1\n",
            "several 1\n",
            "mps 1\n",
            "speak 1\n",
            "against 1\n",
            "sell 1\n",
            "off 1\n",
            "national 2\n",
            "line 2\n",
            "even 1\n",
            "though 1\n",
            "voted 1\n",
            "solidarity 1\n",
            "rules 1\n",
            "12 1\n",
            "throughout 1\n",
            "most 1\n",
            "term 2\n",
            "joint 1\n",
            "select 1\n",
            "committee 1\n",
            "certain 1\n",
            "family 1\n",
            "law 1\n",
            "issues 1\n",
            "standing 1\n",
            "committees 1\n",
            "torres 1\n",
            "strait 1\n",
            "islander 1\n",
            "long 1\n",
            "strategies 1\n",
            "defeated 1\n",
            "by 1\n",
            "candidate 2\n",
            "marek 1\n",
            "13 1\n",
            "relocated 1\n",
            "armidale 3\n",
            "unsuccessful 1\n",
            "dumaresq 1\n",
            "council 2\n",
            "2004 1\n",
            "14 1\n",
            "remained 1\n",
            "involved 1\n",
            "served 1\n",
            "secretary 1\n",
            "electoral 1\n",
            "15 1\n"
          ],
          "name": "stdout"
        }
      ]
    },
    {
      "cell_type": "markdown",
      "metadata": {
        "id": "26AnE-CBo6qD"
      },
      "source": [
        "### June 29, 2021 Class Exercises"
      ]
    },
    {
      "cell_type": "code",
      "metadata": {
        "id": "AyAU9gwJnGeE",
        "colab": {
          "base_uri": "https://localhost:8080/"
        },
        "outputId": "d68afc01-f504-4220-bfbd-a72a100ba6f0"
      },
      "source": [
        "# define function (different from built in function)\n",
        "\n",
        "def add (x,y):\n",
        "    print(\"adding x and y\") #side effect \n",
        "    print (x+y) #bad design: value - None (no return value)\n",
        "    return x+y\n",
        "\n",
        "def sub(x,y):\n",
        "    return x-y\n",
        "\n",
        "def mult(x,y):\n",
        "    return x*y\n",
        "\n",
        "r = add(5,3)\n",
        "s = sub(5,3)\n",
        "\n",
        "print(r)\n",
        "print(s)\n",
        "\n",
        "t = mult(r,s)\n",
        "print(t)\n",
        "\n",
        "print(mult(r,s)) #more compact compared to line #20"
      ],
      "execution_count": null,
      "outputs": [
        {
          "output_type": "stream",
          "text": [
            "adding x and y\n",
            "8\n",
            "8\n",
            "2\n",
            "16\n",
            "16\n"
          ],
          "name": "stdout"
        }
      ]
    },
    {
      "cell_type": "code",
      "metadata": {
        "colab": {
          "base_uri": "https://localhost:8080/"
        },
        "id": "XByE4MxtwZdu",
        "outputId": "71e1198d-2d78-4191-b15d-b2c09baa7298"
      },
      "source": [
        "def happy():\n",
        "    print(\"Happy Birthday To You!\")\n",
        "\n",
        "def sing(P):\n",
        "    happy()\n",
        "    happy()\n",
        "    print(\"Happy Birthday dear \" + P + \"!\")\n",
        "    happy()\n",
        "\n",
        "# main\n",
        "sing(\"Fred\")"
      ],
      "execution_count": null,
      "outputs": [
        {
          "output_type": "stream",
          "text": [
            "Happy Birthday To You!\n",
            "Happy Birthday To You!\n",
            "Happy Birthday dear Fred!\n",
            "Happy Birthday To You!\n"
          ],
          "name": "stdout"
        }
      ]
    },
    {
      "cell_type": "markdown",
      "metadata": {
        "id": "py9B-WVsAAzw"
      },
      "source": [
        "**Poker Exercise**:\n",
        "#inputs and outputs\n",
        "\n",
        "## representation of the cards \n",
        "\n",
        "*   Ace of Hearts - A(face value)H(Suit)\n",
        "*   10 of Diamond - TD\n",
        "*   3 of Clubs - 3C\n",
        "\n",
        "\n",
        "## respresent a poker hand \n",
        "\n",
        "\n",
        "\n",
        "*   h1 = [TH, JH, QH, KH, AH] \n",
        "*   h2 = [3D, 3S, 4H, 8C, AS]\n",
        "*   h3 = [7D, 2S, 4H, 8C, AS]\n",
        "\n",
        "\n",
        "## represent a poker hands\n",
        "\n",
        "This is a list of lists! hands = [h1, h2, h3]\n",
        "\n",
        "## output\n",
        "\n",
        "1. print the winning hand\n",
        "\n",
        "## Poker Hands Ranks\n",
        "\n",
        "Make a list of top 10 rankings\n",
        "1. High Card : Highest value card.\n",
        "2. One Pair : Two cards of the same value.\n",
        "3. Two Pairs : Two different pairs.\n",
        "4. Three of a Kind : Three cards of the same value.\n",
        "5. Straight : All cards are consecutive values.\n",
        "6. Flush : All cards of the same suit.\n",
        "7. Full House : Three of a kind and a pair.\n",
        "8. Four of a Kind : Four cards of the same value.\n",
        "9. Straight Flush : All cards are consecutive values of same suit.\n",
        "10. Royal Flush : Ten, Jack, Queen, King, Ace, in same suit."
      ]
    },
    {
      "cell_type": "markdown",
      "metadata": {
        "id": "NW-gPVvTFJwj"
      },
      "source": [
        "Define test cases and check with assert keyword"
      ]
    },
    {
      "cell_type": "code",
      "metadata": {
        "id": "GY19pdXzErQ1"
      },
      "source": [
        "# add the numbers x and y\n",
        "def add(x, y):\n",
        "  return x + y"
      ],
      "execution_count": null,
      "outputs": []
    },
    {
      "cell_type": "code",
      "metadata": {
        "id": "HNk_fQol_5at",
        "colab": {
          "base_uri": "https://localhost:8080/"
        },
        "outputId": "5a67e483-b440-4199-adfb-180e65e58285"
      },
      "source": [
        "def add_test():\n",
        "  assert add(2, 3) == 5\n",
        "  assert add(0, 0) == 0\n",
        "  assert add(1, -2) == -1\n",
        "  print(\"all tests passed!\")\n",
        "add_test()"
      ],
      "execution_count": null,
      "outputs": [
        {
          "output_type": "stream",
          "text": [
            "all tests passed!\n"
          ],
          "name": "stdout"
        }
      ]
    },
    {
      "cell_type": "markdown",
      "metadata": {
        "id": "pyxHUPXUFsSj"
      },
      "source": [
        "Define test cases for poker function\n",
        "\n",
        "Code for evaluating poke hands (WIP)\n",
        "\n"
      ]
    },
    {
      "cell_type": "code",
      "metadata": {
        "colab": {
          "base_uri": "https://localhost:8080/",
          "height": 406
        },
        "id": "ZONe4Utn7xm_",
        "outputId": "7e720992-3590-45bb-e31c-157bf74b499f"
      },
      "source": [
        "def card_ranks(hand):\n",
        "  cards = hand.split()\n",
        "  faceValues = []\n",
        "  for card in cards:\n",
        "    #print(card[0])\n",
        "    cardOrder = '0123456789TJQKA'  \n",
        "    #print(card[0], cardOrder.index(card[0])\n",
        "    value = cardOrder.index(card[0])\n",
        "    faceValues.append(value)\n",
        "    print(sorted(faceValues, reverse=True))\n",
        "\n",
        "#print(card_ranks(\"AH TH 3H 4H 8H\"))\n",
        "\n",
        "def card_ranks_test():\n",
        "  assert card_ranks(\"AH TH 3H 4H 8H\") == [14, 10, 3, 4, 8]\n",
        "  assert card_ranks(\"2H 5H 3H 4H 8H\") == [8, 5, 4, 3, 2]\n",
        "  assert card_ranks(\"KH QH JH AH TH\") == [14, 13, 12, 11, 10]\n",
        "  print(\"all test cases passed!\")\n",
        "\n",
        "card_ranks_test()\n"
      ],
      "execution_count": null,
      "outputs": [
        {
          "output_type": "stream",
          "text": [
            "[14]\n",
            "[14, 10]\n",
            "[14, 10, 3]\n",
            "[14, 10, 4, 3]\n",
            "[14, 10, 8, 4, 3]\n"
          ],
          "name": "stdout"
        },
        {
          "output_type": "error",
          "ename": "AssertionError",
          "evalue": "ignored",
          "traceback": [
            "\u001b[0;31m---------------------------------------------------------------------------\u001b[0m",
            "\u001b[0;31mAssertionError\u001b[0m                            Traceback (most recent call last)",
            "\u001b[0;32m<ipython-input-9-42c009939c06>\u001b[0m in \u001b[0;36m<module>\u001b[0;34m()\u001b[0m\n\u001b[1;32m     18\u001b[0m   \u001b[0mprint\u001b[0m\u001b[0;34m(\u001b[0m\u001b[0;34m\"all test cases passed!\"\u001b[0m\u001b[0;34m)\u001b[0m\u001b[0;34m\u001b[0m\u001b[0;34m\u001b[0m\u001b[0m\n\u001b[1;32m     19\u001b[0m \u001b[0;34m\u001b[0m\u001b[0m\n\u001b[0;32m---> 20\u001b[0;31m \u001b[0mcard_ranks_test\u001b[0m\u001b[0;34m(\u001b[0m\u001b[0;34m)\u001b[0m\u001b[0;34m\u001b[0m\u001b[0;34m\u001b[0m\u001b[0m\n\u001b[0m",
            "\u001b[0;32m<ipython-input-9-42c009939c06>\u001b[0m in \u001b[0;36mcard_ranks_test\u001b[0;34m()\u001b[0m\n\u001b[1;32m     13\u001b[0m \u001b[0;34m\u001b[0m\u001b[0m\n\u001b[1;32m     14\u001b[0m \u001b[0;32mdef\u001b[0m \u001b[0mcard_ranks_test\u001b[0m\u001b[0;34m(\u001b[0m\u001b[0;34m)\u001b[0m\u001b[0;34m:\u001b[0m\u001b[0;34m\u001b[0m\u001b[0;34m\u001b[0m\u001b[0m\n\u001b[0;32m---> 15\u001b[0;31m   \u001b[0;32massert\u001b[0m \u001b[0mcard_ranks\u001b[0m\u001b[0;34m(\u001b[0m\u001b[0;34m\"AH TH 3H 4H 8H\"\u001b[0m\u001b[0;34m)\u001b[0m \u001b[0;34m==\u001b[0m \u001b[0;34m[\u001b[0m\u001b[0;36m14\u001b[0m\u001b[0;34m,\u001b[0m \u001b[0;36m10\u001b[0m\u001b[0;34m,\u001b[0m \u001b[0;36m3\u001b[0m\u001b[0;34m,\u001b[0m \u001b[0;36m4\u001b[0m\u001b[0;34m,\u001b[0m \u001b[0;36m8\u001b[0m\u001b[0;34m]\u001b[0m\u001b[0;34m\u001b[0m\u001b[0;34m\u001b[0m\u001b[0m\n\u001b[0m\u001b[1;32m     16\u001b[0m   \u001b[0;32massert\u001b[0m \u001b[0mcard_ranks\u001b[0m\u001b[0;34m(\u001b[0m\u001b[0;34m\"2H 5H 3H 4H 8H\"\u001b[0m\u001b[0;34m)\u001b[0m \u001b[0;34m==\u001b[0m \u001b[0;34m[\u001b[0m\u001b[0;36m8\u001b[0m\u001b[0;34m,\u001b[0m \u001b[0;36m5\u001b[0m\u001b[0;34m,\u001b[0m \u001b[0;36m4\u001b[0m\u001b[0;34m,\u001b[0m \u001b[0;36m3\u001b[0m\u001b[0;34m,\u001b[0m \u001b[0;36m2\u001b[0m\u001b[0;34m]\u001b[0m\u001b[0;34m\u001b[0m\u001b[0;34m\u001b[0m\u001b[0m\n\u001b[1;32m     17\u001b[0m   \u001b[0;32massert\u001b[0m \u001b[0mcard_ranks\u001b[0m\u001b[0;34m(\u001b[0m\u001b[0;34m\"KH QH JH AH TH\"\u001b[0m\u001b[0;34m)\u001b[0m \u001b[0;34m==\u001b[0m \u001b[0;34m[\u001b[0m\u001b[0;36m14\u001b[0m\u001b[0;34m,\u001b[0m \u001b[0;36m13\u001b[0m\u001b[0;34m,\u001b[0m \u001b[0;36m12\u001b[0m\u001b[0;34m,\u001b[0m \u001b[0;36m11\u001b[0m\u001b[0;34m,\u001b[0m \u001b[0;36m10\u001b[0m\u001b[0;34m]\u001b[0m\u001b[0;34m\u001b[0m\u001b[0;34m\u001b[0m\u001b[0m\n",
            "\u001b[0;31mAssertionError\u001b[0m: "
          ]
        }
      ]
    },
    {
      "cell_type": "code",
      "metadata": {
        "id": "XlT074DfS41D"
      },
      "source": [
        "def flush(hand):\n",
        "  #convert the string to list of cards\n",
        "  #split on space\n",
        "  cards = hand.split()\n",
        "\n",
        "  #create a set to hold all the suits \n",
        "  suits = set()\n",
        "\n",
        "  #loop over the cards and add suits to set \n",
        "  for card in cards:\n",
        "    suits.add(card[1])\n",
        "\n",
        "    #return true if len of suits is 1\n",
        "    #false otherwise\n",
        "  return len(suits) == 1"
      ],
      "execution_count": null,
      "outputs": []
    },
    {
      "cell_type": "code",
      "metadata": {
        "colab": {
          "base_uri": "https://localhost:8080/",
          "height": 430
        },
        "id": "axjjm9pB7sx0",
        "outputId": "3bb37f53-89fa-4685-b808-4e5b68f0b152"
      },
      "source": [
        "def straight(hand):\n",
        "  # get the face values of the cards\n",
        "  # by calling the card_ranks function\n",
        "  ranks = card_ranks(hand)\n",
        "\n",
        "  # check if the card ranks are unique\n",
        "  # by adding them to a set\n",
        "  # if the len of set is not 5 then it is not a straight\n",
        "  # and\n",
        "  # if the max - min of the ranks is not 4\n",
        "  # it is not a straight\n",
        "  if len(set(ranks)) == 5 and (max(ranks) - min(ranks) == 4):\n",
        "    return True \n",
        "  return False\n",
        "\n",
        "def straight_test():\n",
        "  assert straight(\"AS TS 3S 4S 8S\") == False\n",
        "  assert straight(\"2S 3S 4S 5S 6S\") == True\n",
        "  assert straight(\"AS TS QS JS KS\") == True\n",
        "  assert straight(\"AS 3S 4S 5S 6S\") == False\n",
        "  # add more tests to check for correctness\n",
        "  print(\"all tests passed!\")\n",
        "\n",
        "straight_test()"
      ],
      "execution_count": null,
      "outputs": [
        {
          "output_type": "stream",
          "text": [
            "[14]\n",
            "[14, 10]\n",
            "[14, 10, 3]\n",
            "[14, 10, 4, 3]\n",
            "[14, 10, 8, 4, 3]\n"
          ],
          "name": "stdout"
        },
        {
          "output_type": "error",
          "ename": "TypeError",
          "evalue": "ignored",
          "traceback": [
            "\u001b[0;31m---------------------------------------------------------------------------\u001b[0m",
            "\u001b[0;31mTypeError\u001b[0m                                 Traceback (most recent call last)",
            "\u001b[0;32m<ipython-input-11-b6e68c2f1068>\u001b[0m in \u001b[0;36m<module>\u001b[0;34m()\u001b[0m\n\u001b[1;32m     22\u001b[0m   \u001b[0mprint\u001b[0m\u001b[0;34m(\u001b[0m\u001b[0;34m\"all tests passed!\"\u001b[0m\u001b[0;34m)\u001b[0m\u001b[0;34m\u001b[0m\u001b[0;34m\u001b[0m\u001b[0m\n\u001b[1;32m     23\u001b[0m \u001b[0;34m\u001b[0m\u001b[0m\n\u001b[0;32m---> 24\u001b[0;31m \u001b[0mstraight_test\u001b[0m\u001b[0;34m(\u001b[0m\u001b[0;34m)\u001b[0m\u001b[0;34m\u001b[0m\u001b[0;34m\u001b[0m\u001b[0m\n\u001b[0m",
            "\u001b[0;32m<ipython-input-11-b6e68c2f1068>\u001b[0m in \u001b[0;36mstraight_test\u001b[0;34m()\u001b[0m\n\u001b[1;32m     15\u001b[0m \u001b[0;34m\u001b[0m\u001b[0m\n\u001b[1;32m     16\u001b[0m \u001b[0;32mdef\u001b[0m \u001b[0mstraight_test\u001b[0m\u001b[0;34m(\u001b[0m\u001b[0;34m)\u001b[0m\u001b[0;34m:\u001b[0m\u001b[0;34m\u001b[0m\u001b[0;34m\u001b[0m\u001b[0m\n\u001b[0;32m---> 17\u001b[0;31m   \u001b[0;32massert\u001b[0m \u001b[0mstraight\u001b[0m\u001b[0;34m(\u001b[0m\u001b[0;34m\"AS TS 3S 4S 8S\"\u001b[0m\u001b[0;34m)\u001b[0m \u001b[0;34m==\u001b[0m \u001b[0;32mFalse\u001b[0m\u001b[0;34m\u001b[0m\u001b[0;34m\u001b[0m\u001b[0m\n\u001b[0m\u001b[1;32m     18\u001b[0m   \u001b[0;32massert\u001b[0m \u001b[0mstraight\u001b[0m\u001b[0;34m(\u001b[0m\u001b[0;34m\"2S 3S 4S 5S 6S\"\u001b[0m\u001b[0;34m)\u001b[0m \u001b[0;34m==\u001b[0m \u001b[0;32mTrue\u001b[0m\u001b[0;34m\u001b[0m\u001b[0;34m\u001b[0m\u001b[0m\n\u001b[1;32m     19\u001b[0m   \u001b[0;32massert\u001b[0m \u001b[0mstraight\u001b[0m\u001b[0;34m(\u001b[0m\u001b[0;34m\"AS TS QS JS KS\"\u001b[0m\u001b[0;34m)\u001b[0m \u001b[0;34m==\u001b[0m \u001b[0;32mTrue\u001b[0m\u001b[0;34m\u001b[0m\u001b[0;34m\u001b[0m\u001b[0m\n",
            "\u001b[0;32m<ipython-input-11-b6e68c2f1068>\u001b[0m in \u001b[0;36mstraight\u001b[0;34m(hand)\u001b[0m\n\u001b[1;32m     10\u001b[0m   \u001b[0;31m# if the max - min of the ranks is not 4\u001b[0m\u001b[0;34m\u001b[0m\u001b[0;34m\u001b[0m\u001b[0;34m\u001b[0m\u001b[0m\n\u001b[1;32m     11\u001b[0m   \u001b[0;31m# it is not a straight\u001b[0m\u001b[0;34m\u001b[0m\u001b[0;34m\u001b[0m\u001b[0;34m\u001b[0m\u001b[0m\n\u001b[0;32m---> 12\u001b[0;31m   \u001b[0;32mif\u001b[0m \u001b[0mlen\u001b[0m\u001b[0;34m(\u001b[0m\u001b[0mset\u001b[0m\u001b[0;34m(\u001b[0m\u001b[0mranks\u001b[0m\u001b[0;34m)\u001b[0m\u001b[0;34m)\u001b[0m \u001b[0;34m==\u001b[0m \u001b[0;36m5\u001b[0m \u001b[0;32mand\u001b[0m \u001b[0;34m(\u001b[0m\u001b[0mmax\u001b[0m\u001b[0;34m(\u001b[0m\u001b[0mranks\u001b[0m\u001b[0;34m)\u001b[0m \u001b[0;34m-\u001b[0m \u001b[0mmin\u001b[0m\u001b[0;34m(\u001b[0m\u001b[0mranks\u001b[0m\u001b[0;34m)\u001b[0m \u001b[0;34m==\u001b[0m \u001b[0;36m4\u001b[0m\u001b[0;34m)\u001b[0m\u001b[0;34m:\u001b[0m\u001b[0;34m\u001b[0m\u001b[0;34m\u001b[0m\u001b[0m\n\u001b[0m\u001b[1;32m     13\u001b[0m     \u001b[0;32mreturn\u001b[0m \u001b[0;32mTrue\u001b[0m\u001b[0;34m\u001b[0m\u001b[0;34m\u001b[0m\u001b[0m\n\u001b[1;32m     14\u001b[0m   \u001b[0;32mreturn\u001b[0m \u001b[0;32mFalse\u001b[0m\u001b[0;34m\u001b[0m\u001b[0;34m\u001b[0m\u001b[0m\n",
            "\u001b[0;31mTypeError\u001b[0m: 'NoneType' object is not iterable"
          ]
        }
      ]
    },
    {
      "cell_type": "code",
      "metadata": {
        "colab": {
          "base_uri": "https://localhost:8080/",
          "height": 430
        },
        "id": "gDIkrtULFLQ8",
        "outputId": "bd0b4c82-ec94-441e-9f6c-a91b7741cfa7"
      },
      "source": [
        "def kind(hand, n):\n",
        "  ranks = card_ranks(hand)\n",
        "  for rank in ranks:\n",
        "    if ranks.count(rank) == n:\n",
        "      return True\n",
        "  return False \n",
        "\n",
        "def kind_test():\n",
        "  assert kind(\"KH KD KS QH JD\", 3) == True\n",
        "  assert kind(\"KH KD KS QH JD\", 4) == False\n",
        "  assert kind(\"KH KD KS KC JH\", 4) == True\n",
        "  assert kind(\"2C 2H 3S 4D 5H\", 2) == True\n",
        "  assert kind(\"2C 2H 2S 4D 5H\", 2) == False\n",
        "  print(\"all tests passed\")\n",
        "\n",
        "kind_test()"
      ],
      "execution_count": null,
      "outputs": [
        {
          "output_type": "stream",
          "text": [
            "[13]\n",
            "[13, 13]\n",
            "[13, 13, 13]\n",
            "[13, 13, 13, 12]\n",
            "[13, 13, 13, 12, 11]\n"
          ],
          "name": "stdout"
        },
        {
          "output_type": "error",
          "ename": "TypeError",
          "evalue": "ignored",
          "traceback": [
            "\u001b[0;31m---------------------------------------------------------------------------\u001b[0m",
            "\u001b[0;31mTypeError\u001b[0m                                 Traceback (most recent call last)",
            "\u001b[0;32m<ipython-input-12-2e7baf878618>\u001b[0m in \u001b[0;36m<module>\u001b[0;34m()\u001b[0m\n\u001b[1;32m     14\u001b[0m   \u001b[0mprint\u001b[0m\u001b[0;34m(\u001b[0m\u001b[0;34m\"all tests passed\"\u001b[0m\u001b[0;34m)\u001b[0m\u001b[0;34m\u001b[0m\u001b[0;34m\u001b[0m\u001b[0m\n\u001b[1;32m     15\u001b[0m \u001b[0;34m\u001b[0m\u001b[0m\n\u001b[0;32m---> 16\u001b[0;31m \u001b[0mkind_test\u001b[0m\u001b[0;34m(\u001b[0m\u001b[0;34m)\u001b[0m\u001b[0;34m\u001b[0m\u001b[0;34m\u001b[0m\u001b[0m\n\u001b[0m",
            "\u001b[0;32m<ipython-input-12-2e7baf878618>\u001b[0m in \u001b[0;36mkind_test\u001b[0;34m()\u001b[0m\n\u001b[1;32m      7\u001b[0m \u001b[0;34m\u001b[0m\u001b[0m\n\u001b[1;32m      8\u001b[0m \u001b[0;32mdef\u001b[0m \u001b[0mkind_test\u001b[0m\u001b[0;34m(\u001b[0m\u001b[0;34m)\u001b[0m\u001b[0;34m:\u001b[0m\u001b[0;34m\u001b[0m\u001b[0;34m\u001b[0m\u001b[0m\n\u001b[0;32m----> 9\u001b[0;31m   \u001b[0;32massert\u001b[0m \u001b[0mkind\u001b[0m\u001b[0;34m(\u001b[0m\u001b[0;34m\"KH KD KS QH JD\"\u001b[0m\u001b[0;34m,\u001b[0m \u001b[0;36m3\u001b[0m\u001b[0;34m)\u001b[0m \u001b[0;34m==\u001b[0m \u001b[0;32mTrue\u001b[0m\u001b[0;34m\u001b[0m\u001b[0;34m\u001b[0m\u001b[0m\n\u001b[0m\u001b[1;32m     10\u001b[0m   \u001b[0;32massert\u001b[0m \u001b[0mkind\u001b[0m\u001b[0;34m(\u001b[0m\u001b[0;34m\"KH KD KS QH JD\"\u001b[0m\u001b[0;34m,\u001b[0m \u001b[0;36m4\u001b[0m\u001b[0;34m)\u001b[0m \u001b[0;34m==\u001b[0m \u001b[0;32mFalse\u001b[0m\u001b[0;34m\u001b[0m\u001b[0;34m\u001b[0m\u001b[0m\n\u001b[1;32m     11\u001b[0m   \u001b[0;32massert\u001b[0m \u001b[0mkind\u001b[0m\u001b[0;34m(\u001b[0m\u001b[0;34m\"KH KD KS KC JH\"\u001b[0m\u001b[0;34m,\u001b[0m \u001b[0;36m4\u001b[0m\u001b[0;34m)\u001b[0m \u001b[0;34m==\u001b[0m \u001b[0;32mTrue\u001b[0m\u001b[0;34m\u001b[0m\u001b[0;34m\u001b[0m\u001b[0m\n",
            "\u001b[0;32m<ipython-input-12-2e7baf878618>\u001b[0m in \u001b[0;36mkind\u001b[0;34m(hand, n)\u001b[0m\n\u001b[1;32m      1\u001b[0m \u001b[0;32mdef\u001b[0m \u001b[0mkind\u001b[0m\u001b[0;34m(\u001b[0m\u001b[0mhand\u001b[0m\u001b[0;34m,\u001b[0m \u001b[0mn\u001b[0m\u001b[0;34m)\u001b[0m\u001b[0;34m:\u001b[0m\u001b[0;34m\u001b[0m\u001b[0;34m\u001b[0m\u001b[0m\n\u001b[1;32m      2\u001b[0m   \u001b[0mranks\u001b[0m \u001b[0;34m=\u001b[0m \u001b[0mcard_ranks\u001b[0m\u001b[0;34m(\u001b[0m\u001b[0mhand\u001b[0m\u001b[0;34m)\u001b[0m\u001b[0;34m\u001b[0m\u001b[0;34m\u001b[0m\u001b[0m\n\u001b[0;32m----> 3\u001b[0;31m   \u001b[0;32mfor\u001b[0m \u001b[0mrank\u001b[0m \u001b[0;32min\u001b[0m \u001b[0mranks\u001b[0m\u001b[0;34m:\u001b[0m\u001b[0;34m\u001b[0m\u001b[0;34m\u001b[0m\u001b[0m\n\u001b[0m\u001b[1;32m      4\u001b[0m     \u001b[0;32mif\u001b[0m \u001b[0mranks\u001b[0m\u001b[0;34m.\u001b[0m\u001b[0mcount\u001b[0m\u001b[0;34m(\u001b[0m\u001b[0mrank\u001b[0m\u001b[0;34m)\u001b[0m \u001b[0;34m==\u001b[0m \u001b[0mn\u001b[0m\u001b[0;34m:\u001b[0m\u001b[0;34m\u001b[0m\u001b[0;34m\u001b[0m\u001b[0m\n\u001b[1;32m      5\u001b[0m       \u001b[0;32mreturn\u001b[0m \u001b[0;32mTrue\u001b[0m\u001b[0;34m\u001b[0m\u001b[0;34m\u001b[0m\u001b[0m\n",
            "\u001b[0;31mTypeError\u001b[0m: 'NoneType' object is not iterable"
          ]
        }
      ]
    },
    {
      "cell_type": "code",
      "metadata": {
        "id": "rvM9ZKSDFvLy",
        "colab": {
          "base_uri": "https://localhost:8080/",
          "height": 430
        },
        "outputId": "92b1e845-8008-4659-a597-0d7fc8d0e8dd"
      },
      "source": [
        "# function to return the rank of the hand \n",
        "def hand_rank(hand): # to evaluate the ranks of hands #Pseudo Code\n",
        "  ''' \n",
        "   if hand is straight and hand is flush\n",
        "  '''\n",
        "  if straight(hand) and flush(hand):\n",
        "    return 9\n",
        "  elif kind(hand, 4):\n",
        "    return 8\n",
        "  elif kind(hand, 3) and kind(hand, 2):\n",
        "    return 7\n",
        "  elif flush(hand):\n",
        "    return 6\n",
        "  elif straight(hand):\n",
        "    return 5\n",
        "  elif kind(hand, 3):\n",
        "    return 4\n",
        "  elif kind(hand, 2):\n",
        "    return 2\n",
        "\n",
        "  return -1\n",
        "\n",
        "def hand_rank_test():\n",
        "  sf = \"2S 3S 4S 5S 6S\"\n",
        "  s = \"AS TS QS KH JD\"\n",
        "  f = \"TD AD 4D 8D 9D\"\n",
        "  k4 = \"KH KD KS KC JD\"\n",
        "  k3 = \"KH KD KS TC JD\"\n",
        "  k2 = \"KH KD 8S TC JD\"\n",
        "\n",
        "  assert hand_rank(sf) == 9\n",
        "  assert hand_rank(f) == 6\n",
        "  assert hand_rank(s) == 5\n",
        "  assert hand_rank(k4) == 8\n",
        "  assert hand_rank(k3) == 4\n",
        "  assert hand_rank(k2) == 2\n",
        "  print(\"all tests passed!\")\n",
        "\n",
        "hand_rank_test()\n"
      ],
      "execution_count": null,
      "outputs": [
        {
          "output_type": "stream",
          "text": [
            "[2]\n",
            "[3, 2]\n",
            "[4, 3, 2]\n",
            "[5, 4, 3, 2]\n",
            "[6, 5, 4, 3, 2]\n"
          ],
          "name": "stdout"
        },
        {
          "output_type": "error",
          "ename": "TypeError",
          "evalue": "ignored",
          "traceback": [
            "\u001b[0;31m---------------------------------------------------------------------------\u001b[0m",
            "\u001b[0;31mTypeError\u001b[0m                                 Traceback (most recent call last)",
            "\u001b[0;32m<ipython-input-13-641e065ddbdf>\u001b[0m in \u001b[0;36m<module>\u001b[0;34m()\u001b[0m\n\u001b[1;32m     37\u001b[0m   \u001b[0mprint\u001b[0m\u001b[0;34m(\u001b[0m\u001b[0;34m\"all tests passed!\"\u001b[0m\u001b[0;34m)\u001b[0m\u001b[0;34m\u001b[0m\u001b[0;34m\u001b[0m\u001b[0m\n\u001b[1;32m     38\u001b[0m \u001b[0;34m\u001b[0m\u001b[0m\n\u001b[0;32m---> 39\u001b[0;31m \u001b[0mhand_rank_test\u001b[0m\u001b[0;34m(\u001b[0m\u001b[0;34m)\u001b[0m\u001b[0;34m\u001b[0m\u001b[0;34m\u001b[0m\u001b[0m\n\u001b[0m",
            "\u001b[0;32m<ipython-input-13-641e065ddbdf>\u001b[0m in \u001b[0;36mhand_rank_test\u001b[0;34m()\u001b[0m\n\u001b[1;32m     29\u001b[0m   \u001b[0mk2\u001b[0m \u001b[0;34m=\u001b[0m \u001b[0;34m\"KH KD 8S TC JD\"\u001b[0m\u001b[0;34m\u001b[0m\u001b[0;34m\u001b[0m\u001b[0m\n\u001b[1;32m     30\u001b[0m \u001b[0;34m\u001b[0m\u001b[0m\n\u001b[0;32m---> 31\u001b[0;31m   \u001b[0;32massert\u001b[0m \u001b[0mhand_rank\u001b[0m\u001b[0;34m(\u001b[0m\u001b[0msf\u001b[0m\u001b[0;34m)\u001b[0m \u001b[0;34m==\u001b[0m \u001b[0;36m9\u001b[0m\u001b[0;34m\u001b[0m\u001b[0;34m\u001b[0m\u001b[0m\n\u001b[0m\u001b[1;32m     32\u001b[0m   \u001b[0;32massert\u001b[0m \u001b[0mhand_rank\u001b[0m\u001b[0;34m(\u001b[0m\u001b[0mf\u001b[0m\u001b[0;34m)\u001b[0m \u001b[0;34m==\u001b[0m \u001b[0;36m6\u001b[0m\u001b[0;34m\u001b[0m\u001b[0;34m\u001b[0m\u001b[0m\n\u001b[1;32m     33\u001b[0m   \u001b[0;32massert\u001b[0m \u001b[0mhand_rank\u001b[0m\u001b[0;34m(\u001b[0m\u001b[0ms\u001b[0m\u001b[0;34m)\u001b[0m \u001b[0;34m==\u001b[0m \u001b[0;36m5\u001b[0m\u001b[0;34m\u001b[0m\u001b[0;34m\u001b[0m\u001b[0m\n",
            "\u001b[0;32m<ipython-input-13-641e065ddbdf>\u001b[0m in \u001b[0;36mhand_rank\u001b[0;34m(hand)\u001b[0m\n\u001b[1;32m      4\u001b[0m    \u001b[0;32mif\u001b[0m \u001b[0mhand\u001b[0m \u001b[0;32mis\u001b[0m \u001b[0mstraight\u001b[0m \u001b[0;32mand\u001b[0m \u001b[0mhand\u001b[0m \u001b[0;32mis\u001b[0m \u001b[0mflush\u001b[0m\u001b[0;34m\u001b[0m\u001b[0;34m\u001b[0m\u001b[0m\n\u001b[1;32m      5\u001b[0m   '''\n\u001b[0;32m----> 6\u001b[0;31m   \u001b[0;32mif\u001b[0m \u001b[0mstraight\u001b[0m\u001b[0;34m(\u001b[0m\u001b[0mhand\u001b[0m\u001b[0;34m)\u001b[0m \u001b[0;32mand\u001b[0m \u001b[0mflush\u001b[0m\u001b[0;34m(\u001b[0m\u001b[0mhand\u001b[0m\u001b[0;34m)\u001b[0m\u001b[0;34m:\u001b[0m\u001b[0;34m\u001b[0m\u001b[0;34m\u001b[0m\u001b[0m\n\u001b[0m\u001b[1;32m      7\u001b[0m     \u001b[0;32mreturn\u001b[0m \u001b[0;36m9\u001b[0m\u001b[0;34m\u001b[0m\u001b[0;34m\u001b[0m\u001b[0m\n\u001b[1;32m      8\u001b[0m   \u001b[0;32melif\u001b[0m \u001b[0mkind\u001b[0m\u001b[0;34m(\u001b[0m\u001b[0mhand\u001b[0m\u001b[0;34m,\u001b[0m \u001b[0;36m4\u001b[0m\u001b[0;34m)\u001b[0m\u001b[0;34m:\u001b[0m\u001b[0;34m\u001b[0m\u001b[0;34m\u001b[0m\u001b[0m\n",
            "\u001b[0;32m<ipython-input-11-b6e68c2f1068>\u001b[0m in \u001b[0;36mstraight\u001b[0;34m(hand)\u001b[0m\n\u001b[1;32m     10\u001b[0m   \u001b[0;31m# if the max - min of the ranks is not 4\u001b[0m\u001b[0;34m\u001b[0m\u001b[0;34m\u001b[0m\u001b[0;34m\u001b[0m\u001b[0m\n\u001b[1;32m     11\u001b[0m   \u001b[0;31m# it is not a straight\u001b[0m\u001b[0;34m\u001b[0m\u001b[0;34m\u001b[0m\u001b[0;34m\u001b[0m\u001b[0m\n\u001b[0;32m---> 12\u001b[0;31m   \u001b[0;32mif\u001b[0m \u001b[0mlen\u001b[0m\u001b[0;34m(\u001b[0m\u001b[0mset\u001b[0m\u001b[0;34m(\u001b[0m\u001b[0mranks\u001b[0m\u001b[0;34m)\u001b[0m\u001b[0;34m)\u001b[0m \u001b[0;34m==\u001b[0m \u001b[0;36m5\u001b[0m \u001b[0;32mand\u001b[0m \u001b[0;34m(\u001b[0m\u001b[0mmax\u001b[0m\u001b[0;34m(\u001b[0m\u001b[0mranks\u001b[0m\u001b[0;34m)\u001b[0m \u001b[0;34m-\u001b[0m \u001b[0mmin\u001b[0m\u001b[0;34m(\u001b[0m\u001b[0mranks\u001b[0m\u001b[0;34m)\u001b[0m \u001b[0;34m==\u001b[0m \u001b[0;36m4\u001b[0m\u001b[0;34m)\u001b[0m\u001b[0;34m:\u001b[0m\u001b[0;34m\u001b[0m\u001b[0;34m\u001b[0m\u001b[0m\n\u001b[0m\u001b[1;32m     13\u001b[0m     \u001b[0;32mreturn\u001b[0m \u001b[0;32mTrue\u001b[0m\u001b[0;34m\u001b[0m\u001b[0;34m\u001b[0m\u001b[0m\n\u001b[1;32m     14\u001b[0m   \u001b[0;32mreturn\u001b[0m \u001b[0;32mFalse\u001b[0m\u001b[0;34m\u001b[0m\u001b[0;34m\u001b[0m\u001b[0m\n",
            "\u001b[0;31mTypeError\u001b[0m: 'NoneType' object is not iterable"
          ]
        }
      ]
    },
    {
      "cell_type": "code",
      "metadata": {
        "id": "EBM9AwZcUwwj"
      },
      "source": [
        "# function to evaluate poker hands\n",
        "def poker(hands):\n",
        "  print(hands)\n",
        "  winner = max(hands, key=hand_rank)\n",
        "  return winner "
      ],
      "execution_count": null,
      "outputs": []
    },
    {
      "cell_type": "code",
      "metadata": {
        "colab": {
          "base_uri": "https://localhost:8080/"
        },
        "id": "SuvHpYaqzvBA",
        "outputId": "1bc23d40-dc40-48fb-a5d9-d526f8dbbc07"
      },
      "source": [
        "def flush_test():\n",
        "  #print(flush(\"AH TH 3H 4H 8H\"))\n",
        "  #print(flush(\"AH TH 3H 4H 8D\"))\n",
        "  assert flush(\"AH TH 3H 4H 8H\") == True\n",
        "  assert flush(\"AH TH 3H 4H 8D\") == False\n",
        "  assert flush(\"AS TS 3S 4S 8S\") == True\n",
        "  assert flush(\"AS TS 3H 4S 8S\") == False \n",
        "\n",
        "  print(\"all tests passed!\")\n",
        "\n",
        "flush_test()"
      ],
      "execution_count": null,
      "outputs": [
        {
          "output_type": "stream",
          "text": [
            "all tests passed!\n"
          ],
          "name": "stdout"
        }
      ]
    },
    {
      "cell_type": "code",
      "metadata": {
        "colab": {
          "base_uri": "https://localhost:8080/"
        },
        "id": "RIFXZotHx4er",
        "outputId": "359aab8e-204b-402b-e7ca-3cdb1ae40c98"
      },
      "source": [
        "#example of set data structure\n",
        "# to solve the flush function\n",
        "\n",
        "s = set([1,2,3,4,5,1,2,4,5]) # set removes all the duplicates\n",
        "print(s)\n",
        "\n",
        "s = set(['H', 'H', 'H', 'H', 'H'])\n",
        "print(s)\n",
        "print(len(s))\n",
        "\n",
        "s = set(['H', 'H', 'H', 'D', 'D'])\n",
        "print(s)\n",
        "print(len(s))\n",
        "\n",
        "s = set()\n",
        "print(s)\n",
        "s.add('H')\n",
        "print(s)\n",
        "s.add('D')\n",
        "print(s)\n",
        "s.add('C')\n",
        "print(s)\n",
        "s.add('S')\n",
        "print(s)\n",
        "s.add('H')\n",
        "print(s)\n",
        "s.add('H')\n",
        "print(s)"
      ],
      "execution_count": null,
      "outputs": [
        {
          "output_type": "stream",
          "text": [
            "{1, 2, 3, 4, 5}\n",
            "{'H'}\n",
            "1\n",
            "{'H', 'D'}\n",
            "2\n",
            "set()\n",
            "{'H'}\n",
            "{'H', 'D'}\n",
            "{'H', 'C', 'D'}\n",
            "{'H', 'C', 'S', 'D'}\n",
            "{'H', 'C', 'S', 'D'}\n",
            "{'H', 'C', 'S', 'D'}\n"
          ],
          "name": "stdout"
        }
      ]
    },
    {
      "cell_type": "code",
      "metadata": {
        "colab": {
          "base_uri": "https://localhost:8080/",
          "height": 344
        },
        "id": "DgICoMWuF01O",
        "outputId": "3a6c680c-7350-4a86-8dbc-95b3e1478075"
      },
      "source": [
        "def poker_test():\n",
        "  h1 = \"TH JH QH KH AH\" # string representation\n",
        "  h2 = \"3D 3S 4H 8C AS\"\n",
        "  h3 = \"7D 2S 4H 8C AS\"\n",
        "  h4 = \"7D 2S 4H 8C AS\"\n",
        "\n",
        "  assert poker([h1, h2, h3]) == h1  # winning hands\n",
        "  assert poker([h2, h3]) == h2\n",
        "  assert poker([h3, h4]) == h4\n",
        "\n",
        "  # add more tests for the poker function\n",
        "\n",
        "  print(\"all tests passed!\")\n",
        "\n",
        "poker_test()"
      ],
      "execution_count": null,
      "outputs": [
        {
          "output_type": "stream",
          "text": [
            "['TH JH QH KH AH', '3D 3S 4H 8C AS', '7D 2S 4H 8C AS']\n"
          ],
          "name": "stdout"
        },
        {
          "output_type": "error",
          "ename": "NameError",
          "evalue": "ignored",
          "traceback": [
            "\u001b[0;31m---------------------------------------------------------------------------\u001b[0m",
            "\u001b[0;31mNameError\u001b[0m                                 Traceback (most recent call last)",
            "\u001b[0;32m<ipython-input-5-dc7cffee6a96>\u001b[0m in \u001b[0;36m<module>\u001b[0;34m()\u001b[0m\n\u001b[1;32m     13\u001b[0m   \u001b[0mprint\u001b[0m\u001b[0;34m(\u001b[0m\u001b[0;34m\"all tests passed!\"\u001b[0m\u001b[0;34m)\u001b[0m\u001b[0;34m\u001b[0m\u001b[0;34m\u001b[0m\u001b[0m\n\u001b[1;32m     14\u001b[0m \u001b[0;34m\u001b[0m\u001b[0m\n\u001b[0;32m---> 15\u001b[0;31m \u001b[0mpoker_test\u001b[0m\u001b[0;34m(\u001b[0m\u001b[0;34m)\u001b[0m\u001b[0;34m\u001b[0m\u001b[0;34m\u001b[0m\u001b[0m\n\u001b[0m",
            "\u001b[0;32m<ipython-input-5-dc7cffee6a96>\u001b[0m in \u001b[0;36mpoker_test\u001b[0;34m()\u001b[0m\n\u001b[1;32m      5\u001b[0m   \u001b[0mh4\u001b[0m \u001b[0;34m=\u001b[0m \u001b[0;34m\"7D 2S 4H 8C AS\"\u001b[0m\u001b[0;34m\u001b[0m\u001b[0;34m\u001b[0m\u001b[0m\n\u001b[1;32m      6\u001b[0m \u001b[0;34m\u001b[0m\u001b[0m\n\u001b[0;32m----> 7\u001b[0;31m   \u001b[0;32massert\u001b[0m \u001b[0mpoker\u001b[0m\u001b[0;34m(\u001b[0m\u001b[0;34m[\u001b[0m\u001b[0mh1\u001b[0m\u001b[0;34m,\u001b[0m \u001b[0mh2\u001b[0m\u001b[0;34m,\u001b[0m \u001b[0mh3\u001b[0m\u001b[0;34m]\u001b[0m\u001b[0;34m)\u001b[0m \u001b[0;34m==\u001b[0m \u001b[0mh1\u001b[0m  \u001b[0;31m# winning hands\u001b[0m\u001b[0;34m\u001b[0m\u001b[0;34m\u001b[0m\u001b[0m\n\u001b[0m\u001b[1;32m      8\u001b[0m   \u001b[0;32massert\u001b[0m \u001b[0mpoker\u001b[0m\u001b[0;34m(\u001b[0m\u001b[0;34m[\u001b[0m\u001b[0mh2\u001b[0m\u001b[0;34m,\u001b[0m \u001b[0mh3\u001b[0m\u001b[0;34m]\u001b[0m\u001b[0;34m)\u001b[0m \u001b[0;34m==\u001b[0m \u001b[0mh2\u001b[0m\u001b[0;34m\u001b[0m\u001b[0;34m\u001b[0m\u001b[0m\n\u001b[1;32m      9\u001b[0m   \u001b[0;32massert\u001b[0m \u001b[0mpoker\u001b[0m\u001b[0;34m(\u001b[0m\u001b[0;34m[\u001b[0m\u001b[0mh3\u001b[0m\u001b[0;34m,\u001b[0m \u001b[0mh4\u001b[0m\u001b[0;34m]\u001b[0m\u001b[0;34m)\u001b[0m \u001b[0;34m==\u001b[0m \u001b[0mh4\u001b[0m\u001b[0;34m\u001b[0m\u001b[0;34m\u001b[0m\u001b[0m\n",
            "\u001b[0;32m<ipython-input-4-87ff714a2a8b>\u001b[0m in \u001b[0;36mpoker\u001b[0;34m(hands)\u001b[0m\n\u001b[1;32m      2\u001b[0m \u001b[0;32mdef\u001b[0m \u001b[0mpoker\u001b[0m\u001b[0;34m(\u001b[0m\u001b[0mhands\u001b[0m\u001b[0;34m)\u001b[0m\u001b[0;34m:\u001b[0m\u001b[0;34m\u001b[0m\u001b[0;34m\u001b[0m\u001b[0m\n\u001b[1;32m      3\u001b[0m   \u001b[0mprint\u001b[0m\u001b[0;34m(\u001b[0m\u001b[0mhands\u001b[0m\u001b[0;34m)\u001b[0m\u001b[0;34m\u001b[0m\u001b[0;34m\u001b[0m\u001b[0m\n\u001b[0;32m----> 4\u001b[0;31m   \u001b[0mwinner\u001b[0m \u001b[0;34m=\u001b[0m \u001b[0mmax\u001b[0m\u001b[0;34m(\u001b[0m\u001b[0mhands\u001b[0m\u001b[0;34m,\u001b[0m \u001b[0mkey\u001b[0m\u001b[0;34m=\u001b[0m\u001b[0mhand_rank\u001b[0m\u001b[0;34m)\u001b[0m\u001b[0;34m\u001b[0m\u001b[0;34m\u001b[0m\u001b[0m\n\u001b[0m\u001b[1;32m      5\u001b[0m   \u001b[0;32mreturn\u001b[0m \u001b[0mwinner\u001b[0m\u001b[0;34m\u001b[0m\u001b[0;34m\u001b[0m\u001b[0m\n",
            "\u001b[0;31mNameError\u001b[0m: name 'hand_rank' is not defined"
          ]
        }
      ]
    },
    {
      "cell_type": "markdown",
      "metadata": {
        "id": "_JxE94qEqtSU"
      },
      "source": [
        "## Example to understand max function"
      ]
    },
    {
      "cell_type": "code",
      "metadata": {
        "colab": {
          "base_uri": "https://localhost:8080/",
          "height": 35
        },
        "id": "y-clJDtpM-1D",
        "outputId": "59474854-b231-430d-a939-4fdcd6052b01"
      },
      "source": [
        "# this example is to understand the benefit of the key in max\n",
        "# a function to count the characters in a string \n",
        "def char_count(s):\n",
        "  return len(s)\n",
        "\n",
        "# return the string that has the max length\n",
        "max([\"abc\", \"defg\", \"x\", \"pq\"], key=char_count)"
      ],
      "execution_count": null,
      "outputs": [
        {
          "output_type": "execute_result",
          "data": {
            "application/vnd.google.colaboratory.intrinsic+json": {
              "type": "string"
            },
            "text/plain": [
              "'defg'"
            ]
          },
          "metadata": {
            "tags": []
          },
          "execution_count": 17
        }
      ]
    },
    {
      "cell_type": "markdown",
      "metadata": {
        "id": "v0bIKtsepK6H"
      },
      "source": [
        "## Data Visualization July 13, 2021\n"
      ]
    },
    {
      "cell_type": "code",
      "metadata": {
        "id": "VeAHuh7EHNWW"
      },
      "source": [
        "import matplotlib.pyplot as plt\n"
      ],
      "execution_count": null,
      "outputs": []
    },
    {
      "cell_type": "code",
      "metadata": {
        "colab": {
          "base_uri": "https://localhost:8080/",
          "height": 282
        },
        "id": "SyLefpTlHXVL",
        "outputId": "82968e9c-021d-4346-8b2d-e333afb1ee79"
      },
      "source": [
        "plt.plot([1,2,3,4],[1,4,9,16])"
      ],
      "execution_count": null,
      "outputs": [
        {
          "output_type": "execute_result",
          "data": {
            "text/plain": [
              "[<matplotlib.lines.Line2D at 0x7fecc91cbbd0>]"
            ]
          },
          "metadata": {
            "tags": []
          },
          "execution_count": 5
        },
        {
          "output_type": "display_data",
          "data": {
            "image/png": "[encoded data removed]",
            "text/plain": [
              "<Figure size 432x288 with 1 Axes>"
            ]
          },
          "metadata": {
            "tags": [],
            "needs_background": "light"
          }
        }
      ]
    },
    {
      "cell_type": "code",
      "metadata": {
        "colab": {
          "base_uri": "https://localhost:8080/",
          "height": 282
        },
        "id": "pqU95GrZIJ0X",
        "outputId": "953b9307-f5a3-440f-9c1b-b187a594072a"
      },
      "source": [
        "x = [i for i in range(1,200)]\n",
        "y = [i*i for i in range(1,200)]\n",
        "plt.plot(x,y)"
      ],
      "execution_count": null,
      "outputs": [
        {
          "output_type": "execute_result",
          "data": {
            "text/plain": [
              "[<matplotlib.lines.Line2D at 0x7fecc8e93e10>]"
            ]
          },
          "metadata": {
            "tags": []
          },
          "execution_count": 13
        },
        {
          "output_type": "display_data",
          "data": {
            "image/png": "[encoded data removed]",
            "text/plain": [
              "<Figure size 432x288 with 1 Axes>"
            ]
          },
          "metadata": {
            "tags": [],
            "needs_background": "light"
          }
        }
      ]
    },
    {
      "cell_type": "code",
      "metadata": {
        "colab": {
          "base_uri": "https://localhost:8080/",
          "height": 447
        },
        "id": "U4vMg5lsJtCa",
        "outputId": "76aeb467-09de-4576-a0d8-17036ec4bfa9"
      },
      "source": [
        "import pandas as pd\n",
        "\n",
        "data_file = \"/content/scores.csv\" #add data path inside\n",
        "df = pd.read_csv(data_file)\n",
        "df['Scores M']"
      ],
      "execution_count": null,
      "outputs": [
        {
          "output_type": "error",
          "ename": "FileNotFoundError",
          "evalue": "ignored",
          "traceback": [
            "\u001b[0;31m---------------------------------------------------------------------------\u001b[0m",
            "\u001b[0;31mFileNotFoundError\u001b[0m                         Traceback (most recent call last)",
            "\u001b[0;32m<ipython-input-9-1484a2b39dd7>\u001b[0m in \u001b[0;36m<module>\u001b[0;34m()\u001b[0m\n\u001b[1;32m      2\u001b[0m \u001b[0;34m\u001b[0m\u001b[0m\n\u001b[1;32m      3\u001b[0m \u001b[0mdata_file\u001b[0m \u001b[0;34m=\u001b[0m \u001b[0;34m\"/content/scores.csv\"\u001b[0m \u001b[0;31m#add data path inside\u001b[0m\u001b[0;34m\u001b[0m\u001b[0;34m\u001b[0m\u001b[0m\n\u001b[0;32m----> 4\u001b[0;31m \u001b[0mdf\u001b[0m \u001b[0;34m=\u001b[0m \u001b[0mpd\u001b[0m\u001b[0;34m.\u001b[0m\u001b[0mread_csv\u001b[0m\u001b[0;34m(\u001b[0m\u001b[0mdata_file\u001b[0m\u001b[0;34m)\u001b[0m\u001b[0;34m\u001b[0m\u001b[0;34m\u001b[0m\u001b[0m\n\u001b[0m\u001b[1;32m      5\u001b[0m \u001b[0mdf\u001b[0m\u001b[0;34m[\u001b[0m\u001b[0;34m'Scores M'\u001b[0m\u001b[0;34m]\u001b[0m\u001b[0;34m\u001b[0m\u001b[0;34m\u001b[0m\u001b[0m\n",
            "\u001b[0;32m/usr/local/lib/python3.7/dist-packages/pandas/io/parsers.py\u001b[0m in \u001b[0;36mread_csv\u001b[0;34m(filepath_or_buffer, sep, delimiter, header, names, index_col, usecols, squeeze, prefix, mangle_dupe_cols, dtype, engine, converters, true_values, false_values, skipinitialspace, skiprows, skipfooter, nrows, na_values, keep_default_na, na_filter, verbose, skip_blank_lines, parse_dates, infer_datetime_format, keep_date_col, date_parser, dayfirst, cache_dates, iterator, chunksize, compression, thousands, decimal, lineterminator, quotechar, quoting, doublequote, escapechar, comment, encoding, dialect, error_bad_lines, warn_bad_lines, delim_whitespace, low_memory, memory_map, float_precision)\u001b[0m\n\u001b[1;32m    686\u001b[0m     )\n\u001b[1;32m    687\u001b[0m \u001b[0;34m\u001b[0m\u001b[0m\n\u001b[0;32m--> 688\u001b[0;31m     \u001b[0;32mreturn\u001b[0m \u001b[0m_read\u001b[0m\u001b[0;34m(\u001b[0m\u001b[0mfilepath_or_buffer\u001b[0m\u001b[0;34m,\u001b[0m \u001b[0mkwds\u001b[0m\u001b[0;34m)\u001b[0m\u001b[0;34m\u001b[0m\u001b[0;34m\u001b[0m\u001b[0m\n\u001b[0m\u001b[1;32m    689\u001b[0m \u001b[0;34m\u001b[0m\u001b[0m\n\u001b[1;32m    690\u001b[0m \u001b[0;34m\u001b[0m\u001b[0m\n",
            "\u001b[0;32m/usr/local/lib/python3.7/dist-packages/pandas/io/parsers.py\u001b[0m in \u001b[0;36m_read\u001b[0;34m(filepath_or_buffer, kwds)\u001b[0m\n\u001b[1;32m    452\u001b[0m \u001b[0;34m\u001b[0m\u001b[0m\n\u001b[1;32m    453\u001b[0m     \u001b[0;31m# Create the parser.\u001b[0m\u001b[0;34m\u001b[0m\u001b[0;34m\u001b[0m\u001b[0;34m\u001b[0m\u001b[0m\n\u001b[0;32m--> 454\u001b[0;31m     \u001b[0mparser\u001b[0m \u001b[0;34m=\u001b[0m \u001b[0mTextFileReader\u001b[0m\u001b[0;34m(\u001b[0m\u001b[0mfp_or_buf\u001b[0m\u001b[0;34m,\u001b[0m \u001b[0;34m**\u001b[0m\u001b[0mkwds\u001b[0m\u001b[0;34m)\u001b[0m\u001b[0;34m\u001b[0m\u001b[0;34m\u001b[0m\u001b[0m\n\u001b[0m\u001b[1;32m    455\u001b[0m \u001b[0;34m\u001b[0m\u001b[0m\n\u001b[1;32m    456\u001b[0m     \u001b[0;32mif\u001b[0m \u001b[0mchunksize\u001b[0m \u001b[0;32mor\u001b[0m \u001b[0miterator\u001b[0m\u001b[0;34m:\u001b[0m\u001b[0;34m\u001b[0m\u001b[0;34m\u001b[0m\u001b[0m\n",
            "\u001b[0;32m/usr/local/lib/python3.7/dist-packages/pandas/io/parsers.py\u001b[0m in \u001b[0;36m__init__\u001b[0;34m(self, f, engine, **kwds)\u001b[0m\n\u001b[1;32m    946\u001b[0m             \u001b[0mself\u001b[0m\u001b[0;34m.\u001b[0m\u001b[0moptions\u001b[0m\u001b[0;34m[\u001b[0m\u001b[0;34m\"has_index_names\"\u001b[0m\u001b[0;34m]\u001b[0m \u001b[0;34m=\u001b[0m \u001b[0mkwds\u001b[0m\u001b[0;34m[\u001b[0m\u001b[0;34m\"has_index_names\"\u001b[0m\u001b[0;34m]\u001b[0m\u001b[0;34m\u001b[0m\u001b[0;34m\u001b[0m\u001b[0m\n\u001b[1;32m    947\u001b[0m \u001b[0;34m\u001b[0m\u001b[0m\n\u001b[0;32m--> 948\u001b[0;31m         \u001b[0mself\u001b[0m\u001b[0;34m.\u001b[0m\u001b[0m_make_engine\u001b[0m\u001b[0;34m(\u001b[0m\u001b[0mself\u001b[0m\u001b[0;34m.\u001b[0m\u001b[0mengine\u001b[0m\u001b[0;34m)\u001b[0m\u001b[0;34m\u001b[0m\u001b[0;34m\u001b[0m\u001b[0m\n\u001b[0m\u001b[1;32m    949\u001b[0m \u001b[0;34m\u001b[0m\u001b[0m\n\u001b[1;32m    950\u001b[0m     \u001b[0;32mdef\u001b[0m \u001b[0mclose\u001b[0m\u001b[0;34m(\u001b[0m\u001b[0mself\u001b[0m\u001b[0;34m)\u001b[0m\u001b[0;34m:\u001b[0m\u001b[0;34m\u001b[0m\u001b[0;34m\u001b[0m\u001b[0m\n",
            "\u001b[0;32m/usr/local/lib/python3.7/dist-packages/pandas/io/parsers.py\u001b[0m in \u001b[0;36m_make_engine\u001b[0;34m(self, engine)\u001b[0m\n\u001b[1;32m   1178\u001b[0m     \u001b[0;32mdef\u001b[0m \u001b[0m_make_engine\u001b[0m\u001b[0;34m(\u001b[0m\u001b[0mself\u001b[0m\u001b[0;34m,\u001b[0m \u001b[0mengine\u001b[0m\u001b[0;34m=\u001b[0m\u001b[0;34m\"c\"\u001b[0m\u001b[0;34m)\u001b[0m\u001b[0;34m:\u001b[0m\u001b[0;34m\u001b[0m\u001b[0;34m\u001b[0m\u001b[0m\n\u001b[1;32m   1179\u001b[0m         \u001b[0;32mif\u001b[0m \u001b[0mengine\u001b[0m \u001b[0;34m==\u001b[0m \u001b[0;34m\"c\"\u001b[0m\u001b[0;34m:\u001b[0m\u001b[0;34m\u001b[0m\u001b[0;34m\u001b[0m\u001b[0m\n\u001b[0;32m-> 1180\u001b[0;31m             \u001b[0mself\u001b[0m\u001b[0;34m.\u001b[0m\u001b[0m_engine\u001b[0m \u001b[0;34m=\u001b[0m \u001b[0mCParserWrapper\u001b[0m\u001b[0;34m(\u001b[0m\u001b[0mself\u001b[0m\u001b[0;34m.\u001b[0m\u001b[0mf\u001b[0m\u001b[0;34m,\u001b[0m \u001b[0;34m**\u001b[0m\u001b[0mself\u001b[0m\u001b[0;34m.\u001b[0m\u001b[0moptions\u001b[0m\u001b[0;34m)\u001b[0m\u001b[0;34m\u001b[0m\u001b[0;34m\u001b[0m\u001b[0m\n\u001b[0m\u001b[1;32m   1181\u001b[0m         \u001b[0;32melse\u001b[0m\u001b[0;34m:\u001b[0m\u001b[0;34m\u001b[0m\u001b[0;34m\u001b[0m\u001b[0m\n\u001b[1;32m   1182\u001b[0m             \u001b[0;32mif\u001b[0m \u001b[0mengine\u001b[0m \u001b[0;34m==\u001b[0m \u001b[0;34m\"python\"\u001b[0m\u001b[0;34m:\u001b[0m\u001b[0;34m\u001b[0m\u001b[0;34m\u001b[0m\u001b[0m\n",
            "\u001b[0;32m/usr/local/lib/python3.7/dist-packages/pandas/io/parsers.py\u001b[0m in \u001b[0;36m__init__\u001b[0;34m(self, src, **kwds)\u001b[0m\n\u001b[1;32m   2008\u001b[0m         \u001b[0mkwds\u001b[0m\u001b[0;34m[\u001b[0m\u001b[0;34m\"usecols\"\u001b[0m\u001b[0;34m]\u001b[0m \u001b[0;34m=\u001b[0m \u001b[0mself\u001b[0m\u001b[0;34m.\u001b[0m\u001b[0musecols\u001b[0m\u001b[0;34m\u001b[0m\u001b[0;34m\u001b[0m\u001b[0m\n\u001b[1;32m   2009\u001b[0m \u001b[0;34m\u001b[0m\u001b[0m\n\u001b[0;32m-> 2010\u001b[0;31m         \u001b[0mself\u001b[0m\u001b[0;34m.\u001b[0m\u001b[0m_reader\u001b[0m \u001b[0;34m=\u001b[0m \u001b[0mparsers\u001b[0m\u001b[0;34m.\u001b[0m\u001b[0mTextReader\u001b[0m\u001b[0;34m(\u001b[0m\u001b[0msrc\u001b[0m\u001b[0;34m,\u001b[0m \u001b[0;34m**\u001b[0m\u001b[0mkwds\u001b[0m\u001b[0;34m)\u001b[0m\u001b[0;34m\u001b[0m\u001b[0;34m\u001b[0m\u001b[0m\n\u001b[0m\u001b[1;32m   2011\u001b[0m         \u001b[0mself\u001b[0m\u001b[0;34m.\u001b[0m\u001b[0munnamed_cols\u001b[0m \u001b[0;34m=\u001b[0m \u001b[0mself\u001b[0m\u001b[0;34m.\u001b[0m\u001b[0m_reader\u001b[0m\u001b[0;34m.\u001b[0m\u001b[0munnamed_cols\u001b[0m\u001b[0;34m\u001b[0m\u001b[0;34m\u001b[0m\u001b[0m\n\u001b[1;32m   2012\u001b[0m \u001b[0;34m\u001b[0m\u001b[0m\n",
            "\u001b[0;32mpandas/_libs/parsers.pyx\u001b[0m in \u001b[0;36mpandas._libs.parsers.TextReader.__cinit__\u001b[0;34m()\u001b[0m\n",
            "\u001b[0;32mpandas/_libs/parsers.pyx\u001b[0m in \u001b[0;36mpandas._libs.parsers.TextReader._setup_parser_source\u001b[0;34m()\u001b[0m\n",
            "\u001b[0;31mFileNotFoundError\u001b[0m: [Errno 2] No such file or directory: '/content/scores.csv'"
          ]
        }
      ]
    },
    {
      "cell_type": "code",
      "metadata": {
        "colab": {
          "base_uri": "https://localhost:8080/",
          "height": 199
        },
        "id": "0kIdnku6Ko4V",
        "outputId": "501fc007-f5b0-40a3-c50d-0bc4a8f8a2a1"
      },
      "source": [
        "x = df['Student ID']\n",
        "y = df['Scores M']\n",
        "plt.xlabel(\"Student ID\")\n",
        "plt.ylabel(\"Scores Math\")\n",
        "plt.plot(x,y)"
      ],
      "execution_count": null,
      "outputs": [
        {
          "output_type": "error",
          "ename": "NameError",
          "evalue": "ignored",
          "traceback": [
            "\u001b[0;31m---------------------------------------------------------------------------\u001b[0m",
            "\u001b[0;31mNameError\u001b[0m                                 Traceback (most recent call last)",
            "\u001b[0;32m<ipython-input-10-d3361186c824>\u001b[0m in \u001b[0;36m<module>\u001b[0;34m()\u001b[0m\n\u001b[0;32m----> 1\u001b[0;31m \u001b[0mx\u001b[0m \u001b[0;34m=\u001b[0m \u001b[0mdf\u001b[0m\u001b[0;34m[\u001b[0m\u001b[0;34m'Student ID'\u001b[0m\u001b[0;34m]\u001b[0m\u001b[0;34m\u001b[0m\u001b[0;34m\u001b[0m\u001b[0m\n\u001b[0m\u001b[1;32m      2\u001b[0m \u001b[0my\u001b[0m \u001b[0;34m=\u001b[0m \u001b[0mdf\u001b[0m\u001b[0;34m[\u001b[0m\u001b[0;34m'Scores M'\u001b[0m\u001b[0;34m]\u001b[0m\u001b[0;34m\u001b[0m\u001b[0;34m\u001b[0m\u001b[0m\n\u001b[1;32m      3\u001b[0m \u001b[0mplt\u001b[0m\u001b[0;34m.\u001b[0m\u001b[0mplot\u001b[0m\u001b[0;34m(\u001b[0m\u001b[0mx\u001b[0m\u001b[0;34m,\u001b[0m\u001b[0my\u001b[0m\u001b[0;34m)\u001b[0m\u001b[0;34m\u001b[0m\u001b[0;34m\u001b[0m\u001b[0m\n",
            "\u001b[0;31mNameError\u001b[0m: name 'df' is not defined"
          ]
        }
      ]
    },
    {
      "cell_type": "code",
      "metadata": {
        "id": "CkBBUtYGMw_W"
      },
      "source": [
        "x = df['Scores M']\n",
        "y = df['Scores E']\n",
        "\n",
        "data = {\n",
        "    'a':X,\n",
        "    'b':Y\n",
        "}\n",
        "plt.scatter('a','b', data=data)\n",
        "plt.xlable(\"Math Scores\")\n",
        "plt.ylabel(\"English Scores\")"
      ],
      "execution_count": null,
      "outputs": []
    },
    {
      "cell_type": "markdown",
      "metadata": {
        "id": "qgYtpat_vPeC"
      },
      "source": [
        "July 20, 2021 Class Exercises (Spam Filter)"
      ]
    },
    {
      "cell_type": "markdown",
      "metadata": {
        "id": "jGGsV3co6grk"
      },
      "source": [
        "step 1: Load the data and explore"
      ]
    },
    {
      "cell_type": "code",
      "metadata": {
        "colab": {
          "base_uri": "https://localhost:8080/",
          "height": 205
        },
        "id": "WTydHncLvOOq",
        "outputId": "13b4dba0-9592-4884-e141-e2fe8814c391"
      },
      "source": [
        "#step 1: Load the data and explore\n",
        "import pandas as pd\n",
        "file = \"/content/SMSSpamCollection\"\n",
        "\n",
        "data = pd.read_csv(file, sep=\"\\t\", header=None, names=['label', 'sms'])\n",
        "data.head()\n",
        "#data.describe()"
      ],
      "execution_count": 6,
      "outputs": [
        {
          "output_type": "execute_result",
          "data": {
            "text/html": [
              "<div>\n",
              "<style scoped>\n",
              "    .dataframe tbody tr th:only-of-type {\n",
              "        vertical-align: middle;\n",
              "    }\n",
              "\n",
              "    .dataframe tbody tr th {\n",
              "        vertical-align: top;\n",
              "    }\n",
              "\n",
              "    .dataframe thead th {\n",
              "        text-align: right;\n",
              "    }\n",
              "</style>\n",
              "<table border=\"1\" class=\"dataframe\">\n",
              "  <thead>\n",
              "    <tr style=\"text-align: right;\">\n",
              "      <th></th>\n",
              "      <th>label</th>\n",
              "      <th>sms</th>\n",
              "    </tr>\n",
              "  </thead>\n",
              "  <tbody>\n",
              "    <tr>\n",
              "      <th>0</th>\n",
              "      <td>ham</td>\n",
              "      <td>Go until jurong point, crazy.. Available only ...</td>\n",
              "    </tr>\n",
              "    <tr>\n",
              "      <th>1</th>\n",
              "      <td>ham</td>\n",
              "      <td>Ok lar... Joking wif u oni...</td>\n",
              "    </tr>\n",
              "    <tr>\n",
              "      <th>2</th>\n",
              "      <td>spam</td>\n",
              "      <td>Free entry in 2 a wkly comp to win FA Cup fina...</td>\n",
              "    </tr>\n",
              "    <tr>\n",
              "      <th>3</th>\n",
              "      <td>ham</td>\n",
              "      <td>U dun say so early hor... U c already then say...</td>\n",
              "    </tr>\n",
              "    <tr>\n",
              "      <th>4</th>\n",
              "      <td>ham</td>\n",
              "      <td>Nah I don't think he goes to usf, he lives aro...</td>\n",
              "    </tr>\n",
              "  </tbody>\n",
              "</table>\n",
              "</div>"
            ],
            "text/plain": [
              "  label                                                sms\n",
              "0   ham  Go until jurong point, crazy.. Available only ...\n",
              "1   ham                      Ok lar... Joking wif u oni...\n",
              "2  spam  Free entry in 2 a wkly comp to win FA Cup fina...\n",
              "3   ham  U dun say so early hor... U c already then say...\n",
              "4   ham  Nah I don't think he goes to usf, he lives aro..."
            ]
          },
          "metadata": {
            "tags": []
          },
          "execution_count": 6
        }
      ]
    },
    {
      "cell_type": "markdown",
      "metadata": {
        "id": "g141DGEx6cg9"
      },
      "source": [
        "step 2: pre-processing"
      ]
    },
    {
      "cell_type": "code",
      "metadata": {
        "colab": {
          "base_uri": "https://localhost:8080/"
        },
        "id": "rbg_ePNa5kYL",
        "outputId": "490ad1e8-3736-485d-ee14-31b7d34d872e"
      },
      "source": [
        "import string\n",
        "string.punctuation\n",
        "\n",
        "import nltk\n",
        "nltk.download('stopwords')\n",
        "stopwords = nltk.corpus.stopwords.words('english')\n",
        "stopwords[:10]\n",
        "len(stopwords)"
      ],
      "execution_count": 20,
      "outputs": [
        {
          "output_type": "stream",
          "text": [
            "[nltk_data] Downloading package stopwords to /root/nltk_data...\n",
            "[nltk_data]   Package stopwords is already up-to-date!\n"
          ],
          "name": "stdout"
        },
        {
          "output_type": "execute_result",
          "data": {
            "text/plain": [
              "179"
            ]
          },
          "metadata": {
            "tags": []
          },
          "execution_count": 20
        }
      ]
    },
    {
      "cell_type": "code",
      "metadata": {
        "colab": {
          "base_uri": "https://localhost:8080/",
          "height": 456
        },
        "id": "x55nyQIe1KvK",
        "outputId": "e8a5fbf9-5576-48d5-d520-d41352d90268"
      },
      "source": [
        "#step 2: Pre-processing\n",
        "def pre_process(sms):\n",
        "  clean_sms = sms\n",
        "\n",
        "  # lower case\n",
        "  clean_sms = clean_sms.lower()\n",
        "\n",
        "  # remove punctuations\n",
        "  result = \"\"\n",
        "  for ch in clean_sms:\n",
        "    if ch in string.punctuation:\n",
        "      pass\n",
        "    else: \n",
        "      result += ch #append to the result \n",
        "  clean_sms = result \n",
        "\n",
        "  # remove stop words\n",
        "  words = clean_sms.split(\" \")\n",
        "  result =\"\"\n",
        "  for w in words:\n",
        "    if w in stopwords:\n",
        "      pass\n",
        "    else:\n",
        "      result += w + \" \"\n",
        "  clean_sms = result \n",
        "\n",
        "  return clean_sms\n",
        "\n",
        "# apply the pre processing to the data frame\n",
        "data['processed'] = data['sms'].apply(lambda x: pre_process(x))\n",
        "data"
      ],
      "execution_count": 22,
      "outputs": [
        {
          "output_type": "execute_result",
          "data": {
            "text/html": [
              "<div>\n",
              "<style scoped>\n",
              "    .dataframe tbody tr th:only-of-type {\n",
              "        vertical-align: middle;\n",
              "    }\n",
              "\n",
              "    .dataframe tbody tr th {\n",
              "        vertical-align: top;\n",
              "    }\n",
              "\n",
              "    .dataframe thead th {\n",
              "        text-align: right;\n",
              "    }\n",
              "</style>\n",
              "<table border=\"1\" class=\"dataframe\">\n",
              "  <thead>\n",
              "    <tr style=\"text-align: right;\">\n",
              "      <th></th>\n",
              "      <th>label</th>\n",
              "      <th>sms</th>\n",
              "      <th>processed</th>\n",
              "    </tr>\n",
              "  </thead>\n",
              "  <tbody>\n",
              "    <tr>\n",
              "      <th>0</th>\n",
              "      <td>ham</td>\n",
              "      <td>Go until jurong point, crazy.. Available only ...</td>\n",
              "      <td>go jurong point crazy available bugis n great ...</td>\n",
              "    </tr>\n",
              "    <tr>\n",
              "      <th>1</th>\n",
              "      <td>ham</td>\n",
              "      <td>Ok lar... Joking wif u oni...</td>\n",
              "      <td>ok lar joking wif u oni</td>\n",
              "    </tr>\n",
              "    <tr>\n",
              "      <th>2</th>\n",
              "      <td>spam</td>\n",
              "      <td>Free entry in 2 a wkly comp to win FA Cup fina...</td>\n",
              "      <td>free entry 2 wkly comp win fa cup final tkts 2...</td>\n",
              "    </tr>\n",
              "    <tr>\n",
              "      <th>3</th>\n",
              "      <td>ham</td>\n",
              "      <td>U dun say so early hor... U c already then say...</td>\n",
              "      <td>u dun say early hor u c already say</td>\n",
              "    </tr>\n",
              "    <tr>\n",
              "      <th>4</th>\n",
              "      <td>ham</td>\n",
              "      <td>Nah I don't think he goes to usf, he lives aro...</td>\n",
              "      <td>nah dont think goes usf lives around though</td>\n",
              "    </tr>\n",
              "    <tr>\n",
              "      <th>...</th>\n",
              "      <td>...</td>\n",
              "      <td>...</td>\n",
              "      <td>...</td>\n",
              "    </tr>\n",
              "    <tr>\n",
              "      <th>5567</th>\n",
              "      <td>spam</td>\n",
              "      <td>This is the 2nd time we have tried 2 contact u...</td>\n",
              "      <td>2nd time tried 2 contact u u £750 pound prize ...</td>\n",
              "    </tr>\n",
              "    <tr>\n",
              "      <th>5568</th>\n",
              "      <td>ham</td>\n",
              "      <td>Will ü b going to esplanade fr home?</td>\n",
              "      <td>ü b going esplanade fr home</td>\n",
              "    </tr>\n",
              "    <tr>\n",
              "      <th>5569</th>\n",
              "      <td>ham</td>\n",
              "      <td>Pity, * was in mood for that. So...any other s...</td>\n",
              "      <td>pity  mood soany suggestions</td>\n",
              "    </tr>\n",
              "    <tr>\n",
              "      <th>5570</th>\n",
              "      <td>ham</td>\n",
              "      <td>The guy did some bitching but I acted like i'd...</td>\n",
              "      <td>guy bitching acted like id interested buying s...</td>\n",
              "    </tr>\n",
              "    <tr>\n",
              "      <th>5571</th>\n",
              "      <td>ham</td>\n",
              "      <td>Rofl. Its true to its name</td>\n",
              "      <td>rofl true name</td>\n",
              "    </tr>\n",
              "  </tbody>\n",
              "</table>\n",
              "<p>5572 rows × 3 columns</p>\n",
              "</div>"
            ],
            "text/plain": [
              "     label  ...                                          processed\n",
              "0      ham  ...  go jurong point crazy available bugis n great ...\n",
              "1      ham  ...                           ok lar joking wif u oni \n",
              "2     spam  ...  free entry 2 wkly comp win fa cup final tkts 2...\n",
              "3      ham  ...               u dun say early hor u c already say \n",
              "4      ham  ...       nah dont think goes usf lives around though \n",
              "...    ...  ...                                                ...\n",
              "5567  spam  ...  2nd time tried 2 contact u u £750 pound prize ...\n",
              "5568   ham  ...                       ü b going esplanade fr home \n",
              "5569   ham  ...                      pity  mood soany suggestions \n",
              "5570   ham  ...  guy bitching acted like id interested buying s...\n",
              "5571   ham  ...                                    rofl true name \n",
              "\n",
              "[5572 rows x 3 columns]"
            ]
          },
          "metadata": {
            "tags": []
          },
          "execution_count": 22
        }
      ]
    },
    {
      "cell_type": "code",
      "metadata": {
        "colab": {
          "base_uri": "https://localhost:8080/"
        },
        "id": "Mns3rraLDOlf",
        "outputId": "07590204-2429-457e-8a5f-fe54ec533b06"
      },
      "source": [
        "#words = ['apple', 'bat', 'bat', 'bat']\n",
        "words = stopwords\n",
        "\n",
        "word_counts = {}\n",
        "\n",
        "for w in words:\n",
        " if w in word_counts:\n",
        "  word_counts[w] += 1\n",
        " else:\n",
        "   word_counts[w] = 1\n",
        "\n",
        "word_counts"
      ],
      "execution_count": 24,
      "outputs": [
        {
          "output_type": "execute_result",
          "data": {
            "text/plain": [
              "{'a': 1,\n",
              " 'about': 1,\n",
              " 'above': 1,\n",
              " 'after': 1,\n",
              " 'again': 1,\n",
              " 'against': 1,\n",
              " 'ain': 1,\n",
              " 'all': 1,\n",
              " 'am': 1,\n",
              " 'an': 1,\n",
              " 'and': 1,\n",
              " 'any': 1,\n",
              " 'are': 1,\n",
              " 'aren': 1,\n",
              " \"aren't\": 1,\n",
              " 'as': 1,\n",
              " 'at': 1,\n",
              " 'be': 1,\n",
              " 'because': 1,\n",
              " 'been': 1,\n",
              " 'before': 1,\n",
              " 'being': 1,\n",
              " 'below': 1,\n",
              " 'between': 1,\n",
              " 'both': 1,\n",
              " 'but': 1,\n",
              " 'by': 1,\n",
              " 'can': 1,\n",
              " 'couldn': 1,\n",
              " \"couldn't\": 1,\n",
              " 'd': 1,\n",
              " 'did': 1,\n",
              " 'didn': 1,\n",
              " \"didn't\": 1,\n",
              " 'do': 1,\n",
              " 'does': 1,\n",
              " 'doesn': 1,\n",
              " \"doesn't\": 1,\n",
              " 'doing': 1,\n",
              " 'don': 1,\n",
              " \"don't\": 1,\n",
              " 'down': 1,\n",
              " 'during': 1,\n",
              " 'each': 1,\n",
              " 'few': 1,\n",
              " 'for': 1,\n",
              " 'from': 1,\n",
              " 'further': 1,\n",
              " 'had': 1,\n",
              " 'hadn': 1,\n",
              " \"hadn't\": 1,\n",
              " 'has': 1,\n",
              " 'hasn': 1,\n",
              " \"hasn't\": 1,\n",
              " 'have': 1,\n",
              " 'haven': 1,\n",
              " \"haven't\": 1,\n",
              " 'having': 1,\n",
              " 'he': 1,\n",
              " 'her': 1,\n",
              " 'here': 1,\n",
              " 'hers': 1,\n",
              " 'herself': 1,\n",
              " 'him': 1,\n",
              " 'himself': 1,\n",
              " 'his': 1,\n",
              " 'how': 1,\n",
              " 'i': 1,\n",
              " 'if': 1,\n",
              " 'in': 1,\n",
              " 'into': 1,\n",
              " 'is': 1,\n",
              " 'isn': 1,\n",
              " \"isn't\": 1,\n",
              " 'it': 1,\n",
              " \"it's\": 1,\n",
              " 'its': 1,\n",
              " 'itself': 1,\n",
              " 'just': 1,\n",
              " 'll': 1,\n",
              " 'm': 1,\n",
              " 'ma': 1,\n",
              " 'me': 1,\n",
              " 'mightn': 1,\n",
              " \"mightn't\": 1,\n",
              " 'more': 1,\n",
              " 'most': 1,\n",
              " 'mustn': 1,\n",
              " \"mustn't\": 1,\n",
              " 'my': 1,\n",
              " 'myself': 1,\n",
              " 'needn': 1,\n",
              " \"needn't\": 1,\n",
              " 'no': 1,\n",
              " 'nor': 1,\n",
              " 'not': 1,\n",
              " 'now': 1,\n",
              " 'o': 1,\n",
              " 'of': 1,\n",
              " 'off': 1,\n",
              " 'on': 1,\n",
              " 'once': 1,\n",
              " 'only': 1,\n",
              " 'or': 1,\n",
              " 'other': 1,\n",
              " 'our': 1,\n",
              " 'ours': 1,\n",
              " 'ourselves': 1,\n",
              " 'out': 1,\n",
              " 'over': 1,\n",
              " 'own': 1,\n",
              " 're': 1,\n",
              " 's': 1,\n",
              " 'same': 1,\n",
              " 'shan': 1,\n",
              " \"shan't\": 1,\n",
              " 'she': 1,\n",
              " \"she's\": 1,\n",
              " 'should': 1,\n",
              " \"should've\": 1,\n",
              " 'shouldn': 1,\n",
              " \"shouldn't\": 1,\n",
              " 'so': 1,\n",
              " 'some': 1,\n",
              " 'such': 1,\n",
              " 't': 1,\n",
              " 'than': 1,\n",
              " 'that': 1,\n",
              " \"that'll\": 1,\n",
              " 'the': 1,\n",
              " 'their': 1,\n",
              " 'theirs': 1,\n",
              " 'them': 1,\n",
              " 'themselves': 1,\n",
              " 'then': 1,\n",
              " 'there': 1,\n",
              " 'these': 1,\n",
              " 'they': 1,\n",
              " 'this': 1,\n",
              " 'those': 1,\n",
              " 'through': 1,\n",
              " 'to': 1,\n",
              " 'too': 1,\n",
              " 'under': 1,\n",
              " 'until': 1,\n",
              " 'up': 1,\n",
              " 've': 1,\n",
              " 'very': 1,\n",
              " 'was': 1,\n",
              " 'wasn': 1,\n",
              " \"wasn't\": 1,\n",
              " 'we': 1,\n",
              " 'were': 1,\n",
              " 'weren': 1,\n",
              " \"weren't\": 1,\n",
              " 'what': 1,\n",
              " 'when': 1,\n",
              " 'where': 1,\n",
              " 'which': 1,\n",
              " 'while': 1,\n",
              " 'who': 1,\n",
              " 'whom': 1,\n",
              " 'why': 1,\n",
              " 'will': 1,\n",
              " 'with': 1,\n",
              " 'won': 1,\n",
              " \"won't\": 1,\n",
              " 'wouldn': 1,\n",
              " \"wouldn't\": 1,\n",
              " 'y': 1,\n",
              " 'you': 1,\n",
              " \"you'd\": 1,\n",
              " \"you'll\": 1,\n",
              " \"you're\": 1,\n",
              " \"you've\": 1,\n",
              " 'your': 1,\n",
              " 'yours': 1,\n",
              " 'yourself': 1,\n",
              " 'yourselves': 1}"
            ]
          },
          "metadata": {
            "tags": []
          },
          "execution_count": 24
        }
      ]
    },
    {
      "cell_type": "markdown",
      "metadata": {
        "id": "qh-tDx1YHGO0"
      },
      "source": [
        "step 3: Categorize and count the words"
      ]
    },
    {
      "cell_type": "code",
      "metadata": {
        "colab": {
          "base_uri": "https://localhost:8080/"
        },
        "id": "5k1EMpJBHAfp",
        "outputId": "337697a4-da2c-4106-8e9b-246d3793b92d"
      },
      "source": [
        "def categorize_words():\n",
        "  spam_words = []\n",
        "  ham_words = []\n",
        "\n",
        "  for sms in data['processed'][data['label'] == 'spam']:\n",
        "    for word in sms.split():\n",
        "      spam_words.append(word)\n",
        "\n",
        "  for sms in data['processed'][data['label'] == 'ham']:\n",
        "    for word in sms.split():\n",
        "      ham_words.append(word)\n",
        "\n",
        "  return spam_words, ham_words\n",
        "\n",
        "spam_words, ham_words = categorize_words()\n",
        "\n",
        "#ham_words"
      ],
      "execution_count": 30,
      "outputs": [
        {
          "output_type": "execute_result",
          "data": {
            "text/plain": [
              "['go',\n",
              " 'jurong',\n",
              " 'point',\n",
              " 'crazy',\n",
              " 'available',\n",
              " 'bugis',\n",
              " 'n',\n",
              " 'great',\n",
              " 'world',\n",
              " 'la',\n",
              " 'e',\n",
              " 'buffet',\n",
              " 'cine',\n",
              " 'got',\n",
              " 'amore',\n",
              " 'wat',\n",
              " 'ok',\n",
              " 'lar',\n",
              " 'joking',\n",
              " 'wif',\n",
              " 'u',\n",
              " 'oni',\n",
              " 'u',\n",
              " 'dun',\n",
              " 'say',\n",
              " 'early',\n",
              " 'hor',\n",
              " 'u',\n",
              " 'c',\n",
              " 'already',\n",
              " 'say',\n",
              " 'nah',\n",
              " 'dont',\n",
              " 'think',\n",
              " 'goes',\n",
              " 'usf',\n",
              " 'lives',\n",
              " 'around',\n",
              " 'though',\n",
              " 'even',\n",
              " 'brother',\n",
              " 'like',\n",
              " 'speak',\n",
              " 'treat',\n",
              " 'like',\n",
              " 'aids',\n",
              " 'patent',\n",
              " 'per',\n",
              " 'request',\n",
              " 'melle',\n",
              " 'melle',\n",
              " 'oru',\n",
              " 'minnaminunginte',\n",
              " 'nurungu',\n",
              " 'vettam',\n",
              " 'set',\n",
              " 'callertune',\n",
              " 'callers',\n",
              " 'press',\n",
              " '9',\n",
              " 'copy',\n",
              " 'friends',\n",
              " 'callertune',\n",
              " 'im',\n",
              " 'gonna',\n",
              " 'home',\n",
              " 'soon',\n",
              " 'dont',\n",
              " 'want',\n",
              " 'talk',\n",
              " 'stuff',\n",
              " 'anymore',\n",
              " 'tonight',\n",
              " 'k',\n",
              " 'ive',\n",
              " 'cried',\n",
              " 'enough',\n",
              " 'today',\n",
              " 'ive',\n",
              " 'searching',\n",
              " 'right',\n",
              " 'words',\n",
              " 'thank',\n",
              " 'breather',\n",
              " 'promise',\n",
              " 'wont',\n",
              " 'take',\n",
              " 'help',\n",
              " 'granted',\n",
              " 'fulfil',\n",
              " 'promise',\n",
              " 'wonderful',\n",
              " 'blessing',\n",
              " 'times',\n",
              " 'date',\n",
              " 'sunday',\n",
              " 'oh',\n",
              " 'kim',\n",
              " 'watching',\n",
              " 'eh',\n",
              " 'u',\n",
              " 'remember',\n",
              " '2',\n",
              " 'spell',\n",
              " 'name',\n",
              " 'yes',\n",
              " 'v',\n",
              " 'naughty',\n",
              " 'make',\n",
              " 'v',\n",
              " 'wet',\n",
              " 'fine',\n",
              " 'that\\x92s',\n",
              " 'way',\n",
              " 'u',\n",
              " 'feel',\n",
              " 'that\\x92s',\n",
              " 'way',\n",
              " 'gota',\n",
              " 'b',\n",
              " 'seriously',\n",
              " 'spell',\n",
              " 'name',\n",
              " 'i‘m',\n",
              " 'going',\n",
              " 'try',\n",
              " '2',\n",
              " 'months',\n",
              " 'ha',\n",
              " 'ha',\n",
              " 'joking',\n",
              " 'ü',\n",
              " 'pay',\n",
              " 'first',\n",
              " 'lar',\n",
              " 'da',\n",
              " 'stock',\n",
              " 'comin',\n",
              " 'aft',\n",
              " 'finish',\n",
              " 'lunch',\n",
              " 'go',\n",
              " 'str',\n",
              " 'lor',\n",
              " 'ard',\n",
              " '3',\n",
              " 'smth',\n",
              " 'lor',\n",
              " 'u',\n",
              " 'finish',\n",
              " 'ur',\n",
              " 'lunch',\n",
              " 'already',\n",
              " 'ffffffffff',\n",
              " 'alright',\n",
              " 'way',\n",
              " 'meet',\n",
              " 'sooner',\n",
              " 'forced',\n",
              " 'eat',\n",
              " 'slice',\n",
              " 'im',\n",
              " 'really',\n",
              " 'hungry',\n",
              " 'tho',\n",
              " 'sucks',\n",
              " 'mark',\n",
              " 'getting',\n",
              " 'worried',\n",
              " 'knows',\n",
              " 'im',\n",
              " 'sick',\n",
              " 'turn',\n",
              " 'pizza',\n",
              " 'lol',\n",
              " 'lol',\n",
              " 'always',\n",
              " 'convincing',\n",
              " 'catch',\n",
              " 'bus',\n",
              " 'frying',\n",
              " 'egg',\n",
              " 'make',\n",
              " 'tea',\n",
              " 'eating',\n",
              " 'moms',\n",
              " 'left',\n",
              " 'dinner',\n",
              " 'feel',\n",
              " 'love',\n",
              " 'im',\n",
              " 'back',\n",
              " 'amp',\n",
              " 'packing',\n",
              " 'car',\n",
              " 'ill',\n",
              " 'let',\n",
              " 'know',\n",
              " 'theres',\n",
              " 'room',\n",
              " 'ahhh',\n",
              " 'work',\n",
              " 'vaguely',\n",
              " 'remember',\n",
              " 'feel',\n",
              " 'like',\n",
              " 'lol',\n",
              " 'wait',\n",
              " 'thats',\n",
              " 'still',\n",
              " 'clear',\n",
              " 'sure',\n",
              " 'sarcastic',\n",
              " 'thats',\n",
              " 'x',\n",
              " 'doesnt',\n",
              " 'want',\n",
              " 'live',\n",
              " 'us',\n",
              " 'yeah',\n",
              " 'got',\n",
              " '2',\n",
              " 'v',\n",
              " 'apologetic',\n",
              " 'n',\n",
              " 'fallen',\n",
              " 'actin',\n",
              " 'like',\n",
              " 'spoilt',\n",
              " 'child',\n",
              " 'got',\n",
              " 'caught',\n",
              " 'till',\n",
              " '2',\n",
              " 'wont',\n",
              " 'go',\n",
              " 'badly',\n",
              " 'cheers',\n",
              " 'k',\n",
              " 'tell',\n",
              " 'anything',\n",
              " 'fear',\n",
              " 'fainting',\n",
              " 'housework',\n",
              " 'quick',\n",
              " 'cuppa',\n",
              " 'yup',\n",
              " 'ok',\n",
              " 'go',\n",
              " 'home',\n",
              " 'look',\n",
              " 'timings',\n",
              " 'msg',\n",
              " 'ü',\n",
              " 'xuhui',\n",
              " 'going',\n",
              " 'learn',\n",
              " '2nd',\n",
              " 'may',\n",
              " 'lesson',\n",
              " '8am',\n",
              " 'oops',\n",
              " 'ill',\n",
              " 'let',\n",
              " 'know',\n",
              " 'roommates',\n",
              " 'done',\n",
              " 'see',\n",
              " 'letter',\n",
              " 'b',\n",
              " 'car',\n",
              " 'anything',\n",
              " 'lor',\n",
              " 'u',\n",
              " 'decide',\n",
              " 'hello',\n",
              " 'hows',\n",
              " 'saturday',\n",
              " 'go',\n",
              " 'texting',\n",
              " 'see',\n",
              " 'youd',\n",
              " 'decided',\n",
              " 'anything',\n",
              " 'tomo',\n",
              " 'im',\n",
              " 'trying',\n",
              " 'invite',\n",
              " 'anything',\n",
              " 'pls',\n",
              " 'go',\n",
              " 'ahead',\n",
              " 'watts',\n",
              " 'wanted',\n",
              " 'sure',\n",
              " 'great',\n",
              " 'weekend',\n",
              " 'abiola',\n",
              " 'forget',\n",
              " 'tell',\n",
              " 'want',\n",
              " 'need',\n",
              " 'crave',\n",
              " 'love',\n",
              " 'sweet',\n",
              " 'arabian',\n",
              " 'steed',\n",
              " 'mmmmmm',\n",
              " 'yummy',\n",
              " 'seeing',\n",
              " 'great',\n",
              " 'hope',\n",
              " 'like',\n",
              " 'man',\n",
              " 'well',\n",
              " 'endowed',\n",
              " 'ltgt',\n",
              " 'inches',\n",
              " 'callsmessagesmissed',\n",
              " 'calls',\n",
              " 'didnt',\n",
              " 'get',\n",
              " 'hep',\n",
              " 'b',\n",
              " 'immunisation',\n",
              " 'nigeria',\n",
              " 'fair',\n",
              " 'enough',\n",
              " 'anything',\n",
              " 'going',\n",
              " 'yeah',\n",
              " 'hopefully',\n",
              " 'tyler',\n",
              " 'cant',\n",
              " 'could',\n",
              " 'maybe',\n",
              " 'ask',\n",
              " 'around',\n",
              " 'bit',\n",
              " 'u',\n",
              " 'dont',\n",
              " 'know',\n",
              " 'stubborn',\n",
              " 'didnt',\n",
              " 'even',\n",
              " 'want',\n",
              " 'go',\n",
              " 'hospital',\n",
              " 'kept',\n",
              " 'telling',\n",
              " 'mark',\n",
              " 'im',\n",
              " 'weak',\n",
              " 'sucker',\n",
              " 'hospitals',\n",
              " 'weak',\n",
              " 'suckers',\n",
              " 'thinked',\n",
              " 'first',\n",
              " 'time',\n",
              " 'saw',\n",
              " 'class',\n",
              " 'gram',\n",
              " 'usually',\n",
              " 'runs',\n",
              " 'like',\n",
              " 'ltgt',\n",
              " 'half',\n",
              " 'eighth',\n",
              " 'smarter',\n",
              " 'though',\n",
              " 'gets',\n",
              " 'almost',\n",
              " 'whole',\n",
              " 'second',\n",
              " 'gram',\n",
              " 'ltgt',\n",
              " 'k',\n",
              " 'fyi',\n",
              " 'x',\n",
              " 'ride',\n",
              " 'early',\n",
              " 'tomorrow',\n",
              " 'morning',\n",
              " 'hes',\n",
              " 'crashing',\n",
              " 'place',\n",
              " 'tonight',\n",
              " 'wow',\n",
              " 'never',\n",
              " 'realized',\n",
              " 'embarassed',\n",
              " 'accomodations',\n",
              " 'thought',\n",
              " 'liked',\n",
              " 'since',\n",
              " 'best',\n",
              " 'could',\n",
              " 'always',\n",
              " 'seemed',\n",
              " 'happy',\n",
              " 'cave',\n",
              " 'im',\n",
              " 'sorry',\n",
              " 'didnt',\n",
              " 'dont',\n",
              " 'give',\n",
              " 'im',\n",
              " 'sorry',\n",
              " 'offered',\n",
              " 'im',\n",
              " 'sorry',\n",
              " 'room',\n",
              " 'embarassing',\n",
              " 'know',\n",
              " 'mallika',\n",
              " 'sherawat',\n",
              " 'yesterday',\n",
              " 'find',\n",
              " 'lturlgt',\n",
              " 'sorry',\n",
              " 'ill',\n",
              " 'call',\n",
              " 'later',\n",
              " 'meeting',\n",
              " 'tell',\n",
              " 'reached',\n",
              " 'yesgauti',\n",
              " 'sehwag',\n",
              " 'odi',\n",
              " 'series',\n",
              " 'gonna',\n",
              " 'pick',\n",
              " '1',\n",
              " 'burger',\n",
              " 'way',\n",
              " 'home',\n",
              " 'cant',\n",
              " 'even',\n",
              " 'move',\n",
              " 'pain',\n",
              " 'killing',\n",
              " 'ha',\n",
              " 'ha',\n",
              " 'ha',\n",
              " 'good',\n",
              " 'joke',\n",
              " 'girls',\n",
              " 'situation',\n",
              " 'seekers',\n",
              " 'part',\n",
              " 'checking',\n",
              " 'iq',\n",
              " 'sorry',\n",
              " 'roommates',\n",
              " 'took',\n",
              " 'forever',\n",
              " 'ok',\n",
              " 'come',\n",
              " 'ok',\n",
              " 'lar',\n",
              " 'double',\n",
              " 'check',\n",
              " 'wif',\n",
              " 'da',\n",
              " 'hair',\n",
              " 'dresser',\n",
              " 'already',\n",
              " 'said',\n",
              " 'wun',\n",
              " 'cut',\n",
              " 'v',\n",
              " 'short',\n",
              " 'said',\n",
              " 'cut',\n",
              " 'look',\n",
              " 'nice',\n",
              " 'today',\n",
              " 'song',\n",
              " 'dedicated',\n",
              " 'day',\n",
              " 'song',\n",
              " 'u',\n",
              " 'dedicate',\n",
              " 'send',\n",
              " 'ur',\n",
              " 'valuable',\n",
              " 'frnds',\n",
              " 'first',\n",
              " 'rply',\n",
              " 'plane',\n",
              " 'give',\n",
              " 'month',\n",
              " 'end',\n",
              " 'wah',\n",
              " 'lucky',\n",
              " 'man',\n",
              " 'save',\n",
              " 'money',\n",
              " 'hee',\n",
              " 'finished',\n",
              " 'class',\n",
              " 'hi',\n",
              " 'babe',\n",
              " 'im',\n",
              " 'home',\n",
              " 'wanna',\n",
              " 'something',\n",
              " 'xx',\n",
              " 'kkwhere',\n",
              " 'youhow',\n",
              " 'performed',\n",
              " 'u',\n",
              " 'call',\n",
              " 'waiting',\n",
              " 'machan',\n",
              " 'call',\n",
              " 'free',\n",
              " 'thats',\n",
              " 'cool',\n",
              " 'gentleman',\n",
              " 'treat',\n",
              " 'dignity',\n",
              " 'respect',\n",
              " 'like',\n",
              " 'peoples',\n",
              " 'much',\n",
              " 'shy',\n",
              " 'pa',\n",
              " 'operate',\n",
              " 'ltgt',\n",
              " 'still',\n",
              " 'looking',\n",
              " 'job',\n",
              " 'much',\n",
              " 'tas',\n",
              " 'earn',\n",
              " 'sorry',\n",
              " 'ill',\n",
              " 'call',\n",
              " 'later',\n",
              " 'k',\n",
              " 'call',\n",
              " 'ah',\n",
              " 'ok',\n",
              " 'way',\n",
              " 'home',\n",
              " 'hi',\n",
              " 'hi',\n",
              " 'place',\n",
              " 'man',\n",
              " 'yup',\n",
              " 'next',\n",
              " 'stop',\n",
              " 'call',\n",
              " 'later',\n",
              " 'dont',\n",
              " 'network',\n",
              " 'urgnt',\n",
              " 'sms',\n",
              " 'real',\n",
              " 'u',\n",
              " 'getting',\n",
              " 'yo',\n",
              " 'need',\n",
              " '2',\n",
              " 'tickets',\n",
              " 'one',\n",
              " 'jacket',\n",
              " 'im',\n",
              " 'done',\n",
              " 'already',\n",
              " 'used',\n",
              " 'multis',\n",
              " 'yes',\n",
              " 'started',\n",
              " 'send',\n",
              " 'requests',\n",
              " 'make',\n",
              " 'pain',\n",
              " 'came',\n",
              " 'back',\n",
              " 'im',\n",
              " 'back',\n",
              " 'bed',\n",
              " 'double',\n",
              " 'coins',\n",
              " 'factory',\n",
              " 'gotta',\n",
              " 'cash',\n",
              " 'nitros',\n",
              " 'im',\n",
              " 'really',\n",
              " 'still',\n",
              " 'tonight',\n",
              " 'babe',\n",
              " 'ela',\n",
              " 'kanoil',\n",
              " 'download',\n",
              " 'come',\n",
              " 'wen',\n",
              " 'ur',\n",
              " 'free',\n",
              " 'yeah',\n",
              " 'don‘t',\n",
              " 'stand',\n",
              " 'close',\n",
              " 'tho',\n",
              " 'you‘ll',\n",
              " 'catch',\n",
              " 'something',\n",
              " 'sorry',\n",
              " 'pain',\n",
              " 'ok',\n",
              " 'meet',\n",
              " 'another',\n",
              " 'night',\n",
              " 'spent',\n",
              " 'late',\n",
              " 'afternoon',\n",
              " 'casualty',\n",
              " 'means',\n",
              " 'havent',\n",
              " 'done',\n",
              " 'stuff42moro',\n",
              " 'includes',\n",
              " 'time',\n",
              " 'sheets',\n",
              " 'sorry',\n",
              " 'smile',\n",
              " 'pleasure',\n",
              " 'smile',\n",
              " 'pain',\n",
              " 'smile',\n",
              " 'trouble',\n",
              " 'pours',\n",
              " 'like',\n",
              " 'rain',\n",
              " 'smile',\n",
              " 'sum1',\n",
              " 'hurts',\n",
              " 'u',\n",
              " 'smile',\n",
              " 'becoz',\n",
              " 'someone',\n",
              " 'still',\n",
              " 'loves',\n",
              " 'see',\n",
              " 'u',\n",
              " 'smiling',\n",
              " 'havent',\n",
              " 'planning',\n",
              " 'buy',\n",
              " 'later',\n",
              " 'check',\n",
              " 'already',\n",
              " 'lido',\n",
              " 'got',\n",
              " '530',\n",
              " 'show',\n",
              " 'e',\n",
              " 'afternoon',\n",
              " 'u',\n",
              " 'finish',\n",
              " 'work',\n",
              " 'already',\n",
              " 'watching',\n",
              " 'telugu',\n",
              " 'moviewat',\n",
              " 'abt',\n",
              " 'u',\n",
              " 'see',\n",
              " 'finish',\n",
              " 'loads',\n",
              " 'loans',\n",
              " 'pay',\n",
              " 'hi',\n",
              " 'wk',\n",
              " 'ok',\n",
              " 'hols',\n",
              " 'yes',\n",
              " 'bit',\n",
              " 'run',\n",
              " 'forgot',\n",
              " 'hairdressers',\n",
              " 'appointment',\n",
              " 'four',\n",
              " 'need',\n",
              " 'get',\n",
              " 'home',\n",
              " 'n',\n",
              " 'shower',\n",
              " 'beforehand',\n",
              " 'cause',\n",
              " 'prob',\n",
              " 'u',\n",
              " 'see',\n",
              " 'cup',\n",
              " 'coffee',\n",
              " 'animation',\n",
              " 'please',\n",
              " 'dont',\n",
              " 'text',\n",
              " 'anymore',\n",
              " 'nothing',\n",
              " 'else',\n",
              " 'say',\n",
              " 'okay',\n",
              " 'name',\n",
              " 'ur',\n",
              " 'price',\n",
              " 'long',\n",
              " 'legal',\n",
              " 'wen',\n",
              " 'pick',\n",
              " 'u',\n",
              " 'ave',\n",
              " 'x',\n",
              " 'ams',\n",
              " 'xx',\n",
              " 'im',\n",
              " 'still',\n",
              " 'looking',\n",
              " 'car',\n",
              " 'buy',\n",
              " 'gone',\n",
              " '4the',\n",
              " 'driving',\n",
              " 'test',\n",
              " 'yet',\n",
              " 'per',\n",
              " 'request',\n",
              " 'melle',\n",
              " 'melle',\n",
              " 'oru',\n",
              " 'minnaminunginte',\n",
              " 'nurungu',\n",
              " 'vettam',\n",
              " 'set',\n",
              " 'callertune',\n",
              " 'callers',\n",
              " 'press',\n",
              " '9',\n",
              " 'copy',\n",
              " 'friends',\n",
              " 'callertune',\n",
              " 'wow',\n",
              " 'youre',\n",
              " 'right',\n",
              " 'didnt',\n",
              " 'mean',\n",
              " 'guess',\n",
              " 'gave',\n",
              " 'boston',\n",
              " 'men',\n",
              " 'changed',\n",
              " 'search',\n",
              " 'location',\n",
              " 'nyc',\n",
              " 'something',\n",
              " 'changed',\n",
              " 'cuz',\n",
              " 'signin',\n",
              " 'page',\n",
              " 'still',\n",
              " 'says',\n",
              " 'boston',\n",
              " 'umma',\n",
              " 'life',\n",
              " 'vava',\n",
              " 'umma',\n",
              " 'love',\n",
              " 'lot',\n",
              " 'dear',\n",
              " 'thanks',\n",
              " 'lot',\n",
              " 'wishes',\n",
              " 'birthday',\n",
              " 'thanks',\n",
              " 'making',\n",
              " 'birthday',\n",
              " 'truly',\n",
              " 'memorable',\n",
              " 'aight',\n",
              " 'ill',\n",
              " 'hit',\n",
              " 'get',\n",
              " 'cash',\n",
              " 'would',\n",
              " 'ip',\n",
              " 'address',\n",
              " 'test',\n",
              " 'considering',\n",
              " 'computer',\n",
              " 'isnt',\n",
              " 'minecraft',\n",
              " 'server',\n",
              " 'know',\n",
              " 'grumpy',\n",
              " 'old',\n",
              " 'people',\n",
              " 'mom',\n",
              " 'like',\n",
              " 'better',\n",
              " 'lying',\n",
              " 'always',\n",
              " 'one',\n",
              " 'play',\n",
              " 'jokes',\n",
              " 'dont',\n",
              " 'worry',\n",
              " 'guess',\n",
              " 'hes',\n",
              " 'busy',\n",
              " 'plural',\n",
              " 'noun',\n",
              " 'research',\n",
              " 'going',\n",
              " 'dinnermsg',\n",
              " 'im',\n",
              " 'ok',\n",
              " 'wif',\n",
              " 'cos',\n",
              " 'like',\n",
              " '2',\n",
              " 'try',\n",
              " 'new',\n",
              " 'things',\n",
              " 'scared',\n",
              " 'u',\n",
              " 'dun',\n",
              " 'like',\n",
              " 'mah',\n",
              " 'cos',\n",
              " 'u',\n",
              " 'said',\n",
              " 'loud',\n",
              " 'wa',\n",
              " 'ur',\n",
              " 'openin',\n",
              " 'sentence',\n",
              " 'formal',\n",
              " 'anyway',\n",
              " 'im',\n",
              " 'fine',\n",
              " 'juz',\n",
              " 'tt',\n",
              " 'im',\n",
              " 'eatin',\n",
              " 'much',\n",
              " 'n',\n",
              " 'puttin',\n",
              " 'weighthaha',\n",
              " 'anythin',\n",
              " 'special',\n",
              " 'happened',\n",
              " 'entered',\n",
              " 'cabin',\n",
              " 'pa',\n",
              " 'said',\n",
              " 'happy',\n",
              " 'bday',\n",
              " 'boss',\n",
              " 'felt',\n",
              " 'special',\n",
              " 'askd',\n",
              " '4',\n",
              " 'lunch',\n",
              " 'lunch',\n",
              " 'invited',\n",
              " 'apartment',\n",
              " 'went',\n",
              " 'goodo',\n",
              " 'yes',\n",
              " 'must',\n",
              " 'speak',\n",
              " 'friday',\n",
              " 'eggpotato',\n",
              " 'ratio',\n",
              " 'tortilla',\n",
              " 'needed',\n",
              " 'hmmmy',\n",
              " 'uncle',\n",
              " 'informed',\n",
              " 'hes',\n",
              " 'paying',\n",
              " 'school',\n",
              " 'directly',\n",
              " 'pls',\n",
              " 'buy',\n",
              " 'food',\n",
              " 'new',\n",
              " 'address',\n",
              " 'applespairsall',\n",
              " 'malarky',\n",
              " 'going',\n",
              " 'sao',\n",
              " 'mu',\n",
              " 'today',\n",
              " 'done',\n",
              " '12',\n",
              " 'ü',\n",
              " 'predict',\n",
              " 'wat',\n",
              " 'time',\n",
              " 'üll',\n",
              " 'finish',\n",
              " 'buying',\n",
              " 'good',\n",
              " 'stuff',\n",
              " 'knowyetunde',\n",
              " 'hasnt',\n",
              " 'sent',\n",
              " 'money',\n",
              " 'yet',\n",
              " 'sent',\n",
              " 'text',\n",
              " 'bother',\n",
              " 'sending',\n",
              " 'dont',\n",
              " 'involve',\n",
              " 'anything',\n",
              " 'shouldnt',\n",
              " 'imposed',\n",
              " 'anything',\n",
              " 'first',\n",
              " 'place',\n",
              " 'apologise',\n",
              " 'room',\n",
              " 'hey',\n",
              " 'girl',\n",
              " 'r',\n",
              " 'u',\n",
              " 'hope',\n",
              " 'u',\n",
              " 'r',\n",
              " 'well',\n",
              " 'del',\n",
              " 'r',\n",
              " 'bak',\n",
              " 'long',\n",
              " 'time',\n",
              " 'c',\n",
              " 'give',\n",
              " 'call',\n",
              " 'sum',\n",
              " 'time',\n",
              " 'lucyxx',\n",
              " 'kkhow',\n",
              " 'much',\n",
              " 'cost',\n",
              " 'im',\n",
              " 'home',\n",
              " 'dear',\n",
              " 'call',\n",
              " 'tmorrowpls',\n",
              " 'accomodate',\n",
              " 'first',\n",
              " 'answer',\n",
              " 'question',\n",
              " 'haf',\n",
              " 'msn',\n",
              " 'yijuehotmailcom',\n",
              " 'call',\n",
              " 'meet',\n",
              " 'check',\n",
              " 'rooms',\n",
              " 'befor',\n",
              " 'activities',\n",
              " 'got',\n",
              " 'c',\n",
              " 'lazy',\n",
              " 'type',\n",
              " 'forgot',\n",
              " 'ü',\n",
              " 'lect',\n",
              " 'saw',\n",
              " 'pouch',\n",
              " 'like',\n",
              " 'v',\n",
              " 'nice',\n",
              " 'k',\n",
              " 'text',\n",
              " 'youre',\n",
              " 'way',\n",
              " 'sir',\n",
              " 'waiting',\n",
              " 'mail',\n",
              " 'swt',\n",
              " 'thought',\n",
              " 'nver',\n",
              " 'get',\n",
              " 'tired',\n",
              " 'little',\n",
              " 'things',\n",
              " '4',\n",
              " 'lovable',\n",
              " 'persons',\n",
              " 'cozsomtimes',\n",
              " 'little',\n",
              " ...]"
            ]
          },
          "metadata": {
            "tags": []
          },
          "execution_count": 30
        }
      ]
    },
    {
      "cell_type": "markdown",
      "metadata": {
        "id": "riiNxxNYJCM1"
      },
      "source": [
        "step 4: Predict Function"
      ]
    },
    {
      "cell_type": "code",
      "metadata": {
        "id": "v5nuWOwRI_u6"
      },
      "source": [
        "def predict(sms):\n",
        "  spam_counter = 0\n",
        "  ham_counter = 0\n",
        "\n",
        "  sms = pre_process(sms)\n",
        "  # print(\"pre processed sms\", sms)\n",
        "\n",
        "  words = sms.split(\" \") #split by space between words / punctuation marks / line(\\n)\n",
        "\n",
        "  for w in words:\n",
        "    spam_counter += spam_words.count(w)\n",
        "    ham_counter += ham_words.count(w)\n",
        "\n",
        "  if ham_counter > spam_counter:\n",
        "    accuracy = round(ham_counter/(ham_counter + spam_counter) *100, 2)\n",
        "    print(sms, \" is ham\", accuracy)\n",
        "\n",
        "  elif ham_counter == spam_counter:\n",
        "    print(sms, \" could be spam\")\n",
        "  else: \n",
        "    accuracy = round(spam_counter/(ham_counter + spam_counter) *100, 2)\n",
        "    print(sms, \" is spam\", accuracy)\n",
        "  print(spam_counter, ham_counter)"
      ],
      "execution_count": 46,
      "outputs": []
    },
    {
      "cell_type": "code",
      "metadata": {
        "colab": {
          "base_uri": "https://localhost:8080/"
        },
        "id": "59mdTSoLLImS",
        "outputId": "da564cea-9ca3-4c00-8a4e-c0f2069080de"
      },
      "source": [
        "predict(\"Sorry, I'll call you later\")\n",
        "predict(\"the 2nd time we have tried 2 \")\n",
        "predict(\"Free entry in 2 a wkly comp to win FA Cup\")\n",
        "predict(\"win $1000000\")\n",
        "predict(\"Beauty pass sale is on! Don't miss out on 15% off online now till 11 July.\")"
      ],
      "execution_count": 51,
      "outputs": [
        {
          "output_type": "stream",
          "text": [
            "sorry ill call later   is ham 68.29\n",
            "351 756\n",
            "2nd time tried 2    is ham 69.14\n",
            "229 513\n",
            "free entry 2 wkly comp win fa cup   is spam 56.89\n",
            "508 385\n",
            "win 1000000   is spam 83.33\n",
            "60 12\n",
            "beauty pass sale dont miss 15 online till 11 july   is ham 89.21\n",
            "48 397\n"
          ],
          "name": "stdout"
        }
      ]
    }
  ]
}