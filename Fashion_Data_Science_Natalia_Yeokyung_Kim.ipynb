{
  "nbformat": 4,
  "nbformat_minor": 0,
  "metadata": {
    "colab": {
      "name": "Fashion Data Science_Natalia Yeokyung Kim.ipynb",
      "provenance": [],
      "collapsed_sections": [],
      "authorship_tag": "ABX9TyNDg/k17fwiJWGCtB5hfWOw",
      "include_colab_link": true
    },
    "kernelspec": {
      "name": "python3",
      "display_name": "Python 3"
    },
    "language_info": {
      "name": "python"
    }
  },
  "cells": [
    {
      "cell_type": "markdown",
      "metadata": {
        "id": "view-in-github",
        "colab_type": "text"
      },
      "source": [
        "<a href=\"https://colab.research.google.com/github/yeokyungkim/hello-world-/blob/main/Fashion_Data_Science_Natalia_Yeokyung_Kim.ipynb\" target=\"_parent\"><img src=\"https://colab.research.google.com/assets/colab-badge.svg\" alt=\"Open In Colab\"/></a>"
      ]
    },
    {
      "cell_type": "markdown",
      "metadata": {
        "id": "q0IG0gx0sL8d"
      },
      "source": [
        "# 5/25/2021 Class Examples"
      ]
    },
    {
      "cell_type": "code",
      "metadata": {
        "colab": {
          "base_uri": "https://localhost:8080/"
        },
        "id": "iLknID8SaJAg",
        "outputId": "d2eb3186-bc19-47a3-a365-a33cf83bcfcf"
      },
      "source": [
        "import requests\n",
        "url = \"http://google.com/search?q=hello\"\n",
        "response = requests.get(url)\n",
        "#response.content\n",
        "#response.headers\n",
        "type(response.content)"
      ],
      "execution_count": null,
      "outputs": [
        {
          "output_type": "execute_result",
          "data": {
            "text/plain": [
              "bytes"
            ]
          },
          "metadata": {
            "tags": []
          },
          "execution_count": 21
        }
      ]
    },
    {
      "cell_type": "code",
      "metadata": {
        "colab": {
          "base_uri": "https://localhost:8080/"
        },
        "id": "jH3TIVIOlZmF",
        "outputId": "916f7460-6c67-45f5-dc89-e7bab9405b06"
      },
      "source": [
        "import requests\n",
        "url = \"http://google.com/search?q=data science\"\n",
        "response = requests.get(url)\n",
        "response.text.find(\"data science - Google Search\")"
      ],
      "execution_count": null,
      "outputs": [
        {
          "output_type": "execute_result",
          "data": {
            "text/plain": [
              "160"
            ]
          },
          "metadata": {
            "tags": []
          },
          "execution_count": 15
        }
      ]
    },
    {
      "cell_type": "code",
      "metadata": {
        "colab": {
          "base_uri": "https://localhost:8080/"
        },
        "id": "buPkMvp2wf79",
        "outputId": "1d4c8606-ccc3-4615-9ae5-5ffa77dc8933"
      },
      "source": [
        "import requests\n",
        "import json\n",
        "\n",
        "url = \"http://google.com/search?q=something else\"\n",
        "response = requests.get(url)\n",
        "response.text.find(\"something else - Google Search\")\n",
        "#response.content\n",
        "#response.headers\n",
        "#type(response.content)\n",
        "\n",
        "isJson = response.headers['Content-Type'].find('json') != -1\n",
        "print(isJson)\n",
        "\n",
        "if isJson: json.loads(response.text)"
      ],
      "execution_count": null,
      "outputs": [
        {
          "output_type": "stream",
          "text": [
            "False\n"
          ],
          "name": "stdout"
        }
      ]
    },
    {
      "cell_type": "code",
      "metadata": {
        "colab": {
          "base_uri": "https://localhost:8080/",
          "height": 52
        },
        "id": "yElJLTZQqWF3",
        "outputId": "7d59a067-40a8-48ef-8e2a-546dd0f25599"
      },
      "source": [
        "import json\n",
        "\n",
        "url = \"https://api.github.com/events\"\n",
        "response = requests.get(url)\n",
        "isJson =response.headers['Content-Type'].find('json') != -1\n",
        "print(isJson)\n",
        "\n",
        "if isJson: data = json.loads(response.text)\n",
        "#data = response.text\n",
        "len(data)\n",
        "data[-1]['actor']['display_login']"
      ],
      "execution_count": null,
      "outputs": [
        {
          "output_type": "stream",
          "text": [
            "True\n"
          ],
          "name": "stdout"
        },
        {
          "output_type": "execute_result",
          "data": {
            "application/vnd.google.colaboratory.intrinsic+json": {
              "type": "string"
            },
            "text/plain": [
              "'pull'"
            ]
          },
          "metadata": {
            "tags": []
          },
          "execution_count": 23
        }
      ]
    },
    {
      "cell_type": "code",
      "metadata": {
        "colab": {
          "base_uri": "https://localhost:8080/"
        },
        "id": "KoCh1h940Ivp",
        "outputId": "4fd65ba1-a5aa-45a9-c4b6-3dbba32b47a6"
      },
      "source": [
        "from bs4 import BeautifulSoup\n",
        "import requests\n",
        "import json\n",
        "\n",
        "url = \"http://google.com/search?q=something else\"\n",
        "response = requests.get(url)\n",
        "\n",
        "cnt_type = response.headers['Content-Type']\n",
        "isJson = cnt_type.find('json') != -1\n",
        "\n",
        "print(isJson)\n",
        "\n",
        "if isJson: json.loads(response.text)"
      ],
      "execution_count": null,
      "outputs": [
        {
          "output_type": "stream",
          "text": [
            "False\n"
          ],
          "name": "stdout"
        }
      ]
    },
    {
      "cell_type": "code",
      "metadata": {
        "id": "TkAzmAMo85Cr"
      },
      "source": [
        "review a code introduced in class\n"
      ],
      "execution_count": null,
      "outputs": []
    },
    {
      "cell_type": "markdown",
      "metadata": {
        "id": "BKHCdOM1c0z9"
      },
      "source": [
        "**06/01/2021 Class Exercises**"
      ]
    },
    {
      "cell_type": "markdown",
      "metadata": {
        "id": "NtUG2G8ieV54"
      },
      "source": [
        "Fashion Designers Database\n",
        "https://en.wikipedia.org/wiki/List_of_fashion_designers\n",
        "\n",
        "To collect data about all the fashion designers. "
      ]
    },
    {
      "cell_type": "code",
      "metadata": {
        "colab": {
          "base_uri": "https://localhost:8080/"
        },
        "id": "RSxREue_SqC_",
        "outputId": "231a96bb-b346-4db3-9879-6e8ee9e236a0"
      },
      "source": [
        "# fetch wikipedia page\n",
        "import requests\n",
        "from bs4 import BeautifulSoup\n",
        "from bs4 import Tag\n",
        "\n",
        "url = \"https://en.wikipedia.org/wiki/List_of_fashion_designers\"\n",
        "r = requests.get(url)\n",
        "\n",
        "soup = BeautifulSoup(r.text, 'html.parser')\n",
        "\n",
        "#print(soup.prettify())\n",
        "h2 = soup.find_all('h2')\n",
        "countries = {}\n",
        "\n",
        "for c in h2:\n",
        "  #print(c.next_element)\n",
        "  #check if find child returns None\n",
        "  child = c.findChild()\n",
        "  if child != None:\n",
        "    #the child element is now <span>\n",
        "    #get the country name from <span> tag\n",
        "   print(child.contents[0])\n",
        "\n",
        "   # add the country to the dictionary\n",
        "   countries[child.contents[0]] = []\n",
        "\n",
        "   #extract fashion designers using <li> tag\n",
        "   #for designer in c.find_all_next('li'):\n",
        "     #print(designer.contents)\n",
        "   divs = c.findNextSibling('div')\n",
        "\n",
        "   #for designer in divs.find_all('a'):\n",
        "     #print('* ' + designer.contents[0])\n",
        "\n",
        "   for li in divs.find_all('li'):\n",
        "     for designer in li:\n",
        "       if isinstance(designer, Tag):\n",
        "         print('* ' + designer.string)\n",
        "         countries[child.contents[0]].append(designer.string)\n",
        "       else:\n",
        "         print('* ' + designer)\n",
        "         countries[child.contents[0]].append(designer)\n",
        "   break\n",
        "print(countries)\n",
        "\n",
        "   \n",
        "   "
      ],
      "execution_count": null,
      "outputs": [
        {
          "output_type": "stream",
          "text": [
            "Argentina\n",
            "* Aitor Throup\n",
            "* Concepción Cochrane Blaquier\n",
            "* Dalila Puzzovio\n",
            "* Delia Cancela\n",
            "* Franc Fernandez\n",
            "* Gustavo Cadile\n",
            "* Jazmín Chebar\n",
            "* Paco Jamandreu\n",
            "* Pilar Zeta\n",
            "* Vanessa Seward\n",
            "{'Argentina': ['Aitor Throup', 'Concepción Cochrane Blaquier', 'Dalila Puzzovio', 'Delia Cancela', 'Franc Fernandez', 'Gustavo Cadile', 'Jazmín Chebar', 'Paco Jamandreu', 'Pilar Zeta', 'Vanessa Seward']}\n"
          ],
          "name": "stdout"
        }
      ]
    },
    {
      "cell_type": "code",
      "metadata": {
        "colab": {
          "base_uri": "https://localhost:8080/",
          "height": 303
        },
        "id": "OPolFubOCcko",
        "outputId": "42c4a339-c7d0-4ca8-9678-e3a0ad592f04"
      },
      "source": [
        "#list\n",
        "l = [1,2,3,4,5]\n",
        "print(l[0])\n",
        "print(l[-1])\n",
        "print(l[-2])\n",
        "print(l[1:3])\n",
        "print(l[:3])\n",
        "\n",
        "#dictionary\n",
        "d = {'q':0.25, 'd':0.1, 'n':0.05, 'p':0.01}\n",
        "print(d['q'])\n",
        "print(d['e']) # 'e' is not in the list. --> key error"
      ],
      "execution_count": null,
      "outputs": [
        {
          "output_type": "stream",
          "text": [
            "1\n",
            "5\n",
            "4\n",
            "[2, 3]\n",
            "[1, 2, 3]\n",
            "0.25\n"
          ],
          "name": "stdout"
        },
        {
          "output_type": "error",
          "ename": "KeyError",
          "evalue": "ignored",
          "traceback": [
            "\u001b[0;31m---------------------------------------------------------------------------\u001b[0m",
            "\u001b[0;31mKeyError\u001b[0m                                  Traceback (most recent call last)",
            "\u001b[0;32m<ipython-input-1-c88e415b70dc>\u001b[0m in \u001b[0;36m<module>\u001b[0;34m()\u001b[0m\n\u001b[1;32m     10\u001b[0m \u001b[0md\u001b[0m \u001b[0;34m=\u001b[0m \u001b[0;34m{\u001b[0m\u001b[0;34m'q'\u001b[0m\u001b[0;34m:\u001b[0m\u001b[0;36m0.25\u001b[0m\u001b[0;34m,\u001b[0m \u001b[0;34m'd'\u001b[0m\u001b[0;34m:\u001b[0m\u001b[0;36m0.1\u001b[0m\u001b[0;34m,\u001b[0m \u001b[0;34m'n'\u001b[0m\u001b[0;34m:\u001b[0m\u001b[0;36m0.05\u001b[0m\u001b[0;34m,\u001b[0m \u001b[0;34m'p'\u001b[0m\u001b[0;34m:\u001b[0m\u001b[0;36m0.01\u001b[0m\u001b[0;34m}\u001b[0m\u001b[0;34m\u001b[0m\u001b[0;34m\u001b[0m\u001b[0m\n\u001b[1;32m     11\u001b[0m \u001b[0mprint\u001b[0m\u001b[0;34m(\u001b[0m\u001b[0md\u001b[0m\u001b[0;34m[\u001b[0m\u001b[0;34m'q'\u001b[0m\u001b[0;34m]\u001b[0m\u001b[0;34m)\u001b[0m\u001b[0;34m\u001b[0m\u001b[0;34m\u001b[0m\u001b[0m\n\u001b[0;32m---> 12\u001b[0;31m \u001b[0mprint\u001b[0m\u001b[0;34m(\u001b[0m\u001b[0md\u001b[0m\u001b[0;34m[\u001b[0m\u001b[0;34m'e'\u001b[0m\u001b[0;34m]\u001b[0m\u001b[0;34m)\u001b[0m \u001b[0;31m# 'e' is not in the list. --> key error\u001b[0m\u001b[0;34m\u001b[0m\u001b[0;34m\u001b[0m\u001b[0m\n\u001b[0m",
            "\u001b[0;31mKeyError\u001b[0m: 'e'"
          ]
        }
      ]
    },
    {
      "cell_type": "code",
      "metadata": {
        "colab": {
          "base_uri": "https://localhost:8080/"
        },
        "id": "GEInNZvh_8lE",
        "outputId": "6ee1d4cb-2af6-4080-ae14-faf203cfe570"
      },
      "source": [
        "isinstance('5',int)\n"
      ],
      "execution_count": null,
      "outputs": [
        {
          "output_type": "execute_result",
          "data": {
            "text/plain": [
              "False"
            ]
          },
          "metadata": {
            "tags": []
          },
          "execution_count": 22
        }
      ]
    },
    {
      "cell_type": "markdown",
      "metadata": {
        "id": "lJ_lVahjgPrh"
      },
      "source": [
        "****Lecture 3: June 2nd, 2021 Homework (Deadline June 7th, 2021)****\n",
        "\n",
        "*   Scraping\n",
        "\n",
        "\n",
        "Instructions\n",
        "The goal of this assignment is to scrape the data from these pages using python and the libraries related to scraping. The links below are wikipedia pages about footwear designers, fashion events and jewellery designers. Review these wikipedia pages to determine if the names of the designers/events and country data can be retrieved from these pages. Describe your strategy for each web page and write a python script to retrieve the data. Print the data collected in google colab so that the data can be verified.\n",
        "\n",
        "Wikipedia Pages\n",
        "Footwear Designers: https://en.wikipedia.org/wiki/List_of_footwear_designers\n",
        "Fashion Events: https://en.wikipedia.org/wiki/List_of_fashion_events\n",
        "Jewellery Designers: https://en.wikipedia.org/wiki/List_of_jewellery_designers\n",
        "Submit your assignment by sharing your google colab document with the email address praveeng@andrew.cmu.edu\n",
        "\n",
        "The deadline for this assignment is Jun 7, 2021."
      ]
    },
    {
      "cell_type": "markdown",
      "metadata": {
        "id": "Fq2XP3Vwh61v"
      },
      "source": [
        "**Exercise 1** (Option 1): Scraping  Retrieve a list of jewellery designers by country from origianl HTML source using beautifulsoup\n",
        "\n",
        "https://en.wikipedia.org/wiki/List_of_jewellery_designers \n",
        "\n"
      ]
    },
    {
      "cell_type": "code",
      "metadata": {
        "colab": {
          "base_uri": "https://localhost:8080/",
          "height": 1000
        },
        "id": "HCY_7wJMgeE0",
        "outputId": "159c7052-c769-4ac2-9bad-ff367a35b118"
      },
      "source": [
        "# fetch wikipedia page\n",
        "import requests\n",
        "from bs4 import BeautifulSoup\n",
        "from bs4 import Tag\n",
        "\n",
        "url = \"https://en.wikipedia.org/wiki/List_of_jewellery_designers\"\n",
        "r = requests.get(url)\n",
        "\n",
        "soup = BeautifulSoup(r.text, 'html.parser')\n",
        "\n",
        "# print(soup.prettify())\n",
        "\n",
        "countries = soup.find_all('h2')\n",
        "\n",
        "# print(countries)\n",
        "\n",
        "\n",
        "for c in countries:\n",
        "  # check if find child returns None\n",
        "  child = c.findChild()\n",
        "  # print(child)\n",
        "  if child != None:\n",
        "    # the child element is now <span>\n",
        "    # get the country name from <span> tag\n",
        "    print(child.contents[0])\n",
        "\n",
        "    \n",
        "    #extract jewellery designers using <li> tag\n",
        "    uls = c.find_next_sibling('ul')\n",
        "  \n",
        "    for jewellery_designer in uls.find_all('a'):\n",
        "      if type(jewellery_designer) != None :\n",
        "        print('*' + jewellery_designer.contents[0])\n",
        "       \n",
        "\n",
        "\n",
        "\n",
        "    \n",
        "        \n",
        "      \n",
        "          \n",
        " \n",
        "        "
      ],
      "execution_count": null,
      "outputs": [
        {
          "output_type": "stream",
          "text": [
            "Argentina\n",
            "*Ricardo Basta\n",
            "Australia\n",
            "*Joanna Angelett\n",
            "*Wilfrid Nelson Isaac\n",
            "*Alice Elsie Reeve\n",
            "Austria\n",
            "*Ingo Appelt\n",
            "*Elena Kriegner\n",
            "*Nettie Rosenstein\n",
            "*Daniel Swarovski\n",
            "Belgium\n",
            "*Lodewyk van Bercken\n",
            "*Philippe Van Dievoet\n",
            "Brazil\n",
            "*Kim Poor\n",
            "*Fernando Jorge\n",
            "Canada\n",
            "*Lois Betteridge\n",
            "*H.V. Dalling\n",
            "*Charles Edenshaw\n",
            "*David Neel\n",
            "*Bill Reid\n",
            "*Tobi Wong\n",
            "*Dean Davidson\n",
            "Czech Republic\n",
            "*George Brooks\n",
            "*Julie Wimmer\n",
            "Denmark\n",
            "*Joachim Matthias Wendt\n",
            "Dominican Republic\n",
            "*Jenny Polanco\n",
            "*[1]\n",
            "Estonia\n",
            "*Mari Käbin\n",
            "*Kadri Mälk\n",
            "France\n",
            "*Ilias Lalaounis\n",
            "*Elena Votsi\n",
            "*Sotirios Voulgaris\n",
            "Germany\n",
            "*Ilias Lalaounis\n",
            "*Elena Votsi\n",
            "*Sotirios Voulgaris\n",
            "Greece\n",
            "*Ilias Lalaounis\n",
            "*Elena Votsi\n",
            "*Sotirios Voulgaris\n",
            "Guyana\n",
            "*Vannetta Seecharran\n",
            "Hong Kong\n",
            "*Wallace Chan\n",
            "Hungary\n",
            "*Zoltan David\n",
            "India\n",
            "*Waris Ahluwalia\n",
            "*Farah Khan Ali\n",
            "*Khailshanker Durlabhji\n",
            "*Shantidas Jhaveri\n",
            "*Neelam Kothari\n",
            "*Nayna Mehta\n",
            "*Sudha Pennathur\n",
            "*Suhani Pittie\n",
            "*Ambaji Shinde\n",
            "Ireland\n",
            "*Slim Barrett\n",
            "*Melissa Curry\n",
            "Israel\n",
            "*Dorrit Moussaieff\n",
            "Italy\n",
            "*Yasuki Hiramatsu\n",
            "*Kimiko Kasai\n",
            "*Akiko Kawarai\n",
            "*Mikimoto Kōkichi\n",
            "Japan\n",
            "*Yasuki Hiramatsu\n",
            "*Kimiko Kasai\n",
            "*Akiko Kawarai\n",
            "*Mikimoto Kōkichi\n",
            "Lebanon\n",
            "*Dina Azar\n",
            "*Selim Mouzannar\n",
            "*Tabbah\n",
            "Netherlands\n",
            "*Gijs Bakker\n",
            "*Bert Nienhuis\n",
            "*Ted Noten\n",
            "*Marly van der Velden\n",
            "Pakistan\n",
            "*Tapu Javeri\n",
            "Romania\n",
            "*Daniel Stoenescu\n",
            "Russia\n",
            "*Dmitriy Bellman\n",
            "*Carl Edvard Bolin\n",
            "*Erté\n",
            "*Gustav Fabergé\n",
            "*Peter Carl Fabergé\n",
            "*Joseph Marchak\n",
            "Spain\n",
            "*Salvador Dalí\n",
            "South Africa\n",
            "*Kirsten Goss\n",
            "Sweden\n",
            "*Efva Attling\n",
            "*Arne Blomberg\n",
            "*Carolina Gynning\n",
            "*Vivianna Torun Bülow-Hübe\n",
            "Switzerland\n",
            "*Kurt Aepli\n",
            "*Gilbert Albert\n",
            "*Jean Jahnsson\n",
            "Taiwan\n",
            "*Cindy Chao\n",
            "*Onch Movement\n",
            "Turkey\n",
            "*Gurhan Orhan\n",
            "Ukraine\n",
            "*Natasha Zinko\n",
            "United Kingdom\n",
            "*Rosalina Lydster\n",
            "United States\n",
            "*Rosalina Lydster\n",
            "Vietnam\n",
            "*Rosalina Lydster\n",
            "See also\n",
            "*List of fashion designers\n",
            "*List of footwear designers\n",
            "References\n"
          ],
          "name": "stdout"
        },
        {
          "output_type": "error",
          "ename": "AttributeError",
          "evalue": "ignored",
          "traceback": [
            "\u001b[0;31m---------------------------------------------------------------------------\u001b[0m",
            "\u001b[0;31mAttributeError\u001b[0m                            Traceback (most recent call last)",
            "\u001b[0;32m<ipython-input-2-196571922138>\u001b[0m in \u001b[0;36m<module>\u001b[0;34m()\u001b[0m\n\u001b[1;32m     29\u001b[0m     \u001b[0muls\u001b[0m \u001b[0;34m=\u001b[0m \u001b[0mc\u001b[0m\u001b[0;34m.\u001b[0m\u001b[0mfind_next_sibling\u001b[0m\u001b[0;34m(\u001b[0m\u001b[0;34m'ul'\u001b[0m\u001b[0;34m)\u001b[0m\u001b[0;34m\u001b[0m\u001b[0;34m\u001b[0m\u001b[0m\n\u001b[1;32m     30\u001b[0m \u001b[0;34m\u001b[0m\u001b[0m\n\u001b[0;32m---> 31\u001b[0;31m     \u001b[0;32mfor\u001b[0m \u001b[0mjewellery_designer\u001b[0m \u001b[0;32min\u001b[0m \u001b[0muls\u001b[0m\u001b[0;34m.\u001b[0m\u001b[0mfind_all\u001b[0m\u001b[0;34m(\u001b[0m\u001b[0;34m'a'\u001b[0m\u001b[0;34m)\u001b[0m\u001b[0;34m:\u001b[0m\u001b[0;34m\u001b[0m\u001b[0;34m\u001b[0m\u001b[0m\n\u001b[0m\u001b[1;32m     32\u001b[0m       \u001b[0;32mif\u001b[0m \u001b[0mtype\u001b[0m\u001b[0;34m(\u001b[0m\u001b[0mjewellery_designer\u001b[0m\u001b[0;34m)\u001b[0m \u001b[0;34m!=\u001b[0m \u001b[0;32mNone\u001b[0m \u001b[0;34m:\u001b[0m\u001b[0;34m\u001b[0m\u001b[0;34m\u001b[0m\u001b[0m\n\u001b[1;32m     33\u001b[0m         \u001b[0mprint\u001b[0m\u001b[0;34m(\u001b[0m\u001b[0;34m'*'\u001b[0m \u001b[0;34m+\u001b[0m \u001b[0mjewellery_designer\u001b[0m\u001b[0;34m.\u001b[0m\u001b[0mcontents\u001b[0m\u001b[0;34m[\u001b[0m\u001b[0;36m0\u001b[0m\u001b[0;34m]\u001b[0m\u001b[0;34m)\u001b[0m\u001b[0;34m\u001b[0m\u001b[0;34m\u001b[0m\u001b[0m\n",
            "\u001b[0;31mAttributeError\u001b[0m: 'NoneType' object has no attribute 'find_all'"
          ]
        }
      ]
    },
    {
      "cell_type": "markdown",
      "metadata": {
        "id": "E7SSBiVI4Z9S"
      },
      "source": [
        "**Exercise 1** (Option 2): Scraping Retrieve a list of jewellery designers by country from origianl HTML source using beautifulsoup\n",
        "\n",
        "https://en.wikipedia.org/wiki/List_of_jewellery_designers"
      ]
    },
    {
      "cell_type": "code",
      "metadata": {
        "colab": {
          "base_uri": "https://localhost:8080/",
          "height": 768
        },
        "id": "8cISnCsK1BRv",
        "outputId": "f4a0e988-30ca-4a93-e6c7-a432dfd517ba"
      },
      "source": [
        "# fetch wikipedia page\n",
        "import requests\n",
        "from bs4 import BeautifulSoup\n",
        "from bs4 import Tag\n",
        "\n",
        "url = \"https://en.wikipedia.org/wiki/List_of_jewellery_designers\"\n",
        "r = requests.get(url)\n",
        "\n",
        "soup = BeautifulSoup(r.text, 'html.parser')\n",
        "\n",
        "# print(soup.prettify())\n",
        "\n",
        "countries = soup.find_all('h2')\n",
        "\n",
        "# print(countries)\n",
        "\n",
        "\n",
        "for c in countries:\n",
        "  # check if find child returns None\n",
        "  child = c.findChild()\n",
        "  # print(child)\n",
        "  if child != None:\n",
        "    # the child element is now <span>\n",
        "    # get the country name from <span> tag\n",
        "    print(child.contents[0])\n",
        "  \n",
        "\n",
        "    \n",
        "    #extract jewellery designers using <li> tag\n",
        "    uls = c.find_next_sibling('ul')\n",
        "  \n",
        "    for jewellery_designer in uls.find_all('li'):\n",
        "       if isinstance(jewellery_designer, Tag):\n",
        "        print('* ' + jewellery_designer.string)\n",
        "       else:\n",
        "        print('* ' + jewellery_designer)\n",
        "          \n",
        "\n",
        "       \n"
      ],
      "execution_count": null,
      "outputs": [
        {
          "output_type": "stream",
          "text": [
            "Argentina\n",
            "* Ricardo Basta\n",
            "Australia\n",
            "* Joanna Angelett\n",
            "* Wilfrid Nelson Isaac\n",
            "* Alice Elsie Reeve\n",
            "Austria\n",
            "* Ingo Appelt\n",
            "* Elena Kriegner\n",
            "* Nettie Rosenstein\n",
            "* Daniel Swarovski\n",
            "Belgium\n",
            "* Lodewyk van Bercken\n",
            "* Philippe Van Dievoet\n",
            "Brazil\n",
            "* Kim Poor\n",
            "* Fernando Jorge\n",
            "Canada\n",
            "* Lois Betteridge\n",
            "* H.V. Dalling\n",
            "* Charles Edenshaw\n",
            "* David Neel\n",
            "* Bill Reid\n",
            "* Tobi Wong\n",
            "* Dean Davidson\n",
            "Czech Republic\n",
            "* George Brooks\n",
            "* Julie Wimmer\n",
            "Denmark\n",
            "* Joachim Matthias Wendt\n",
            "Dominican Republic\n"
          ],
          "name": "stdout"
        },
        {
          "output_type": "error",
          "ename": "TypeError",
          "evalue": "ignored",
          "traceback": [
            "\u001b[0;31m---------------------------------------------------------------------------\u001b[0m",
            "\u001b[0;31mTypeError\u001b[0m                                 Traceback (most recent call last)",
            "\u001b[0;32m<ipython-input-1-49f45bd1ec06>\u001b[0m in \u001b[0;36m<module>\u001b[0;34m()\u001b[0m\n\u001b[1;32m     32\u001b[0m     \u001b[0;32mfor\u001b[0m \u001b[0mjewellery_designer\u001b[0m \u001b[0;32min\u001b[0m \u001b[0muls\u001b[0m\u001b[0;34m.\u001b[0m\u001b[0mfind_all\u001b[0m\u001b[0;34m(\u001b[0m\u001b[0;34m'li'\u001b[0m\u001b[0;34m)\u001b[0m\u001b[0;34m:\u001b[0m\u001b[0;34m\u001b[0m\u001b[0;34m\u001b[0m\u001b[0m\n\u001b[1;32m     33\u001b[0m        \u001b[0;32mif\u001b[0m \u001b[0misinstance\u001b[0m\u001b[0;34m(\u001b[0m\u001b[0mjewellery_designer\u001b[0m\u001b[0;34m,\u001b[0m \u001b[0mTag\u001b[0m\u001b[0;34m)\u001b[0m\u001b[0;34m:\u001b[0m\u001b[0;34m\u001b[0m\u001b[0;34m\u001b[0m\u001b[0m\n\u001b[0;32m---> 34\u001b[0;31m         \u001b[0mprint\u001b[0m\u001b[0;34m(\u001b[0m\u001b[0;34m'* '\u001b[0m \u001b[0;34m+\u001b[0m \u001b[0mjewellery_designer\u001b[0m\u001b[0;34m.\u001b[0m\u001b[0mstring\u001b[0m\u001b[0;34m)\u001b[0m\u001b[0;34m\u001b[0m\u001b[0;34m\u001b[0m\u001b[0m\n\u001b[0m\u001b[1;32m     35\u001b[0m        \u001b[0;32melse\u001b[0m\u001b[0;34m:\u001b[0m\u001b[0;34m\u001b[0m\u001b[0;34m\u001b[0m\u001b[0m\n\u001b[1;32m     36\u001b[0m         \u001b[0mprint\u001b[0m\u001b[0;34m(\u001b[0m\u001b[0;34m'* '\u001b[0m \u001b[0;34m+\u001b[0m \u001b[0mjewellery_designer\u001b[0m\u001b[0;34m)\u001b[0m\u001b[0;34m\u001b[0m\u001b[0;34m\u001b[0m\u001b[0m\n",
            "\u001b[0;31mTypeError\u001b[0m: can only concatenate str (not \"NoneType\") to str"
          ]
        }
      ]
    },
    {
      "cell_type": "markdown",
      "metadata": {
        "id": "B7deaaQT3Wm_"
      },
      "source": [
        "**Exercise 2**: Scraping - Retrieve a list of fashion events 1) first by continent; 2) then, by country from origianl HTML source using beautifulsoup\n",
        "\n",
        "https://en.wikipedia.org/wiki/List_of_fashion_events \n",
        "\n",
        "\n",
        "\n"
      ]
    },
    {
      "cell_type": "code",
      "metadata": {
        "colab": {
          "base_uri": "https://localhost:8080/",
          "height": 1000
        },
        "id": "jKsNGtBj3Imk",
        "outputId": "3ba42c7d-221d-4342-c95e-78310f322e87"
      },
      "source": [
        "# fetch wikipedia page\n",
        "import requests\n",
        "from bs4 import BeautifulSoup\n",
        "from bs4 import Tag\n",
        "\n",
        "url = \"https://en.wikipedia.org/wiki/List_of_fashion_events\"\n",
        "r = requests.get(url)\n",
        "\n",
        "soup = BeautifulSoup(r.text, 'html.parser')\n",
        "\n",
        "# print(soup.prettify())\n",
        "\n",
        "continents = soup.find_all('h2')[1:6] # clean up: to avoid showing details, e.g., notes, see also etc.\n",
        "\n",
        "for c in continents:\n",
        "  #check if find child returns None\n",
        "  child = c.findChild()\n",
        "  if child != None:\n",
        "    #the child element is now <span>\n",
        "    #get the continent name from <span> tag\n",
        "    print(child.contents[0])\n",
        "    print()\n",
        "    \n",
        "countries = soup.find_all('h3')\n",
        "#list(countries)\n",
        "for c in countries:\n",
        "  # check if find child returns None\n",
        "   child = c.findChild()\n",
        "   if child != None:\n",
        "    # the child element is now <span>\n",
        "    # get the country name from <span> tag\n",
        "    print(child.contents)\n",
        "\n",
        "    #extract fashion events using <li> tag\n",
        "    uls = c.find_next_sibling('ul')\n",
        "    for fashion_events in uls.find_all('a'):\n",
        "      if type(fashion_events in uls.find_all('a')) != None :\n",
        "       print(\"* \" + fashion_events.contents[0])\n",
        " \n",
        "\n",
        "\n",
        "\n",
        "\n",
        "\n",
        "\n"
      ],
      "execution_count": null,
      "outputs": [
        {
          "output_type": "stream",
          "text": [
            "Africa\n",
            "\n",
            "America\n",
            "\n",
            "Asia\n",
            "\n",
            "Europe\n",
            "\n",
            "Oceania\n",
            "\n",
            "['Algeria']\n",
            "* Algiers Fashion Week\n",
            "* Oran Fashion Week\n",
            "['Botswana']\n",
            "* Gaborone Fashion Weekend\n",
            "[]\n",
            "* Cote d' Ivoire Fashion Week\n",
            "['Egypt']\n",
            "* Cairo Fashion Festival\n",
            "* Cairo Couture Collections\n",
            "* Cairo Fashion Week\n",
            "* La Mode A Beyrouth - Cairo\n",
            "['Ethiopia']\n",
            "* Hub of Africa! Fashion Week\n",
            "['Kenya']\n",
            "* Nairobi Fashion Week\n",
            "['Malawi']\n",
            "* Fashion Malawi Edition\n",
            "['Nigeria']\n",
            "* Hayati Fashion Week\n",
            "* Lagos Fashion Week\n",
            "* Kwara Fashion Week\n",
            "* Port Harcourt International Fashion Week\n",
            "['South Africa']\n",
            "* South African Fashion Week\n",
            "* AFI Fashion Week\n",
            "* Soweto Fashion Week\n",
            "['Argentina']\n",
            "* Buenos Aires Fashion Week\n",
            "* Cordoba Fashion Week\n",
            "* Mendoza Fashion Week\n",
            "* Santa Fe Fashion Week\n",
            "['Bolivia']\n",
            "* Bolivia Fashion Week\n",
            "* International Fashion Week Bolivia\n",
            "['Brazil']\n",
            "* Minas Trend Preview\n",
            "* Brasília Fashion Week\n",
            "* Fortaleza Fashion Week\n",
            "* Amazônia Fashion Week\n",
            "* Rio Fashion Week\n",
            "* Salvador de Bahia Black Fashion Week\n",
            "* São Paulo Fashion Week\n",
            "['Canada']\n",
            "* Alberta Fashion Week\n",
            "* Fashion Cares\n",
            "* Montréal Fashion and Design Festival\n",
            "* Toronto Fashion Week\n",
            "* Vancouver Fashion Week\n",
            "['Chile']\n",
            "* Chile Fashion Week\n",
            "* Elite Model Look Chile\n",
            "* Santiago Fashion Week\n",
            "['Colombia']\n",
            "* Bogota Fashion Week\n",
            "* Barranquilla Fashion Week\n",
            "* Cali Fashion Week\n",
            "* Cali ExpoShow\n",
            "* Cartagena Fashion\n",
            "* ColombiaModa\n",
            "* ColombiaTex\n",
            "* Medellin Fashion Week\n",
            "* Plataforma K\n",
            "['Dominican Republic']\n",
            "* Dominicana Moda Fashion Week\n",
            "* RD Bridal Fashion Week\n",
            "['Jamaica']\n",
            "* Caribbean Fashion Week\n",
            "* Style Week Jamaica\n",
            "* Kingston Bridal Week\n",
            "['Mexico']\n",
            "* Guadalajara Design Week\n",
            "* Cancun Coture Week\n",
            "* Mexico City Fashion Week\n",
            "* MT Fashion Week (Monterrey)\n",
            "* Puebla Fashion Show\n",
            "['Panama']\n",
            "* Panama Fashion Week\n",
            "['Paraguay']\n",
            "* Asunción Fashion Week\n",
            "* Ciudad del Este Fashion Week\n",
            "['Peru']\n",
            "* LIF Fashion Week\n",
            "['Puerto Rico']\n",
            "* Elite Model Look Puerto Rico\n",
            "* Puerto Rico High Fashion Week\n",
            "* San Juan Moda\n",
            "* West Fashion Week\n",
            "* South Fashion Week\n",
            "['United States']\n",
            "* Africa Fashion Week New York\n",
            "* African Fashion Week Houston\n",
            "* Atlantic City Fashion Week\n",
            "* Boston Fashion Week\n",
            "* Christian Fashion Week\n",
            "* Fashion Week Cleveland\n",
            "* Houston Fashion Week\n",
            "* Los Angeles Fashion Week\n",
            "* Men's Fashion Week\n",
            "* Men's Fashion Week Los Angeles\n",
            "* Mercedes-Benz Fashion Week Miami\n",
            "* Met Gala\n",
            "* Miami Fashion Week\n",
            "* New York Fashion Week\n",
            "* Fall 2008 fashion weeks\n",
            "* List of Fall 2008 New York Fashion Week fashion shows\n",
            "* Men's Fashion Week\n",
            "* Rip the Runway\n",
            "* Pittsburgh Fashion Week\n",
            "* The Retreat Miami\n",
            "* Splendid Indian Closet Fashion Tour\n",
            "* Spring 2008 New York Fashion Week\n",
            "* Victoria's Secret Fashion Show\n",
            "['Uruguay']\n",
            "* Montevideo Fashion Week\n",
            "['Venezuela']\n",
            "* Caracas Fashion Week\n",
            "['Bahrain']\n",
            "* Bahrain International Design Week\n",
            "['Bangladesh']\n",
            "* Bangladesh Fashion Week\n",
            "* Dhaka Fashion Week\n",
            "* International Women's Day Show 2019 Chittagong\n",
            "['China']\n",
            "* Centrestage\n",
            "* China Fashion Week\n",
            "* Elite Model Look International 2009\n",
            "* Guangzhou Fashion Week\n",
            "* Hong Kong Fashion Week for Fall/Winter\n",
            "* Shanghai Fashion Week\n",
            "* Shenzhen Fashion Week\n",
            "* Tianjin Fashion Week\n",
            "['India']\n",
            "* Bangalore Fashion Week\n",
            "* India Fashion Week\n",
            "* India Runway Week\n",
            "* Lakme Fashion Week\n",
            "* India International Fashion Festival\n",
            "['Indonesia']\n",
            "* Indonesia Fashion Week\n",
            "* Jakarta Fashion Week\n",
            "* Plaza Indonesia's Men Fashion Week\n",
            "* Surabaya Fashion Parade\n",
            "* Bandung Fashion Week\n",
            "* Jember Fashion Carnaval\n",
            "* Bali Fashion Trend\n",
            "* Jogja Fashion Week\n",
            "* Jakarta Modest Fashion Week\n",
            "* Jakarta Hijab Fashion Week\n",
            "* Femme\n",
            "* Celebes Beauty Fashion Week\n",
            "['Iran']\n",
            "* Iran Fashion Week\n",
            "* Tehran Fashion Week\n",
            "['Israel']\n",
            "* Tel Aviv Fashion Week\n",
            "* he\n",
            "['Japan']\n",
            "* Girls Award\n",
            "* Hiroshima Fashion Week\n",
            "* Kobe Collection\n",
            "* Kyoto Fashion Week\n",
            "* Nagoya Fashion Week\n",
            "* Osaka Fashion Week\n",
            "* Sapporo Fashion Week\n",
            "* Tokyo Fashion week\n",
            "* ja\n",
            "* Tokyo Girls Collection\n",
            "['Malaysia']\n",
            "* Kuala Lumpur Fashion Week\n",
            "* Malaysian International Fashion Alliance (MIFA)\n",
            "* Asia Islamic Fashion Week 2017 (AIFW 2017)\n",
            "* Borneo Fashion Week\n",
            "['Mongolia']\n",
            "* Goyol Fashion Festival\n",
            "['Nepal']\n",
            "* Model Hunt Nepal\n",
            "* Voyage of creation\n",
            "* Nepal Fashion Week\n",
            "* CHIC Fashion Show\n",
            "* The Show\n",
            "['Pakistan']\n",
            "* Pakistan Fashion Week\n",
            "* Islamabad Fashion Week\n",
            "* Karachi Fashion Week\n",
            "* Lahore Fashion Week\n",
            "* Peshawar Fashion Week\n",
            "* PFDC Sunsilk Fashion Week\n",
            "* Media Box Fashion Week\n",
            "['Philippines']\n",
            "* Philippine Fashion Week\n",
            "* Manila Fashion Festival\n",
            "* Mega Fashion Week\n",
            "* Stylefest Ph\n",
            "* Philippine Fashion Gala\n",
            "* Bench Fashion Week\n",
            "['Qatar']\n",
            "* Doha Fashion Week\n",
            "['Russia']\n",
            "* Nizhny Fashion Week\n",
            "* Novosibirsk Fashion Week\n",
            "* Yekaterinburg Ural Fashion Week\n",
            "* Russia Fashion Week\n",
            "* Mercedes-Benz Fashion Week Russia\n",
            "* St. Petersburg Fashion Week\n",
            "* Volvo Moscow Fashion Week\n",
            "['Singapore']\n",
            "* Asia Fashion Exchange\n",
            "* Asia Style Collection\n",
            "* Fide Fashion Weeks\n",
            "* Men's Fashion Week\n",
            "* Singapore Fashion Festival\n",
            "* Singapore Fashion Week\n",
            "['South Korea']\n",
            "* Miss Supertalent\n",
            "* Seoul Fashion Week\n",
            "* Preview in Daegu\n",
            "* Busan Fashion Week\n",
            "* Daegu Fashion Fair (Week)\n",
            "* Seoul Girls Collection\n",
            "['Sri Lanka']\n",
            "* Colombo Fashion Week\n",
            "['Taiwan']\n",
            "* Taipei Fashion Week\n",
            "['Thailand']\n",
            "* Bangkok International Fashion Week\n",
            "* Elle Fashion Week\n",
            "['Turkey']\n",
            "* Antalya Fashion Week\n",
            "* Istanbul Fashion Week\n",
            "['United Arab Emirates']\n",
            "* Arab Fashion Week\n",
            "['Vietnam']\n",
            "* Vietnam International Fashion Week\n",
            "['Austria']\n",
            "* Vienna Fashion Week\n",
            "['Belarus']\n",
            "* Belarus Fashion Week\n",
            "['Belgium']\n",
            "* Antwerp Fashion Show\n",
            "* Brussels Fashion Week\n",
            "['Bulgaria']\n",
            "* Sofia Fashion Week Couture\n",
            "* Kids Fashion Week\n",
            "* Men's Fashion Week Plovdiv\n",
            "* Plovdiv Fashion Week Prêt-à-Porter\n",
            "* Bridal Fashion Week Plovdiv\n",
            "* Dance Fashion Week Burgas\n",
            "* Lingerie & Swimwear Fashion Week Varna\n",
            "['Czech Republic']\n",
            "* Prague Fashion Week\n",
            "['Croatia']\n",
            "* Zagreb Fashion Week\n",
            "['Denmark']\n",
            "* Copenhagen Fashion Week\n",
            "* Gallery Int Fashion Fair\n",
            "['Finland']\n",
            "* Helsinki Fashion Week\n",
            "* African Fashion Week Helsinki\n",
            "['France']\n",
            "* Africa Fashion Week Paris\n",
            "* Bordeaux Fashion Week\n",
            "* Elite Model Look\n",
            "* Cannes-Nice Fashion Week\n",
            "* Bal des débutantes\n",
            "* Paris Fashion Week\n",
            "* Fall 2008 fashion weeks\n",
            "* Men's Fashion Week\n",
            "* Lille Fashion Week\n",
            "* Lyon Fashion Week (FashionCity Show)\n",
            "* Marseille Fashion Week\n",
            "* Nantes Fashion Week\n",
            "* Rennes Fashion Week\n",
            "* Toulouse Fashion Week\n",
            "* Strasbourg Fashion Week (EM Fashion Week)\n",
            "* St. Tropez Fashion Week\n",
            "* Spring 2004 Dior couture collection\n",
            "['Georgia']\n",
            "* Adjara Fashion Week\n",
            "* Mercedes-Benz Fashion Week Tbilisi\n",
            "* Tbilisi Fashion Week\n",
            "['Germany']\n",
            "* Baltic Fashion Week\n",
            "* Usedom Island\n",
            "* Berlin Fashion Week\n",
            "* Bread and Butter tradeshow\n",
            "* Stylenite\n",
            "* Michael Michalsky\n",
            "* Düsseldorf Fashion Week\n",
            "* Frankfurt Fashion Week\n",
            "* Hamburg Fashion Week\n",
            "* Cologne Fashion Week\n",
            "* Krefeld Street Fashion Show\n",
            "* Munich Fashion Week\n",
            "* Schwerin LOOK\n",
            "* Stuttgart Fashion Week\n",
            "* Warnemünde Fashion Week\n",
            "['Greece']\n",
            "* Athens Xclusive Designers Week\n",
            "['Hungary']\n",
            "* Budapest Fashion Week\n",
            "['Italy']\n",
            "* Bari Fashion Week\n",
            "* Benevento Fashion Week\n",
            "* Benevento In Moda\n",
            "* Bologne Fashion Week\n",
            "* Catania Fashion Week\n",
            "* Cesena Fashion Week\n",
            "* Cortina Fashion Week\n",
            "* Firenze Fashion Week\n",
            "* Genova Fashion Week\n",
            "['Latvia']\n",
            "* Riga Fashion Week\n",
            "['Lithuania']\n",
            "* Mados infekcija\n",
            "['Luxembourg']\n",
            "* Luxembourg Fashion Week\n",
            "['Malta']\n",
            "* Mercedes Benz Malta Fashion Week\n",
            "['Monaco']\n",
            "* Montecarlo Fashion Week (Fashion Fair Week)\n",
            "['Netherlands']\n",
            "* Amsterdam Fashion Week\n",
            "* Rotterdam Fashion Week\n",
            "* Canal Catwalk\n",
            "* Floating Fashion Week\n",
            "['Norway']\n",
            "* Oslo Fashion Week\n",
            "['Poland']\n",
            "* Łódź FashionPhilosophy Fashion Week Poland\n",
            "* Mercedes Benz Fashion Weekend Warsaw\n",
            "['Portugal']\n",
            "* Lisbon Fashion Week\n",
            "* Portugal Fashion\n",
            "['Romania']\n",
            "* Kasta Morrely Fashion Week Iasi\n",
            "* Feeric Fashion Week\n",
            "* Bucharest Fashion Week\n",
            "['Serbia']\n",
            "* Belgrade Fashion Week\n",
            "* Elite Model Look Serbia\n",
            "* Belgrade Design Week\n",
            "* Serbia Fashion Week\n",
            "['Spain']\n",
            "* Cibeles Madrid Fashion Week\n",
            "* Barcelona Fashion Week (Pasarela Gaudí)\n",
            "* Malagá Fashion Week (Plaza Mayor Week)\n",
            "* Murcia Fashion Week\n",
            "* Valencia Fashion Week\n",
            "* Sevilla Fashion Week\n",
            "* Zaragoza Fashion Week\n",
            "* The Brandery\n",
            "['Sweden']\n",
            "* Stockolm Fashion Week\n",
            "* Umeå Fashion Week\n",
            "['United Kingdom']\n",
            "* Aberdeen Fashion Week\n",
            "* Asia Fashion Week London\n",
            "* Africa Fashion Week London\n",
            "* Birmingham Fashion Week\n",
            "* Brighton Fashion Week\n",
            "* Bristol Fashion Week\n",
            "* Cheltenham Fashion Week\n",
            "* Clothes Show Live\n",
            "* Essex Fashion Week\n",
            "* Fashion in Film Festival\n",
            "* Leeds Fashion Show\n",
            "* Liverpool Fashion Week\n",
            "* London Fashion Week\n",
            "* Fall 2008 fashion weeks\n",
            "* Men's Fashion Week\n",
            "* Manchester Fashion Week\n",
            "* Oxford Fashion Week\n",
            "* Pure London\n",
            "* Strut\n",
            "* Sunrise in Baku Fashion Project\n",
            "* Vivz World Fashion Week\n",
            "['Ukraine']\n",
            "* Ukrainian Fashion Week\n",
            "* Odesa Fashion Week\n",
            "['Australia']\n",
            "* Australian Fashion Week\n",
            "* Melbourne Fashion Festival\n",
            "* Melbourne Spring Fashion Week\n",
            "* Mercedes-Benz Fashion Festival Brisbane\n",
            "* Adelaide Fashion Festival\n",
            "* Telstra Perth Fashion Festival\n",
            "['Fiji']\n",
            "* Fiji Fashion Week\n",
            "['New Zealand']\n",
            "* NZ Fashion Week\n",
            "['Personal tools']\n"
          ],
          "name": "stdout"
        },
        {
          "output_type": "error",
          "ename": "AttributeError",
          "evalue": "ignored",
          "traceback": [
            "\u001b[0;31m---------------------------------------------------------------------------\u001b[0m",
            "\u001b[0;31mAttributeError\u001b[0m                            Traceback (most recent call last)",
            "\u001b[0;32m<ipython-input-3-bba941b5c1cd>\u001b[0m in \u001b[0;36m<module>\u001b[0;34m()\u001b[0m\n\u001b[1;32m     34\u001b[0m     \u001b[0;31m#extract fashion events using <li> tag\u001b[0m\u001b[0;34m\u001b[0m\u001b[0;34m\u001b[0m\u001b[0;34m\u001b[0m\u001b[0m\n\u001b[1;32m     35\u001b[0m     \u001b[0muls\u001b[0m \u001b[0;34m=\u001b[0m \u001b[0mc\u001b[0m\u001b[0;34m.\u001b[0m\u001b[0mfind_next_sibling\u001b[0m\u001b[0;34m(\u001b[0m\u001b[0;34m'ul'\u001b[0m\u001b[0;34m)\u001b[0m\u001b[0;34m\u001b[0m\u001b[0;34m\u001b[0m\u001b[0m\n\u001b[0;32m---> 36\u001b[0;31m     \u001b[0;32mfor\u001b[0m \u001b[0mfashion_events\u001b[0m \u001b[0;32min\u001b[0m \u001b[0muls\u001b[0m\u001b[0;34m.\u001b[0m\u001b[0mfind_all\u001b[0m\u001b[0;34m(\u001b[0m\u001b[0;34m'a'\u001b[0m\u001b[0;34m)\u001b[0m\u001b[0;34m:\u001b[0m\u001b[0;34m\u001b[0m\u001b[0;34m\u001b[0m\u001b[0m\n\u001b[0m\u001b[1;32m     37\u001b[0m       \u001b[0;32mif\u001b[0m \u001b[0mtype\u001b[0m\u001b[0;34m(\u001b[0m\u001b[0mfashion_events\u001b[0m \u001b[0;32min\u001b[0m \u001b[0muls\u001b[0m\u001b[0;34m.\u001b[0m\u001b[0mfind_all\u001b[0m\u001b[0;34m(\u001b[0m\u001b[0;34m'a'\u001b[0m\u001b[0;34m)\u001b[0m\u001b[0;34m)\u001b[0m \u001b[0;34m!=\u001b[0m \u001b[0;32mNone\u001b[0m \u001b[0;34m:\u001b[0m\u001b[0;34m\u001b[0m\u001b[0;34m\u001b[0m\u001b[0m\n\u001b[1;32m     38\u001b[0m        \u001b[0mprint\u001b[0m\u001b[0;34m(\u001b[0m\u001b[0;34m\"* \"\u001b[0m \u001b[0;34m+\u001b[0m \u001b[0mfashion_events\u001b[0m\u001b[0;34m.\u001b[0m\u001b[0mcontents\u001b[0m\u001b[0;34m[\u001b[0m\u001b[0;36m0\u001b[0m\u001b[0;34m]\u001b[0m\u001b[0;34m)\u001b[0m\u001b[0;34m\u001b[0m\u001b[0;34m\u001b[0m\u001b[0m\n",
            "\u001b[0;31mAttributeError\u001b[0m: 'NoneType' object has no attribute 'find_all'"
          ]
        }
      ]
    },
    {
      "cell_type": "markdown",
      "metadata": {
        "id": "yn49vKs4NXLo"
      },
      "source": [
        "**Exercise 3:** Scraping - Retrieve a list of footwear designers from origianl HTML source using beautifulsoup\n",
        "\n",
        "https://en.wikipedia.org/wiki/List_of_footwear_designers"
      ]
    },
    {
      "cell_type": "code",
      "metadata": {
        "colab": {
          "base_uri": "https://localhost:8080/",
          "height": 1000
        },
        "id": "J_Vwa0mfNW3E",
        "outputId": "eac00a9d-4dc4-41a1-9437-f217fcf605f6"
      },
      "source": [
        "# fetch wikipedia page\n",
        "import requests\n",
        "from bs4 import BeautifulSoup\n",
        "from bs4 import Tag\n",
        "\n",
        "url = \"https://en.wikipedia.org/wiki/List_of_footwear_designers\"\n",
        "r = requests.get(url)\n",
        "\n",
        "soup = BeautifulSoup(r.text, 'html.parser')\n",
        "\n",
        "#print(soup.prettify())\n",
        "\n",
        "#extract footwear designers using <li> tag\n",
        "shoe_designers = soup.find_all('li')\n",
        "for shoe_designer in shoe_designers:\n",
        " print(\"* \" + shoe_designer.contents[0][\"title\"])\n",
        "\n",
        "\n",
        "\n"
      ],
      "execution_count": null,
      "outputs": [
        {
          "output_type": "stream",
          "text": [
            "* Alberta Ferretti\n",
            "* Aldo Group\n",
            "* Alexander Wang (designer)\n",
            "* Alexander White (designer)\n",
            "* Alexandre Birman\n",
            "* André Perugia\n",
            "* Badgley Mischka\n",
            "* Balenciaga\n",
            "* Bally Shoe\n",
            "* Balmain (fashion house)\n",
            "* Beatrix Ong\n",
            "* Bebe Stores\n",
            "* Betsey Johnson\n",
            "* Bionda Castana\n",
            "* Blufin\n",
            "* Bottega Veneta\n",
            "* Brian Atwood\n",
            "* Bruno Magli\n",
            "* Calvin Klein\n",
            "* Cesare Paciotti\n",
            "* Chanel\n",
            "* Charlotte Olympia\n",
            "* Christian Dior\n",
            "* Christian Lacroix\n",
            "* Christian Louboutin\n",
            "* Christian Siriano\n",
            "* Chuck Taylor (salesman)\n",
            "* Collin Thompson\n",
            "* Common Projects\n",
            "* Dean and Dan Caten\n",
            "* Dolce & Gabbana\n",
            "* Edward Rayne\n",
            "* Emilio Pucci\n",
            "* Emma Hope\n",
            "* Fendi\n",
            "* Giambattista Valli\n",
            "* Giuseppe Zanotti\n",
            "* Givenchy\n",
            "* Gucci\n",
            "* Guess (clothing)\n",
            "* Hervé Leger\n",
            "* Irregular Choice\n",
            "* Jimmy Choo\n",
            "* John Fluevog\n",
            "* Joker's Closet\n",
            "* Kurt Geiger\n",
            "* L.A.M.B.\n",
            "* Lanvin (company)\n",
            "* Liam Fahy\n",
            "* Louis Vuitton\n",
            "* Manolo Blahnik\n",
            "* Maud Frizon\n",
            "* Miu Miu\n",
            "* Monika Chiang\n",
            "* Monique Lhuillier\n",
            "* Moya Bowler\n",
            "* Natacha Marro\n",
            "* Nicholas Kirkwood\n",
            "* Nine West\n",
            "* Olga Peterson\n",
            "* Patrick Cox\n",
            "* Paul Andrew (designer)\n",
            "* Philipp Plein\n",
            "* Prabal Gurung\n",
            "* Prada\n",
            "* Pura Lopez\n",
            "* Ralph & Russo\n",
            "* Rene Caovilla\n",
            "* Roberto Cavalli\n",
            "* Roger Vivier\n",
            "* Rupert Sanderson\n",
            "* Ruthie Davis\n",
            "* Salvatore Ferragamo\n",
            "* Caleres\n",
            "* Alexandre Birman\n",
            "* Sergio Rossi (shoe designer)\n",
            "* Sophia Webster\n",
            "* Stefi Talman\n",
            "* Steve Madden\n",
            "* Stuart Weitzman\n",
            "* Susan Bennis/Warren Edwards\n",
            "* Ted Baker\n",
            "* Terry de Havilland\n",
            "* The Chelsea Cobbler\n",
            "* Tinker Hatfield\n",
            "* Tod's\n",
            "* Tom Ford\n",
            "* Valentino (fashion designer)\n",
            "* Vanessa Noel\n",
            "* Versace\n",
            "* Caleres\n",
            "* Walter Steiger\n",
            "* Warren Edwards\n",
            "* Yves Saint Laurent (brand)\n",
            "* Zara (retailer)\n",
            "* List of fashion designers\n",
            "* Category:Shoe designers\n",
            "* Category:Fashion occupations\n",
            "* Category:Lists of people by occupation\n",
            "* Category:Fashion-related lists\n",
            "* Category:Articles with short description\n",
            "* Category:Short description is different from Wikidata\n"
          ],
          "name": "stdout"
        },
        {
          "output_type": "error",
          "ename": "TypeError",
          "evalue": "ignored",
          "traceback": [
            "\u001b[0;31m---------------------------------------------------------------------------\u001b[0m",
            "\u001b[0;31mTypeError\u001b[0m                                 Traceback (most recent call last)",
            "\u001b[0;32m<ipython-input-251-cc61f64ca512>\u001b[0m in \u001b[0;36m<module>\u001b[0;34m()\u001b[0m\n\u001b[1;32m     14\u001b[0m \u001b[0mshoe_designers\u001b[0m \u001b[0;34m=\u001b[0m \u001b[0msoup\u001b[0m\u001b[0;34m.\u001b[0m\u001b[0mfind_all\u001b[0m\u001b[0;34m(\u001b[0m\u001b[0;34m'li'\u001b[0m\u001b[0;34m)\u001b[0m\u001b[0;34m\u001b[0m\u001b[0;34m\u001b[0m\u001b[0m\n\u001b[1;32m     15\u001b[0m \u001b[0;32mfor\u001b[0m \u001b[0mshoe_designer\u001b[0m \u001b[0;32min\u001b[0m \u001b[0mshoe_designers\u001b[0m\u001b[0;34m:\u001b[0m\u001b[0;34m\u001b[0m\u001b[0;34m\u001b[0m\u001b[0m\n\u001b[0;32m---> 16\u001b[0;31m  \u001b[0mprint\u001b[0m\u001b[0;34m(\u001b[0m\u001b[0;34m\"* \"\u001b[0m \u001b[0;34m+\u001b[0m \u001b[0mshoe_designer\u001b[0m\u001b[0;34m.\u001b[0m\u001b[0mcontents\u001b[0m\u001b[0;34m[\u001b[0m\u001b[0;36m0\u001b[0m\u001b[0;34m]\u001b[0m\u001b[0;34m[\u001b[0m\u001b[0;34m\"title\"\u001b[0m\u001b[0;34m]\u001b[0m\u001b[0;34m)\u001b[0m\u001b[0;34m\u001b[0m\u001b[0;34m\u001b[0m\u001b[0m\n\u001b[0m\u001b[1;32m     17\u001b[0m \u001b[0;34m\u001b[0m\u001b[0m\n\u001b[1;32m     18\u001b[0m \u001b[0;34m\u001b[0m\u001b[0m\n",
            "\u001b[0;31mTypeError\u001b[0m: string indices must be integers"
          ]
        }
      ]
    },
    {
      "cell_type": "markdown",
      "metadata": {
        "id": "r02_Un5ZbrJx"
      },
      "source": [
        "06/08/2021 Class Exercises"
      ]
    },
    {
      "cell_type": "markdown",
      "metadata": {
        "id": "mAyCibXZdRB9"
      },
      "source": [
        "Learning Goals\n",
        "1. Index and slice into strings to break them up into parts\n",
        "2. Use for loops to loop over string by index\n",
        "3. Use string operations and menthods to solve problems\n",
        "\n",
        "Data structures are used while programming to organize multiple pieces of data in different ways. Examples are strings, lists, dictionaries, trees and graphs"
      ]
    },
    {
      "cell_type": "code",
      "metadata": {
        "colab": {
          "base_uri": "https://localhost:8080/",
          "height": 174
        },
        "id": "ER9mPyiibn7D",
        "outputId": "3d1d5c3f-9979-4212-df69-97cd6d126ea0"
      },
      "source": [
        "s = \"hello\"\n",
        "print('Print char in string using index')\n",
        "print(s[0])\n",
        "print(s[1])\n",
        "print(s[-1])\n",
        "print(s[-2])\n",
        "\n",
        "print('Print the length if the string')\n",
        "print(len(s))\n",
        "\n",
        "print('Print the last character using the len function') \n",
        "s[len(s) - 1] # '-1' becuase it starts counting from 0"
      ],
      "execution_count": null,
      "outputs": [
        {
          "output_type": "stream",
          "text": [
            "Print char in string using index\n",
            "h\n",
            "e\n",
            "o\n",
            "l\n",
            "Print the length if the string\n",
            "5\n",
            "Print the last character using the len function\n"
          ],
          "name": "stdout"
        },
        {
          "output_type": "execute_result",
          "data": {
            "application/vnd.google.colaboratory.intrinsic+json": {
              "type": "string"
            },
            "text/plain": [
              "'o'"
            ]
          },
          "metadata": {
            "tags": []
          },
          "execution_count": 10
        }
      ]
    },
    {
      "cell_type": "code",
      "metadata": {
        "colab": {
          "base_uri": "https://localhost:8080/",
          "height": 35
        },
        "id": "dAm32tqkhOF4",
        "outputId": "3ab6e80d-fd75-4903-ad32-8475a6e9767b"
      },
      "source": [
        "t = \"abc123\"\n",
        "#\"a\"\n",
        "t[0]\n",
        "#\"c\"\n",
        "t[2]\n",
        "#\"3\"\n",
        "t[5]"
      ],
      "execution_count": null,
      "outputs": [
        {
          "output_type": "execute_result",
          "data": {
            "application/vnd.google.colaboratory.intrinsic+json": {
              "type": "string"
            },
            "text/plain": [
              "'3'"
            ]
          },
          "metadata": {
            "tags": []
          },
          "execution_count": 12
        }
      ]
    },
    {
      "cell_type": "markdown",
      "metadata": {
        "id": "QiL2B3SHkqtC"
      },
      "source": [
        "The code below is an example of string slicing. "
      ]
    },
    {
      "cell_type": "code",
      "metadata": {
        "colab": {
          "base_uri": "https://localhost:8080/"
        },
        "id": "033Ji9EHhjzz",
        "outputId": "30670a2d-42f1-4638-d5b4-65560655ddb7"
      },
      "source": [
        "# String slicing\n",
        "t = \"abc123def456\"\n",
        "print(t[0:3]) # sub string\n",
        "\n",
        "print(t[3:]) # print till the end if it doesn't indicite the end of the string\n",
        "\n",
        "print(t[0:len(t):2]) # start:end:skip count (step size) *default step size = 1 if not specified\n",
        "\n",
        "print(t[::2]) # equal to t[0:len(t):2]\n",
        "\n",
        "t = \"abcdefghij\"\n",
        "print(t[2:len(t):3]) #cfi\n",
        "print(t[2::3])"
      ],
      "execution_count": null,
      "outputs": [
        {
          "output_type": "stream",
          "text": [
            "abc\n",
            "123def456\n",
            "ac2df5\n",
            "ac2df5\n",
            "cfi\n",
            "cfi\n"
          ],
          "name": "stdout"
        }
      ]
    },
    {
      "cell_type": "markdown",
      "metadata": {
        "id": "KnaQfM_ZlR2Y"
      },
      "source": [
        "Loop over strings or lists"
      ]
    },
    {
      "cell_type": "code",
      "metadata": {
        "colab": {
          "base_uri": "https://localhost:8080/"
        },
        "id": "PbStRRcEoJ4H",
        "outputId": "2bc91310-baa9-4a75-9016-3f2f12f59434"
      },
      "source": [
        "count = 0\n",
        "print(\"Count befire the loop\", count)\n",
        "for x in range(10,15):\n",
        "  count = count + x #update count by adding x\n",
        "  #pass # --> do nothing \n",
        "  print(\"Count after each iteration\", count, x)\n",
        "print(\"Count after the loop\", count)"
      ],
      "execution_count": null,
      "outputs": [
        {
          "output_type": "stream",
          "text": [
            "Count befire the loop 0\n",
            "Count after each iteration 10 10\n",
            "Count after each iteration 21 11\n",
            "Count after each iteration 33 12\n",
            "Count after each iteration 46 13\n",
            "Count after each iteration 60 14\n",
            "Count after the loop 60\n"
          ],
          "name": "stdout"
        }
      ]
    },
    {
      "cell_type": "code",
      "metadata": {
        "colab": {
          "base_uri": "https://localhost:8080/"
        },
        "id": "Ab3GcB77lTUo",
        "outputId": "763da1a8-89a9-4451-e52e-27e2fcf2bfda"
      },
      "source": [
        "t = \"Wow!! This is so! exciting!!!\"\n",
        "\n",
        "count = 0\n",
        "for i in range(len(t)): \n",
        "  print(i,t[i])\n",
        "  if t[i] == '!':\n",
        "   count = count + 1 \n",
        "print(\"The count of ! is: \", count)"
      ],
      "execution_count": null,
      "outputs": [
        {
          "output_type": "stream",
          "text": [
            "0 W\n",
            "1 o\n",
            "2 w\n",
            "3 !\n",
            "4 !\n",
            "5  \n",
            "6 T\n",
            "7 h\n",
            "8 i\n",
            "9 s\n",
            "10  \n",
            "11 i\n",
            "12 s\n",
            "13  \n",
            "14 s\n",
            "15 o\n",
            "16 !\n",
            "17  \n",
            "18 e\n",
            "19 x\n",
            "20 c\n",
            "21 i\n",
            "22 t\n",
            "23 i\n",
            "24 n\n",
            "25 g\n",
            "26 !\n",
            "27 !\n",
            "28 !\n",
            "The count of ! is:  6\n"
          ],
          "name": "stdout"
        }
      ]
    },
    {
      "cell_type": "code",
      "metadata": {
        "colab": {
          "base_uri": "https://localhost:8080/"
        },
        "id": "nY7gAsk3nj1s",
        "outputId": "17bc3233-fd48-4252-f625-06e69479ea2f"
      },
      "source": [
        "t = \"Wow!! This is so! exciting!!!\"\n",
        "\n",
        "start = 0\n",
        "stop = len(t)\n",
        "\n",
        "count = 0\n",
        "for i in range(start, stop): \n",
        "  print(i,t[i])\n",
        "  if t[i] == '!':\n",
        "   count = count + 1 \n",
        "print(\"The count of ! is: \", count)"
      ],
      "execution_count": null,
      "outputs": [
        {
          "output_type": "stream",
          "text": [
            "0 W\n",
            "1 o\n",
            "2 w\n",
            "3 !\n",
            "4 !\n",
            "5  \n",
            "6 T\n",
            "7 h\n",
            "8 i\n",
            "9 s\n",
            "10  \n",
            "11 i\n",
            "12 s\n",
            "13  \n",
            "14 s\n",
            "15 o\n",
            "16 !\n",
            "17  \n",
            "18 e\n",
            "19 x\n",
            "20 c\n",
            "21 i\n",
            "22 t\n",
            "23 i\n",
            "24 n\n",
            "25 g\n",
            "26 !\n",
            "27 !\n",
            "28 !\n",
            "The count of ! is:  6\n"
          ],
          "name": "stdout"
        }
      ]
    },
    {
      "cell_type": "code",
      "metadata": {
        "colab": {
          "base_uri": "https://localhost:8080/"
        },
        "id": "ZwMn_8StrmgU",
        "outputId": "0d7b0610-5a0b-40bd-c048-a1d54351e9e0"
      },
      "source": [
        "for i in range(5):\n",
        " print(i)"
      ],
      "execution_count": null,
      "outputs": [
        {
          "output_type": "stream",
          "text": [
            "0\n",
            "1\n",
            "2\n",
            "3\n",
            "4\n"
          ],
          "name": "stdout"
        }
      ]
    },
    {
      "cell_type": "code",
      "metadata": {
        "colab": {
          "base_uri": "https://localhost:8080/"
        },
        "id": "0S9zJxEgtWu1",
        "outputId": "e55e6a37-9bf6-4f9f-c13c-93952cba76aa"
      },
      "source": [
        "for i in range(5):\n",
        "  #print(i)\n",
        "  i=i+1\n",
        "  print(i)"
      ],
      "execution_count": null,
      "outputs": [
        {
          "output_type": "stream",
          "text": [
            "1\n",
            "2\n",
            "3\n",
            "4\n",
            "5\n"
          ],
          "name": "stdout"
        }
      ]
    },
    {
      "cell_type": "markdown",
      "metadata": {
        "id": "kNBoCTO1009G"
      },
      "source": [
        "## Trace table practice "
      ]
    },
    {
      "cell_type": "code",
      "metadata": {
        "colab": {
          "base_uri": "https://localhost:8080/"
        },
        "id": "dN6JptzI06M9",
        "outputId": "2f01ff4d-08b3-4c20-d580-e698108047f2"
      },
      "source": [
        "s = \"abccba\"\n",
        "print(\"Length of the string is: \", len(s))\n",
        "for i in range(len(s)):\n",
        "  print(i, s[i], s[len(s) - 1 -i], s[i] != s[len(s) - 1 -i])\n",
        "  if s[i] != s[len(s) - 1 -i]:\n",
        "   print(\"It is not a palindrome\")\n",
        "   break"
      ],
      "execution_count": null,
      "outputs": [
        {
          "output_type": "stream",
          "text": [
            "Length of the string is:  6\n",
            "0 a a False\n",
            "1 b b False\n",
            "2 c c False\n",
            "3 c c False\n",
            "4 b b False\n",
            "5 a a False\n"
          ],
          "name": "stdout"
        }
      ]
    },
    {
      "cell_type": "code",
      "metadata": {
        "colab": {
          "base_uri": "https://localhost:8080/"
        },
        "id": "x1CgkZEd8XLQ",
        "outputId": "b5dca7ae-4a7a-4b24-8fe4-fb65620c8b4d"
      },
      "source": [
        "'a' != 'b'"
      ],
      "execution_count": null,
      "outputs": [
        {
          "output_type": "execute_result",
          "data": {
            "text/plain": [
              "True"
            ]
          },
          "metadata": {
            "tags": []
          },
          "execution_count": 58
        }
      ]
    },
    {
      "cell_type": "code",
      "metadata": {
        "colab": {
          "base_uri": "https://localhost:8080/",
          "height": 35
        },
        "id": "lsN-0vuF8eoh",
        "outputId": "179d7ffc-77fc-4eea-9ce3-6ca51a3032db"
      },
      "source": [
        "\"hello \" + \"world\""
      ],
      "execution_count": null,
      "outputs": [
        {
          "output_type": "execute_result",
          "data": {
            "application/vnd.google.colaboratory.intrinsic+json": {
              "type": "string"
            },
            "text/plain": [
              "'hello world'"
            ]
          },
          "metadata": {
            "tags": []
          },
          "execution_count": 60
        }
      ]
    },
    {
      "cell_type": "code",
      "metadata": {
        "colab": {
          "base_uri": "https://localhost:8080/",
          "height": 35
        },
        "id": "n2xvgduj8kuT",
        "outputId": "68e5c06e-bbb7-4e99-b7c7-6e3f260fd1f1"
      },
      "source": [
        "\"hello \" * 3"
      ],
      "execution_count": null,
      "outputs": [
        {
          "output_type": "execute_result",
          "data": {
            "application/vnd.google.colaboratory.intrinsic+json": {
              "type": "string"
            },
            "text/plain": [
              "'hello hello hello '"
            ]
          },
          "metadata": {
            "tags": []
          },
          "execution_count": 62
        }
      ]
    },
    {
      "cell_type": "code",
      "metadata": {
        "colab": {
          "base_uri": "https://localhost:8080/"
        },
        "id": "JFpomgSM8rB5",
        "outputId": "aa305447-d126-454d-ab18-7c53d69793d0"
      },
      "source": [
        "'a' in 'apple'"
      ],
      "execution_count": null,
      "outputs": [
        {
          "output_type": "execute_result",
          "data": {
            "text/plain": [
              "True"
            ]
          },
          "metadata": {
            "tags": []
          },
          "execution_count": 63
        }
      ]
    },
    {
      "cell_type": "code",
      "metadata": {
        "colab": {
          "base_uri": "https://localhost:8080/"
        },
        "id": "-dDHJbqI88Hw",
        "outputId": "9a2a2fd5-36f4-4cd8-95a0-27b01b8a91b3"
      },
      "source": [
        "'a' < 'b' # ascii value "
      ],
      "execution_count": null,
      "outputs": [
        {
          "output_type": "execute_result",
          "data": {
            "text/plain": [
              "True"
            ]
          },
          "metadata": {
            "tags": []
          },
          "execution_count": 64
        }
      ]
    },
    {
      "cell_type": "code",
      "metadata": {
        "colab": {
          "base_uri": "https://localhost:8080/"
        },
        "id": "UeQUeVVW9fLa",
        "outputId": "64392037-b4ff-47fb-eee5-03434970d539"
      },
      "source": [
        "'bad'< 'bat'"
      ],
      "execution_count": null,
      "outputs": [
        {
          "output_type": "execute_result",
          "data": {
            "text/plain": [
              "True"
            ]
          },
          "metadata": {
            "tags": []
          },
          "execution_count": 66
        }
      ]
    },
    {
      "cell_type": "code",
      "metadata": {
        "colab": {
          "base_uri": "https://localhost:8080/"
        },
        "id": "KR4PK9ZD9kCo",
        "outputId": "e6cc8d45-df54-4373-dad1-3e8d0eac6764"
      },
      "source": [
        "'bad' > 'batter' # it will check until the condition is met and compare and stop."
      ],
      "execution_count": null,
      "outputs": [
        {
          "output_type": "execute_result",
          "data": {
            "text/plain": [
              "False"
            ]
          },
          "metadata": {
            "tags": []
          },
          "execution_count": 68
        }
      ]
    },
    {
      "cell_type": "code",
      "metadata": {
        "colab": {
          "base_uri": "https://localhost:8080/"
        },
        "id": "aocC1CTN9_eT",
        "outputId": "d2bf9860-ccd4-4728-be12-09ddb5cd4aea"
      },
      "source": [
        "s = '123'\n",
        "s.isdigit()"
      ],
      "execution_count": null,
      "outputs": [
        {
          "output_type": "execute_result",
          "data": {
            "text/plain": [
              "True"
            ]
          },
          "metadata": {
            "tags": []
          },
          "execution_count": 72
        }
      ]
    },
    {
      "cell_type": "code",
      "metadata": {
        "colab": {
          "base_uri": "https://localhost:8080/"
        },
        "id": "7HB3v4o1-6FQ",
        "outputId": "f7d9e5ca-3883-49b3-8a48-697d2dd16eb3"
      },
      "source": [
        "s = 'ifa'\n",
        "s_new = s.capitalize()\n",
        "s_uppercase = s.upper()\n",
        "\n",
        "print(s_new)\n",
        "print(s)\n",
        "print(s_uppercase)"
      ],
      "execution_count": null,
      "outputs": [
        {
          "output_type": "stream",
          "text": [
            "Ifa\n",
            "ifa\n",
            "IFA\n"
          ],
          "name": "stdout"
        }
      ]
    },
    {
      "cell_type": "code",
      "metadata": {
        "colab": {
          "base_uri": "https://localhost:8080/"
        },
        "id": "rcXC3aZS_nZn",
        "outputId": "a46a40f3-f9cf-4903-d938-de402add87a7"
      },
      "source": [
        "s = 'apple'\n",
        "print(s.count('p')) #count how many # of P in s\n",
        "print(\"number of occurances of pp: \", s.count('pp'))\n",
        "print(\"find the index of: \", s.find('le')) # because 'le' starts with index 3 \n",
        "print(\"find the index of: \", s.find('lex')) # return -1 if sub is not found "
      ],
      "execution_count": null,
      "outputs": [
        {
          "output_type": "stream",
          "text": [
            "2\n",
            "number of occurances of pp:  1\n",
            "find the index of:  3\n",
            "find the index of:  -1\n"
          ],
          "name": "stdout"
        }
      ]
    },
    {
      "cell_type": "code",
      "metadata": {
        "colab": {
          "base_uri": "https://localhost:8080/",
          "height": 35
        },
        "id": "pvtRzQPkA4BP",
        "outputId": "260f3ad6-867c-4e7c-823b-2f3519d9d86e"
      },
      "source": [
        "#find the first name in a given full name\n",
        "\n",
        "name = \"praveen garimella\"\n",
        "\n",
        "name = \"andy moore\"\n",
        "\n",
        "name = \"adfasdfa\"\n",
        "\n",
        "# how to identify the index of space\n",
        "# print(name.find(' '))\n",
        "name[0:name.find(' ')] # first name\n",
        "name[name.find(' ') + 1:] # last name "
      ],
      "execution_count": null,
      "outputs": [
        {
          "output_type": "execute_result",
          "data": {
            "application/vnd.google.colaboratory.intrinsic+json": {
              "type": "string"
            },
            "text/plain": [
              "'adfasdfa'"
            ]
          },
          "metadata": {
            "tags": []
          },
          "execution_count": 94
        }
      ]
    },
    {
      "cell_type": "markdown",
      "metadata": {
        "id": "diSDlleMe8TK"
      },
      "source": [
        "### variables and objects (June 15, 2021)"
      ]
    },
    {
      "cell_type": "code",
      "metadata": {
        "colab": {
          "base_uri": "https://localhost:8080/"
        },
        "id": "rf1h6YMUefmt",
        "outputId": "115761c7-9f58-48c2-f4bd-72ac3c014c36"
      },
      "source": [
        "# using and updating variables\n",
        "\n",
        "x = 5\n",
        "y = x - 2\n",
        "x = x - 1 # overwrite the previous x value\n",
        "\n",
        "print(\"x: \", x)"
      ],
      "execution_count": null,
      "outputs": [
        {
          "output_type": "stream",
          "text": [
            "x:  4\n"
          ],
          "name": "stdout"
        }
      ]
    },
    {
      "cell_type": "code",
      "metadata": {
        "colab": {
          "base_uri": "https://localhost:8080/",
          "height": 216
        },
        "id": "-PhJaOmigqAZ",
        "outputId": "b579e7a5-2cbc-4a60-bc00-aac63cefd57c"
      },
      "source": [
        "# python is sequential\n",
        "\n",
        "print(foo)\n",
        "foo = 42 # reverse the order to make it work (move to line 2)"
      ],
      "execution_count": null,
      "outputs": [
        {
          "output_type": "error",
          "ename": "NameError",
          "evalue": "ignored",
          "traceback": [
            "\u001b[0;31m---------------------------------------------------------------------------\u001b[0m",
            "\u001b[0;31mNameError\u001b[0m                                 Traceback (most recent call last)",
            "\u001b[0;32m<ipython-input-4-46521596171e>\u001b[0m in \u001b[0;36m<module>\u001b[0;34m()\u001b[0m\n\u001b[1;32m      1\u001b[0m \u001b[0;31m# python is sequential\u001b[0m\u001b[0;34m\u001b[0m\u001b[0;34m\u001b[0m\u001b[0;34m\u001b[0m\u001b[0m\n\u001b[1;32m      2\u001b[0m \u001b[0;34m\u001b[0m\u001b[0m\n\u001b[0;32m----> 3\u001b[0;31m \u001b[0mprint\u001b[0m\u001b[0;34m(\u001b[0m\u001b[0mfoo\u001b[0m\u001b[0;34m)\u001b[0m\u001b[0;34m\u001b[0m\u001b[0;34m\u001b[0m\u001b[0m\n\u001b[0m\u001b[1;32m      4\u001b[0m \u001b[0mfoo\u001b[0m \u001b[0;34m=\u001b[0m \u001b[0;36m42\u001b[0m \u001b[0;31m# reverse the order to make it work\u001b[0m\u001b[0;34m\u001b[0m\u001b[0;34m\u001b[0m\u001b[0m\n",
            "\u001b[0;31mNameError\u001b[0m: name 'foo' is not defined"
          ]
        }
      ]
    },
    {
      "cell_type": "code",
      "metadata": {
        "colab": {
          "base_uri": "https://localhost:8080/"
        },
        "id": "hyNYaoZgg-Gt",
        "outputId": "8d476219-c657-4239-ba07-1a3227fc3d36"
      },
      "source": [
        "#another example\n",
        "a =4\n",
        "b = a-2\n",
        "a = a+1\n",
        "b = 7\n",
        "\n",
        "print(\"a: \", a)\n",
        "print(\"b: \", b)"
      ],
      "execution_count": null,
      "outputs": [
        {
          "output_type": "stream",
          "text": [
            "a:  5\n",
            "b:  7\n"
          ],
          "name": "stdout"
        }
      ]
    },
    {
      "cell_type": "code",
      "metadata": {
        "colab": {
          "base_uri": "https://localhost:8080/"
        },
        "id": "CCPysZUZhdUN",
        "outputId": "bd0d3c48-06de-485d-8713-ce27b5de4f50"
      },
      "source": [
        "# finding data types using type function\n",
        "print(\"type of a: \", type(a))\n",
        "b = 2.7\n",
        "print(\"type of b: \", type(b))\n",
        "c = \"hello\"\n",
        "print(\"type of c: \", type(c))\n",
        "d = True\n",
        "print(\"type of d: \", type(d))\n",
        "e = []\n",
        "print(\"type of e: \", type(e))\n",
        "f = {}\n",
        "print(\"type of f: \", type(f))\n",
        "g = set()\n",
        "print(\"type of g: \", type(g))\n",
        "h = None\n",
        "print(\"type of h: \", type(h))\n",
        "\n",
        "z = a + b\n",
        "print(\"a as int: \", a)\n",
        "a = float(a)\n",
        "print(\"a as float: \", a)\n",
        "print(\"z: \", z)\n",
        "print(\"z: \", int(z)) # convert float to int\n",
        "print(\"a + b: \", type(z))\n",
        "\n",
        "z = str(a) + c\n",
        "print(\"a + c: \", z)"
      ],
      "execution_count": null,
      "outputs": [
        {
          "output_type": "stream",
          "text": [
            "type of a:  <class 'float'>\n",
            "type of b:  <class 'float'>\n",
            "type of c:  <class 'str'>\n",
            "type of d:  <class 'bool'>\n",
            "type of e:  <class 'list'>\n",
            "type of f:  <class 'dict'>\n",
            "type of g:  <class 'set'>\n",
            "type of h:  <class 'NoneType'>\n",
            "a as int:  5.0\n",
            "a as float:  5.0\n",
            "z:  7.7\n",
            "z:  7\n",
            "a + b:  <class 'float'>\n",
            "a + c:  5.0hello\n"
          ],
          "name": "stdout"
        }
      ]
    },
    {
      "cell_type": "code",
      "metadata": {
        "colab": {
          "base_uri": "https://localhost:8080/"
        },
        "id": "TeGXbB09mpf3",
        "outputId": "20e88b0a-b1d9-4192-95ee-3bd904d67bf4"
      },
      "source": [
        "# check if z is a string\n",
        "z = \"hi\"\n",
        "print(isinstance(z, str))"
      ],
      "execution_count": null,
      "outputs": [
        {
          "output_type": "stream",
          "text": [
            "True\n"
          ],
          "name": "stdout"
        }
      ]
    },
    {
      "cell_type": "code",
      "metadata": {
        "colab": {
          "base_uri": "https://localhost:8080/",
          "height": 268
        },
        "id": "wopir934nnv8",
        "outputId": "1db99f40-99f9-4b9e-a109-02c960e3ae80"
      },
      "source": [
        "# functions vs methods (refer to python.doc built in functions)\n",
        "\n",
        "#result = type(a) #input #function\n",
        "result = isinstance(a, str)\n",
        "print(\"result: \", result)    #output\n",
        "print(\"type of result: \", type(result))\n",
        "print(\"type of a: \", type(a)) #composing multiple functions together\n",
        "\n",
        "# c.upper() #method -> similar to function but have different structure \n",
        "result = c.upper() # if it were a function, it would have been \"upper(c)\"\n",
        "result = a.upper()\n",
        "print(\"result of upper: \", result)"
      ],
      "execution_count": null,
      "outputs": [
        {
          "output_type": "stream",
          "text": [
            "result:  False\n",
            "type of result:  <class 'bool'>\n",
            "type of a:  <class 'float'>\n"
          ],
          "name": "stdout"
        },
        {
          "output_type": "error",
          "ename": "AttributeError",
          "evalue": "ignored",
          "traceback": [
            "\u001b[0;31m---------------------------------------------------------------------------\u001b[0m",
            "\u001b[0;31mAttributeError\u001b[0m                            Traceback (most recent call last)",
            "\u001b[0;32m<ipython-input-35-8d7820e018db>\u001b[0m in \u001b[0;36m<module>\u001b[0;34m()\u001b[0m\n\u001b[1;32m      9\u001b[0m \u001b[0;31m# c.upper() #method -> similar to function but have different structure\u001b[0m\u001b[0;34m\u001b[0m\u001b[0;34m\u001b[0m\u001b[0;34m\u001b[0m\u001b[0m\n\u001b[1;32m     10\u001b[0m \u001b[0mresult\u001b[0m \u001b[0;34m=\u001b[0m \u001b[0mc\u001b[0m\u001b[0;34m.\u001b[0m\u001b[0mupper\u001b[0m\u001b[0;34m(\u001b[0m\u001b[0;34m)\u001b[0m \u001b[0;31m# if it were a function, it would have been \"upper(c)\"\u001b[0m\u001b[0;34m\u001b[0m\u001b[0;34m\u001b[0m\u001b[0m\n\u001b[0;32m---> 11\u001b[0;31m \u001b[0mresult\u001b[0m \u001b[0;34m=\u001b[0m \u001b[0ma\u001b[0m\u001b[0;34m.\u001b[0m\u001b[0mupper\u001b[0m\u001b[0;34m(\u001b[0m\u001b[0;34m)\u001b[0m\u001b[0;34m\u001b[0m\u001b[0;34m\u001b[0m\u001b[0m\n\u001b[0m\u001b[1;32m     12\u001b[0m \u001b[0mprint\u001b[0m\u001b[0;34m(\u001b[0m\u001b[0;34m\"result of upper: \"\u001b[0m\u001b[0;34m,\u001b[0m \u001b[0mresult\u001b[0m\u001b[0;34m)\u001b[0m\u001b[0;34m\u001b[0m\u001b[0;34m\u001b[0m\u001b[0m\n",
            "\u001b[0;31mAttributeError\u001b[0m: 'float' object has no attribute 'upper'"
          ]
        }
      ]
    },
    {
      "cell_type": "markdown",
      "metadata": {
        "id": "i5HpENjOzfc5"
      },
      "source": [
        "Learning Goals\n",
        "1. Read and write code using 1D and 2D lists\n",
        "2. Use list methods to change lists "
      ]
    },
    {
      "cell_type": "code",
      "metadata": {
        "colab": {
          "base_uri": "https://localhost:8080/"
        },
        "id": "rqVSWsv3zXUy",
        "outputId": "c5794059-8e64-4bd4-b138-a3f8115c8e16"
      },
      "source": [
        "# an empty list\n",
        "a = []\n",
        "print(\"items in list are: \", a)\n",
        "a = [\"one\", \"two\", \"three\"]\n",
        "print(\"items in list are: \", a)\n",
        "a = [1, \"two\", 3.0] # you can have mixed types of data in the list\n",
        "print(\"items in list are: \", a)"
      ],
      "execution_count": null,
      "outputs": [
        {
          "output_type": "stream",
          "text": [
            "items in list are:  []\n",
            "items in list are:  ['one', 'two', 'three']\n",
            "items in list are:  [1, 'two', 3.0]\n"
          ],
          "name": "stdout"
        }
      ]
    },
    {
      "cell_type": "code",
      "metadata": {
        "colab": {
          "base_uri": "https://localhost:8080/"
        },
        "id": "GbMBzkHI1CT-",
        "outputId": "b8e12da3-19dd-40a2-d190-1ca72df54e33"
      },
      "source": [
        "a = [1,2] + [3,4]\n",
        "print(\"items in list are: \", a) # combine to a single list\n",
        "a = [\"a\", \"b\"] * 3\n",
        "print(\"items in list are: \", a)\n",
        "x = [1,5] < [2,4] #comparing the first value of the list\n",
        "print(\"result of comparing two lists: \", x)\n",
        "y = [1,5] < [1,4]\n",
        "print(\"result of comparing two lists: \", y)\n",
        "z = [1,4] == [1,4]\n",
        "print(\"result of comparing two lists: \", z)\n",
        "w = [1,4,5] == [1,4]\n",
        "print(\"result of comparing two lists: \", w)\n",
        "x = 4 in [1,2,3]\n",
        "print(\"membership of item in the list: \", x)\n",
        "\n",
        "s = \"hello\"\n",
        "print(\"the third char of s: \" + s[1])\n",
        "print(\"the third char of s: \" + s[:4])\n",
        "\n",
        "l = [1,2,3,4,-1,7,10,3,3,3]\n",
        "print(\"index of the list: \", l[-1]) # last item on the list\n",
        "print(\"index of the list: \", l[:]) #compelete list "
      ],
      "execution_count": null,
      "outputs": [
        {
          "output_type": "stream",
          "text": [
            "items in list are:  [1, 2, 3, 4]\n",
            "items in list are:  ['a', 'b', 'a', 'b', 'a', 'b']\n",
            "result of comparing two lists:  True\n",
            "result of comparing two lists:  False\n",
            "result of comparing two lists:  True\n",
            "result of comparing two lists:  False\n",
            "membership of item in the list:  False\n",
            "the third char of s: e\n",
            "the third char of s: hell\n",
            "index of the list:  3\n",
            "index of the list:  [1, 2, 3, 4, -1, 7, 10, 3, 3, 3]\n"
          ],
          "name": "stdout"
        }
      ]
    },
    {
      "cell_type": "code",
      "metadata": {
        "colab": {
          "base_uri": "https://localhost:8080/"
        },
        "id": "m0oBTjuJ3mOV",
        "outputId": "37696e52-e7db-4a98-b556-69de216344fb"
      },
      "source": [
        "# the following functions work on lists\n",
        "print(\"length of the list is: \", len(l))\n",
        "print(\"min value in the list is: \", min(l))\n",
        "print(\"max value in the list is: \", max(l))\n",
        "print(\"sum value in the list is: \", sum(l)) # add up all the values\n",
        "\n",
        "# there are a few methods for lists\n",
        "print(\"return the number of times 3 repeats in the list: \", l.count(3))\n",
        "print(\"index of max int he list: \", l.index(max(l)))"
      ],
      "execution_count": null,
      "outputs": [
        {
          "output_type": "stream",
          "text": [
            "length of the list is:  10\n",
            "min value in the list is:  -1\n",
            "max value in the list is:  10\n",
            "sum value in the list is:  35\n",
            "return the number of times 3 repeats in the list:  4\n",
            "index of max int he list:  6\n"
          ],
          "name": "stdout"
        }
      ]
    },
    {
      "cell_type": "code",
      "metadata": {
        "colab": {
          "base_uri": "https://localhost:8080/"
        },
        "id": "LRYQYL5V5jCG",
        "outputId": "9e56c0b5-c9d6-4678-a2e8-2736c603308c"
      },
      "source": [
        "# loopinng over lists\n",
        "\n",
        "print(\"l:\", l)\n",
        "l = [1,2,3,4,5]\n",
        "mean = sum(l)/len(l)\n",
        "print(\"mean: \", mean)"
      ],
      "execution_count": null,
      "outputs": [
        {
          "output_type": "stream",
          "text": [
            "l: [1, 2, 3, 4, 5]\n",
            "mean:  3.0\n"
          ],
          "name": "stdout"
        }
      ]
    },
    {
      "cell_type": "code",
      "metadata": {
        "colab": {
          "base_uri": "https://localhost:8080/"
        },
        "id": "nMrPbzph7Sw_",
        "outputId": "def36e05-150e-4552-da52-01bda4858135"
      },
      "source": [
        "print(\"l:\", l)\n",
        "print() # print blank line\n",
        "l = [11,21,31,41,51]\n",
        "\n",
        "sum = 0\n",
        "for i in l: \n",
        "  sum = sum + i\n",
        "  print(i, sum)\n",
        "print(\"sum of numbers in l is: \", sum)\n",
        "mean = sum/ len(l)\n",
        "print(\"mean: \", mean)"
      ],
      "execution_count": null,
      "outputs": [
        {
          "output_type": "stream",
          "text": [
            "l: [11, 21, 31, 41, 51]\n",
            "\n",
            "11 11\n",
            "21 32\n",
            "31 63\n",
            "41 104\n",
            "51 155\n",
            "sum of numbers in l is:  155\n",
            "mean:  31.0\n"
          ],
          "name": "stdout"
        }
      ]
    },
    {
      "cell_type": "code",
      "metadata": {
        "colab": {
          "base_uri": "https://localhost:8080/"
        },
        "id": "hxeF_CFw80nY",
        "outputId": "f808d9fe-7ee9-4745-bbf1-1d36ac241790"
      },
      "source": [
        "l = ['a', 'b', 'c', 'd', 'e']\n",
        "\n",
        "# write a loop to print the items \n",
        "# that are in the even numbered index\n",
        "\n",
        "for i in range(len(l)):\n",
        "  if i % 2 == 0: # modulo - balance(remainder of division) is equal to 0\n",
        "    print(l[i])"
      ],
      "execution_count": null,
      "outputs": [
        {
          "output_type": "stream",
          "text": [
            "a\n",
            "c\n",
            "e\n"
          ],
          "name": "stdout"
        }
      ]
    },
    {
      "cell_type": "code",
      "metadata": {
        "colab": {
          "base_uri": "https://localhost:8080/"
        },
        "id": "cgsygETfCYSj",
        "outputId": "9723f700-229b-4739-d0bb-47ade486ba27"
      },
      "source": [
        "l = ['a', 'b', 'c', 'd', 'e']\n",
        "\n",
        "# write a loop to print the items \n",
        "# that are in the odd numbered index\n",
        "\n",
        "for i in range(len(l)):\n",
        "  if i % 2 != 0: # modulo - balance(remainder of division) is not equal to 0\n",
        "    print(l[i])"
      ],
      "execution_count": null,
      "outputs": [
        {
          "output_type": "stream",
          "text": [
            "b\n",
            "d\n"
          ],
          "name": "stdout"
        }
      ]
    },
    {
      "cell_type": "code",
      "metadata": {
        "colab": {
          "base_uri": "https://localhost:8080/"
        },
        "id": "CQgf1csE-ZDl",
        "outputId": "fbbf0a19-fa91-4135-975d-a3de951875cd"
      },
      "source": [
        "x = [\"a\", \"b\", 1 , 2]\n",
        "print(x[1])\n",
        "\n",
        "s = \"\" # empty string\n",
        "for i in range(len(x)):\n",
        "  print(\"i is: \", i)\n",
        "  print(\"x[i] is: \", x[i])\n",
        "  print(\"s is: \", s)\n",
        "  s = s + str(x[i])\n",
        "  print()\n",
        "print(\"s after for loop: \", s)"
      ],
      "execution_count": null,
      "outputs": [
        {
          "output_type": "stream",
          "text": [
            "b\n",
            "i is:  0\n",
            "x[i] is:  a\n",
            "s is:  \n",
            "\n",
            "i is:  1\n",
            "x[i] is:  b\n",
            "s is:  a\n",
            "\n",
            "i is:  2\n",
            "x[i] is:  1\n",
            "s is:  ab\n",
            "\n",
            "i is:  3\n",
            "x[i] is:  2\n",
            "s is:  ab1\n",
            "\n",
            "s after for loop:  ab12\n"
          ],
          "name": "stdout"
        }
      ]
    },
    {
      "cell_type": "code",
      "metadata": {
        "colab": {
          "base_uri": "https://localhost:8080/"
        },
        "id": "DRTeZ4dAC13v",
        "outputId": "427875c6-7e2d-4ab9-c58c-1414254dd172"
      },
      "source": [
        "# 2D list (2 dimensional list) # lists of the lists (nested list)- example: table data\n",
        "\n",
        "baby_names = [\n",
        "              [\"Jacob\", 1, \"boy\", 2010],\n",
        "              [\"Isabella\", 1, \"girl\", 2010],\n",
        "              [\"Ethan\", 2, \"boy\", 2010],\n",
        "              [\"Michael\", 3, \"boy\", 2010]\n",
        "              ]\n",
        "print(baby_names)\n",
        "print(baby_names[1])\n",
        "print(baby_names[1][0])\n",
        "\n",
        "print(\"len of outer list: \", len(baby_names)) #outer list has 3 inner lists\n",
        "print(\"len of inner list: \", len(baby_names[0])) #length of the particular row "
      ],
      "execution_count": null,
      "outputs": [
        {
          "output_type": "stream",
          "text": [
            "[['Jacob', 1, 'boy', 2010], ['Isabella', 1, 'girl', 2010], ['Ethan', 2, 'boy', 2010], ['Michael', 3, 'boy', 2010]]\n",
            "['Isabella', 1, 'girl', 2010]\n",
            "Isabella\n",
            "len of outer list:  4\n",
            "len of inner list:  4\n"
          ],
          "name": "stdout"
        }
      ]
    },
    {
      "cell_type": "code",
      "metadata": {
        "colab": {
          "base_uri": "https://localhost:8080/"
        },
        "id": "_bzTg1ilFie0",
        "outputId": "bbc23ff8-8919-401f-defb-0c5f7d32e4cb"
      },
      "source": [
        "# looping over 2D lists\n",
        "\n",
        "for i in range(len(baby_names)):\n",
        " print(\"row \", i+1 , \": \", baby_names[i])"
      ],
      "execution_count": null,
      "outputs": [
        {
          "output_type": "stream",
          "text": [
            "row  1 :  ['Jacob', 1, 'boy', 2010]\n",
            "row  2 :  ['Isabella', 1, 'girl', 2010]\n",
            "row  3 :  ['Ethan', 2, 'boy', 2010]\n",
            "row  4 :  ['Michael', 3, 'boy', 2010]\n"
          ],
          "name": "stdout"
        }
      ]
    },
    {
      "cell_type": "code",
      "metadata": {
        "colab": {
          "base_uri": "https://localhost:8080/"
        },
        "id": "kl0oaBllF-H6",
        "outputId": "6bf0511e-c286-4a33-be8e-11d0f3df7425"
      },
      "source": [
        "count = 0\n",
        "for i in range(len(baby_names)):\n",
        "  if baby_names[i][2] == 'boy':\n",
        "    count = count + 1\n",
        "print (count)"
      ],
      "execution_count": null,
      "outputs": [
        {
          "output_type": "stream",
          "text": [
            "3\n"
          ],
          "name": "stdout"
        }
      ]
    },
    {
      "cell_type": "code",
      "metadata": {
        "colab": {
          "base_uri": "https://localhost:8080/"
        },
        "id": "vGuAno2WkeUn",
        "outputId": "3d4e2db3-bffe-4a05-f6ec-6ecfde02275c"
      },
      "source": [
        "print(l)\n",
        "l.append('x') # item is added to the end of the list\n",
        "print(l)\n",
        "l.insert(-2, 'f')\n",
        "print(l)\n",
        "l.insert(0, 'z')\n",
        "print(l)"
      ],
      "execution_count": null,
      "outputs": [
        {
          "output_type": "stream",
          "text": [
            "['z', 'a', 'b', 'c', 'd', 'e', 'f', 'x']\n",
            "['z', 'a', 'b', 'c', 'd', 'e', 'f', 'x', 'x']\n",
            "['z', 'a', 'b', 'c', 'd', 'e', 'f', 'f', 'x', 'x']\n",
            "['z', 'z', 'a', 'b', 'c', 'd', 'e', 'f', 'f', 'x', 'x']\n"
          ],
          "name": "stdout"
        }
      ]
    },
    {
      "cell_type": "code",
      "metadata": {
        "colab": {
          "base_uri": "https://localhost:8080/"
        },
        "id": "YTWOQyMOm8N5",
        "outputId": "042fb13d-e757-4340-bd02-d95c215f57d1"
      },
      "source": [
        "print(l)\n",
        "print()\n",
        "\n",
        "for i in range(len(l)):\n",
        "  print(i, l[i], l.count(l[i]))\n",
        "  if l.count(l[i]) > 1: # if there is a duplicate, count value will be greater than 1\n",
        "    l.remove(l[i])\n",
        "\n",
        "    # to handle the index out of range error\n",
        "    if i == len(l) - 1: # because index starts from 0\n",
        "      break\n",
        " \n",
        "\n",
        "print() \n",
        "print(l)"
      ],
      "execution_count": null,
      "outputs": [
        {
          "output_type": "stream",
          "text": [
            "['z', 'z', 'a', 'b', 'c', 'd', 'e', 'f', 'f', 'x', 'x']\n",
            "\n",
            "0 z 2\n",
            "1 a 1\n",
            "2 b 1\n",
            "3 c 1\n",
            "4 d 1\n",
            "5 e 1\n",
            "6 f 2\n",
            "7 x 2\n",
            "\n",
            "['z', 'a', 'b', 'c', 'd', 'e', 'f', 'x']\n"
          ],
          "name": "stdout"
        }
      ]
    },
    {
      "cell_type": "code",
      "metadata": {
        "colab": {
          "base_uri": "https://localhost:8080/"
        },
        "id": "7GTLeWa-pjWK",
        "outputId": "5d740185-7e66-4dd2-fc35-59679c2210e2"
      },
      "source": [
        "x = [1,2,3,4]\n",
        "x.count(1)"
      ],
      "execution_count": null,
      "outputs": [
        {
          "output_type": "execute_result",
          "data": {
            "text/plain": [
              "1"
            ]
          },
          "metadata": {
            "tags": []
          },
          "execution_count": 124
        }
      ]
    },
    {
      "cell_type": "code",
      "metadata": {
        "colab": {
          "base_uri": "https://localhost:8080/",
          "height": 182
        },
        "id": "_LYj5FJwoW0u",
        "outputId": "e810d688-333c-4716-8a2c-db23ca0fcb34"
      },
      "source": [
        "x = [1,2,3]\n",
        "x[4]"
      ],
      "execution_count": null,
      "outputs": [
        {
          "output_type": "error",
          "ename": "IndexError",
          "evalue": "ignored",
          "traceback": [
            "\u001b[0;31m---------------------------------------------------------------------------\u001b[0m",
            "\u001b[0;31mIndexError\u001b[0m                                Traceback (most recent call last)",
            "\u001b[0;32m<ipython-input-120-2dc34aeab767>\u001b[0m in \u001b[0;36m<module>\u001b[0;34m()\u001b[0m\n\u001b[1;32m      1\u001b[0m \u001b[0mx\u001b[0m \u001b[0;34m=\u001b[0m \u001b[0;34m[\u001b[0m\u001b[0;36m1\u001b[0m\u001b[0;34m,\u001b[0m\u001b[0;36m2\u001b[0m\u001b[0;34m,\u001b[0m\u001b[0;36m3\u001b[0m\u001b[0;34m]\u001b[0m\u001b[0;34m\u001b[0m\u001b[0;34m\u001b[0m\u001b[0m\n\u001b[0;32m----> 2\u001b[0;31m \u001b[0mx\u001b[0m\u001b[0;34m[\u001b[0m\u001b[0;36m4\u001b[0m\u001b[0;34m]\u001b[0m\u001b[0;34m\u001b[0m\u001b[0;34m\u001b[0m\u001b[0m\n\u001b[0m",
            "\u001b[0;31mIndexError\u001b[0m: list index out of range"
          ]
        }
      ]
    },
    {
      "cell_type": "code",
      "metadata": {
        "colab": {
          "base_uri": "https://localhost:8080/"
        },
        "id": "noB3uVAfsIWh",
        "outputId": "d7e7bfa0-2b66-4fca-b0e6-4b552ca8ff16"
      },
      "source": [
        "l.sort()\n",
        "print(l)"
      ],
      "execution_count": null,
      "outputs": [
        {
          "output_type": "stream",
          "text": [
            "['a', 'b', 'c', 'd', 'e', 'f', 'x', 'z']\n"
          ],
          "name": "stdout"
        }
      ]
    },
    {
      "cell_type": "code",
      "metadata": {
        "colab": {
          "base_uri": "https://localhost:8080/",
          "height": 216
        },
        "id": "mVblgJk-ssnF",
        "outputId": "5d68d77e-83cc-4280-ff1d-b954e30db44c"
      },
      "source": [
        "# immutable data types    # immutable data cannot be changed but can be replaced. \n",
        "\n",
        "s = \"hola\"\n",
        "print(s[1])\n",
        "s[1] = 't' #individual data cannot be changed. "
      ],
      "execution_count": null,
      "outputs": [
        {
          "output_type": "stream",
          "text": [
            "o\n"
          ],
          "name": "stdout"
        },
        {
          "output_type": "error",
          "ename": "TypeError",
          "evalue": "ignored",
          "traceback": [
            "\u001b[0;31m---------------------------------------------------------------------------\u001b[0m",
            "\u001b[0;31mTypeError\u001b[0m                                 Traceback (most recent call last)",
            "\u001b[0;32m<ipython-input-138-b4f27a2a4a89>\u001b[0m in \u001b[0;36m<module>\u001b[0;34m()\u001b[0m\n\u001b[1;32m      3\u001b[0m \u001b[0ms\u001b[0m \u001b[0;34m=\u001b[0m \u001b[0;34m\"hola\"\u001b[0m\u001b[0;34m\u001b[0m\u001b[0;34m\u001b[0m\u001b[0m\n\u001b[1;32m      4\u001b[0m \u001b[0mprint\u001b[0m\u001b[0;34m(\u001b[0m\u001b[0ms\u001b[0m\u001b[0;34m[\u001b[0m\u001b[0;36m1\u001b[0m\u001b[0;34m]\u001b[0m\u001b[0;34m)\u001b[0m\u001b[0;34m\u001b[0m\u001b[0;34m\u001b[0m\u001b[0m\n\u001b[0;32m----> 5\u001b[0;31m \u001b[0ms\u001b[0m\u001b[0;34m[\u001b[0m\u001b[0;36m1\u001b[0m\u001b[0;34m]\u001b[0m \u001b[0;34m=\u001b[0m \u001b[0;34m't'\u001b[0m\u001b[0;34m\u001b[0m\u001b[0;34m\u001b[0m\u001b[0m\n\u001b[0m",
            "\u001b[0;31mTypeError\u001b[0m: 'str' object does not support item assignment"
          ]
        }
      ]
    },
    {
      "cell_type": "code",
      "metadata": {
        "colab": {
          "base_uri": "https://localhost:8080/"
        },
        "id": "IbSOwZovtueY",
        "outputId": "0e9bd19d-04a4-4c06-9403-c7342a09bf8f"
      },
      "source": [
        "# how to create a set\n",
        "\n",
        "t = {1,2,3,1,2,3,1,2,3}\n",
        "print(t)"
      ],
      "execution_count": null,
      "outputs": [
        {
          "output_type": "stream",
          "text": [
            "{1, 2, 3}\n"
          ],
          "name": "stdout"
        }
      ]
    },
    {
      "cell_type": "code",
      "metadata": {
        "colab": {
          "base_uri": "https://localhost:8080/"
        },
        "id": "6CwLZhrVu7ny",
        "outputId": "b55b4284-9720-4e0b-88ff-85717fc7a6d6"
      },
      "source": [
        "# dictionary data structure (key & value pair = attribute & value pair)\n",
        "\n",
        "students = {\n",
        "    1: \"abc\",\n",
        "    2: \"def\",\n",
        "    3: \"ghi\",\n",
        "    1: \"xyz\"\n",
        "}\n",
        "\n",
        "print(students.keys())\n",
        "print(students[1])"
      ],
      "execution_count": null,
      "outputs": [
        {
          "output_type": "stream",
          "text": [
            "dict_keys([1, 2, 3])\n",
            "xyz\n"
          ],
          "name": "stdout"
        }
      ]
    },
    {
      "cell_type": "code",
      "metadata": {
        "colab": {
          "base_uri": "https://localhost:8080/"
        },
        "id": "1gUz2dPowlY4",
        "outputId": "4a7b1aba-3b75-4dba-a2a0-98d72d8e34c8"
      },
      "source": [
        "# loop over dictionary   #dictionary is useful when you count items\n",
        "\n",
        "for k in students:\n",
        "  print(k, students[k])"
      ],
      "execution_count": null,
      "outputs": [
        {
          "output_type": "stream",
          "text": [
            "1 xyz\n",
            "2 def\n",
            "3 ghi\n"
          ],
          "name": "stdout"
        }
      ]
    },
    {
      "cell_type": "code",
      "metadata": {
        "id": "NwvnwLgpxCY2"
      },
      "source": [
        "# '3 quotes' to insert a text\n",
        "s = ''' \n",
        "Marjorie Madeline Henzell (born 21 September 1948) is an Australian politician. She was an Australian Labor Party member of the Australian House of Representatives from 1993 to 1996, representing the electorate of Capricornia.\n",
        "\n",
        "Henzell graduated from the University of Melbourne with a Bachelor of Arts and Diploma of Social Studies before becoming a social worker.[1] At the time of her election to parliament, she managed a counselling service supporting the employees of two coal mines at Middlemount and Tieri outside Rockhampton, along with their associated communities.[2]\n",
        "\n",
        "She was elected to the House of Representatives at the 1993 federal election, defeating disgraced ex-Labor MP Keith Wright, who was recontesting as an independent despite facing criminal child sex charges.[3] Henzell became the first woman MP to hold the seat in its history.[4] She later described her ability to be elected as a woman in Capricornia at that time as a \"quirk of history\" and that she was \"only here\" because of Wright's conduct. Henzell was aligned with the party's Labor Left faction.[5] She was appointed deputy chairman of the Labor caucus in 1993.[6]\n",
        "\n",
        "As a new MP, Henzell described Question Time as \"a bit of a boys' locker room\" and described her own approach to parliament as a woman as \"I won't sit around being patted on the head. We didn't get here to be sweet and malleable, but we can play hard ball without personal abuse.\"[7] She publicly criticised senior colleague John Dawkins for referring to opposition MP Kathy Sullivan as \"sweetheart\" in parliament in 1993.[5] In 1994, she questioned her own party's Prime Minister, Paul Keating, about his decision to personally take over the women's affairs portfolio following the resignation of Ros Kelly, asking him if he did not believe anyone in the caucus was sufficiently able; an angry Keating claimed Henzell was sexist, and Henzell expressed her annoyance at not being taken seriously over the issue.[8][5]\n",
        "\n",
        "In 1994, as chairwoman of a federal parliamentary inquiry into the implementation of the recommendations of the Royal Commission into Black Deaths in Custody, Henzell attacked state governments for not using or inappropriately using $50 million in federal implementation funding, stating (in relation to New South Wales) that \"two years down the track no service has been put into place for the people they were designed to assist\", criticising the poor state of services for Aboriginal people, and stating \"the only conclusion you can draw is the fact that there is a continuing abrogation of people's rights...the fact that we are tolerating this sort of racism diminishes us as a country.\" She also lambasted the Victorian government for failing to implement key recommendations of the Royal Commission and failing to submit reports on its implementation progress.[9][10]\n",
        "\n",
        "In October 1994, in relation to a contentious debate on a sexual privacy bill, Henzell claimed in parliament that \"we are all born bisexual\", which made front-page news in the Rockhampton newspaper The Morning Bulletin and led to her receiving many angry letters from constituents; she subsequently clarified that her comment \"was not referring to people's sexual orientation; it referred to the fact that we all have male and female traits and hormones and that human sexuality is a widely misunderstood subject\".[11] In September 1995, she was one of several Labor MPs to speak in parliament against a bill to sell off the Australian National Line, even though she later voted for it in line with caucus solidarity rules.[12] Throughout all or most of her term, she was a member of the Joint Select Committee on Certain Family Law Issues and the House of Representatives Standing Committees on Aboriginal and Torres Strait Islander Affairs and Long Term Strategies.[1] She was defeated by National Party candidate Paul Marek at the 1996 federal election.[13]\n",
        "\n",
        "She later relocated to Armidale in New South Wales and was an unsuccessful candidate for the Armidale Dumaresq Council in 2004.[14] She remained involved with the Labor Party and served as secretary of the party's Armidale State Electoral Council.[15]\n",
        "'''"
      ],
      "execution_count": null,
      "outputs": []
    },
    {
      "cell_type": "code",
      "metadata": {
        "colab": {
          "base_uri": "https://localhost:8080/"
        },
        "id": "NTX9eiZs73lo",
        "outputId": "f25203cb-4453-41b8-a3e4-e57ebccafa75"
      },
      "source": [
        "t = {'later':1, 'in':5}\n",
        "t['later'] += 1\n",
        "# t['later'] = t['later'] + 1\n",
        "print(t)"
      ],
      "execution_count": null,
      "outputs": [
        {
          "output_type": "stream",
          "text": [
            "{'later': 2, 'in': 5}\n"
          ],
          "name": "stdout"
        }
      ]
    },
    {
      "cell_type": "code",
      "metadata": {
        "colab": {
          "base_uri": "https://localhost:8080/"
        },
        "id": "2ho_byvHA3S1",
        "outputId": "de22cf34-44ba-4d74-ad17-6c87e6a66e50"
      },
      "source": [
        "import re\n",
        "s = \"Hello!!! (World) [123]\"\n",
        "s = re.sub(r\"!\", \" \", s) #pre-syntax r before the unwanted expression and replace with space (\" \")\n",
        "s = re.sub(r\"\\(\", \" \", s)\n",
        "s = re.sub(r\"\\)\", \" \", s)\n",
        "s = re.sub(r\"\\[\", \" \", s)\n",
        "s = re.sub(r\"\\]\", \" \", s)\n",
        "s = re.sub(r\"0-9\", \" \", s) # get rid of numbers \n",
        "print(s)"
      ],
      "execution_count": null,
      "outputs": [
        {
          "output_type": "stream",
          "text": [
            "Hello     World   123 \n"
          ],
          "name": "stdout"
        }
      ]
    },
    {
      "cell_type": "code",
      "metadata": {
        "colab": {
          "base_uri": "https://localhost:8080/"
        },
        "id": "itnN-Doxx0zL",
        "outputId": "b3c95d5f-85ab-45a4-c151-aff07cce1700"
      },
      "source": [
        "# print(len(s)) \n",
        "\n",
        "# use regular express to replacce unwanted characters with spaces\n",
        "s =re.sub(r\"\\(\", \" \", s)\n",
        "s =re.sub(r\"\\)\", \" \", s)\n",
        "s =re.sub(r\"\\[\", \" \", s)\n",
        "s =re.sub(r\"\\]\", \" \", s)\n",
        "s =re.sub(r\"\\.\", \" \", s)\n",
        "s =re.sub(r\",\", \" \", s)\n",
        "s =re.sub(r\";\", \" \", s)\n",
        "s =re.sub(r\"\\'\", \" \", s)\n",
        "s =re.sub(r\"\\\"\", \" \", s)\n",
        "\n",
        "word_list = s.split(\" \") #split by space between words\n",
        "print(word_list)\n",
        "print(\"number of words in the list: \", len(word_list))\n",
        "\n",
        "# use the word list to build a dictionary\n",
        "words = {} # create an empty dictionary first\n",
        "\n",
        "# loop over the word list\n",
        "for i in range(len(word_list)) :\n",
        "  w = word_list[i].strip()  # to remove white space \n",
        "  w = w.lower() # covert to lower case to maximize the chance to match words\n",
        "  if w in words: # if the word is already in the list\n",
        "    words[w] += 1 # increase the value by 1\n",
        "  else:\n",
        "    words[w] = 1\n",
        "\n",
        "# pretty print dictionary\n",
        "for k in words:\n",
        " print(k, words[k])"
      ],
      "execution_count": null,
      "outputs": [
        {
          "output_type": "stream",
          "text": [
            "['', '\\nMarjorie', 'Madeline', 'Henzell', '', 'born', '21', 'September', '1948', '', 'is', 'an', 'Australian', 'politician', '', 'She', 'was', 'an', 'Australian', 'Labor', 'Party', 'member', 'of', 'the', 'Australian', 'House', 'of', 'Representatives', 'from', '1993', 'to', '1996', '', 'representing', 'the', 'electorate', 'of', 'Capricornia', '\\n\\nHenzell', 'graduated', 'from', 'the', 'University', 'of', 'Melbourne', 'with', 'a', 'Bachelor', 'of', 'Arts', 'and', 'Diploma', 'of', 'Social', 'Studies', 'before', 'becoming', 'a', 'social', 'worker', '', '1', '', 'At', 'the', 'time', 'of', 'her', 'election', 'to', 'parliament', '', 'she', 'managed', 'a', 'counselling', 'service', 'supporting', 'the', 'employees', 'of', 'two', 'coal', 'mines', 'at', 'Middlemount', 'and', 'Tieri', 'outside', 'Rockhampton', '', 'along', 'with', 'their', 'associated', 'communities', '', '2', '\\n\\nShe', 'was', 'elected', 'to', 'the', 'House', 'of', 'Representatives', 'at', 'the', '1993', 'federal', 'election', '', 'defeating', 'disgraced', 'ex-Labor', 'MP', 'Keith', 'Wright', '', 'who', 'was', 'recontesting', 'as', 'an', 'independent', 'despite', 'facing', 'criminal', 'child', 'sex', 'charges', '', '3', '', 'Henzell', 'became', 'the', 'first', 'woman', 'MP', 'to', 'hold', 'the', 'seat', 'in', 'its', 'history', '', '4', '', 'She', 'later', 'described', 'her', 'ability', 'to', 'be', 'elected', 'as', 'a', 'woman', 'in', 'Capricornia', 'at', 'that', 'time', 'as', 'a', '', 'quirk', 'of', 'history', '', 'and', 'that', 'she', 'was', '', 'only', 'here', '', 'because', 'of', 'Wright', 's', 'conduct', '', 'Henzell', 'was', 'aligned', 'with', 'the', 'party', 's', 'Labor', 'Left', 'faction', '', '5', '', 'She', 'was', 'appointed', 'deputy', 'chairman', 'of', 'the', 'Labor', 'caucus', 'in', '1993', '', '6', '\\n\\nAs', 'a', 'new', 'MP', '', 'Henzell', 'described', 'Question', 'Time', 'as', '', 'a', 'bit', 'of', 'a', 'boys', '', 'locker', 'room', '', 'and', 'described', 'her', 'own', 'approach', 'to', 'parliament', 'as', 'a', 'woman', 'as', '', 'I', 'won', 't', 'sit', 'around', 'being', 'patted', 'on', 'the', 'head', '', 'We', 'didn', 't', 'get', 'here', 'to', 'be', 'sweet', 'and', 'malleable', '', 'but', 'we', 'can', 'play', 'hard', 'ball', 'without', 'personal', 'abuse', '', '', '7', '', 'She', 'publicly', 'criticised', 'senior', 'colleague', 'John', 'Dawkins', 'for', 'referring', 'to', 'opposition', 'MP', 'Kathy', 'Sullivan', 'as', '', 'sweetheart', '', 'in', 'parliament', 'in', '1993', '', '5', '', 'In', '1994', '', 'she', 'questioned', 'her', 'own', 'party', 's', 'Prime', 'Minister', '', 'Paul', 'Keating', '', 'about', 'his', 'decision', 'to', 'personally', 'take', 'over', 'the', 'women', 's', 'affairs', 'portfolio', 'following', 'the', 'resignation', 'of', 'Ros', 'Kelly', '', 'asking', 'him', 'if', 'he', 'did', 'not', 'believe', 'anyone', 'in', 'the', 'caucus', 'was', 'sufficiently', 'able', '', 'an', 'angry', 'Keating', 'claimed', 'Henzell', 'was', 'sexist', '', 'and', 'Henzell', 'expressed', 'her', 'annoyance', 'at', 'not', 'being', 'taken', 'seriously', 'over', 'the', 'issue', '', '8', '', '5', '\\n\\nIn', '1994', '', 'as', 'chairwoman', 'of', 'a', 'federal', 'parliamentary', 'inquiry', 'into', 'the', 'implementation', 'of', 'the', 'recommendations', 'of', 'the', 'Royal', 'Commission', 'into', 'Black', 'Deaths', 'in', 'Custody', '', 'Henzell', 'attacked', 'state', 'governments', 'for', 'not', 'using', 'or', 'inappropriately', 'using', '$50', 'million', 'in', 'federal', 'implementation', 'funding', '', 'stating', '', 'in', 'relation', 'to', 'New', 'South', 'Wales', '', 'that', '', 'two', 'years', 'down', 'the', 'track', 'no', 'service', 'has', 'been', 'put', 'into', 'place', 'for', 'the', 'people', 'they', 'were', 'designed', 'to', 'assist', '', '', 'criticising', 'the', 'poor', 'state', 'of', 'services', 'for', 'Aboriginal', 'people', '', 'and', 'stating', '', 'the', 'only', 'conclusion', 'you', 'can', 'draw', 'is', 'the', 'fact', 'that', 'there', 'is', 'a', 'continuing', 'abrogation', 'of', 'people', 's', 'rights', '', '', 'the', 'fact', 'that', 'we', 'are', 'tolerating', 'this', 'sort', 'of', 'racism', 'diminishes', 'us', 'as', 'a', 'country', '', '', 'She', 'also', 'lambasted', 'the', 'Victorian', 'government', 'for', 'failing', 'to', 'implement', 'key', 'recommendations', 'of', 'the', 'Royal', 'Commission', 'and', 'failing', 'to', 'submit', 'reports', 'on', 'its', 'implementation', 'progress', '', '9', '', '10', '\\n\\nIn', 'October', '1994', '', 'in', 'relation', 'to', 'a', 'contentious', 'debate', 'on', 'a', 'sexual', 'privacy', 'bill', '', 'Henzell', 'claimed', 'in', 'parliament', 'that', '', 'we', 'are', 'all', 'born', 'bisexual', '', '', 'which', 'made', 'front-page', 'news', 'in', 'the', 'Rockhampton', 'newspaper', 'The', 'Morning', 'Bulletin', 'and', 'led', 'to', 'her', 'receiving', 'many', 'angry', 'letters', 'from', 'constituents', '', 'she', 'subsequently', 'clarified', 'that', 'her', 'comment', '', 'was', 'not', 'referring', 'to', 'people', 's', 'sexual', 'orientation', '', 'it', 'referred', 'to', 'the', 'fact', 'that', 'we', 'all', 'have', 'male', 'and', 'female', 'traits', 'and', 'hormones', 'and', 'that', 'human', 'sexuality', 'is', 'a', 'widely', 'misunderstood', 'subject', '', '', '11', '', 'In', 'September', '1995', '', 'she', 'was', 'one', 'of', 'several', 'Labor', 'MPs', 'to', 'speak', 'in', 'parliament', 'against', 'a', 'bill', 'to', 'sell', 'off', 'the', 'Australian', 'National', 'Line', '', 'even', 'though', 'she', 'later', 'voted', 'for', 'it', 'in', 'line', 'with', 'caucus', 'solidarity', 'rules', '', '12', '', 'Throughout', 'all', 'or', 'most', 'of', 'her', 'term', '', 'she', 'was', 'a', 'member', 'of', 'the', 'Joint', 'Select', 'Committee', 'on', 'Certain', 'Family', 'Law', 'Issues', 'and', 'the', 'House', 'of', 'Representatives', 'Standing', 'Committees', 'on', 'Aboriginal', 'and', 'Torres', 'Strait', 'Islander', 'Affairs', 'and', 'Long', 'Term', 'Strategies', '', '1', '', 'She', 'was', 'defeated', 'by', 'National', 'Party', 'candidate', 'Paul', 'Marek', 'at', 'the', '1996', 'federal', 'election', '', '13', '\\n\\nShe', 'later', 'relocated', 'to', 'Armidale', 'in', 'New', 'South', 'Wales', 'and', 'was', 'an', 'unsuccessful', 'candidate', 'for', 'the', 'Armidale', 'Dumaresq', 'Council', 'in', '2004', '', '14', '', 'She', 'remained', 'involved', 'with', 'the', 'Labor', 'Party', 'and', 'served', 'as', 'secretary', 'of', 'the', 'party', 's', 'Armidale', 'State', 'Electoral', 'Council', '', '15', '\\n']\n",
            "number of words in the list:  777\n",
            " 85\n",
            "marjorie 1\n",
            "madeline 1\n",
            "henzell 9\n",
            "born 2\n",
            "21 1\n",
            "september 2\n",
            "1948 1\n",
            "is 4\n",
            "an 5\n",
            "australian 4\n",
            "politician 1\n",
            "she 16\n",
            "was 13\n",
            "labor 5\n",
            "party 6\n",
            "member 2\n",
            "of 26\n",
            "the 37\n",
            "house 3\n",
            "representatives 3\n",
            "from 3\n",
            "1993 4\n",
            "to 20\n",
            "1996 2\n",
            "representing 1\n",
            "electorate 1\n",
            "capricornia 2\n",
            "graduated 1\n",
            "university 1\n",
            "melbourne 1\n",
            "with 5\n",
            "a 17\n",
            "bachelor 1\n",
            "arts 1\n",
            "and 17\n",
            "diploma 1\n",
            "social 2\n",
            "studies 1\n",
            "before 1\n",
            "becoming 1\n",
            "worker 1\n",
            "1 2\n",
            "at 6\n",
            "time 3\n",
            "her 8\n",
            "election 3\n",
            "parliament 5\n",
            "managed 1\n",
            "counselling 1\n",
            "service 2\n",
            "supporting 1\n",
            "employees 1\n",
            "two 2\n",
            "coal 1\n",
            "mines 1\n",
            "middlemount 1\n",
            "tieri 1\n",
            "outside 1\n",
            "rockhampton 2\n",
            "along 1\n",
            "their 1\n",
            "associated 1\n",
            "communities 1\n",
            "2 1\n",
            "elected 2\n",
            "federal 4\n",
            "defeating 1\n",
            "disgraced 1\n",
            "ex-labor 1\n",
            "mp 4\n",
            "keith 1\n",
            "wright 2\n",
            "who 1\n",
            "recontesting 1\n",
            "as 11\n",
            "independent 1\n",
            "despite 1\n",
            "facing 1\n",
            "criminal 1\n",
            "child 1\n",
            "sex 1\n",
            "charges 1\n",
            "3 1\n",
            "became 1\n",
            "first 1\n",
            "woman 3\n",
            "hold 1\n",
            "seat 1\n",
            "in 20\n",
            "its 2\n",
            "history 2\n",
            "4 1\n",
            "later 3\n",
            "described 3\n",
            "ability 1\n",
            "be 2\n",
            "that 9\n",
            "quirk 1\n",
            "only 2\n",
            "here 2\n",
            "because 1\n",
            "s 7\n",
            "conduct 1\n",
            "aligned 1\n",
            "left 1\n",
            "faction 1\n",
            "5 3\n",
            "appointed 1\n",
            "deputy 1\n",
            "chairman 1\n",
            "caucus 3\n",
            "6 1\n",
            "new 3\n",
            "question 1\n",
            "bit 1\n",
            "boys 1\n",
            "locker 1\n",
            "room 1\n",
            "own 2\n",
            "approach 1\n",
            "i 1\n",
            "won 1\n",
            "t 2\n",
            "sit 1\n",
            "around 1\n",
            "being 2\n",
            "patted 1\n",
            "on 5\n",
            "head 1\n",
            "we 5\n",
            "didn 1\n",
            "get 1\n",
            "sweet 1\n",
            "malleable 1\n",
            "but 1\n",
            "can 2\n",
            "play 1\n",
            "hard 1\n",
            "ball 1\n",
            "without 1\n",
            "personal 1\n",
            "abuse 1\n",
            "7 1\n",
            "publicly 1\n",
            "criticised 1\n",
            "senior 1\n",
            "colleague 1\n",
            "john 1\n",
            "dawkins 1\n",
            "for 7\n",
            "referring 2\n",
            "opposition 1\n",
            "kathy 1\n",
            "sullivan 1\n",
            "sweetheart 1\n",
            "1994 3\n",
            "questioned 1\n",
            "prime 1\n",
            "minister 1\n",
            "paul 2\n",
            "keating 2\n",
            "about 1\n",
            "his 1\n",
            "decision 1\n",
            "personally 1\n",
            "take 1\n",
            "over 2\n",
            "women 1\n",
            "affairs 2\n",
            "portfolio 1\n",
            "following 1\n",
            "resignation 1\n",
            "ros 1\n",
            "kelly 1\n",
            "asking 1\n",
            "him 1\n",
            "if 1\n",
            "he 1\n",
            "did 1\n",
            "not 4\n",
            "believe 1\n",
            "anyone 1\n",
            "sufficiently 1\n",
            "able 1\n",
            "angry 2\n",
            "claimed 2\n",
            "sexist 1\n",
            "expressed 1\n",
            "annoyance 1\n",
            "taken 1\n",
            "seriously 1\n",
            "issue 1\n",
            "8 1\n",
            "chairwoman 1\n",
            "parliamentary 1\n",
            "inquiry 1\n",
            "into 3\n",
            "implementation 3\n",
            "recommendations 2\n",
            "royal 2\n",
            "commission 2\n",
            "black 1\n",
            "deaths 1\n",
            "custody 1\n",
            "attacked 1\n",
            "state 3\n",
            "governments 1\n",
            "using 2\n",
            "or 2\n",
            "inappropriately 1\n",
            "$50 1\n",
            "million 1\n",
            "funding 1\n",
            "stating 2\n",
            "relation 2\n",
            "south 2\n",
            "wales 2\n",
            "years 1\n",
            "down 1\n",
            "track 1\n",
            "no 1\n",
            "has 1\n",
            "been 1\n",
            "put 1\n",
            "place 1\n",
            "people 4\n",
            "they 1\n",
            "were 1\n",
            "designed 1\n",
            "assist 1\n",
            "criticising 1\n",
            "poor 1\n",
            "services 1\n",
            "aboriginal 2\n",
            "conclusion 1\n",
            "you 1\n",
            "draw 1\n",
            "fact 3\n",
            "there 1\n",
            "continuing 1\n",
            "abrogation 1\n",
            "rights 1\n",
            "are 2\n",
            "tolerating 1\n",
            "this 1\n",
            "sort 1\n",
            "racism 1\n",
            "diminishes 1\n",
            "us 1\n",
            "country 1\n",
            "also 1\n",
            "lambasted 1\n",
            "victorian 1\n",
            "government 1\n",
            "failing 2\n",
            "implement 1\n",
            "key 1\n",
            "submit 1\n",
            "reports 1\n",
            "progress 1\n",
            "9 1\n",
            "10 1\n",
            "october 1\n",
            "contentious 1\n",
            "debate 1\n",
            "sexual 2\n",
            "privacy 1\n",
            "bill 2\n",
            "all 3\n",
            "bisexual 1\n",
            "which 1\n",
            "made 1\n",
            "front-page 1\n",
            "news 1\n",
            "newspaper 1\n",
            "morning 1\n",
            "bulletin 1\n",
            "led 1\n",
            "receiving 1\n",
            "many 1\n",
            "letters 1\n",
            "constituents 1\n",
            "subsequently 1\n",
            "clarified 1\n",
            "comment 1\n",
            "orientation 1\n",
            "it 2\n",
            "referred 1\n",
            "have 1\n",
            "male 1\n",
            "female 1\n",
            "traits 1\n",
            "hormones 1\n",
            "human 1\n",
            "sexuality 1\n",
            "widely 1\n",
            "misunderstood 1\n",
            "subject 1\n",
            "11 1\n",
            "1995 1\n",
            "one 1\n",
            "several 1\n",
            "mps 1\n",
            "speak 1\n",
            "against 1\n",
            "sell 1\n",
            "off 1\n",
            "national 2\n",
            "line 2\n",
            "even 1\n",
            "though 1\n",
            "voted 1\n",
            "solidarity 1\n",
            "rules 1\n",
            "12 1\n",
            "throughout 1\n",
            "most 1\n",
            "term 2\n",
            "joint 1\n",
            "select 1\n",
            "committee 1\n",
            "certain 1\n",
            "family 1\n",
            "law 1\n",
            "issues 1\n",
            "standing 1\n",
            "committees 1\n",
            "torres 1\n",
            "strait 1\n",
            "islander 1\n",
            "long 1\n",
            "strategies 1\n",
            "defeated 1\n",
            "by 1\n",
            "candidate 2\n",
            "marek 1\n",
            "13 1\n",
            "relocated 1\n",
            "armidale 3\n",
            "unsuccessful 1\n",
            "dumaresq 1\n",
            "council 2\n",
            "2004 1\n",
            "14 1\n",
            "remained 1\n",
            "involved 1\n",
            "served 1\n",
            "secretary 1\n",
            "electoral 1\n",
            "15 1\n"
          ],
          "name": "stdout"
        }
      ]
    },
    {
      "cell_type": "markdown",
      "metadata": {
        "id": "26AnE-CBo6qD"
      },
      "source": [
        "### June 29, 2021 Class Exercises"
      ]
    },
    {
      "cell_type": "code",
      "metadata": {
        "id": "AyAU9gwJnGeE",
        "colab": {
          "base_uri": "https://localhost:8080/"
        },
        "outputId": "d68afc01-f504-4220-bfbd-a72a100ba6f0"
      },
      "source": [
        "# define function (different from built in function)\n",
        "\n",
        "def add (x,y):\n",
        "    print(\"adding x and y\") #side effect \n",
        "    print (x+y) #bad design: value - None (no return value)\n",
        "    return x+y\n",
        "\n",
        "def sub(x,y):\n",
        "    return x-y\n",
        "\n",
        "def mult(x,y):\n",
        "    return x*y\n",
        "\n",
        "r = add(5,3)\n",
        "s = sub(5,3)\n",
        "\n",
        "print(r)\n",
        "print(s)\n",
        "\n",
        "t = mult(r,s)\n",
        "print(t)\n",
        "\n",
        "print(mult(r,s)) #more compact compared to line #20"
      ],
      "execution_count": 16,
      "outputs": [
        {
          "output_type": "stream",
          "text": [
            "adding x and y\n",
            "8\n",
            "8\n",
            "2\n",
            "16\n",
            "16\n"
          ],
          "name": "stdout"
        }
      ]
    },
    {
      "cell_type": "code",
      "metadata": {
        "colab": {
          "base_uri": "https://localhost:8080/"
        },
        "id": "XByE4MxtwZdu",
        "outputId": "71e1198d-2d78-4191-b15d-b2c09baa7298"
      },
      "source": [
        "def happy():\n",
        "    print(\"Happy Birthday To You!\")\n",
        "\n",
        "def sing(P):\n",
        "    happy()\n",
        "    happy()\n",
        "    print(\"Happy Birthday dear \" + P + \"!\")\n",
        "    happy()\n",
        "\n",
        "# main\n",
        "sing(\"Fred\")"
      ],
      "execution_count": 9,
      "outputs": [
        {
          "output_type": "stream",
          "text": [
            "Happy Birthday To You!\n",
            "Happy Birthday To You!\n",
            "Happy Birthday dear Fred!\n",
            "Happy Birthday To You!\n"
          ],
          "name": "stdout"
        }
      ]
    },
    {
      "cell_type": "markdown",
      "metadata": {
        "id": "py9B-WVsAAzw"
      },
      "source": [
        "**Poker Exercise**:\n",
        "#inputs and outputs\n",
        "\n",
        "## representation of the cards \n",
        "\n",
        "*   Ace of Hearts - A(face value)H(Suit)\n",
        "*   10 of Diamond - TD\n",
        "*   3 of Clubs - 3C\n",
        "\n",
        "\n",
        "## respresent a poker hand \n",
        "\n",
        "\n",
        "\n",
        "*   h1 = [TH, JH, QH, KH, AH] \n",
        "*   h2 = [3D, 3S, 4H, 8C, AS]\n",
        "*   h3 = [7D, 2S, 4H, 8C, AS]\n",
        "\n",
        "\n",
        "## represent a poker hands\n",
        "\n",
        "hands = [h1, h2, h3]\n",
        "\n",
        "## output\n",
        "\n",
        "1. print the winning hand\n",
        "\n",
        "2. make a list of top 10 rankings\n"
      ]
    },
    {
      "cell_type": "markdown",
      "metadata": {
        "id": "NW-gPVvTFJwj"
      },
      "source": [
        "Define test cases and check with assert keyword"
      ]
    },
    {
      "cell_type": "code",
      "metadata": {
        "id": "GY19pdXzErQ1"
      },
      "source": [
        "# add the numbers x and y\n",
        "def add(x, y):\n",
        "  return x + y"
      ],
      "execution_count": 25,
      "outputs": []
    },
    {
      "cell_type": "code",
      "metadata": {
        "id": "HNk_fQol_5at"
      },
      "source": [
        "def add_test():\n",
        "  assert add(2, 3) == 5\n",
        "  assert add(0, 0) == 0\n",
        "  assert add(1, -2) == -1\n",
        "\n",
        "add_test()"
      ],
      "execution_count": 26,
      "outputs": []
    },
    {
      "cell_type": "markdown",
      "metadata": {
        "id": "pyxHUPXUFsSj"
      },
      "source": [
        "Define test cases for poker function"
      ]
    },
    {
      "cell_type": "code",
      "metadata": {
        "id": "rvM9ZKSDFvLy"
      },
      "source": [
        "def hand_rank(hand): # to evaluate the ranks of hands \n",
        "  return -1\n",
        "\n",
        "def poker(hands):\n",
        "  print(hands)\n",
        "  winner = max(hands, key=hand_rank)\n",
        "  return winner "
      ],
      "execution_count": 30,
      "outputs": []
    },
    {
      "cell_type": "code",
      "metadata": {
        "colab": {
          "base_uri": "https://localhost:8080/",
          "height": 354
        },
        "id": "DgICoMWuF01O",
        "outputId": "a07d8140-77a1-4a20-dcf0-ac8fee86593c"
      },
      "source": [
        "def poker_test():\n",
        "  h1 = \"TH, JH, QH, KH, AH\" # string representation\n",
        "  h2 = \"3D, 3S, 4H, 8C, AS\"\n",
        "  h3 = \"7D, 2S, 4H, 8C, AS\"\n",
        "\n",
        "  assert poker([h1, h2, h3]) == h1  # winning hands\n",
        "  assert poker([h2, h3]) == h2\n",
        "\n",
        "poker_test()"
      ],
      "execution_count": 31,
      "outputs": [
        {
          "output_type": "stream",
          "text": [
            "['TH, JH, QH, KH, AH', '3D, 3S, 4H, 8C, AS', '7D, 2S, 4H, 8C, AS']\n",
            "['3D, 3S, 4H, 8C, AS', '7D, 2S, 4H, 8C, AS']\n"
          ],
          "name": "stdout"
        },
        {
          "output_type": "error",
          "ename": "AssertionError",
          "evalue": "ignored",
          "traceback": [
            "\u001b[0;31m---------------------------------------------------------------------------\u001b[0m",
            "\u001b[0;31mAssertionError\u001b[0m                            Traceback (most recent call last)",
            "\u001b[0;32m<ipython-input-31-f8d195ae13b6>\u001b[0m in \u001b[0;36m<module>\u001b[0;34m()\u001b[0m\n\u001b[1;32m      7\u001b[0m   \u001b[0;32massert\u001b[0m \u001b[0mpoker\u001b[0m\u001b[0;34m(\u001b[0m\u001b[0;34m[\u001b[0m\u001b[0mh2\u001b[0m\u001b[0;34m,\u001b[0m \u001b[0mh3\u001b[0m\u001b[0;34m]\u001b[0m\u001b[0;34m)\u001b[0m \u001b[0;34m==\u001b[0m \u001b[0mh2\u001b[0m\u001b[0;34m\u001b[0m\u001b[0;34m\u001b[0m\u001b[0m\n\u001b[1;32m      8\u001b[0m \u001b[0;34m\u001b[0m\u001b[0m\n\u001b[0;32m----> 9\u001b[0;31m \u001b[0mpoker_test\u001b[0m\u001b[0;34m(\u001b[0m\u001b[0;34m)\u001b[0m\u001b[0;34m\u001b[0m\u001b[0;34m\u001b[0m\u001b[0m\n\u001b[0m",
            "\u001b[0;32m<ipython-input-31-f8d195ae13b6>\u001b[0m in \u001b[0;36mpoker_test\u001b[0;34m()\u001b[0m\n\u001b[1;32m      5\u001b[0m \u001b[0;34m\u001b[0m\u001b[0m\n\u001b[1;32m      6\u001b[0m   \u001b[0;32massert\u001b[0m \u001b[0mpoker\u001b[0m\u001b[0;34m(\u001b[0m\u001b[0;34m[\u001b[0m\u001b[0mh1\u001b[0m\u001b[0;34m,\u001b[0m \u001b[0mh2\u001b[0m\u001b[0;34m,\u001b[0m \u001b[0mh3\u001b[0m\u001b[0;34m]\u001b[0m\u001b[0;34m)\u001b[0m \u001b[0;34m==\u001b[0m \u001b[0mh1\u001b[0m  \u001b[0;31m# winning hands\u001b[0m\u001b[0;34m\u001b[0m\u001b[0;34m\u001b[0m\u001b[0m\n\u001b[0;32m----> 7\u001b[0;31m   \u001b[0;32massert\u001b[0m \u001b[0mpoker\u001b[0m\u001b[0;34m(\u001b[0m\u001b[0;34m[\u001b[0m\u001b[0mh2\u001b[0m\u001b[0;34m,\u001b[0m \u001b[0mh3\u001b[0m\u001b[0;34m]\u001b[0m\u001b[0;34m)\u001b[0m \u001b[0;34m==\u001b[0m \u001b[0mh2\u001b[0m\u001b[0;34m\u001b[0m\u001b[0;34m\u001b[0m\u001b[0m\n\u001b[0m\u001b[1;32m      8\u001b[0m \u001b[0;34m\u001b[0m\u001b[0m\n\u001b[1;32m      9\u001b[0m \u001b[0mpoker_test\u001b[0m\u001b[0;34m(\u001b[0m\u001b[0;34m)\u001b[0m\u001b[0;34m\u001b[0m\u001b[0;34m\u001b[0m\u001b[0m\n",
            "\u001b[0;31mAssertionError\u001b[0m: "
          ]
        }
      ]
    }
  ]
}