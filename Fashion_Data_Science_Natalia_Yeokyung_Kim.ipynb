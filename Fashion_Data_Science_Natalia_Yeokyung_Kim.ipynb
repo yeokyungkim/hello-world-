{
  "nbformat": 4,
  "nbformat_minor": 0,
  "metadata": {
    "colab": {
      "name": "Fashion Data Science_Natalia Yeokyung Kim.ipynb",
      "provenance": [],
      "collapsed_sections": [],
      "authorship_tag": "ABX9TyNMvegzsC7Se15C8zOzcCMd",
      "include_colab_link": true
    },
    "kernelspec": {
      "name": "python3",
      "display_name": "Python 3"
    },
    "language_info": {
      "name": "python"
    }
  },
  "cells": [
    {
      "cell_type": "markdown",
      "metadata": {
        "id": "view-in-github",
        "colab_type": "text"
      },
      "source": [
        "<a href=\"https://colab.research.google.com/github/yeokyungkim/hello-world-/blob/main/Fashion_Data_Science_Natalia_Yeokyung_Kim.ipynb\" target=\"_parent\"><img src=\"https://colab.research.google.com/assets/colab-badge.svg\" alt=\"Open In Colab\"/></a>"
      ]
    },
    {
      "cell_type": "markdown",
      "metadata": {
        "id": "q0IG0gx0sL8d"
      },
      "source": [
        "# 5/25/2021 Class Examples"
      ]
    },
    {
      "cell_type": "code",
      "metadata": {
        "colab": {
          "base_uri": "https://localhost:8080/"
        },
        "id": "iLknID8SaJAg",
        "outputId": "d2eb3186-bc19-47a3-a365-a33cf83bcfcf"
      },
      "source": [
        "import requests\n",
        "url = \"http://google.com/search?q=hello\"\n",
        "response = requests.get(url)\n",
        "#response.content\n",
        "#response.headers\n",
        "type(response.content)"
      ],
      "execution_count": null,
      "outputs": [
        {
          "output_type": "execute_result",
          "data": {
            "text/plain": [
              "bytes"
            ]
          },
          "metadata": {
            "tags": []
          },
          "execution_count": 21
        }
      ]
    },
    {
      "cell_type": "code",
      "metadata": {
        "colab": {
          "base_uri": "https://localhost:8080/"
        },
        "id": "jH3TIVIOlZmF",
        "outputId": "916f7460-6c67-45f5-dc89-e7bab9405b06"
      },
      "source": [
        "import requests\n",
        "url = \"http://google.com/search?q=data science\"\n",
        "response = requests.get(url)\n",
        "response.text.find(\"data science - Google Search\")"
      ],
      "execution_count": null,
      "outputs": [
        {
          "output_type": "execute_result",
          "data": {
            "text/plain": [
              "160"
            ]
          },
          "metadata": {
            "tags": []
          },
          "execution_count": 15
        }
      ]
    },
    {
      "cell_type": "code",
      "metadata": {
        "colab": {
          "base_uri": "https://localhost:8080/"
        },
        "id": "buPkMvp2wf79",
        "outputId": "1d4c8606-ccc3-4615-9ae5-5ffa77dc8933"
      },
      "source": [
        "import requests\n",
        "import json\n",
        "\n",
        "url = \"http://google.com/search?q=something else\"\n",
        "response = requests.get(url)\n",
        "response.text.find(\"something else - Google Search\")\n",
        "#response.content\n",
        "#response.headers\n",
        "#type(response.content)\n",
        "\n",
        "isJson = response.headers['Content-Type'].find('json') != -1\n",
        "print(isJson)\n",
        "\n",
        "if isJson: json.loads(response.text)"
      ],
      "execution_count": null,
      "outputs": [
        {
          "output_type": "stream",
          "text": [
            "False\n"
          ],
          "name": "stdout"
        }
      ]
    },
    {
      "cell_type": "code",
      "metadata": {
        "colab": {
          "base_uri": "https://localhost:8080/",
          "height": 52
        },
        "id": "yElJLTZQqWF3",
        "outputId": "7d59a067-40a8-48ef-8e2a-546dd0f25599"
      },
      "source": [
        "import json\n",
        "\n",
        "url = \"https://api.github.com/events\"\n",
        "response = requests.get(url)\n",
        "isJson =response.headers['Content-Type'].find('json') != -1\n",
        "print(isJson)\n",
        "\n",
        "if isJson: data = json.loads(response.text)\n",
        "#data = response.text\n",
        "len(data)\n",
        "data[-1]['actor']['display_login']"
      ],
      "execution_count": null,
      "outputs": [
        {
          "output_type": "stream",
          "text": [
            "True\n"
          ],
          "name": "stdout"
        },
        {
          "output_type": "execute_result",
          "data": {
            "application/vnd.google.colaboratory.intrinsic+json": {
              "type": "string"
            },
            "text/plain": [
              "'pull'"
            ]
          },
          "metadata": {
            "tags": []
          },
          "execution_count": 23
        }
      ]
    },
    {
      "cell_type": "code",
      "metadata": {
        "colab": {
          "base_uri": "https://localhost:8080/"
        },
        "id": "KoCh1h940Ivp",
        "outputId": "4fd65ba1-a5aa-45a9-c4b6-3dbba32b47a6"
      },
      "source": [
        "from bs4 import BeautifulSoup\n",
        "import requests\n",
        "import json\n",
        "\n",
        "url = \"http://google.com/search?q=something else\"\n",
        "response = requests.get(url)\n",
        "\n",
        "cnt_type = response.headers['Content-Type']\n",
        "isJson = cnt_type.find('json') != -1\n",
        "\n",
        "print(isJson)\n",
        "\n",
        "if isJson: json.loads(response.text)"
      ],
      "execution_count": null,
      "outputs": [
        {
          "output_type": "stream",
          "text": [
            "False\n"
          ],
          "name": "stdout"
        }
      ]
    },
    {
      "cell_type": "code",
      "metadata": {
        "id": "TkAzmAMo85Cr"
      },
      "source": [
        "review a code introduced in class\n"
      ],
      "execution_count": null,
      "outputs": []
    },
    {
      "cell_type": "markdown",
      "metadata": {
        "id": "BKHCdOM1c0z9"
      },
      "source": [
        "**06/01/2021 Class Exercises**"
      ]
    },
    {
      "cell_type": "markdown",
      "metadata": {
        "id": "NtUG2G8ieV54"
      },
      "source": [
        "Fashion Designers Database\n",
        "https://en.wikipedia.org/wiki/List_of_fashion_designers\n",
        "\n",
        "To collect data about all the fashion designers. "
      ]
    },
    {
      "cell_type": "code",
      "metadata": {
        "colab": {
          "base_uri": "https://localhost:8080/"
        },
        "id": "RSxREue_SqC_",
        "outputId": "231a96bb-b346-4db3-9879-6e8ee9e236a0"
      },
      "source": [
        "# fetch wikipedia page\n",
        "import requests\n",
        "from bs4 import BeautifulSoup\n",
        "from bs4 import Tag\n",
        "\n",
        "url = \"https://en.wikipedia.org/wiki/List_of_fashion_designers\"\n",
        "r = requests.get(url)\n",
        "\n",
        "soup = BeautifulSoup(r.text, 'html.parser')\n",
        "\n",
        "#print(soup.prettify())\n",
        "h2 = soup.find_all('h2')\n",
        "countries = {}\n",
        "\n",
        "for c in h2:\n",
        "  #print(c.next_element)\n",
        "  #check if find child returns None\n",
        "  child = c.findChild()\n",
        "  if child != None:\n",
        "    #the child element is now <span>\n",
        "    #get the country name from <span> tag\n",
        "   print(child.contents[0])\n",
        "\n",
        "   # add the country to the dictionary\n",
        "   countries[child.contents[0]] = []\n",
        "\n",
        "   #extract fashion designers using <li> tag\n",
        "   #for designer in c.find_all_next('li'):\n",
        "     #print(designer.contents)\n",
        "   divs = c.findNextSibling('div')\n",
        "\n",
        "   #for designer in divs.find_all('a'):\n",
        "     #print('* ' + designer.contents[0])\n",
        "\n",
        "   for li in divs.find_all('li'):\n",
        "     for designer in li:\n",
        "       if isinstance(designer, Tag):\n",
        "         print('* ' + designer.string)\n",
        "         countries[child.contents[0]].append(designer.string)\n",
        "       else:\n",
        "         print('* ' + designer)\n",
        "         countries[child.contents[0]].append(designer)\n",
        "   break\n",
        "print(countries)\n",
        "\n",
        "   \n",
        "   "
      ],
      "execution_count": null,
      "outputs": [
        {
          "output_type": "stream",
          "text": [
            "Argentina\n",
            "* Aitor Throup\n",
            "* Concepción Cochrane Blaquier\n",
            "* Dalila Puzzovio\n",
            "* Delia Cancela\n",
            "* Franc Fernandez\n",
            "* Gustavo Cadile\n",
            "* Jazmín Chebar\n",
            "* Paco Jamandreu\n",
            "* Pilar Zeta\n",
            "* Vanessa Seward\n",
            "{'Argentina': ['Aitor Throup', 'Concepción Cochrane Blaquier', 'Dalila Puzzovio', 'Delia Cancela', 'Franc Fernandez', 'Gustavo Cadile', 'Jazmín Chebar', 'Paco Jamandreu', 'Pilar Zeta', 'Vanessa Seward']}\n"
          ],
          "name": "stdout"
        }
      ]
    },
    {
      "cell_type": "code",
      "metadata": {
        "colab": {
          "base_uri": "https://localhost:8080/",
          "height": 303
        },
        "id": "OPolFubOCcko",
        "outputId": "42c4a339-c7d0-4ca8-9678-e3a0ad592f04"
      },
      "source": [
        "#list\n",
        "l = [1,2,3,4,5]\n",
        "print(l[0])\n",
        "print(l[-1])\n",
        "print(l[-2])\n",
        "print(l[1:3])\n",
        "print(l[:3])\n",
        "\n",
        "#dictionary\n",
        "d = {'q':0.25, 'd':0.1, 'n':0.05, 'p':0.01}\n",
        "print(d['q'])\n",
        "print(d['e']) # 'e' is not in the list. --> key error"
      ],
      "execution_count": null,
      "outputs": [
        {
          "output_type": "stream",
          "text": [
            "1\n",
            "5\n",
            "4\n",
            "[2, 3]\n",
            "[1, 2, 3]\n",
            "0.25\n"
          ],
          "name": "stdout"
        },
        {
          "output_type": "error",
          "ename": "KeyError",
          "evalue": "ignored",
          "traceback": [
            "\u001b[0;31m---------------------------------------------------------------------------\u001b[0m",
            "\u001b[0;31mKeyError\u001b[0m                                  Traceback (most recent call last)",
            "\u001b[0;32m<ipython-input-1-c88e415b70dc>\u001b[0m in \u001b[0;36m<module>\u001b[0;34m()\u001b[0m\n\u001b[1;32m     10\u001b[0m \u001b[0md\u001b[0m \u001b[0;34m=\u001b[0m \u001b[0;34m{\u001b[0m\u001b[0;34m'q'\u001b[0m\u001b[0;34m:\u001b[0m\u001b[0;36m0.25\u001b[0m\u001b[0;34m,\u001b[0m \u001b[0;34m'd'\u001b[0m\u001b[0;34m:\u001b[0m\u001b[0;36m0.1\u001b[0m\u001b[0;34m,\u001b[0m \u001b[0;34m'n'\u001b[0m\u001b[0;34m:\u001b[0m\u001b[0;36m0.05\u001b[0m\u001b[0;34m,\u001b[0m \u001b[0;34m'p'\u001b[0m\u001b[0;34m:\u001b[0m\u001b[0;36m0.01\u001b[0m\u001b[0;34m}\u001b[0m\u001b[0;34m\u001b[0m\u001b[0;34m\u001b[0m\u001b[0m\n\u001b[1;32m     11\u001b[0m \u001b[0mprint\u001b[0m\u001b[0;34m(\u001b[0m\u001b[0md\u001b[0m\u001b[0;34m[\u001b[0m\u001b[0;34m'q'\u001b[0m\u001b[0;34m]\u001b[0m\u001b[0;34m)\u001b[0m\u001b[0;34m\u001b[0m\u001b[0;34m\u001b[0m\u001b[0m\n\u001b[0;32m---> 12\u001b[0;31m \u001b[0mprint\u001b[0m\u001b[0;34m(\u001b[0m\u001b[0md\u001b[0m\u001b[0;34m[\u001b[0m\u001b[0;34m'e'\u001b[0m\u001b[0;34m]\u001b[0m\u001b[0;34m)\u001b[0m \u001b[0;31m# 'e' is not in the list. --> key error\u001b[0m\u001b[0;34m\u001b[0m\u001b[0;34m\u001b[0m\u001b[0m\n\u001b[0m",
            "\u001b[0;31mKeyError\u001b[0m: 'e'"
          ]
        }
      ]
    },
    {
      "cell_type": "code",
      "metadata": {
        "colab": {
          "base_uri": "https://localhost:8080/"
        },
        "id": "GEInNZvh_8lE",
        "outputId": "6ee1d4cb-2af6-4080-ae14-faf203cfe570"
      },
      "source": [
        "isinstance('5',int)\n"
      ],
      "execution_count": null,
      "outputs": [
        {
          "output_type": "execute_result",
          "data": {
            "text/plain": [
              "False"
            ]
          },
          "metadata": {
            "tags": []
          },
          "execution_count": 22
        }
      ]
    },
    {
      "cell_type": "markdown",
      "metadata": {
        "id": "lJ_lVahjgPrh"
      },
      "source": [
        "**Lecture 3: June 2nd, 2021 Homework (Deadline June 7th, 2021)**\n",
        "\n",
        "*   Scraping\n",
        "\n",
        "\n",
        "Instructions\n",
        "The goal of this assignment is to scrape the data from these pages using python and the libraries related to scraping. The links below are wikipedia pages about footwear designers, fashion events and jewellery designers. Review these wikipedia pages to determine if the names of the designers/events and country data can be retrieved from these pages. Describe your strategy for each web page and write a python script to retrieve the data. Print the data collected in google colab so that the data can be verified.\n",
        "\n",
        "Wikipedia Pages\n",
        "Footwear Designers: https://en.wikipedia.org/wiki/List_of_footwear_designers\n",
        "Fashion Events: https://en.wikipedia.org/wiki/List_of_fashion_events\n",
        "Jewellery Designers: https://en.wikipedia.org/wiki/List_of_jewellery_designers\n",
        "Submit your assignment by sharing your google colab document with the email address praveeng@andrew.cmu.edu\n",
        "\n",
        "The deadline for this assignment is Jun 7, 2021."
      ]
    },
    {
      "cell_type": "markdown",
      "metadata": {
        "id": "Fq2XP3Vwh61v"
      },
      "source": [
        "**Exercise 1** (Option 1): Scraping  Retrieve a list of jewellery designers by country from origianl HTML source using beautifulsoup\n",
        "\n",
        "https://en.wikipedia.org/wiki/List_of_jewellery_designers \n",
        "\n"
      ]
    },
    {
      "cell_type": "code",
      "metadata": {
        "colab": {
          "base_uri": "https://localhost:8080/",
          "height": 1000
        },
        "id": "HCY_7wJMgeE0",
        "outputId": "10abc6fd-727f-4128-cef0-7c185541743f"
      },
      "source": [
        "# fetch wikipedia page\n",
        "import requests\n",
        "from bs4 import BeautifulSoup\n",
        "from bs4 import Tag\n",
        "\n",
        "url = \"https://en.wikipedia.org/wiki/List_of_jewellery_designers\"\n",
        "r = requests.get(url)\n",
        "\n",
        "soup = BeautifulSoup(r.text, 'html.parser')\n",
        "\n",
        "# print(soup.prettify())\n",
        "\n",
        "countries = soup.find_all('h2')\n",
        "\n",
        "# print(countries)\n",
        "\n",
        "\n",
        "for c in countries:\n",
        "  # check if find child returns None\n",
        "  child = c.findChild()\n",
        "  # print(child)\n",
        "  if child != None:\n",
        "    # the child element is now <span>\n",
        "    # get the country name from <span> tag\n",
        "    print(child.contents[0])\n",
        "\n",
        "    \n",
        "    #extract jewellery designers using <li> tag\n",
        "    uls = c.find_next_sibling('ul')\n",
        "  \n",
        "    for jewellery_designer in uls.find_all('a'):\n",
        "      if type(jewellery_designer) != None :\n",
        "        print('*' + jewellery_designer.contents[0])\n",
        "       \n",
        "\n",
        "\n",
        "\n",
        "    \n",
        "        \n",
        "      \n",
        "          \n",
        " \n",
        "        "
      ],
      "execution_count": null,
      "outputs": [
        {
          "output_type": "stream",
          "text": [
            "Argentina\n",
            "*Ricardo Basta\n",
            "Australia\n",
            "*Joanna Angelett\n",
            "*Wilfrid Nelson Isaac\n",
            "*Alice Elsie Reeve\n",
            "Austria\n",
            "*Ingo Appelt\n",
            "*Elena Kriegner\n",
            "*Nettie Rosenstein\n",
            "*Daniel Swarovski\n",
            "Belgium\n",
            "*Lodewyk van Bercken\n",
            "*Philippe Van Dievoet\n",
            "Brazil\n",
            "*Kim Poor\n",
            "*Fernando Jorge\n",
            "Canada\n",
            "*Lois Betteridge\n",
            "*H.V. Dalling\n",
            "*Charles Edenshaw\n",
            "*David Neel\n",
            "*Bill Reid\n",
            "*Tobi Wong\n",
            "*Dean Davidson\n",
            "Czech Republic\n",
            "*George Brooks\n",
            "*Julie Wimmer\n",
            "Denmark\n",
            "*Joachim Matthias Wendt\n",
            "Dominican Republic\n",
            "*Jenny Polanco\n",
            "*[1]\n",
            "Estonia\n",
            "*Mari Käbin\n",
            "*Kadri Mälk\n",
            "France\n",
            "*Ilias Lalaounis\n",
            "*Elena Votsi\n",
            "*Sotirios Voulgaris\n",
            "Germany\n",
            "*Ilias Lalaounis\n",
            "*Elena Votsi\n",
            "*Sotirios Voulgaris\n",
            "Greece\n",
            "*Ilias Lalaounis\n",
            "*Elena Votsi\n",
            "*Sotirios Voulgaris\n",
            "Guyana\n",
            "*Vannetta Seecharran\n",
            "Hong Kong\n",
            "*Wallace Chan\n",
            "Hungary\n",
            "*Zoltan David\n",
            "India\n",
            "*Waris Ahluwalia\n",
            "*Farah Khan Ali\n",
            "*Khailshanker Durlabhji\n",
            "*Shantidas Jhaveri\n",
            "*Neelam Kothari\n",
            "*Nayna Mehta\n",
            "*Sudha Pennathur\n",
            "*Suhani Pittie\n",
            "*Ambaji Shinde\n",
            "Ireland\n",
            "*Slim Barrett\n",
            "*Melissa Curry\n",
            "Israel\n",
            "*Dorrit Moussaieff\n",
            "Italy\n",
            "*Yasuki Hiramatsu\n",
            "*Kimiko Kasai\n",
            "*Akiko Kawarai\n",
            "*Mikimoto Kōkichi\n",
            "Japan\n",
            "*Yasuki Hiramatsu\n",
            "*Kimiko Kasai\n",
            "*Akiko Kawarai\n",
            "*Mikimoto Kōkichi\n",
            "Lebanon\n",
            "*Dina Azar\n",
            "*Selim Mouzannar\n",
            "*Tabbah\n",
            "Netherlands\n",
            "*Gijs Bakker\n",
            "*Bert Nienhuis\n",
            "*Ted Noten\n",
            "*Marly van der Velden\n",
            "Pakistan\n",
            "*Tapu Javeri\n",
            "Romania\n",
            "*Daniel Stoenescu\n",
            "Russia\n",
            "*Dmitriy Bellman\n",
            "*Carl Edvard Bolin\n",
            "*Erté\n",
            "*Gustav Fabergé\n",
            "*Peter Carl Fabergé\n",
            "*Joseph Marchak\n",
            "Spain\n",
            "*Salvador Dalí\n",
            "South Africa\n",
            "*Kirsten Goss\n",
            "Sweden\n",
            "*Efva Attling\n",
            "*Arne Blomberg\n",
            "*Carolina Gynning\n",
            "*Vivianna Torun Bülow-Hübe\n",
            "Switzerland\n",
            "*Kurt Aepli\n",
            "*Gilbert Albert\n",
            "*Jean Jahnsson\n",
            "Taiwan\n",
            "*Cindy Chao\n",
            "*Onch Movement\n",
            "Turkey\n",
            "*Gurhan Orhan\n",
            "Ukraine\n",
            "*Natasha Zinko\n",
            "United Kingdom\n",
            "*Rosalina Lydster\n",
            "United States\n",
            "*Rosalina Lydster\n",
            "Vietnam\n",
            "*Rosalina Lydster\n",
            "See also\n",
            "*List of fashion designers\n",
            "*List of footwear designers\n",
            "References\n"
          ],
          "name": "stdout"
        },
        {
          "output_type": "error",
          "ename": "AttributeError",
          "evalue": "ignored",
          "traceback": [
            "\u001b[0;31m---------------------------------------------------------------------------\u001b[0m",
            "\u001b[0;31mAttributeError\u001b[0m                            Traceback (most recent call last)",
            "\u001b[0;32m<ipython-input-19-196571922138>\u001b[0m in \u001b[0;36m<module>\u001b[0;34m()\u001b[0m\n\u001b[1;32m     29\u001b[0m     \u001b[0muls\u001b[0m \u001b[0;34m=\u001b[0m \u001b[0mc\u001b[0m\u001b[0;34m.\u001b[0m\u001b[0mfind_next_sibling\u001b[0m\u001b[0;34m(\u001b[0m\u001b[0;34m'ul'\u001b[0m\u001b[0;34m)\u001b[0m\u001b[0;34m\u001b[0m\u001b[0;34m\u001b[0m\u001b[0m\n\u001b[1;32m     30\u001b[0m \u001b[0;34m\u001b[0m\u001b[0m\n\u001b[0;32m---> 31\u001b[0;31m     \u001b[0;32mfor\u001b[0m \u001b[0mjewellery_designer\u001b[0m \u001b[0;32min\u001b[0m \u001b[0muls\u001b[0m\u001b[0;34m.\u001b[0m\u001b[0mfind_all\u001b[0m\u001b[0;34m(\u001b[0m\u001b[0;34m'a'\u001b[0m\u001b[0;34m)\u001b[0m\u001b[0;34m:\u001b[0m\u001b[0;34m\u001b[0m\u001b[0;34m\u001b[0m\u001b[0m\n\u001b[0m\u001b[1;32m     32\u001b[0m       \u001b[0;32mif\u001b[0m \u001b[0mtype\u001b[0m\u001b[0;34m(\u001b[0m\u001b[0mjewellery_designer\u001b[0m\u001b[0;34m)\u001b[0m \u001b[0;34m!=\u001b[0m \u001b[0;32mNone\u001b[0m \u001b[0;34m:\u001b[0m\u001b[0;34m\u001b[0m\u001b[0;34m\u001b[0m\u001b[0m\n\u001b[1;32m     33\u001b[0m         \u001b[0mprint\u001b[0m\u001b[0;34m(\u001b[0m\u001b[0;34m'*'\u001b[0m \u001b[0;34m+\u001b[0m \u001b[0mjewellery_designer\u001b[0m\u001b[0;34m.\u001b[0m\u001b[0mcontents\u001b[0m\u001b[0;34m[\u001b[0m\u001b[0;36m0\u001b[0m\u001b[0;34m]\u001b[0m\u001b[0;34m)\u001b[0m\u001b[0;34m\u001b[0m\u001b[0;34m\u001b[0m\u001b[0m\n",
            "\u001b[0;31mAttributeError\u001b[0m: 'NoneType' object has no attribute 'find_all'"
          ]
        }
      ]
    },
    {
      "cell_type": "markdown",
      "metadata": {
        "id": "E7SSBiVI4Z9S"
      },
      "source": [
        "**Exercise 1** (Option 2): Scraping Retrieve a list of jewellery designers by country from origianl HTML source using beautifulsoup\n",
        "\n",
        "https://en.wikipedia.org/wiki/List_of_jewellery_designers"
      ]
    },
    {
      "cell_type": "code",
      "metadata": {
        "colab": {
          "base_uri": "https://localhost:8080/",
          "height": 768
        },
        "id": "8cISnCsK1BRv",
        "outputId": "c0b86af0-a536-43a1-fc9c-a571661e7729"
      },
      "source": [
        "# fetch wikipedia page\n",
        "import requests\n",
        "from bs4 import BeautifulSoup\n",
        "from bs4 import Tag\n",
        "\n",
        "url = \"https://en.wikipedia.org/wiki/List_of_jewellery_designers\"\n",
        "r = requests.get(url)\n",
        "\n",
        "soup = BeautifulSoup(r.text, 'html.parser')\n",
        "\n",
        "# print(soup.prettify())\n",
        "\n",
        "countries = soup.find_all('h2')\n",
        "\n",
        "# print(countries)\n",
        "\n",
        "\n",
        "for c in countries:\n",
        "  # check if find child returns None\n",
        "  child = c.findChild()\n",
        "  # print(child)\n",
        "  if child != None:\n",
        "    # the child element is now <span>\n",
        "    # get the country name from <span> tag\n",
        "    print(child.contents[0])\n",
        "  \n",
        "\n",
        "    \n",
        "    #extract jewellery designers using <li> tag\n",
        "    uls = c.find_next_sibling('ul')\n",
        "  \n",
        "    for jewellery_designer in uls.find_all('li'):\n",
        "       if isinstance(jewellery_designer, Tag):\n",
        "        print('* ' + jewellery_designer.string)\n",
        "       else:\n",
        "        print('* ' + jewellery_designer)\n",
        "          \n",
        "\n",
        "       \n"
      ],
      "execution_count": null,
      "outputs": [
        {
          "output_type": "stream",
          "text": [
            "Argentina\n",
            "* Ricardo Basta\n",
            "Australia\n",
            "* Joanna Angelett\n",
            "* Wilfrid Nelson Isaac\n",
            "* Alice Elsie Reeve\n",
            "Austria\n",
            "* Ingo Appelt\n",
            "* Elena Kriegner\n",
            "* Nettie Rosenstein\n",
            "* Daniel Swarovski\n",
            "Belgium\n",
            "* Lodewyk van Bercken\n",
            "* Philippe Van Dievoet\n",
            "Brazil\n",
            "* Kim Poor\n",
            "* Fernando Jorge\n",
            "Canada\n",
            "* Lois Betteridge\n",
            "* H.V. Dalling\n",
            "* Charles Edenshaw\n",
            "* David Neel\n",
            "* Bill Reid\n",
            "* Tobi Wong\n",
            "* Dean Davidson\n",
            "Czech Republic\n",
            "* George Brooks\n",
            "* Julie Wimmer\n",
            "Denmark\n",
            "* Joachim Matthias Wendt\n",
            "Dominican Republic\n"
          ],
          "name": "stdout"
        },
        {
          "output_type": "error",
          "ename": "TypeError",
          "evalue": "ignored",
          "traceback": [
            "\u001b[0;31m---------------------------------------------------------------------------\u001b[0m",
            "\u001b[0;31mTypeError\u001b[0m                                 Traceback (most recent call last)",
            "\u001b[0;32m<ipython-input-23-49f45bd1ec06>\u001b[0m in \u001b[0;36m<module>\u001b[0;34m()\u001b[0m\n\u001b[1;32m     32\u001b[0m     \u001b[0;32mfor\u001b[0m \u001b[0mjewellery_designer\u001b[0m \u001b[0;32min\u001b[0m \u001b[0muls\u001b[0m\u001b[0;34m.\u001b[0m\u001b[0mfind_all\u001b[0m\u001b[0;34m(\u001b[0m\u001b[0;34m'li'\u001b[0m\u001b[0;34m)\u001b[0m\u001b[0;34m:\u001b[0m\u001b[0;34m\u001b[0m\u001b[0;34m\u001b[0m\u001b[0m\n\u001b[1;32m     33\u001b[0m        \u001b[0;32mif\u001b[0m \u001b[0misinstance\u001b[0m\u001b[0;34m(\u001b[0m\u001b[0mjewellery_designer\u001b[0m\u001b[0;34m,\u001b[0m \u001b[0mTag\u001b[0m\u001b[0;34m)\u001b[0m\u001b[0;34m:\u001b[0m\u001b[0;34m\u001b[0m\u001b[0;34m\u001b[0m\u001b[0m\n\u001b[0;32m---> 34\u001b[0;31m         \u001b[0mprint\u001b[0m\u001b[0;34m(\u001b[0m\u001b[0;34m'* '\u001b[0m \u001b[0;34m+\u001b[0m \u001b[0mjewellery_designer\u001b[0m\u001b[0;34m.\u001b[0m\u001b[0mstring\u001b[0m\u001b[0;34m)\u001b[0m\u001b[0;34m\u001b[0m\u001b[0;34m\u001b[0m\u001b[0m\n\u001b[0m\u001b[1;32m     35\u001b[0m        \u001b[0;32melse\u001b[0m\u001b[0;34m:\u001b[0m\u001b[0;34m\u001b[0m\u001b[0;34m\u001b[0m\u001b[0m\n\u001b[1;32m     36\u001b[0m         \u001b[0mprint\u001b[0m\u001b[0;34m(\u001b[0m\u001b[0;34m'* '\u001b[0m \u001b[0;34m+\u001b[0m \u001b[0mjewellery_designer\u001b[0m\u001b[0;34m)\u001b[0m\u001b[0;34m\u001b[0m\u001b[0;34m\u001b[0m\u001b[0m\n",
            "\u001b[0;31mTypeError\u001b[0m: can only concatenate str (not \"NoneType\") to str"
          ]
        }
      ]
    },
    {
      "cell_type": "markdown",
      "metadata": {
        "id": "B7deaaQT3Wm_"
      },
      "source": [
        "**Exercise 2**: Scraping - Retrieve a list of fashion events 1) first by continent; 2) then, by country from origianl HTML source using beautifulsoup\n",
        "\n",
        "https://en.wikipedia.org/wiki/List_of_fashion_events \n",
        "\n",
        "\n",
        "\n"
      ]
    },
    {
      "cell_type": "code",
      "metadata": {
        "colab": {
          "base_uri": "https://localhost:8080/",
          "height": 1000
        },
        "id": "jKsNGtBj3Imk",
        "outputId": "a7127593-0209-4fc8-b577-040d5dd63eb1"
      },
      "source": [
        "# fetch wikipedia page\n",
        "import requests\n",
        "from bs4 import BeautifulSoup\n",
        "from bs4 import Tag\n",
        "\n",
        "url = \"https://en.wikipedia.org/wiki/List_of_fashion_events\"\n",
        "r = requests.get(url)\n",
        "\n",
        "soup = BeautifulSoup(r.text, 'html.parser')\n",
        "\n",
        "# print(soup.prettify())\n",
        "\n",
        "continents = soup.find_all('h2')[1:6] # clean up: to avoid showing details, e.g., notes, see also etc.\n",
        "\n",
        "for c in continents:\n",
        "  #check if find child returns None\n",
        "  child = c.findChild()\n",
        "  if child != None:\n",
        "    #the child element is now <span>\n",
        "    #get the continent name from <span> tag\n",
        "    print(child.contents[0])\n",
        "    \n",
        "countries = soup.find_all('h3')\n",
        "#list(countries)\n",
        "for c in countries:\n",
        "  # check if find child returns None\n",
        "   child = c.findChild()\n",
        "   if child != None:\n",
        "    # the child element is now <span>\n",
        "    # get the country name from <span> tag\n",
        "    print(child.contents)\n",
        "\n",
        "    #extract fashion events using <li> tag\n",
        "    uls = c.find_next_sibling('ul')\n",
        "    for fashion_events in uls.find_all('a'):\n",
        "      if type(fashion_events in uls.find_all('a')) != None :\n",
        "       print(\"* \" + fashion_events.contents[0])\n",
        " \n",
        "\n",
        "\n",
        "\n",
        "\n",
        "\n",
        "\n"
      ],
      "execution_count": null,
      "outputs": [
        {
          "output_type": "stream",
          "text": [
            "Africa\n",
            "America\n",
            "Asia\n",
            "Europe\n",
            "Oceania\n",
            "['Algeria']\n",
            "* Algiers Fashion Week\n",
            "* Oran Fashion Week\n",
            "['Botswana']\n",
            "* Gaborone Fashion Weekend\n",
            "[]\n",
            "* Cote d' Ivoire Fashion Week\n",
            "['Egypt']\n",
            "* Cairo Fashion Festival\n",
            "* Cairo Couture Collections\n",
            "* Cairo Fashion Week\n",
            "* La Mode A Beyrouth - Cairo\n",
            "['Ethiopia']\n",
            "* Hub of Africa! Fashion Week\n",
            "['Kenya']\n",
            "* Nairobi Fashion Week\n",
            "['Malawi']\n",
            "* Fashion Malawi Edition\n",
            "['Nigeria']\n",
            "* Hayati Fashion Week\n",
            "* Lagos Fashion Week\n",
            "* Kwara Fashion Week\n",
            "* Port Harcourt International Fashion Week\n",
            "['South Africa']\n",
            "* South African Fashion Week\n",
            "* AFI Fashion Week\n",
            "* Soweto Fashion Week\n",
            "['Argentina']\n",
            "* Buenos Aires Fashion Week\n",
            "* Cordoba Fashion Week\n",
            "* Mendoza Fashion Week\n",
            "* Santa Fe Fashion Week\n",
            "['Bolivia']\n",
            "* Bolivia Fashion Week\n",
            "* International Fashion Week Bolivia\n",
            "['Brazil']\n",
            "* Minas Trend Preview\n",
            "* Brasília Fashion Week\n",
            "* Fortaleza Fashion Week\n",
            "* Amazônia Fashion Week\n",
            "* Rio Fashion Week\n",
            "* Salvador de Bahia Black Fashion Week\n",
            "* São Paulo Fashion Week\n",
            "['Canada']\n",
            "* Alberta Fashion Week\n",
            "* Fashion Cares\n",
            "* Montréal Fashion and Design Festival\n",
            "* Toronto Fashion Week\n",
            "* Vancouver Fashion Week\n",
            "['Chile']\n",
            "* Chile Fashion Week\n",
            "* Elite Model Look Chile\n",
            "* Santiago Fashion Week\n",
            "['Colombia']\n",
            "* Bogota Fashion Week\n",
            "* Barranquilla Fashion Week\n",
            "* Cali Fashion Week\n",
            "* Cali ExpoShow\n",
            "* Cartagena Fashion\n",
            "* ColombiaModa\n",
            "* ColombiaTex\n",
            "* Medellin Fashion Week\n",
            "* Plataforma K\n",
            "['Dominican Republic']\n",
            "* Dominicana Moda Fashion Week\n",
            "* RD Bridal Fashion Week\n",
            "['Jamaica']\n",
            "* Caribbean Fashion Week\n",
            "* Style Week Jamaica\n",
            "* Kingston Bridal Week\n",
            "['Mexico']\n",
            "* Guadalajara Design Week\n",
            "* Cancun Coture Week\n",
            "* Mexico City Fashion Week\n",
            "* MT Fashion Week (Monterrey)\n",
            "* Puebla Fashion Show\n",
            "['Panama']\n",
            "* Panama Fashion Week\n",
            "['Paraguay']\n",
            "* Asunción Fashion Week\n",
            "* Ciudad del Este Fashion Week\n",
            "['Peru']\n",
            "* LIF Fashion Week\n",
            "['Puerto Rico']\n",
            "* Elite Model Look Puerto Rico\n",
            "* Puerto Rico High Fashion Week\n",
            "* San Juan Moda\n",
            "* West Fashion Week\n",
            "* South Fashion Week\n",
            "['United States']\n",
            "* Africa Fashion Week New York\n",
            "* African Fashion Week Houston\n",
            "* Atlantic City Fashion Week\n",
            "* Boston Fashion Week\n",
            "* Christian Fashion Week\n",
            "* Fashion Week Cleveland\n",
            "* Houston Fashion Week\n",
            "* Los Angeles Fashion Week\n",
            "* Men's Fashion Week\n",
            "* Men's Fashion Week Los Angeles\n",
            "* Mercedes-Benz Fashion Week Miami\n",
            "* Met Gala\n",
            "* Miami Fashion Week\n",
            "* New York Fashion Week\n",
            "* Fall 2008 fashion weeks\n",
            "* List of Fall 2008 New York Fashion Week fashion shows\n",
            "* Men's Fashion Week\n",
            "* Rip the Runway\n",
            "* Pittsburgh Fashion Week\n",
            "* The Retreat Miami\n",
            "* Splendid Indian Closet Fashion Tour\n",
            "* Spring 2008 New York Fashion Week\n",
            "* Victoria's Secret Fashion Show\n",
            "['Uruguay']\n",
            "* Montevideo Fashion Week\n",
            "['Venezuela']\n",
            "* Caracas Fashion Week\n",
            "['Bahrain']\n",
            "* Bahrain International Design Week\n",
            "['Bangladesh']\n",
            "* Bangladesh Fashion Week\n",
            "* Dhaka Fashion Week\n",
            "* International Women's Day Show 2019 Chittagong\n",
            "['China']\n",
            "* Centrestage\n",
            "* China Fashion Week\n",
            "* Elite Model Look International 2009\n",
            "* Guangzhou Fashion Week\n",
            "* Hong Kong Fashion Week for Fall/Winter\n",
            "* Shanghai Fashion Week\n",
            "* Shenzhen Fashion Week\n",
            "* Tianjin Fashion Week\n",
            "['India']\n",
            "* Bangalore Fashion Week\n",
            "* India Fashion Week\n",
            "* India Runway Week\n",
            "* Lakme Fashion Week\n",
            "* India International Fashion Festival\n",
            "['Indonesia']\n",
            "* Indonesia Fashion Week\n",
            "* Jakarta Fashion Week\n",
            "* Plaza Indonesia's Men Fashion Week\n",
            "* Surabaya Fashion Parade\n",
            "* Bandung Fashion Week\n",
            "* Jember Fashion Carnaval\n",
            "* Bali Fashion Trend\n",
            "* Jogja Fashion Week\n",
            "* Jakarta Modest Fashion Week\n",
            "* Jakarta Hijab Fashion Week\n",
            "* Femme\n",
            "* Celebes Beauty Fashion Week\n",
            "['Iran']\n",
            "* Iran Fashion Week\n",
            "* Tehran Fashion Week\n",
            "['Israel']\n",
            "* Tel Aviv Fashion Week\n",
            "* he\n",
            "['Japan']\n",
            "* Girls Award\n",
            "* Hiroshima Fashion Week\n",
            "* Kobe Collection\n",
            "* Kyoto Fashion Week\n",
            "* Nagoya Fashion Week\n",
            "* Osaka Fashion Week\n",
            "* Sapporo Fashion Week\n",
            "* Tokyo Fashion week\n",
            "* ja\n",
            "* Tokyo Girls Collection\n",
            "['Malaysia']\n",
            "* Kuala Lumpur Fashion Week\n",
            "* Malaysian International Fashion Alliance (MIFA)\n",
            "* Asia Islamic Fashion Week 2017 (AIFW 2017)\n",
            "* Borneo Fashion Week\n",
            "['Mongolia']\n",
            "* Goyol Fashion Festival\n",
            "['Nepal']\n",
            "* Model Hunt Nepal\n",
            "* Voyage of creation\n",
            "* Nepal Fashion Week\n",
            "* CHIC Fashion Show\n",
            "* The Show\n",
            "['Pakistan']\n",
            "* Pakistan Fashion Week\n",
            "* Islamabad Fashion Week\n",
            "* Karachi Fashion Week\n",
            "* Lahore Fashion Week\n",
            "* Peshawar Fashion Week\n",
            "* PFDC Sunsilk Fashion Week\n",
            "* Media Box Fashion Week\n",
            "['Philippines']\n",
            "* Philippine Fashion Week\n",
            "* Manila Fashion Festival\n",
            "* Mega Fashion Week\n",
            "* Stylefest Ph\n",
            "* Philippine Fashion Gala\n",
            "* Bench Fashion Week\n",
            "['Qatar']\n",
            "* Doha Fashion Week\n",
            "['Russia']\n",
            "* Nizhny Fashion Week\n",
            "* Novosibirsk Fashion Week\n",
            "* Yekaterinburg Ural Fashion Week\n",
            "* Russia Fashion Week\n",
            "* Mercedes-Benz Fashion Week Russia\n",
            "* St. Petersburg Fashion Week\n",
            "* Volvo Moscow Fashion Week\n",
            "['Singapore']\n",
            "* Asia Fashion Exchange\n",
            "* Asia Style Collection\n",
            "* Fide Fashion Weeks\n",
            "* Men's Fashion Week\n",
            "* Singapore Fashion Festival\n",
            "* Singapore Fashion Week\n",
            "['South Korea']\n",
            "* Miss Supertalent\n",
            "* Seoul Fashion Week\n",
            "* Preview in Daegu\n",
            "* Busan Fashion Week\n",
            "* Daegu Fashion Fair (Week)\n",
            "* Seoul Girls Collection\n",
            "['Sri Lanka']\n",
            "* Colombo Fashion Week\n",
            "['Taiwan']\n",
            "* Taipei Fashion Week\n",
            "['Thailand']\n",
            "* Bangkok International Fashion Week\n",
            "* Elle Fashion Week\n",
            "['Turkey']\n",
            "* Antalya Fashion Week\n",
            "* Istanbul Fashion Week\n",
            "['United Arab Emirates']\n",
            "* Arab Fashion Week\n",
            "['Vietnam']\n",
            "* Vietnam International Fashion Week\n",
            "['Austria']\n",
            "* Vienna Fashion Week\n",
            "['Belarus']\n",
            "* Belarus Fashion Week\n",
            "['Belgium']\n",
            "* Antwerp Fashion Show\n",
            "* Brussels Fashion Week\n",
            "['Bulgaria']\n",
            "* Sofia Fashion Week Couture\n",
            "* Kids Fashion Week\n",
            "* Men's Fashion Week Plovdiv\n",
            "* Plovdiv Fashion Week Prêt-à-Porter\n",
            "* Bridal Fashion Week Plovdiv\n",
            "* Dance Fashion Week Burgas\n",
            "* Lingerie & Swimwear Fashion Week Varna\n",
            "['Czech Republic']\n",
            "* Prague Fashion Week\n",
            "['Croatia']\n",
            "* Zagreb Fashion Week\n",
            "['Denmark']\n",
            "* Copenhagen Fashion Week\n",
            "* Gallery Int Fashion Fair\n",
            "['Finland']\n",
            "* Helsinki Fashion Week\n",
            "* African Fashion Week Helsinki\n",
            "['France']\n",
            "* Africa Fashion Week Paris\n",
            "* Bordeaux Fashion Week\n",
            "* Elite Model Look\n",
            "* Cannes-Nice Fashion Week\n",
            "* Bal des débutantes\n",
            "* Paris Fashion Week\n",
            "* Fall 2008 fashion weeks\n",
            "* Men's Fashion Week\n",
            "* Lille Fashion Week\n",
            "* Lyon Fashion Week (FashionCity Show)\n",
            "* Marseille Fashion Week\n",
            "* Nantes Fashion Week\n",
            "* Rennes Fashion Week\n",
            "* Toulouse Fashion Week\n",
            "* Strasbourg Fashion Week (EM Fashion Week)\n",
            "* St. Tropez Fashion Week\n",
            "* Spring 2004 Dior couture collection\n",
            "['Georgia']\n",
            "* Adjara Fashion Week\n",
            "* Mercedes-Benz Fashion Week Tbilisi\n",
            "* Tbilisi Fashion Week\n",
            "['Germany']\n",
            "* Baltic Fashion Week\n",
            "* Usedom Island\n",
            "* Berlin Fashion Week\n",
            "* Bread and Butter tradeshow\n",
            "* Stylenite\n",
            "* Michael Michalsky\n",
            "* Düsseldorf Fashion Week\n",
            "* Frankfurt Fashion Week\n",
            "* Hamburg Fashion Week\n",
            "* Cologne Fashion Week\n",
            "* Krefeld Street Fashion Show\n",
            "* Munich Fashion Week\n",
            "* Schwerin LOOK\n",
            "* Stuttgart Fashion Week\n",
            "* Warnemünde Fashion Week\n",
            "['Greece']\n",
            "* Athens Xclusive Designers Week\n",
            "['Hungary']\n",
            "* Budapest Fashion Week\n",
            "['Italy']\n",
            "* Bari Fashion Week\n",
            "* Benevento Fashion Week\n",
            "* Benevento In Moda\n",
            "* Bologne Fashion Week\n",
            "* Catania Fashion Week\n",
            "* Cesena Fashion Week\n",
            "* Cortina Fashion Week\n",
            "* Firenze Fashion Week\n",
            "* Genova Fashion Week\n",
            "['Latvia']\n",
            "* Riga Fashion Week\n",
            "['Lithuania']\n",
            "* Mados infekcija\n",
            "['Luxembourg']\n",
            "* Luxembourg Fashion Week\n",
            "['Malta']\n",
            "* Mercedes Benz Malta Fashion Week\n",
            "['Monaco']\n",
            "* Montecarlo Fashion Week (Fashion Fair Week)\n",
            "['Netherlands']\n",
            "* Amsterdam Fashion Week\n",
            "* Rotterdam Fashion Week\n",
            "* Canal Catwalk\n",
            "* Floating Fashion Week\n",
            "['Norway']\n",
            "* Oslo Fashion Week\n",
            "['Poland']\n",
            "* Łódź FashionPhilosophy Fashion Week Poland\n",
            "* Mercedes Benz Fashion Weekend Warsaw\n",
            "['Portugal']\n",
            "* Lisbon Fashion Week\n",
            "* Portugal Fashion\n",
            "['Romania']\n",
            "* Kasta Morrely Fashion Week Iasi\n",
            "* Feeric Fashion Week\n",
            "* Bucharest Fashion Week\n",
            "['Serbia']\n",
            "* Belgrade Fashion Week\n",
            "* Elite Model Look Serbia\n",
            "* Belgrade Design Week\n",
            "* Serbia Fashion Week\n",
            "['Spain']\n",
            "* Cibeles Madrid Fashion Week\n",
            "* Barcelona Fashion Week (Pasarela Gaudí)\n",
            "* Malagá Fashion Week (Plaza Mayor Week)\n",
            "* Murcia Fashion Week\n",
            "* Valencia Fashion Week\n",
            "* Sevilla Fashion Week\n",
            "* Zaragoza Fashion Week\n",
            "* The Brandery\n",
            "['Sweden']\n",
            "* Stockolm Fashion Week\n",
            "* Umeå Fashion Week\n",
            "['United Kingdom']\n",
            "* Aberdeen Fashion Week\n",
            "* Asia Fashion Week London\n",
            "* Africa Fashion Week London\n",
            "* Birmingham Fashion Week\n",
            "* Brighton Fashion Week\n",
            "* Bristol Fashion Week\n",
            "* Cheltenham Fashion Week\n",
            "* Clothes Show Live\n",
            "* Essex Fashion Week\n",
            "* Fashion in Film Festival\n",
            "* Leeds Fashion Show\n",
            "* Liverpool Fashion Week\n",
            "* London Fashion Week\n",
            "* Fall 2008 fashion weeks\n",
            "* Men's Fashion Week\n",
            "* Manchester Fashion Week\n",
            "* Oxford Fashion Week\n",
            "* Pure London\n",
            "* Strut\n",
            "* Sunrise in Baku Fashion Project\n",
            "* Vivz World Fashion Week\n",
            "['Ukraine']\n",
            "* Ukrainian Fashion Week\n",
            "* Odesa Fashion Week\n",
            "['Australia']\n",
            "* Australian Fashion Week\n",
            "* Melbourne Fashion Festival\n",
            "* Melbourne Spring Fashion Week\n",
            "* Mercedes-Benz Fashion Festival Brisbane\n",
            "* Adelaide Fashion Festival\n",
            "* Telstra Perth Fashion Festival\n",
            "['Fiji']\n",
            "* Fiji Fashion Week\n",
            "['New Zealand']\n",
            "* NZ Fashion Week\n",
            "['Personal tools']\n"
          ],
          "name": "stdout"
        },
        {
          "output_type": "error",
          "ename": "AttributeError",
          "evalue": "ignored",
          "traceback": [
            "\u001b[0;31m---------------------------------------------------------------------------\u001b[0m",
            "\u001b[0;31mAttributeError\u001b[0m                            Traceback (most recent call last)",
            "\u001b[0;32m<ipython-input-24-5ae74378d03c>\u001b[0m in \u001b[0;36m<module>\u001b[0;34m()\u001b[0m\n\u001b[1;32m     33\u001b[0m     \u001b[0;31m#extract fashion events using <li> tag\u001b[0m\u001b[0;34m\u001b[0m\u001b[0;34m\u001b[0m\u001b[0;34m\u001b[0m\u001b[0m\n\u001b[1;32m     34\u001b[0m     \u001b[0muls\u001b[0m \u001b[0;34m=\u001b[0m \u001b[0mc\u001b[0m\u001b[0;34m.\u001b[0m\u001b[0mfind_next_sibling\u001b[0m\u001b[0;34m(\u001b[0m\u001b[0;34m'ul'\u001b[0m\u001b[0;34m)\u001b[0m\u001b[0;34m\u001b[0m\u001b[0;34m\u001b[0m\u001b[0m\n\u001b[0;32m---> 35\u001b[0;31m     \u001b[0;32mfor\u001b[0m \u001b[0mfashion_events\u001b[0m \u001b[0;32min\u001b[0m \u001b[0muls\u001b[0m\u001b[0;34m.\u001b[0m\u001b[0mfind_all\u001b[0m\u001b[0;34m(\u001b[0m\u001b[0;34m'a'\u001b[0m\u001b[0;34m)\u001b[0m\u001b[0;34m:\u001b[0m\u001b[0;34m\u001b[0m\u001b[0;34m\u001b[0m\u001b[0m\n\u001b[0m\u001b[1;32m     36\u001b[0m       \u001b[0;32mif\u001b[0m \u001b[0mtype\u001b[0m\u001b[0;34m(\u001b[0m\u001b[0mfashion_events\u001b[0m \u001b[0;32min\u001b[0m \u001b[0muls\u001b[0m\u001b[0;34m.\u001b[0m\u001b[0mfind_all\u001b[0m\u001b[0;34m(\u001b[0m\u001b[0;34m'a'\u001b[0m\u001b[0;34m)\u001b[0m\u001b[0;34m)\u001b[0m \u001b[0;34m!=\u001b[0m \u001b[0;32mNone\u001b[0m \u001b[0;34m:\u001b[0m\u001b[0;34m\u001b[0m\u001b[0;34m\u001b[0m\u001b[0m\n\u001b[1;32m     37\u001b[0m        \u001b[0mprint\u001b[0m\u001b[0;34m(\u001b[0m\u001b[0;34m\"* \"\u001b[0m \u001b[0;34m+\u001b[0m \u001b[0mfashion_events\u001b[0m\u001b[0;34m.\u001b[0m\u001b[0mcontents\u001b[0m\u001b[0;34m[\u001b[0m\u001b[0;36m0\u001b[0m\u001b[0;34m]\u001b[0m\u001b[0;34m)\u001b[0m\u001b[0;34m\u001b[0m\u001b[0;34m\u001b[0m\u001b[0m\n",
            "\u001b[0;31mAttributeError\u001b[0m: 'NoneType' object has no attribute 'find_all'"
          ]
        }
      ]
    },
    {
      "cell_type": "markdown",
      "metadata": {
        "id": "yn49vKs4NXLo"
      },
      "source": [
        "**Exercise 3:** Scraping - Retrieve a list of footwear designers from origianl HTML source using beautifulsoup\n",
        "\n",
        "https://en.wikipedia.org/wiki/List_of_footwear_designers"
      ]
    },
    {
      "cell_type": "code",
      "metadata": {
        "colab": {
          "base_uri": "https://localhost:8080/",
          "height": 1000
        },
        "id": "J_Vwa0mfNW3E",
        "outputId": "eac00a9d-4dc4-41a1-9437-f217fcf605f6"
      },
      "source": [
        "# fetch wikipedia page\n",
        "import requests\n",
        "from bs4 import BeautifulSoup\n",
        "from bs4 import Tag\n",
        "\n",
        "url = \"https://en.wikipedia.org/wiki/List_of_footwear_designers\"\n",
        "r = requests.get(url)\n",
        "\n",
        "soup = BeautifulSoup(r.text, 'html.parser')\n",
        "\n",
        "#print(soup.prettify())\n",
        "\n",
        "#extract footwear designers using <li> tag\n",
        "shoe_designers = soup.find_all('li')\n",
        "for shoe_designer in shoe_designers:\n",
        " print(\"* \" + shoe_designer.contents[0][\"title\"])\n",
        "\n",
        "\n",
        "\n"
      ],
      "execution_count": null,
      "outputs": [
        {
          "output_type": "stream",
          "text": [
            "* Alberta Ferretti\n",
            "* Aldo Group\n",
            "* Alexander Wang (designer)\n",
            "* Alexander White (designer)\n",
            "* Alexandre Birman\n",
            "* André Perugia\n",
            "* Badgley Mischka\n",
            "* Balenciaga\n",
            "* Bally Shoe\n",
            "* Balmain (fashion house)\n",
            "* Beatrix Ong\n",
            "* Bebe Stores\n",
            "* Betsey Johnson\n",
            "* Bionda Castana\n",
            "* Blufin\n",
            "* Bottega Veneta\n",
            "* Brian Atwood\n",
            "* Bruno Magli\n",
            "* Calvin Klein\n",
            "* Cesare Paciotti\n",
            "* Chanel\n",
            "* Charlotte Olympia\n",
            "* Christian Dior\n",
            "* Christian Lacroix\n",
            "* Christian Louboutin\n",
            "* Christian Siriano\n",
            "* Chuck Taylor (salesman)\n",
            "* Collin Thompson\n",
            "* Common Projects\n",
            "* Dean and Dan Caten\n",
            "* Dolce & Gabbana\n",
            "* Edward Rayne\n",
            "* Emilio Pucci\n",
            "* Emma Hope\n",
            "* Fendi\n",
            "* Giambattista Valli\n",
            "* Giuseppe Zanotti\n",
            "* Givenchy\n",
            "* Gucci\n",
            "* Guess (clothing)\n",
            "* Hervé Leger\n",
            "* Irregular Choice\n",
            "* Jimmy Choo\n",
            "* John Fluevog\n",
            "* Joker's Closet\n",
            "* Kurt Geiger\n",
            "* L.A.M.B.\n",
            "* Lanvin (company)\n",
            "* Liam Fahy\n",
            "* Louis Vuitton\n",
            "* Manolo Blahnik\n",
            "* Maud Frizon\n",
            "* Miu Miu\n",
            "* Monika Chiang\n",
            "* Monique Lhuillier\n",
            "* Moya Bowler\n",
            "* Natacha Marro\n",
            "* Nicholas Kirkwood\n",
            "* Nine West\n",
            "* Olga Peterson\n",
            "* Patrick Cox\n",
            "* Paul Andrew (designer)\n",
            "* Philipp Plein\n",
            "* Prabal Gurung\n",
            "* Prada\n",
            "* Pura Lopez\n",
            "* Ralph & Russo\n",
            "* Rene Caovilla\n",
            "* Roberto Cavalli\n",
            "* Roger Vivier\n",
            "* Rupert Sanderson\n",
            "* Ruthie Davis\n",
            "* Salvatore Ferragamo\n",
            "* Caleres\n",
            "* Alexandre Birman\n",
            "* Sergio Rossi (shoe designer)\n",
            "* Sophia Webster\n",
            "* Stefi Talman\n",
            "* Steve Madden\n",
            "* Stuart Weitzman\n",
            "* Susan Bennis/Warren Edwards\n",
            "* Ted Baker\n",
            "* Terry de Havilland\n",
            "* The Chelsea Cobbler\n",
            "* Tinker Hatfield\n",
            "* Tod's\n",
            "* Tom Ford\n",
            "* Valentino (fashion designer)\n",
            "* Vanessa Noel\n",
            "* Versace\n",
            "* Caleres\n",
            "* Walter Steiger\n",
            "* Warren Edwards\n",
            "* Yves Saint Laurent (brand)\n",
            "* Zara (retailer)\n",
            "* List of fashion designers\n",
            "* Category:Shoe designers\n",
            "* Category:Fashion occupations\n",
            "* Category:Lists of people by occupation\n",
            "* Category:Fashion-related lists\n",
            "* Category:Articles with short description\n",
            "* Category:Short description is different from Wikidata\n"
          ],
          "name": "stdout"
        },
        {
          "output_type": "error",
          "ename": "TypeError",
          "evalue": "ignored",
          "traceback": [
            "\u001b[0;31m---------------------------------------------------------------------------\u001b[0m",
            "\u001b[0;31mTypeError\u001b[0m                                 Traceback (most recent call last)",
            "\u001b[0;32m<ipython-input-251-cc61f64ca512>\u001b[0m in \u001b[0;36m<module>\u001b[0;34m()\u001b[0m\n\u001b[1;32m     14\u001b[0m \u001b[0mshoe_designers\u001b[0m \u001b[0;34m=\u001b[0m \u001b[0msoup\u001b[0m\u001b[0;34m.\u001b[0m\u001b[0mfind_all\u001b[0m\u001b[0;34m(\u001b[0m\u001b[0;34m'li'\u001b[0m\u001b[0;34m)\u001b[0m\u001b[0;34m\u001b[0m\u001b[0;34m\u001b[0m\u001b[0m\n\u001b[1;32m     15\u001b[0m \u001b[0;32mfor\u001b[0m \u001b[0mshoe_designer\u001b[0m \u001b[0;32min\u001b[0m \u001b[0mshoe_designers\u001b[0m\u001b[0;34m:\u001b[0m\u001b[0;34m\u001b[0m\u001b[0;34m\u001b[0m\u001b[0m\n\u001b[0;32m---> 16\u001b[0;31m  \u001b[0mprint\u001b[0m\u001b[0;34m(\u001b[0m\u001b[0;34m\"* \"\u001b[0m \u001b[0;34m+\u001b[0m \u001b[0mshoe_designer\u001b[0m\u001b[0;34m.\u001b[0m\u001b[0mcontents\u001b[0m\u001b[0;34m[\u001b[0m\u001b[0;36m0\u001b[0m\u001b[0;34m]\u001b[0m\u001b[0;34m[\u001b[0m\u001b[0;34m\"title\"\u001b[0m\u001b[0;34m]\u001b[0m\u001b[0;34m)\u001b[0m\u001b[0;34m\u001b[0m\u001b[0;34m\u001b[0m\u001b[0m\n\u001b[0m\u001b[1;32m     17\u001b[0m \u001b[0;34m\u001b[0m\u001b[0m\n\u001b[1;32m     18\u001b[0m \u001b[0;34m\u001b[0m\u001b[0m\n",
            "\u001b[0;31mTypeError\u001b[0m: string indices must be integers"
          ]
        }
      ]
    },
    {
      "cell_type": "markdown",
      "metadata": {
        "id": "r02_Un5ZbrJx"
      },
      "source": [
        "06/08/2021 Class Exercises"
      ]
    },
    {
      "cell_type": "markdown",
      "metadata": {
        "id": "mAyCibXZdRB9"
      },
      "source": [
        "Learning Goals\n",
        "1. Index and slice into strings to break them up into parts\n",
        "2. Use for loops to loop over string by index\n",
        "3. Use string operations and menthods to solve problems\n",
        "\n",
        "Data structures are used while programming to organize multiple pieces of data in different ways. Examples are strings, lists, dictionaries, trees and graphs"
      ]
    },
    {
      "cell_type": "code",
      "metadata": {
        "colab": {
          "base_uri": "https://localhost:8080/",
          "height": 174
        },
        "id": "ER9mPyiibn7D",
        "outputId": "3d1d5c3f-9979-4212-df69-97cd6d126ea0"
      },
      "source": [
        "s = \"hello\"\n",
        "print('Print char in string using index')\n",
        "print(s[0])\n",
        "print(s[1])\n",
        "print(s[-1])\n",
        "print(s[-2])\n",
        "\n",
        "print('Print the length if the string')\n",
        "print(len(s))\n",
        "\n",
        "print('Print the last character using the len function') \n",
        "s[len(s) - 1] # '-1' becuase it starts counting from 0"
      ],
      "execution_count": null,
      "outputs": [
        {
          "output_type": "stream",
          "text": [
            "Print char in string using index\n",
            "h\n",
            "e\n",
            "o\n",
            "l\n",
            "Print the length if the string\n",
            "5\n",
            "Print the last character using the len function\n"
          ],
          "name": "stdout"
        },
        {
          "output_type": "execute_result",
          "data": {
            "application/vnd.google.colaboratory.intrinsic+json": {
              "type": "string"
            },
            "text/plain": [
              "'o'"
            ]
          },
          "metadata": {
            "tags": []
          },
          "execution_count": 10
        }
      ]
    },
    {
      "cell_type": "code",
      "metadata": {
        "colab": {
          "base_uri": "https://localhost:8080/",
          "height": 35
        },
        "id": "dAm32tqkhOF4",
        "outputId": "3ab6e80d-fd75-4903-ad32-8475a6e9767b"
      },
      "source": [
        "t = \"abc123\"\n",
        "#\"a\"\n",
        "t[0]\n",
        "#\"c\"\n",
        "t[2]\n",
        "#\"3\"\n",
        "t[5]"
      ],
      "execution_count": null,
      "outputs": [
        {
          "output_type": "execute_result",
          "data": {
            "application/vnd.google.colaboratory.intrinsic+json": {
              "type": "string"
            },
            "text/plain": [
              "'3'"
            ]
          },
          "metadata": {
            "tags": []
          },
          "execution_count": 12
        }
      ]
    },
    {
      "cell_type": "markdown",
      "metadata": {
        "id": "QiL2B3SHkqtC"
      },
      "source": [
        "The code below is an example of string slicing. "
      ]
    },
    {
      "cell_type": "code",
      "metadata": {
        "colab": {
          "base_uri": "https://localhost:8080/"
        },
        "id": "033Ji9EHhjzz",
        "outputId": "30670a2d-42f1-4638-d5b4-65560655ddb7"
      },
      "source": [
        "# String slicing\n",
        "t = \"abc123def456\"\n",
        "print(t[0:3]) # sub string\n",
        "\n",
        "print(t[3:]) # print till the end if it doesn't indicite the end of the string\n",
        "\n",
        "print(t[0:len(t):2]) # start:end:skip count (step size) *default step size = 1 if not specified\n",
        "\n",
        "print(t[::2]) # equal to t[0:len(t):2]\n",
        "\n",
        "t = \"abcdefghij\"\n",
        "print(t[2:len(t):3]) #cfi\n",
        "print(t[2::3])"
      ],
      "execution_count": null,
      "outputs": [
        {
          "output_type": "stream",
          "text": [
            "abc\n",
            "123def456\n",
            "ac2df5\n",
            "ac2df5\n",
            "cfi\n",
            "cfi\n"
          ],
          "name": "stdout"
        }
      ]
    },
    {
      "cell_type": "markdown",
      "metadata": {
        "id": "KnaQfM_ZlR2Y"
      },
      "source": [
        "Loop over strings or lists"
      ]
    },
    {
      "cell_type": "code",
      "metadata": {
        "colab": {
          "base_uri": "https://localhost:8080/"
        },
        "id": "PbStRRcEoJ4H",
        "outputId": "2bc91310-baa9-4a75-9016-3f2f12f59434"
      },
      "source": [
        "count = 0\n",
        "print(\"Count befire the loop\", count)\n",
        "for x in range(10,15):\n",
        "  count = count + x #update count by adding x\n",
        "  #pass # --> do nothing \n",
        "  print(\"Count after each iteration\", count, x)\n",
        "print(\"Count after the loop\", count)"
      ],
      "execution_count": null,
      "outputs": [
        {
          "output_type": "stream",
          "text": [
            "Count befire the loop 0\n",
            "Count after each iteration 10 10\n",
            "Count after each iteration 21 11\n",
            "Count after each iteration 33 12\n",
            "Count after each iteration 46 13\n",
            "Count after each iteration 60 14\n",
            "Count after the loop 60\n"
          ],
          "name": "stdout"
        }
      ]
    },
    {
      "cell_type": "code",
      "metadata": {
        "colab": {
          "base_uri": "https://localhost:8080/"
        },
        "id": "Ab3GcB77lTUo",
        "outputId": "763da1a8-89a9-4451-e52e-27e2fcf2bfda"
      },
      "source": [
        "t = \"Wow!! This is so! exciting!!!\"\n",
        "\n",
        "count = 0\n",
        "for i in range(len(t)): \n",
        "  print(i,t[i])\n",
        "  if t[i] == '!':\n",
        "   count = count + 1 \n",
        "print(\"The count of ! is: \", count)"
      ],
      "execution_count": null,
      "outputs": [
        {
          "output_type": "stream",
          "text": [
            "0 W\n",
            "1 o\n",
            "2 w\n",
            "3 !\n",
            "4 !\n",
            "5  \n",
            "6 T\n",
            "7 h\n",
            "8 i\n",
            "9 s\n",
            "10  \n",
            "11 i\n",
            "12 s\n",
            "13  \n",
            "14 s\n",
            "15 o\n",
            "16 !\n",
            "17  \n",
            "18 e\n",
            "19 x\n",
            "20 c\n",
            "21 i\n",
            "22 t\n",
            "23 i\n",
            "24 n\n",
            "25 g\n",
            "26 !\n",
            "27 !\n",
            "28 !\n",
            "The count of ! is:  6\n"
          ],
          "name": "stdout"
        }
      ]
    },
    {
      "cell_type": "code",
      "metadata": {
        "colab": {
          "base_uri": "https://localhost:8080/"
        },
        "id": "nY7gAsk3nj1s",
        "outputId": "17bc3233-fd48-4252-f625-06e69479ea2f"
      },
      "source": [
        "t = \"Wow!! This is so! exciting!!!\"\n",
        "\n",
        "start = 0\n",
        "stop = len(t)\n",
        "\n",
        "count = 0\n",
        "for i in range(start, stop): \n",
        "  print(i,t[i])\n",
        "  if t[i] == '!':\n",
        "   count = count + 1 \n",
        "print(\"The count of ! is: \", count)"
      ],
      "execution_count": null,
      "outputs": [
        {
          "output_type": "stream",
          "text": [
            "0 W\n",
            "1 o\n",
            "2 w\n",
            "3 !\n",
            "4 !\n",
            "5  \n",
            "6 T\n",
            "7 h\n",
            "8 i\n",
            "9 s\n",
            "10  \n",
            "11 i\n",
            "12 s\n",
            "13  \n",
            "14 s\n",
            "15 o\n",
            "16 !\n",
            "17  \n",
            "18 e\n",
            "19 x\n",
            "20 c\n",
            "21 i\n",
            "22 t\n",
            "23 i\n",
            "24 n\n",
            "25 g\n",
            "26 !\n",
            "27 !\n",
            "28 !\n",
            "The count of ! is:  6\n"
          ],
          "name": "stdout"
        }
      ]
    },
    {
      "cell_type": "code",
      "metadata": {
        "colab": {
          "base_uri": "https://localhost:8080/"
        },
        "id": "ZwMn_8StrmgU",
        "outputId": "0d7b0610-5a0b-40bd-c048-a1d54351e9e0"
      },
      "source": [
        "for i in range(5):\n",
        " print(i)"
      ],
      "execution_count": null,
      "outputs": [
        {
          "output_type": "stream",
          "text": [
            "0\n",
            "1\n",
            "2\n",
            "3\n",
            "4\n"
          ],
          "name": "stdout"
        }
      ]
    },
    {
      "cell_type": "code",
      "metadata": {
        "colab": {
          "base_uri": "https://localhost:8080/"
        },
        "id": "0S9zJxEgtWu1",
        "outputId": "e55e6a37-9bf6-4f9f-c13c-93952cba76aa"
      },
      "source": [
        "for i in range(5):\n",
        "  #print(i)\n",
        "  i=i+1\n",
        "  print(i)"
      ],
      "execution_count": null,
      "outputs": [
        {
          "output_type": "stream",
          "text": [
            "1\n",
            "2\n",
            "3\n",
            "4\n",
            "5\n"
          ],
          "name": "stdout"
        }
      ]
    },
    {
      "cell_type": "markdown",
      "metadata": {
        "id": "kNBoCTO1009G"
      },
      "source": [
        "## Trace table practice "
      ]
    },
    {
      "cell_type": "code",
      "metadata": {
        "colab": {
          "base_uri": "https://localhost:8080/"
        },
        "id": "dN6JptzI06M9",
        "outputId": "2f01ff4d-08b3-4c20-d580-e698108047f2"
      },
      "source": [
        "s = \"abccba\"\n",
        "print(\"Length of the string is: \", len(s))\n",
        "for i in range(len(s)):\n",
        "  print(i, s[i], s[len(s) - 1 -i], s[i] != s[len(s) - 1 -i])\n",
        "  if s[i] != s[len(s) - 1 -i]:\n",
        "   print(\"It is not a palindrome\")\n",
        "   break"
      ],
      "execution_count": null,
      "outputs": [
        {
          "output_type": "stream",
          "text": [
            "Length of the string is:  6\n",
            "0 a a False\n",
            "1 b b False\n",
            "2 c c False\n",
            "3 c c False\n",
            "4 b b False\n",
            "5 a a False\n"
          ],
          "name": "stdout"
        }
      ]
    },
    {
      "cell_type": "code",
      "metadata": {
        "colab": {
          "base_uri": "https://localhost:8080/"
        },
        "id": "x1CgkZEd8XLQ",
        "outputId": "b5dca7ae-4a7a-4b24-8fe4-fb65620c8b4d"
      },
      "source": [
        "'a' != 'b'"
      ],
      "execution_count": null,
      "outputs": [
        {
          "output_type": "execute_result",
          "data": {
            "text/plain": [
              "True"
            ]
          },
          "metadata": {
            "tags": []
          },
          "execution_count": 58
        }
      ]
    },
    {
      "cell_type": "code",
      "metadata": {
        "colab": {
          "base_uri": "https://localhost:8080/",
          "height": 35
        },
        "id": "lsN-0vuF8eoh",
        "outputId": "179d7ffc-77fc-4eea-9ce3-6ca51a3032db"
      },
      "source": [
        "\"hello \" + \"world\""
      ],
      "execution_count": null,
      "outputs": [
        {
          "output_type": "execute_result",
          "data": {
            "application/vnd.google.colaboratory.intrinsic+json": {
              "type": "string"
            },
            "text/plain": [
              "'hello world'"
            ]
          },
          "metadata": {
            "tags": []
          },
          "execution_count": 60
        }
      ]
    },
    {
      "cell_type": "code",
      "metadata": {
        "colab": {
          "base_uri": "https://localhost:8080/",
          "height": 35
        },
        "id": "n2xvgduj8kuT",
        "outputId": "68e5c06e-bbb7-4e99-b7c7-6e3f260fd1f1"
      },
      "source": [
        "\"hello \" * 3"
      ],
      "execution_count": null,
      "outputs": [
        {
          "output_type": "execute_result",
          "data": {
            "application/vnd.google.colaboratory.intrinsic+json": {
              "type": "string"
            },
            "text/plain": [
              "'hello hello hello '"
            ]
          },
          "metadata": {
            "tags": []
          },
          "execution_count": 62
        }
      ]
    },
    {
      "cell_type": "code",
      "metadata": {
        "colab": {
          "base_uri": "https://localhost:8080/"
        },
        "id": "JFpomgSM8rB5",
        "outputId": "aa305447-d126-454d-ab18-7c53d69793d0"
      },
      "source": [
        "'a' in 'apple'"
      ],
      "execution_count": null,
      "outputs": [
        {
          "output_type": "execute_result",
          "data": {
            "text/plain": [
              "True"
            ]
          },
          "metadata": {
            "tags": []
          },
          "execution_count": 63
        }
      ]
    },
    {
      "cell_type": "code",
      "metadata": {
        "colab": {
          "base_uri": "https://localhost:8080/"
        },
        "id": "-dDHJbqI88Hw",
        "outputId": "9a2a2fd5-36f4-4cd8-95a0-27b01b8a91b3"
      },
      "source": [
        "'a' < 'b' # ascii value "
      ],
      "execution_count": null,
      "outputs": [
        {
          "output_type": "execute_result",
          "data": {
            "text/plain": [
              "True"
            ]
          },
          "metadata": {
            "tags": []
          },
          "execution_count": 64
        }
      ]
    },
    {
      "cell_type": "code",
      "metadata": {
        "colab": {
          "base_uri": "https://localhost:8080/"
        },
        "id": "UeQUeVVW9fLa",
        "outputId": "64392037-b4ff-47fb-eee5-03434970d539"
      },
      "source": [
        "'bad'< 'bat'"
      ],
      "execution_count": null,
      "outputs": [
        {
          "output_type": "execute_result",
          "data": {
            "text/plain": [
              "True"
            ]
          },
          "metadata": {
            "tags": []
          },
          "execution_count": 66
        }
      ]
    },
    {
      "cell_type": "code",
      "metadata": {
        "colab": {
          "base_uri": "https://localhost:8080/"
        },
        "id": "KR4PK9ZD9kCo",
        "outputId": "e6cc8d45-df54-4373-dad1-3e8d0eac6764"
      },
      "source": [
        "'bad' > 'batter' # it will check until the condition is met and compare and stop."
      ],
      "execution_count": null,
      "outputs": [
        {
          "output_type": "execute_result",
          "data": {
            "text/plain": [
              "False"
            ]
          },
          "metadata": {
            "tags": []
          },
          "execution_count": 68
        }
      ]
    },
    {
      "cell_type": "code",
      "metadata": {
        "colab": {
          "base_uri": "https://localhost:8080/"
        },
        "id": "aocC1CTN9_eT",
        "outputId": "d2bf9860-ccd4-4728-be12-09ddb5cd4aea"
      },
      "source": [
        "s = '123'\n",
        "s.isdigit()"
      ],
      "execution_count": null,
      "outputs": [
        {
          "output_type": "execute_result",
          "data": {
            "text/plain": [
              "True"
            ]
          },
          "metadata": {
            "tags": []
          },
          "execution_count": 72
        }
      ]
    },
    {
      "cell_type": "code",
      "metadata": {
        "colab": {
          "base_uri": "https://localhost:8080/"
        },
        "id": "7HB3v4o1-6FQ",
        "outputId": "f7d9e5ca-3883-49b3-8a48-697d2dd16eb3"
      },
      "source": [
        "s = 'ifa'\n",
        "s_new = s.capitalize()\n",
        "s_uppercase = s.upper()\n",
        "\n",
        "print(s_new)\n",
        "print(s)\n",
        "print(s_uppercase)"
      ],
      "execution_count": null,
      "outputs": [
        {
          "output_type": "stream",
          "text": [
            "Ifa\n",
            "ifa\n",
            "IFA\n"
          ],
          "name": "stdout"
        }
      ]
    },
    {
      "cell_type": "code",
      "metadata": {
        "colab": {
          "base_uri": "https://localhost:8080/"
        },
        "id": "rcXC3aZS_nZn",
        "outputId": "a46a40f3-f9cf-4903-d938-de402add87a7"
      },
      "source": [
        "s = 'apple'\n",
        "print(s.count('p')) #count how many # of P in s\n",
        "print(\"number of occurances of pp: \", s.count('pp'))\n",
        "print(\"find the index of: \", s.find('le')) # because 'le' starts with index 3 \n",
        "print(\"find the index of: \", s.find('lex')) # return -1 if sub is not found "
      ],
      "execution_count": null,
      "outputs": [
        {
          "output_type": "stream",
          "text": [
            "2\n",
            "number of occurances of pp:  1\n",
            "find the index of:  3\n",
            "find the index of:  -1\n"
          ],
          "name": "stdout"
        }
      ]
    },
    {
      "cell_type": "code",
      "metadata": {
        "colab": {
          "base_uri": "https://localhost:8080/",
          "height": 35
        },
        "id": "pvtRzQPkA4BP",
        "outputId": "260f3ad6-867c-4e7c-823b-2f3519d9d86e"
      },
      "source": [
        "#find the first name in a given full name\n",
        "\n",
        "name = \"praveen garimella\"\n",
        "\n",
        "name = \"andy moore\"\n",
        "\n",
        "name = \"adfasdfa\"\n",
        "\n",
        "# how to identify the index of space\n",
        "# print(name.find(' '))\n",
        "name[0:name.find(' ')] # first name\n",
        "name[name.find(' ') + 1:] # last name "
      ],
      "execution_count": null,
      "outputs": [
        {
          "output_type": "execute_result",
          "data": {
            "application/vnd.google.colaboratory.intrinsic+json": {
              "type": "string"
            },
            "text/plain": [
              "'adfasdfa'"
            ]
          },
          "metadata": {
            "tags": []
          },
          "execution_count": 94
        }
      ]
    },
    {
      "cell_type": "markdown",
      "metadata": {
        "id": "diSDlleMe8TK"
      },
      "source": [
        "### variables and objects (June 15, 2021)"
      ]
    },
    {
      "cell_type": "code",
      "metadata": {
        "colab": {
          "base_uri": "https://localhost:8080/"
        },
        "id": "rf1h6YMUefmt",
        "outputId": "115761c7-9f58-48c2-f4bd-72ac3c014c36"
      },
      "source": [
        "# using and updating variables\n",
        "\n",
        "x = 5\n",
        "y = x - 2\n",
        "x = x - 1 # overwrite the previous x value\n",
        "\n",
        "print(\"x: \", x)"
      ],
      "execution_count": 2,
      "outputs": [
        {
          "output_type": "stream",
          "text": [
            "x:  4\n"
          ],
          "name": "stdout"
        }
      ]
    },
    {
      "cell_type": "code",
      "metadata": {
        "colab": {
          "base_uri": "https://localhost:8080/",
          "height": 216
        },
        "id": "-PhJaOmigqAZ",
        "outputId": "b579e7a5-2cbc-4a60-bc00-aac63cefd57c"
      },
      "source": [
        "# python is sequential\n",
        "\n",
        "print(foo)\n",
        "foo = 42 # reverse the order to make it work (move to line 2)"
      ],
      "execution_count": 4,
      "outputs": [
        {
          "output_type": "error",
          "ename": "NameError",
          "evalue": "ignored",
          "traceback": [
            "\u001b[0;31m---------------------------------------------------------------------------\u001b[0m",
            "\u001b[0;31mNameError\u001b[0m                                 Traceback (most recent call last)",
            "\u001b[0;32m<ipython-input-4-46521596171e>\u001b[0m in \u001b[0;36m<module>\u001b[0;34m()\u001b[0m\n\u001b[1;32m      1\u001b[0m \u001b[0;31m# python is sequential\u001b[0m\u001b[0;34m\u001b[0m\u001b[0;34m\u001b[0m\u001b[0;34m\u001b[0m\u001b[0m\n\u001b[1;32m      2\u001b[0m \u001b[0;34m\u001b[0m\u001b[0m\n\u001b[0;32m----> 3\u001b[0;31m \u001b[0mprint\u001b[0m\u001b[0;34m(\u001b[0m\u001b[0mfoo\u001b[0m\u001b[0;34m)\u001b[0m\u001b[0;34m\u001b[0m\u001b[0;34m\u001b[0m\u001b[0m\n\u001b[0m\u001b[1;32m      4\u001b[0m \u001b[0mfoo\u001b[0m \u001b[0;34m=\u001b[0m \u001b[0;36m42\u001b[0m \u001b[0;31m# reverse the order to make it work\u001b[0m\u001b[0;34m\u001b[0m\u001b[0;34m\u001b[0m\u001b[0m\n",
            "\u001b[0;31mNameError\u001b[0m: name 'foo' is not defined"
          ]
        }
      ]
    },
    {
      "cell_type": "code",
      "metadata": {
        "colab": {
          "base_uri": "https://localhost:8080/"
        },
        "id": "hyNYaoZgg-Gt",
        "outputId": "8d476219-c657-4239-ba07-1a3227fc3d36"
      },
      "source": [
        "#another example\n",
        "a =4\n",
        "b = a-2\n",
        "a = a+1\n",
        "b = 7\n",
        "\n",
        "print(\"a: \", a)\n",
        "print(\"b: \", b)"
      ],
      "execution_count": 7,
      "outputs": [
        {
          "output_type": "stream",
          "text": [
            "a:  5\n",
            "b:  7\n"
          ],
          "name": "stdout"
        }
      ]
    },
    {
      "cell_type": "code",
      "metadata": {
        "colab": {
          "base_uri": "https://localhost:8080/"
        },
        "id": "CCPysZUZhdUN",
        "outputId": "bd0d3c48-06de-485d-8713-ce27b5de4f50"
      },
      "source": [
        "# finding data types using type function\n",
        "print(\"type of a: \", type(a))\n",
        "b = 2.7\n",
        "print(\"type of b: \", type(b))\n",
        "c = \"hello\"\n",
        "print(\"type of c: \", type(c))\n",
        "d = True\n",
        "print(\"type of d: \", type(d))\n",
        "e = []\n",
        "print(\"type of e: \", type(e))\n",
        "f = {}\n",
        "print(\"type of f: \", type(f))\n",
        "g = set()\n",
        "print(\"type of g: \", type(g))\n",
        "h = None\n",
        "print(\"type of h: \", type(h))\n",
        "\n",
        "z = a + b\n",
        "print(\"a as int: \", a)\n",
        "a = float(a)\n",
        "print(\"a as float: \", a)\n",
        "print(\"z: \", z)\n",
        "print(\"z: \", int(z)) # convert float to int\n",
        "print(\"a + b: \", type(z))\n",
        "\n",
        "z = str(a) + c\n",
        "print(\"a + c: \", z)"
      ],
      "execution_count": 23,
      "outputs": [
        {
          "output_type": "stream",
          "text": [
            "type of a:  <class 'float'>\n",
            "type of b:  <class 'float'>\n",
            "type of c:  <class 'str'>\n",
            "type of d:  <class 'bool'>\n",
            "type of e:  <class 'list'>\n",
            "type of f:  <class 'dict'>\n",
            "type of g:  <class 'set'>\n",
            "type of h:  <class 'NoneType'>\n",
            "a as int:  5.0\n",
            "a as float:  5.0\n",
            "z:  7.7\n",
            "z:  7\n",
            "a + b:  <class 'float'>\n",
            "a + c:  5.0hello\n"
          ],
          "name": "stdout"
        }
      ]
    },
    {
      "cell_type": "code",
      "metadata": {
        "colab": {
          "base_uri": "https://localhost:8080/"
        },
        "id": "TeGXbB09mpf3",
        "outputId": "20e88b0a-b1d9-4192-95ee-3bd904d67bf4"
      },
      "source": [
        "# check if z is a string\n",
        "z = \"hi\"\n",
        "print(isinstance(z, str))"
      ],
      "execution_count": 27,
      "outputs": [
        {
          "output_type": "stream",
          "text": [
            "True\n"
          ],
          "name": "stdout"
        }
      ]
    },
    {
      "cell_type": "code",
      "metadata": {
        "colab": {
          "base_uri": "https://localhost:8080/",
          "height": 268
        },
        "id": "wopir934nnv8",
        "outputId": "1db99f40-99f9-4b9e-a109-02c960e3ae80"
      },
      "source": [
        "# functions vs methods (refer to python.doc built in functions)\n",
        "\n",
        "#result = type(a) #input #function\n",
        "result = isinstance(a, str)\n",
        "print(\"result: \", result)    #output\n",
        "print(\"type of result: \", type(result))\n",
        "print(\"type of a: \", type(a)) #composing multiple functions together\n",
        "\n",
        "# c.upper() #method -> similar to function but have different structure \n",
        "result = c.upper() # if it were a function, it would have been \"upper(c)\"\n",
        "result = a.upper()\n",
        "print(\"result of upper: \", result)"
      ],
      "execution_count": 35,
      "outputs": [
        {
          "output_type": "stream",
          "text": [
            "result:  False\n",
            "type of result:  <class 'bool'>\n",
            "type of a:  <class 'float'>\n"
          ],
          "name": "stdout"
        },
        {
          "output_type": "error",
          "ename": "AttributeError",
          "evalue": "ignored",
          "traceback": [
            "\u001b[0;31m---------------------------------------------------------------------------\u001b[0m",
            "\u001b[0;31mAttributeError\u001b[0m                            Traceback (most recent call last)",
            "\u001b[0;32m<ipython-input-35-8d7820e018db>\u001b[0m in \u001b[0;36m<module>\u001b[0;34m()\u001b[0m\n\u001b[1;32m      9\u001b[0m \u001b[0;31m# c.upper() #method -> similar to function but have different structure\u001b[0m\u001b[0;34m\u001b[0m\u001b[0;34m\u001b[0m\u001b[0;34m\u001b[0m\u001b[0m\n\u001b[1;32m     10\u001b[0m \u001b[0mresult\u001b[0m \u001b[0;34m=\u001b[0m \u001b[0mc\u001b[0m\u001b[0;34m.\u001b[0m\u001b[0mupper\u001b[0m\u001b[0;34m(\u001b[0m\u001b[0;34m)\u001b[0m \u001b[0;31m# if it were a function, it would have been \"upper(c)\"\u001b[0m\u001b[0;34m\u001b[0m\u001b[0;34m\u001b[0m\u001b[0m\n\u001b[0;32m---> 11\u001b[0;31m \u001b[0mresult\u001b[0m \u001b[0;34m=\u001b[0m \u001b[0ma\u001b[0m\u001b[0;34m.\u001b[0m\u001b[0mupper\u001b[0m\u001b[0;34m(\u001b[0m\u001b[0;34m)\u001b[0m\u001b[0;34m\u001b[0m\u001b[0;34m\u001b[0m\u001b[0m\n\u001b[0m\u001b[1;32m     12\u001b[0m \u001b[0mprint\u001b[0m\u001b[0;34m(\u001b[0m\u001b[0;34m\"result of upper: \"\u001b[0m\u001b[0;34m,\u001b[0m \u001b[0mresult\u001b[0m\u001b[0;34m)\u001b[0m\u001b[0;34m\u001b[0m\u001b[0;34m\u001b[0m\u001b[0m\n",
            "\u001b[0;31mAttributeError\u001b[0m: 'float' object has no attribute 'upper'"
          ]
        }
      ]
    },
    {
      "cell_type": "markdown",
      "metadata": {
        "id": "i5HpENjOzfc5"
      },
      "source": [
        "Learning Goals\n",
        "1. Read and write code using 1D and 2D lists\n",
        "2. Use list methods to change lists "
      ]
    },
    {
      "cell_type": "code",
      "metadata": {
        "colab": {
          "base_uri": "https://localhost:8080/"
        },
        "id": "rqVSWsv3zXUy",
        "outputId": "c5794059-8e64-4bd4-b138-a3f8115c8e16"
      },
      "source": [
        "# an empty list\n",
        "a = []\n",
        "print(\"items in list are: \", a)\n",
        "a = [\"one\", \"two\", \"three\"]\n",
        "print(\"items in list are: \", a)\n",
        "a = [1, \"two\", 3.0] # you can have mixed types of data in the list\n",
        "print(\"items in list are: \", a)"
      ],
      "execution_count": 38,
      "outputs": [
        {
          "output_type": "stream",
          "text": [
            "items in list are:  []\n",
            "items in list are:  ['one', 'two', 'three']\n",
            "items in list are:  [1, 'two', 3.0]\n"
          ],
          "name": "stdout"
        }
      ]
    },
    {
      "cell_type": "code",
      "metadata": {
        "colab": {
          "base_uri": "https://localhost:8080/"
        },
        "id": "GbMBzkHI1CT-",
        "outputId": "b8e12da3-19dd-40a2-d190-1ca72df54e33"
      },
      "source": [
        "a = [1,2] + [3,4]\n",
        "print(\"items in list are: \", a) # combine to a single list\n",
        "a = [\"a\", \"b\"] * 3\n",
        "print(\"items in list are: \", a)\n",
        "x = [1,5] < [2,4] #comparing the first value of the list\n",
        "print(\"result of comparing two lists: \", x)\n",
        "y = [1,5] < [1,4]\n",
        "print(\"result of comparing two lists: \", y)\n",
        "z = [1,4] == [1,4]\n",
        "print(\"result of comparing two lists: \", z)\n",
        "w = [1,4,5] == [1,4]\n",
        "print(\"result of comparing two lists: \", w)\n",
        "x = 4 in [1,2,3]\n",
        "print(\"membership of item in the list: \", x)\n",
        "\n",
        "s = \"hello\"\n",
        "print(\"the third char of s: \" + s[1])\n",
        "print(\"the third char of s: \" + s[:4])\n",
        "\n",
        "l = [1,2,3,4,-1,7,10,3,3,3]\n",
        "print(\"index of the list: \", l[-1]) # last item on the list\n",
        "print(\"index of the list: \", l[:]) #compelete list "
      ],
      "execution_count": 55,
      "outputs": [
        {
          "output_type": "stream",
          "text": [
            "items in list are:  [1, 2, 3, 4]\n",
            "items in list are:  ['a', 'b', 'a', 'b', 'a', 'b']\n",
            "result of comparing two lists:  True\n",
            "result of comparing two lists:  False\n",
            "result of comparing two lists:  True\n",
            "result of comparing two lists:  False\n",
            "membership of item in the list:  False\n",
            "the third char of s: e\n",
            "the third char of s: hell\n",
            "index of the list:  3\n",
            "index of the list:  [1, 2, 3, 4, -1, 7, 10, 3, 3, 3]\n"
          ],
          "name": "stdout"
        }
      ]
    },
    {
      "cell_type": "code",
      "metadata": {
        "colab": {
          "base_uri": "https://localhost:8080/"
        },
        "id": "m0oBTjuJ3mOV",
        "outputId": "37696e52-e7db-4a98-b556-69de216344fb"
      },
      "source": [
        "# the following functions work on lists\n",
        "print(\"length of the list is: \", len(l))\n",
        "print(\"min value in the list is: \", min(l))\n",
        "print(\"max value in the list is: \", max(l))\n",
        "print(\"sum value in the list is: \", sum(l)) # add up all the values\n",
        "\n",
        "# there are a few methods for lists\n",
        "print(\"return the number of times 3 repeats in the list: \", l.count(3))\n",
        "print(\"index of max int he list: \", l.index(max(l)))"
      ],
      "execution_count": 60,
      "outputs": [
        {
          "output_type": "stream",
          "text": [
            "length of the list is:  10\n",
            "min value in the list is:  -1\n",
            "max value in the list is:  10\n",
            "sum value in the list is:  35\n",
            "return the number of times 3 repeats in the list:  4\n",
            "index of max int he list:  6\n"
          ],
          "name": "stdout"
        }
      ]
    },
    {
      "cell_type": "code",
      "metadata": {
        "colab": {
          "base_uri": "https://localhost:8080/"
        },
        "id": "LRYQYL5V5jCG",
        "outputId": "9e56c0b5-c9d6-4678-a2e8-2736c603308c"
      },
      "source": [
        "# loopinng over lists\n",
        "\n",
        "print(\"l:\", l)\n",
        "l = [1,2,3,4,5]\n",
        "mean = sum(l)/len(l)\n",
        "print(\"mean: \", mean)"
      ],
      "execution_count": 64,
      "outputs": [
        {
          "output_type": "stream",
          "text": [
            "l: [1, 2, 3, 4, 5]\n",
            "mean:  3.0\n"
          ],
          "name": "stdout"
        }
      ]
    },
    {
      "cell_type": "code",
      "metadata": {
        "colab": {
          "base_uri": "https://localhost:8080/"
        },
        "id": "nMrPbzph7Sw_",
        "outputId": "def36e05-150e-4552-da52-01bda4858135"
      },
      "source": [
        "print(\"l:\", l)\n",
        "print() # print blank line\n",
        "l = [11,21,31,41,51]\n",
        "\n",
        "sum = 0\n",
        "for i in l: \n",
        "  sum = sum + i\n",
        "  print(i, sum)\n",
        "print(\"sum of numbers in l is: \", sum)\n",
        "mean = sum/ len(l)\n",
        "print(\"mean: \", mean)"
      ],
      "execution_count": 71,
      "outputs": [
        {
          "output_type": "stream",
          "text": [
            "l: [11, 21, 31, 41, 51]\n",
            "\n",
            "11 11\n",
            "21 32\n",
            "31 63\n",
            "41 104\n",
            "51 155\n",
            "sum of numbers in l is:  155\n",
            "mean:  31.0\n"
          ],
          "name": "stdout"
        }
      ]
    },
    {
      "cell_type": "code",
      "metadata": {
        "colab": {
          "base_uri": "https://localhost:8080/"
        },
        "id": "hxeF_CFw80nY",
        "outputId": "f808d9fe-7ee9-4745-bbf1-1d36ac241790"
      },
      "source": [
        "l = ['a', 'b', 'c', 'd', 'e']\n",
        "\n",
        "# write a loop to print the items \n",
        "# that are in the even numbered index\n",
        "\n",
        "for i in range(len(l)):\n",
        "  if i % 2 == 0: # modulo - balance(remainder of division) is equal to 0\n",
        "    print(l[i])"
      ],
      "execution_count": 73,
      "outputs": [
        {
          "output_type": "stream",
          "text": [
            "a\n",
            "c\n",
            "e\n"
          ],
          "name": "stdout"
        }
      ]
    },
    {
      "cell_type": "code",
      "metadata": {
        "colab": {
          "base_uri": "https://localhost:8080/"
        },
        "id": "cgsygETfCYSj",
        "outputId": "9723f700-229b-4739-d0bb-47ade486ba27"
      },
      "source": [
        "l = ['a', 'b', 'c', 'd', 'e']\n",
        "\n",
        "# write a loop to print the items \n",
        "# that are in the odd numbered index\n",
        "\n",
        "for i in range(len(l)):\n",
        "  if i % 2 != 0: # modulo - balance(remainder of division) is not equal to 0\n",
        "    print(l[i])"
      ],
      "execution_count": 82,
      "outputs": [
        {
          "output_type": "stream",
          "text": [
            "b\n",
            "d\n"
          ],
          "name": "stdout"
        }
      ]
    },
    {
      "cell_type": "code",
      "metadata": {
        "colab": {
          "base_uri": "https://localhost:8080/"
        },
        "id": "CQgf1csE-ZDl",
        "outputId": "fbbf0a19-fa91-4135-975d-a3de951875cd"
      },
      "source": [
        "x = [\"a\", \"b\", 1 , 2]\n",
        "print(x[1])\n",
        "\n",
        "s = \"\" # empty string\n",
        "for i in range(len(x)):\n",
        "  print(\"i is: \", i)\n",
        "  print(\"x[i] is: \", x[i])\n",
        "  print(\"s is: \", s)\n",
        "  s = s + str(x[i])\n",
        "  print()\n",
        "print(\"s after for loop: \", s)"
      ],
      "execution_count": 80,
      "outputs": [
        {
          "output_type": "stream",
          "text": [
            "b\n",
            "i is:  0\n",
            "x[i] is:  a\n",
            "s is:  \n",
            "\n",
            "i is:  1\n",
            "x[i] is:  b\n",
            "s is:  a\n",
            "\n",
            "i is:  2\n",
            "x[i] is:  1\n",
            "s is:  ab\n",
            "\n",
            "i is:  3\n",
            "x[i] is:  2\n",
            "s is:  ab1\n",
            "\n",
            "s after for loop:  ab12\n"
          ],
          "name": "stdout"
        }
      ]
    },
    {
      "cell_type": "code",
      "metadata": {
        "colab": {
          "base_uri": "https://localhost:8080/"
        },
        "id": "DRTeZ4dAC13v",
        "outputId": "427875c6-7e2d-4ab9-c58c-1414254dd172"
      },
      "source": [
        "# 2D list (2 dimensional list) # lists of the lists (nested list)- example: table data\n",
        "\n",
        "baby_names = [\n",
        "              [\"Jacob\", 1, \"boy\", 2010],\n",
        "              [\"Isabella\", 1, \"girl\", 2010],\n",
        "              [\"Ethan\", 2, \"boy\", 2010],\n",
        "              [\"Michael\", 3, \"boy\", 2010]\n",
        "              ]\n",
        "print(baby_names)\n",
        "print(baby_names[1])\n",
        "print(baby_names[1][0])\n",
        "\n",
        "print(\"len of outer list: \", len(baby_names)) #outer list has 3 inner lists\n",
        "print(\"len of inner list: \", len(baby_names[0])) #length of the particular row "
      ],
      "execution_count": 106,
      "outputs": [
        {
          "output_type": "stream",
          "text": [
            "[['Jacob', 1, 'boy', 2010], ['Isabella', 1, 'girl', 2010], ['Ethan', 2, 'boy', 2010], ['Michael', 3, 'boy', 2010]]\n",
            "['Isabella', 1, 'girl', 2010]\n",
            "Isabella\n",
            "len of outer list:  4\n",
            "len of inner list:  4\n"
          ],
          "name": "stdout"
        }
      ]
    },
    {
      "cell_type": "code",
      "metadata": {
        "colab": {
          "base_uri": "https://localhost:8080/"
        },
        "id": "_bzTg1ilFie0",
        "outputId": "bbc23ff8-8919-401f-defb-0c5f7d32e4cb"
      },
      "source": [
        "# looping over 2D lists\n",
        "\n",
        "for i in range(len(baby_names)):\n",
        " print(\"row \", i+1 , \": \", baby_names[i])"
      ],
      "execution_count": 109,
      "outputs": [
        {
          "output_type": "stream",
          "text": [
            "row  1 :  ['Jacob', 1, 'boy', 2010]\n",
            "row  2 :  ['Isabella', 1, 'girl', 2010]\n",
            "row  3 :  ['Ethan', 2, 'boy', 2010]\n",
            "row  4 :  ['Michael', 3, 'boy', 2010]\n"
          ],
          "name": "stdout"
        }
      ]
    },
    {
      "cell_type": "code",
      "metadata": {
        "colab": {
          "base_uri": "https://localhost:8080/"
        },
        "id": "kl0oaBllF-H6",
        "outputId": "6bf0511e-c286-4a33-be8e-11d0f3df7425"
      },
      "source": [
        "count = 0\n",
        "for i in range(len(baby_names)):\n",
        "  if baby_names[i][2] == 'boy':\n",
        "    count = count + 1\n",
        "print (count)"
      ],
      "execution_count": 107,
      "outputs": [
        {
          "output_type": "stream",
          "text": [
            "3\n"
          ],
          "name": "stdout"
        }
      ]
    }
  ]
}