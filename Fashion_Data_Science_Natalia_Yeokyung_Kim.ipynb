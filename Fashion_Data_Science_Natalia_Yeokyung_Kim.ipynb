{
  "nbformat": 4,
  "nbformat_minor": 0,
  "metadata": {
    "colab": {
      "name": "Fashion Data Science_Natalia Yeokyung Kim.ipynb",
      "provenance": [],
      "authorship_tag": "ABX9TyOOJbbL9Jf8CpXC56laNxRV",
      "include_colab_link": true
    },
    "kernelspec": {
      "name": "python3",
      "display_name": "Python 3"
    },
    "language_info": {
      "name": "python"
    }
  },
  "cells": [
    {
      "cell_type": "markdown",
      "metadata": {
        "id": "view-in-github",
        "colab_type": "text"
      },
      "source": [
        "<a href=\"https://colab.research.google.com/github/yeokyungkim/hello-world-/blob/main/Fashion_Data_Science_Natalia_Yeokyung_Kim.ipynb\" target=\"_parent\"><img src=\"https://colab.research.google.com/assets/colab-badge.svg\" alt=\"Open In Colab\"/></a>"
      ]
    },
    {
      "cell_type": "markdown",
      "metadata": {
        "id": "q0IG0gx0sL8d"
      },
      "source": [
        "# 5/25/2021 Class Examples"
      ]
    },
    {
      "cell_type": "code",
      "metadata": {
        "colab": {
          "base_uri": "https://localhost:8080/"
        },
        "id": "iLknID8SaJAg",
        "outputId": "d2eb3186-bc19-47a3-a365-a33cf83bcfcf"
      },
      "source": [
        "import requests\n",
        "url = \"http://google.com/search?q=hello\"\n",
        "response = requests.get(url)\n",
        "#response.content\n",
        "#response.headers\n",
        "type(response.content)"
      ],
      "execution_count": 21,
      "outputs": [
        {
          "output_type": "execute_result",
          "data": {
            "text/plain": [
              "bytes"
            ]
          },
          "metadata": {
            "tags": []
          },
          "execution_count": 21
        }
      ]
    },
    {
      "cell_type": "code",
      "metadata": {
        "colab": {
          "base_uri": "https://localhost:8080/"
        },
        "id": "jH3TIVIOlZmF",
        "outputId": "916f7460-6c67-45f5-dc89-e7bab9405b06"
      },
      "source": [
        "import requests\n",
        "url = \"http://google.com/search?q=data science\"\n",
        "response = requests.get(url)\n",
        "response.text.find(\"data science - Google Search\")"
      ],
      "execution_count": 15,
      "outputs": [
        {
          "output_type": "execute_result",
          "data": {
            "text/plain": [
              "160"
            ]
          },
          "metadata": {
            "tags": []
          },
          "execution_count": 15
        }
      ]
    },
    {
      "cell_type": "code",
      "metadata": {
        "colab": {
          "base_uri": "https://localhost:8080/"
        },
        "id": "buPkMvp2wf79",
        "outputId": "1d4c8606-ccc3-4615-9ae5-5ffa77dc8933"
      },
      "source": [
        "import requests\n",
        "import json\n",
        "\n",
        "url = \"http://google.com/search?q=something else\"\n",
        "response = requests.get(url)\n",
        "response.text.find(\"something else - Google Search\")\n",
        "#response.content\n",
        "#response.headers\n",
        "#type(response.content)\n",
        "\n",
        "isJson = response.headers['Content-Type'].find('json') != -1\n",
        "print(isJson)\n",
        "\n",
        "if isJson: json.loads(response.text)"
      ],
      "execution_count": 22,
      "outputs": [
        {
          "output_type": "stream",
          "text": [
            "False\n"
          ],
          "name": "stdout"
        }
      ]
    },
    {
      "cell_type": "code",
      "metadata": {
        "colab": {
          "base_uri": "https://localhost:8080/",
          "height": 52
        },
        "id": "yElJLTZQqWF3",
        "outputId": "7d59a067-40a8-48ef-8e2a-546dd0f25599"
      },
      "source": [
        "import json\n",
        "\n",
        "url = \"https://api.github.com/events\"\n",
        "response = requests.get(url)\n",
        "isJson =response.headers['Content-Type'].find('json') != -1\n",
        "print(isJson)\n",
        "\n",
        "if isJson: data = json.loads(response.text)\n",
        "#data = response.text\n",
        "len(data)\n",
        "data[-1]['actor']['display_login']"
      ],
      "execution_count": 23,
      "outputs": [
        {
          "output_type": "stream",
          "text": [
            "True\n"
          ],
          "name": "stdout"
        },
        {
          "output_type": "execute_result",
          "data": {
            "application/vnd.google.colaboratory.intrinsic+json": {
              "type": "string"
            },
            "text/plain": [
              "'pull'"
            ]
          },
          "metadata": {
            "tags": []
          },
          "execution_count": 23
        }
      ]
    },
    {
      "cell_type": "code",
      "metadata": {
        "colab": {
          "base_uri": "https://localhost:8080/"
        },
        "id": "KoCh1h940Ivp",
        "outputId": "4fd65ba1-a5aa-45a9-c4b6-3dbba32b47a6"
      },
      "source": [
        "from bs4 import BeautifulSoup\n",
        "import requests\n",
        "import json\n",
        "\n",
        "url = \"http://google.com/search?q=something else\"\n",
        "response = requests.get(url)\n",
        "\n",
        "cnt_type = response.headers['Content-Type']\n",
        "isJson = cnt_type.find('json') != -1\n",
        "\n",
        "print(isJson)\n",
        "\n",
        "if isJson: json.loads(response.text)"
      ],
      "execution_count": 24,
      "outputs": [
        {
          "output_type": "stream",
          "text": [
            "False\n"
          ],
          "name": "stdout"
        }
      ]
    },
    {
      "cell_type": "code",
      "metadata": {
        "id": "TkAzmAMo85Cr"
      },
      "source": [
        ""
      ],
      "execution_count": null,
      "outputs": []
    }
  ]
}