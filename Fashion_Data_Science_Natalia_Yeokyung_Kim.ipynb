{
  "nbformat": 4,
  "nbformat_minor": 0,
  "metadata": {
    "colab": {
      "name": "Fashion Data Science_Natalia Yeokyung Kim.ipynb",
      "provenance": [],
      "collapsed_sections": [],
      "authorship_tag": "ABX9TyN3HlqBz4wMLvoQ0vRLBvQd",
      "include_colab_link": true
    },
    "kernelspec": {
      "name": "python3",
      "display_name": "Python 3"
    },
    "language_info": {
      "name": "python"
    }
  },
  "cells": [
    {
      "cell_type": "markdown",
      "metadata": {
        "id": "view-in-github",
        "colab_type": "text"
      },
      "source": [
        "<a href=\"https://colab.research.google.com/github/yeokyungkim/hello-world-/blob/main/Fashion_Data_Science_Natalia_Yeokyung_Kim.ipynb\" target=\"_parent\"><img src=\"https://colab.research.google.com/assets/colab-badge.svg\" alt=\"Open In Colab\"/></a>"
      ]
    },
    {
      "cell_type": "markdown",
      "metadata": {
        "id": "q0IG0gx0sL8d"
      },
      "source": [
        "# 5/25/2021 Class Examples"
      ]
    },
    {
      "cell_type": "code",
      "metadata": {
        "colab": {
          "base_uri": "https://localhost:8080/"
        },
        "id": "iLknID8SaJAg",
        "outputId": "d2eb3186-bc19-47a3-a365-a33cf83bcfcf"
      },
      "source": [
        "import requests\n",
        "url = \"http://google.com/search?q=hello\"\n",
        "response = requests.get(url)\n",
        "#response.content\n",
        "#response.headers\n",
        "type(response.content)"
      ],
      "execution_count": null,
      "outputs": [
        {
          "output_type": "execute_result",
          "data": {
            "text/plain": [
              "bytes"
            ]
          },
          "metadata": {
            "tags": []
          },
          "execution_count": 21
        }
      ]
    },
    {
      "cell_type": "code",
      "metadata": {
        "colab": {
          "base_uri": "https://localhost:8080/"
        },
        "id": "jH3TIVIOlZmF",
        "outputId": "916f7460-6c67-45f5-dc89-e7bab9405b06"
      },
      "source": [
        "import requests\n",
        "url = \"http://google.com/search?q=data science\"\n",
        "response = requests.get(url)\n",
        "response.text.find(\"data science - Google Search\")"
      ],
      "execution_count": null,
      "outputs": [
        {
          "output_type": "execute_result",
          "data": {
            "text/plain": [
              "160"
            ]
          },
          "metadata": {
            "tags": []
          },
          "execution_count": 15
        }
      ]
    },
    {
      "cell_type": "code",
      "metadata": {
        "colab": {
          "base_uri": "https://localhost:8080/"
        },
        "id": "buPkMvp2wf79",
        "outputId": "1d4c8606-ccc3-4615-9ae5-5ffa77dc8933"
      },
      "source": [
        "import requests\n",
        "import json\n",
        "\n",
        "url = \"http://google.com/search?q=something else\"\n",
        "response = requests.get(url)\n",
        "response.text.find(\"something else - Google Search\")\n",
        "#response.content\n",
        "#response.headers\n",
        "#type(response.content)\n",
        "\n",
        "isJson = response.headers['Content-Type'].find('json') != -1\n",
        "print(isJson)\n",
        "\n",
        "if isJson: json.loads(response.text)"
      ],
      "execution_count": null,
      "outputs": [
        {
          "output_type": "stream",
          "text": [
            "False\n"
          ],
          "name": "stdout"
        }
      ]
    },
    {
      "cell_type": "code",
      "metadata": {
        "colab": {
          "base_uri": "https://localhost:8080/",
          "height": 52
        },
        "id": "yElJLTZQqWF3",
        "outputId": "7d59a067-40a8-48ef-8e2a-546dd0f25599"
      },
      "source": [
        "import json\n",
        "\n",
        "url = \"https://api.github.com/events\"\n",
        "response = requests.get(url)\n",
        "isJson =response.headers['Content-Type'].find('json') != -1\n",
        "print(isJson)\n",
        "\n",
        "if isJson: data = json.loads(response.text)\n",
        "#data = response.text\n",
        "len(data)\n",
        "data[-1]['actor']['display_login']"
      ],
      "execution_count": null,
      "outputs": [
        {
          "output_type": "stream",
          "text": [
            "True\n"
          ],
          "name": "stdout"
        },
        {
          "output_type": "execute_result",
          "data": {
            "application/vnd.google.colaboratory.intrinsic+json": {
              "type": "string"
            },
            "text/plain": [
              "'pull'"
            ]
          },
          "metadata": {
            "tags": []
          },
          "execution_count": 23
        }
      ]
    },
    {
      "cell_type": "code",
      "metadata": {
        "colab": {
          "base_uri": "https://localhost:8080/"
        },
        "id": "KoCh1h940Ivp",
        "outputId": "4fd65ba1-a5aa-45a9-c4b6-3dbba32b47a6"
      },
      "source": [
        "from bs4 import BeautifulSoup\n",
        "import requests\n",
        "import json\n",
        "\n",
        "url = \"http://google.com/search?q=something else\"\n",
        "response = requests.get(url)\n",
        "\n",
        "cnt_type = response.headers['Content-Type']\n",
        "isJson = cnt_type.find('json') != -1\n",
        "\n",
        "print(isJson)\n",
        "\n",
        "if isJson: json.loads(response.text)"
      ],
      "execution_count": null,
      "outputs": [
        {
          "output_type": "stream",
          "text": [
            "False\n"
          ],
          "name": "stdout"
        }
      ]
    },
    {
      "cell_type": "code",
      "metadata": {
        "id": "TkAzmAMo85Cr"
      },
      "source": [
        "review a code introduced in class\n"
      ],
      "execution_count": null,
      "outputs": []
    },
    {
      "cell_type": "markdown",
      "metadata": {
        "id": "BKHCdOM1c0z9"
      },
      "source": [
        "**06/01/2021 Class Exercises**"
      ]
    },
    {
      "cell_type": "markdown",
      "metadata": {
        "id": "NtUG2G8ieV54"
      },
      "source": [
        "Fashion Designers Database\n",
        "https://en.wikipedia.org/wiki/List_of_fashion_designers\n",
        "\n",
        "To collect data about all the fashion designers. "
      ]
    },
    {
      "cell_type": "code",
      "metadata": {
        "colab": {
          "base_uri": "https://localhost:8080/"
        },
        "id": "RSxREue_SqC_",
        "outputId": "231a96bb-b346-4db3-9879-6e8ee9e236a0"
      },
      "source": [
        "# fetch wikipedia page\n",
        "import requests\n",
        "from bs4 import BeautifulSoup\n",
        "from bs4 import Tag\n",
        "\n",
        "url = \"https://en.wikipedia.org/wiki/List_of_fashion_designers\"\n",
        "r = requests.get(url)\n",
        "\n",
        "soup = BeautifulSoup(r.text, 'html.parser')\n",
        "\n",
        "#print(soup.prettify())\n",
        "h2 = soup.find_all('h2')\n",
        "countries = {}\n",
        "\n",
        "for c in h2:\n",
        "  #print(c.next_element)\n",
        "  #check if find child returns None\n",
        "  child = c.findChild()\n",
        "  if child != None:\n",
        "    #the child element is now <span>\n",
        "    #get the country name from <span> tag\n",
        "   print(child.contents[0])\n",
        "\n",
        "   # add the country to the dictionary\n",
        "   countries[child.contents[0]] = []\n",
        "\n",
        "   #extract fashion designers using <li> tag\n",
        "   #for designer in c.find_all_next('li'):\n",
        "     #print(designer.contents)\n",
        "   divs = c.findNextSibling('div')\n",
        "\n",
        "   #for designer in divs.find_all('a'):\n",
        "     #print('* ' + designer.contents[0])\n",
        "\n",
        "   for li in divs.find_all('li'):\n",
        "     for designer in li:\n",
        "       if isinstance(designer, Tag):\n",
        "         print('* ' + designer.string)\n",
        "         countries[child.contents[0]].append(designer.string)\n",
        "       else:\n",
        "         print('* ' + designer)\n",
        "         countries[child.contents[0]].append(designer)\n",
        "   break\n",
        "print(countries)\n",
        "\n",
        "   \n",
        "   "
      ],
      "execution_count": 37,
      "outputs": [
        {
          "output_type": "stream",
          "text": [
            "Argentina\n",
            "* Aitor Throup\n",
            "* Concepción Cochrane Blaquier\n",
            "* Dalila Puzzovio\n",
            "* Delia Cancela\n",
            "* Franc Fernandez\n",
            "* Gustavo Cadile\n",
            "* Jazmín Chebar\n",
            "* Paco Jamandreu\n",
            "* Pilar Zeta\n",
            "* Vanessa Seward\n",
            "{'Argentina': ['Aitor Throup', 'Concepción Cochrane Blaquier', 'Dalila Puzzovio', 'Delia Cancela', 'Franc Fernandez', 'Gustavo Cadile', 'Jazmín Chebar', 'Paco Jamandreu', 'Pilar Zeta', 'Vanessa Seward']}\n"
          ],
          "name": "stdout"
        }
      ]
    },
    {
      "cell_type": "code",
      "metadata": {
        "colab": {
          "base_uri": "https://localhost:8080/",
          "height": 303
        },
        "id": "OPolFubOCcko",
        "outputId": "57770ab9-028c-4a00-d037-093b864fa534"
      },
      "source": [
        "#list\n",
        "l = [1,2,3,4,5]\n",
        "print(l[0])\n",
        "print(l[-1])\n",
        "print(l[-2])\n",
        "print(l[1:3])\n",
        "print(l[:3])\n",
        "\n",
        "#dictionary\n",
        "d = {'q':0.25, 'd':0.1, 'n':0.05, 'p':0.01}\n",
        "print(d['q'])\n",
        "print(d['e']) # 'e' is not in the list. --> key error"
      ],
      "execution_count": 34,
      "outputs": [
        {
          "output_type": "stream",
          "text": [
            "1\n",
            "5\n",
            "4\n",
            "[2, 3]\n",
            "[1, 2, 3]\n",
            "0.25\n"
          ],
          "name": "stdout"
        },
        {
          "output_type": "error",
          "ename": "KeyError",
          "evalue": "ignored",
          "traceback": [
            "\u001b[0;31m---------------------------------------------------------------------------\u001b[0m",
            "\u001b[0;31mKeyError\u001b[0m                                  Traceback (most recent call last)",
            "\u001b[0;32m<ipython-input-34-faf17854c1ef>\u001b[0m in \u001b[0;36m<module>\u001b[0;34m()\u001b[0m\n\u001b[1;32m     10\u001b[0m \u001b[0md\u001b[0m \u001b[0;34m=\u001b[0m \u001b[0;34m{\u001b[0m\u001b[0;34m'q'\u001b[0m\u001b[0;34m:\u001b[0m\u001b[0;36m0.25\u001b[0m\u001b[0;34m,\u001b[0m \u001b[0;34m'd'\u001b[0m\u001b[0;34m:\u001b[0m\u001b[0;36m0.1\u001b[0m\u001b[0;34m,\u001b[0m \u001b[0;34m'n'\u001b[0m\u001b[0;34m:\u001b[0m\u001b[0;36m0.05\u001b[0m\u001b[0;34m,\u001b[0m \u001b[0;34m'p'\u001b[0m\u001b[0;34m:\u001b[0m\u001b[0;36m0.01\u001b[0m\u001b[0;34m}\u001b[0m\u001b[0;34m\u001b[0m\u001b[0;34m\u001b[0m\u001b[0m\n\u001b[1;32m     11\u001b[0m \u001b[0mprint\u001b[0m\u001b[0;34m(\u001b[0m\u001b[0md\u001b[0m\u001b[0;34m[\u001b[0m\u001b[0;34m'q'\u001b[0m\u001b[0;34m]\u001b[0m\u001b[0;34m)\u001b[0m\u001b[0;34m\u001b[0m\u001b[0;34m\u001b[0m\u001b[0m\n\u001b[0;32m---> 12\u001b[0;31m \u001b[0mprint\u001b[0m\u001b[0;34m(\u001b[0m\u001b[0md\u001b[0m\u001b[0;34m[\u001b[0m\u001b[0;34m'e'\u001b[0m\u001b[0;34m]\u001b[0m\u001b[0;34m)\u001b[0m\u001b[0;34m\u001b[0m\u001b[0;34m\u001b[0m\u001b[0m\n\u001b[0m",
            "\u001b[0;31mKeyError\u001b[0m: 'e'"
          ]
        }
      ]
    },
    {
      "cell_type": "code",
      "metadata": {
        "colab": {
          "base_uri": "https://localhost:8080/"
        },
        "id": "GEInNZvh_8lE",
        "outputId": "6ee1d4cb-2af6-4080-ae14-faf203cfe570"
      },
      "source": [
        "isinstance('5',int)\n"
      ],
      "execution_count": 22,
      "outputs": [
        {
          "output_type": "execute_result",
          "data": {
            "text/plain": [
              "False"
            ]
          },
          "metadata": {
            "tags": []
          },
          "execution_count": 22
        }
      ]
    }
  ]
}