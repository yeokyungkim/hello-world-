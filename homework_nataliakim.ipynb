{
  "nbformat": 4,
  "nbformat_minor": 0,
  "metadata": {
    "colab": {
      "name": "homework_nataliakim.ipynb",
      "provenance": [],
      "collapsed_sections": [],
      "include_colab_link": true
    },
    "kernelspec": {
      "name": "python3",
      "display_name": "Python 3"
    }
  },
  "cells": [
    {
      "cell_type": "markdown",
      "metadata": {
        "id": "view-in-github",
        "colab_type": "text"
      },
      "source": [
        "<a href=\"https://colab.research.google.com/github/yeokyungkim/hello-world-/blob/main/homework_nataliakim.ipynb\" target=\"_parent\"><img src=\"https://colab.research.google.com/assets/colab-badge.svg\" alt=\"Open In Colab\"/></a>"
      ]
    },
    {
      "cell_type": "code",
      "metadata": {
        "colab": {
          "base_uri": "https://localhost:8080/"
        },
        "id": "Mnwp3YCdBiYa",
        "outputId": "ed668725-0f4f-4c64-e5c2-8a3e9cc8767f"
      },
      "source": [
        "#Homework_1_cakes_assignment\r\n",
        "number_of_cake = 3\r\n",
        "\r\n",
        "\r\n",
        "#testing if number of cake is greater than 4\r\n",
        "if number_of_cake > 4:\r\n",
        "  print(\"Everybody is happy.\")\r\n",
        "\r\n",
        "#testing if number of cake is equal to 4\r\n",
        "elif number_of_cake == 4:\r\n",
        " print(\"We are not happy.\")\r\n",
        "else:\r\n",
        "  print(\"We are not happy.\")"
      ],
      "execution_count": null,
      "outputs": [
        {
          "output_type": "stream",
          "text": [
            "We are not happy.\n"
          ],
          "name": "stdout"
        }
      ]
    },
    {
      "cell_type": "code",
      "metadata": {
        "id": "aGdvK8B-nfZN"
      },
      "source": [
        ""
      ],
      "execution_count": null,
      "outputs": []
    },
    {
      "cell_type": "code",
      "metadata": {
        "colab": {
          "base_uri": "https://localhost:8080/"
        },
        "id": "PXp-iZLxD_LD",
        "outputId": "ac885a9a-4080-446a-973b-931ae2971e38"
      },
      "source": [
        "#Homework_1_cakes_assignment\r\n",
        "number_of_cake = 3\r\n",
        "\r\n",
        "#testing if number of cake is greater than 4\r\n",
        "if number_of_cake > 4:\r\n",
        "  print(\"Everybody is happy.\")\r\n",
        "\r\n",
        "#testing if number of cake is equal or less than 4\r\n",
        "elif number_of_cake < 4 or number_of_cake == 4:\r\n",
        "    print(\"We are not happy.\")"
      ],
      "execution_count": null,
      "outputs": [
        {
          "output_type": "stream",
          "text": [
            "We are not happy.\n"
          ],
          "name": "stdout"
        }
      ]
    },
    {
      "cell_type": "code",
      "metadata": {
        "colab": {
          "base_uri": "https://localhost:8080/"
        },
        "id": "Vcwj4IK0Fi8a",
        "outputId": "c5feed95-cbaf-4e18-e50d-5b61e5712179"
      },
      "source": [
        "#Homework_1_cakes_assignment\r\n",
        "number_of_cake = 4\r\n",
        "\r\n",
        "#if you have exactly 4 or less than 4 cakes\r\n",
        "if number_of_cake <= 4:\r\n",
        "  print(\"We are not happy.\")\r\n",
        "\r\n",
        "#if above conditions is not met\r\n",
        "else: \r\n",
        "  print(\"Everbody is happy.\") "
      ],
      "execution_count": null,
      "outputs": [
        {
          "output_type": "stream",
          "text": [
            "We are not happy.\n"
          ],
          "name": "stdout"
        }
      ]
    },
    {
      "cell_type": "code",
      "metadata": {
        "colab": {
          "base_uri": "https://localhost:8080/"
        },
        "id": "R3zMMVMv5FFE",
        "outputId": "f04a9035-27f3-4396-c228-0aba82964a60"
      },
      "source": [
        "#Homework_1_cakes_assignment\r\n",
        "number_of_cake = 5\r\n",
        "\r\n",
        "if number_of_cake > 4:\r\n",
        "  print (\"Everyone is happy.\")\r\n",
        "else:\r\n",
        "  print (\"We are not happy.\")\r\n",
        "\r\n",
        "#if number of cakes is greater than number of student \r\n",
        "  if number_of_cake == 4:\r\n",
        "   print(\"Even though we have 4 cakes, we are still not happy.\")\r\n",
        "  \r\n",
        "  "
      ],
      "execution_count": null,
      "outputs": [
        {
          "output_type": "stream",
          "text": [
            "Everyone is happy.\n"
          ],
          "name": "stdout"
        }
      ]
    },
    {
      "cell_type": "code",
      "metadata": {
        "colab": {
          "base_uri": "https://localhost:8080/"
        },
        "id": "fDaF1xvlJP8w",
        "outputId": "276ba45c-da1f-41d1-a8cd-778abfaa6de4"
      },
      "source": [
        "#Homework_2_cakes_assignment\r\n",
        "\r\n",
        "number_of_cake = 3\r\n",
        "number_of_student = 4\r\n",
        "\r\n",
        "#substraction to calculate extra number of cake \r\n",
        "extra_number_of_cake = sub = number_of_cake - number_of_student\r\n",
        "\r\n",
        "#testing if number of cake is greater than 4\r\n",
        "if number_of_cake > number_of_student:\r\n",
        "  #if true, print below\r\n",
        "  print(\"Everybody is happy.\")\r\n",
        "  #if false, print below\r\n",
        "elif number_of_cake == number_of_student:\r\n",
        "  print(\"We are not happy.\")\r\n",
        "else:\r\n",
        "  print(\"We are not happy.\")\r\n",
        "\r\n",
        "\r\n",
        "#If there is extra cakes, how many more people can we feed in the classroom? \r\n",
        "\r\n",
        "if number_of_cake > number_of_student:\r\n",
        "  print(\"If there is\" + \" \" + str(number_of_cake) + \" \" + \"cakes,\" + \" \" + \"we can feed\" + \" \" + str(sub) + \" \" + \"more people.\")"
      ],
      "execution_count": null,
      "outputs": [
        {
          "output_type": "stream",
          "text": [
            "We are not happy.\n"
          ],
          "name": "stdout"
        }
      ]
    },
    {
      "cell_type": "code",
      "metadata": {
        "id": "uW1iLz2xngui"
      },
      "source": [
        "# Class Exercise about Loop and Titanic\r\n",
        "num = float(input(\"Enter the number:\"))\r\n",
        "num = 1\r\n",
        "while num < 123:\r\n",
        "  print(\"Passenger\" + \" \" + str(num))\r\n",
        "  num = num + 1\r\n",
        "print(\"Passenger\" + \" \" + str(num))\r\n"
      ],
      "execution_count": null,
      "outputs": []
    },
    {
      "cell_type": "code",
      "metadata": {
        "id": "fHLNqmo5AWoe"
      },
      "source": [
        "# Class Exercise about Loop and Titanic_revision\r\n",
        "\r\n",
        "#use the loop method to show the list of passengers on the passenger list\r\n",
        "total_number_of_passengers = float(input(\"Enter the number of passengers:\"))\r\n",
        "\r\n",
        "passenger_incrementing = 1\r\n",
        "# number of passengers is less than the total number of passengers on the boat\r\n",
        "while passenger_incrementing < total_number_of_passengers:\r\n",
        "  print(\"Passenger\" + \" \" + str(passenger_incrementing))\r\n",
        "  passenger_incrementing = passenger_incrementing + 1\r\n",
        "print(\"Passenger\" + \" \" + str(passenger_incrementing))\r\n"
      ],
      "execution_count": null,
      "outputs": []
    },
    {
      "cell_type": "markdown",
      "metadata": {
        "id": "wqRHHLBXAsQf"
      },
      "source": [
        "Homework 3.0 - while -> Request the user to type a number (any positive number) -> decrease is value until 0 (12,11,10, .... 0) -> Verify that your program doesn't bug if the user type a negative number (you input a negative number)\r\n",
        "\r\n",
        "Homework 4.0 - For from list of ingredients here, create a recipe asking to add all the ingredients to the plate.\r\n",
        "\r\n",
        "ingredient_list = [\"apple\", \"sugar\", \"lemon\", \"yogurt\", \"flour\"] -> \"add the apple, the sugar, ...\" and that is flexible to the number of ingredients\r\n"
      ]
    },
    {
      "cell_type": "code",
      "metadata": {
        "colab": {
          "base_uri": "https://localhost:8080/"
        },
        "id": "-8POfyGxA9lC",
        "outputId": "2af4c919-c321-4152-9166-43b4dc3d30a4"
      },
      "source": [
        "#Homework_3_while\r\n",
        "\r\n",
        "#Ask user to type a random number\r\n",
        "number = float(input(\"Type the number:\"))\r\n",
        "\r\n",
        "#number value will decrease by 1 until it reaches 0 and print the number\r\n",
        "while number > 0: \r\n",
        " print(int(number))\r\n",
        " number = number - 1\r\n",
        " \r\n",
        " #if user inputs a number less than 1, system will not generate any more number\r\n",
        " if number <= 0:\r\n",
        "   print(\"0\")\r\n",
        "   break\r\n",
        "\r\n"
      ],
      "execution_count": 21,
      "outputs": [
        {
          "output_type": "stream",
          "text": [
            "Type the number:0\n"
          ],
          "name": "stdout"
        }
      ]
    },
    {
      "cell_type": "code",
      "metadata": {
        "colab": {
          "base_uri": "https://localhost:8080/"
        },
        "id": "lmj_sao2JCL3",
        "outputId": "2ce7c405-1172-46a7-ea75-a147f110f148"
      },
      "source": [
        "#Homework_4_for_ver 1\r\n",
        "\r\n",
        "#create the ingredient list\r\n",
        "ingredient_list = [\"apple\", \"sugar\", \"lemon\", \"yogurt\", \"flour\"]\r\n",
        "\r\n",
        "#list all the ingredients on the list and stop. \r\n",
        "for ingredient in ingredient_list:\r\n",
        "  print(\"Add the \" + ingredient_list[0] + \", \" + ingredient_list[1] + \", \" + ingredient_list[2] + \", \" + ingredient_list[3] + \", \" + ingredient_list[4] +\".\")\r\n",
        "  break"
      ],
      "execution_count": 37,
      "outputs": [
        {
          "output_type": "stream",
          "text": [
            "Add the apple, sugar, lemon, yogurt, flour.\n"
          ],
          "name": "stdout"
        }
      ]
    },
    {
      "cell_type": "code",
      "metadata": {
        "colab": {
          "base_uri": "https://localhost:8080/"
        },
        "id": "9iFq68wlOsqE",
        "outputId": "23c86899-1d77-4202-8c2e-0e0fe50e710d"
      },
      "source": [
        "#Homework_4_for_ver 2\r\n",
        "\r\n",
        "#create the ingredient list\r\n",
        "ingredient_list = [\"apple\", \"sugar\", \"lemon\", \"yogurt\", \"flour\"]\r\n",
        "\r\n",
        "#list all the ingredients on the list and stop. \r\n",
        "for ingredient in ingredient_list:\r\n",
        "  print(\"Add the \" + str(ingredient_list) +\".\")\r\n",
        "  break"
      ],
      "execution_count": 40,
      "outputs": [
        {
          "output_type": "stream",
          "text": [
            "Add the ['apple', 'sugar', 'lemon', 'yogurt', 'flour'].\n"
          ],
          "name": "stdout"
        }
      ]
    }
  ]
}