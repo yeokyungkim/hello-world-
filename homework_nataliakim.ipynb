{
  "nbformat": 4,
  "nbformat_minor": 0,
  "metadata": {
    "colab": {
      "name": "homework_nataliakim.ipynb",
      "provenance": [],
      "collapsed_sections": [],
      "include_colab_link": true
    },
    "kernelspec": {
      "name": "python3",
      "display_name": "Python 3"
    }
  },
  "cells": [
    {
      "cell_type": "markdown",
      "metadata": {
        "id": "view-in-github",
        "colab_type": "text"
      },
      "source": [
        "<a href=\"https://colab.research.google.com/github/yeokyungkim/hello-world-/blob/main/homework_nataliakim.ipynb\" target=\"_parent\"><img src=\"https://colab.research.google.com/assets/colab-badge.svg\" alt=\"Open In Colab\"/></a>"
      ]
    },
    {
      "cell_type": "code",
      "metadata": {
        "colab": {
          "base_uri": "https://localhost:8080/"
        },
        "id": "Mnwp3YCdBiYa",
        "outputId": "ed668725-0f4f-4c64-e5c2-8a3e9cc8767f"
      },
      "source": [
        "#Homework_1_cakes_assignment\n",
        "number_of_cake = 3\n",
        "\n",
        "\n",
        "#testing if number of cake is greater than 4\n",
        "if number_of_cake > 4:\n",
        "  print(\"Everybody is happy.\")\n",
        "\n",
        "#testing if number of cake is equal to 4\n",
        "elif number_of_cake == 4:\n",
        " print(\"We are not happy.\")\n",
        "else:\n",
        "  print(\"We are not happy.\")"
      ],
      "execution_count": null,
      "outputs": [
        {
          "output_type": "stream",
          "text": [
            "We are not happy.\n"
          ],
          "name": "stdout"
        }
      ]
    },
    {
      "cell_type": "code",
      "metadata": {
        "id": "aGdvK8B-nfZN"
      },
      "source": [
        ""
      ],
      "execution_count": null,
      "outputs": []
    },
    {
      "cell_type": "code",
      "metadata": {
        "colab": {
          "base_uri": "https://localhost:8080/"
        },
        "id": "PXp-iZLxD_LD",
        "outputId": "ac885a9a-4080-446a-973b-931ae2971e38"
      },
      "source": [
        "#Homework_1_cakes_assignment\n",
        "number_of_cake = 3\n",
        "\n",
        "#testing if number of cake is greater than 4\n",
        "if number_of_cake > 4:\n",
        "  print(\"Everybody is happy.\")\n",
        "\n",
        "#testing if number of cake is equal or less than 4\n",
        "elif number_of_cake < 4 or number_of_cake == 4:\n",
        "    print(\"We are not happy.\")"
      ],
      "execution_count": null,
      "outputs": [
        {
          "output_type": "stream",
          "text": [
            "We are not happy.\n"
          ],
          "name": "stdout"
        }
      ]
    },
    {
      "cell_type": "code",
      "metadata": {
        "colab": {
          "base_uri": "https://localhost:8080/"
        },
        "id": "Vcwj4IK0Fi8a",
        "outputId": "c5feed95-cbaf-4e18-e50d-5b61e5712179"
      },
      "source": [
        "#Homework_1_cakes_assignment\n",
        "number_of_cake = 4\n",
        "\n",
        "#if you have exactly 4 or less than 4 cakes\n",
        "if number_of_cake <= 4:\n",
        "  print(\"We are not happy.\")\n",
        "\n",
        "#if above conditions is not met\n",
        "else: \n",
        "  print(\"Everbody is happy.\") "
      ],
      "execution_count": null,
      "outputs": [
        {
          "output_type": "stream",
          "text": [
            "We are not happy.\n"
          ],
          "name": "stdout"
        }
      ]
    },
    {
      "cell_type": "code",
      "metadata": {
        "colab": {
          "base_uri": "https://localhost:8080/"
        },
        "id": "R3zMMVMv5FFE",
        "outputId": "f04a9035-27f3-4396-c228-0aba82964a60"
      },
      "source": [
        "#Homework_1_cakes_assignment\n",
        "number_of_cake = 5\n",
        "\n",
        "if number_of_cake > 4:\n",
        "  print (\"Everyone is happy.\")\n",
        "else:\n",
        "  print (\"We are not happy.\")\n",
        "\n",
        "#if number of cakes is greater than number of student \n",
        "  if number_of_cake == 4:\n",
        "   print(\"Even though we have 4 cakes, we are still not happy.\")\n",
        "  \n",
        "  "
      ],
      "execution_count": null,
      "outputs": [
        {
          "output_type": "stream",
          "text": [
            "Everyone is happy.\n"
          ],
          "name": "stdout"
        }
      ]
    },
    {
      "cell_type": "code",
      "metadata": {
        "colab": {
          "base_uri": "https://localhost:8080/"
        },
        "id": "fDaF1xvlJP8w",
        "outputId": "276ba45c-da1f-41d1-a8cd-778abfaa6de4"
      },
      "source": [
        "#Homework_2_cakes_assignment\n",
        "\n",
        "number_of_cake = 3\n",
        "number_of_student = 4\n",
        "\n",
        "#substraction to calculate extra number of cake \n",
        "extra_number_of_cake = sub = number_of_cake - number_of_student\n",
        "\n",
        "#testing if number of cake is greater than 4\n",
        "if number_of_cake > number_of_student:\n",
        "  #if true, print below\n",
        "  print(\"Everybody is happy.\")\n",
        "  #if false, print below\n",
        "elif number_of_cake == number_of_student:\n",
        "  print(\"We are not happy.\")\n",
        "else:\n",
        "  print(\"We are not happy.\")\n",
        "\n",
        "\n",
        "#If there is extra cakes, how many more people can we feed in the classroom? \n",
        "\n",
        "if number_of_cake > number_of_student:\n",
        "  print(\"If there is\" + \" \" + str(number_of_cake) + \" \" + \"cakes,\" + \" \" + \"we can feed\" + \" \" + str(sub) + \" \" + \"more people.\")"
      ],
      "execution_count": null,
      "outputs": [
        {
          "output_type": "stream",
          "text": [
            "We are not happy.\n"
          ],
          "name": "stdout"
        }
      ]
    },
    {
      "cell_type": "code",
      "metadata": {
        "id": "uW1iLz2xngui"
      },
      "source": [
        "# Class Exercise about Loop and Titanic\n",
        "num = float(input(\"Enter the number:\"))\n",
        "num = 1\n",
        "while num < 123:\n",
        "  print(\"Passenger\" + \" \" + str(num))\n",
        "  num = num + 1\n",
        "print(\"Passenger\" + \" \" + str(num))\n"
      ],
      "execution_count": null,
      "outputs": []
    },
    {
      "cell_type": "code",
      "metadata": {
        "id": "fHLNqmo5AWoe"
      },
      "source": [
        "# Class Exercise about Loop and Titanic_revision\n",
        "\n",
        "#use the loop method to show the list of passengers on the passenger list\n",
        "total_number_of_passengers = float(input(\"Enter the number of passengers:\"))\n",
        "\n",
        "passenger_incrementing = 1\n",
        "# number of passengers is less than the total number of passengers on the boat\n",
        "while passenger_incrementing < total_number_of_passengers:\n",
        "  print(\"Passenger\" + \" \" + str(passenger_incrementing))\n",
        "  passenger_incrementing = passenger_incrementing + 1\n",
        "print(\"Passenger\" + \" \" + str(passenger_incrementing))\n"
      ],
      "execution_count": null,
      "outputs": []
    },
    {
      "cell_type": "markdown",
      "metadata": {
        "id": "wqRHHLBXAsQf"
      },
      "source": [
        "**Homework 3.0 - while** \n",
        "-> Request the user to type a number (any positive number) -> decrease is value until 0 (12,11,10, .... 0) \n",
        "-> Verify that your program doesn't bug if the user type a negative number (you input a negative number)\n",
        "\n"
      ]
    },
    {
      "cell_type": "code",
      "metadata": {
        "colab": {
          "base_uri": "https://localhost:8080/"
        },
        "id": "-8POfyGxA9lC",
        "outputId": "2af4c919-c321-4152-9166-43b4dc3d30a4"
      },
      "source": [
        "#Homework_3_while\n",
        "\n",
        "#Ask user to type a random number\n",
        "number = float(input(\"Type the number:\"))\n",
        "\n",
        "#number value will decrease by 1 until it reaches 0 and print the number\n",
        "while number > 0: \n",
        " print(int(number))\n",
        " number = number - 1\n",
        " \n",
        " #if user inputs a number less than 1, system will not generate any more number\n",
        " if number <= 0:\n",
        "   print(\"0\")\n",
        "   break\n",
        "\n"
      ],
      "execution_count": null,
      "outputs": [
        {
          "output_type": "stream",
          "text": [
            "Type the number:0\n"
          ],
          "name": "stdout"
        }
      ]
    },
    {
      "cell_type": "markdown",
      "metadata": {
        "id": "Mtttg37xPosZ"
      },
      "source": [
        "**Homework 4.0** - For from list of ingredients here, create a recipe asking to add all the ingredients to the plate.\n",
        "\n",
        "ingredient_list = [\"apple\", \"sugar\", \"lemon\", \"yogurt\", \"flour\"] -> \"add the apple, the sugar, ...\" and that is flexible to the number of ingredients\n"
      ]
    },
    {
      "cell_type": "code",
      "metadata": {
        "colab": {
          "base_uri": "https://localhost:8080/"
        },
        "id": "lmj_sao2JCL3",
        "outputId": "8ca20218-0fc5-4935-9635-322c15951392"
      },
      "source": [
        "#Homework_4_for_ver 1\n",
        "\n",
        "#create the ingredient list\n",
        "ingredient_list = [\"apple\", \"sugar\", \"lemon\", \"yogurt\", \"flour\"]\n",
        "\n",
        "#list all the ingredients on the list and stop. \n",
        "\n",
        "print(\"Add the \" + ingredient_list[0] + \", \" + ingredient_list[1] + \", \" + ingredient_list[2] + \", \" + ingredient_list[3] + \", \" + ingredient_list[4] +\".\")\n",
        "#print(\"Add the \" + str(ingredient_list))"
      ],
      "execution_count": 7,
      "outputs": [
        {
          "output_type": "stream",
          "text": [
            "Add the apple, sugar, lemon, yogurt, flour.\n"
          ],
          "name": "stdout"
        }
      ]
    },
    {
      "cell_type": "code",
      "metadata": {
        "colab": {
          "base_uri": "https://localhost:8080/"
        },
        "id": "9iFq68wlOsqE",
        "outputId": "6da131ee-804d-484c-8224-4bd71adf9caa"
      },
      "source": [
        "#Homework_4_for_ver 2\n",
        "\n",
        "#create the ingredient list\n",
        "ingredient_list = [\"apple\", \"sugar\", \"lemon\", \"yogurt\", \"flour\"]\n",
        "\n",
        "#list all the ingredients on the list and stop. \n",
        "for ingredient in ingredient_list:\n",
        "  print(\"Add the \" + str(ingredient) + \".\")\n",
        "  "
      ],
      "execution_count": null,
      "outputs": [
        {
          "output_type": "stream",
          "text": [
            "Add the apple.\n",
            "Add the sugar.\n",
            "Add the lemon.\n",
            "Add the yogurt.\n",
            "Add the flour.\n"
          ],
          "name": "stdout"
        }
      ]
    },
    {
      "cell_type": "code",
      "metadata": {
        "id": "-GvvFDfssBAK"
      },
      "source": [
        "df[df['W']>0]"
      ],
      "execution_count": null,
      "outputs": []
    },
    {
      "cell_type": "markdown",
      "metadata": {
        "id": "CI6_qulUybVb"
      },
      "source": [
        "1. on kaggle -> get csv file of titanic\n",
        "\n",
        "2. import on google colab\n",
        "\n",
        "3. Display the imported data\n",
        "\n",
        "4. Slice data to extract only the Womans of the passengers\n"
      ]
    },
    {
      "cell_type": "markdown",
      "metadata": {
        "id": "cegiYL7-_eho"
      },
      "source": [
        "**Importing dataframe (.CSV) from Kaggle to Google Colab** **& Displaying the data**"
      ]
    },
    {
      "cell_type": "code",
      "metadata": {
        "colab": {
          "base_uri": "https://localhost:8080/",
          "height": 813
        },
        "id": "H7LmLoea37X0",
        "outputId": "91520c3e-8708-469e-af36-73308577ed0c"
      },
      "source": [
        "# Importing titanic dataset CSV from Kaggle to dataframe\n",
        "import pandas as pd\n",
        "\n",
        "# After importing CSV data, display data by locating file location\n",
        "list_of_titanic_passengers = pd.read_csv('tested.csv')\n",
        "display(list_of_titanic_passengers)\n",
        "\n"
      ],
      "execution_count": 28,
      "outputs": [
        {
          "output_type": "display_data",
          "data": {
            "text/html": [
              "<div>\n",
              "<style scoped>\n",
              "    .dataframe tbody tr th:only-of-type {\n",
              "        vertical-align: middle;\n",
              "    }\n",
              "\n",
              "    .dataframe tbody tr th {\n",
              "        vertical-align: top;\n",
              "    }\n",
              "\n",
              "    .dataframe thead th {\n",
              "        text-align: right;\n",
              "    }\n",
              "</style>\n",
              "<table border=\"1\" class=\"dataframe\">\n",
              "  <thead>\n",
              "    <tr style=\"text-align: right;\">\n",
              "      <th></th>\n",
              "      <th>PassengerId</th>\n",
              "      <th>Survived</th>\n",
              "      <th>Pclass</th>\n",
              "      <th>Name</th>\n",
              "      <th>Sex</th>\n",
              "      <th>Age</th>\n",
              "      <th>SibSp</th>\n",
              "      <th>Parch</th>\n",
              "      <th>Ticket</th>\n",
              "      <th>Fare</th>\n",
              "      <th>Cabin</th>\n",
              "      <th>Embarked</th>\n",
              "    </tr>\n",
              "  </thead>\n",
              "  <tbody>\n",
              "    <tr>\n",
              "      <th>0</th>\n",
              "      <td>892</td>\n",
              "      <td>0</td>\n",
              "      <td>3</td>\n",
              "      <td>Kelly, Mr. James</td>\n",
              "      <td>male</td>\n",
              "      <td>34.5</td>\n",
              "      <td>0</td>\n",
              "      <td>0</td>\n",
              "      <td>330911</td>\n",
              "      <td>7.8292</td>\n",
              "      <td>NaN</td>\n",
              "      <td>Q</td>\n",
              "    </tr>\n",
              "    <tr>\n",
              "      <th>1</th>\n",
              "      <td>893</td>\n",
              "      <td>1</td>\n",
              "      <td>3</td>\n",
              "      <td>Wilkes, Mrs. James (Ellen Needs)</td>\n",
              "      <td>female</td>\n",
              "      <td>47.0</td>\n",
              "      <td>1</td>\n",
              "      <td>0</td>\n",
              "      <td>363272</td>\n",
              "      <td>7.0000</td>\n",
              "      <td>NaN</td>\n",
              "      <td>S</td>\n",
              "    </tr>\n",
              "    <tr>\n",
              "      <th>2</th>\n",
              "      <td>894</td>\n",
              "      <td>0</td>\n",
              "      <td>2</td>\n",
              "      <td>Myles, Mr. Thomas Francis</td>\n",
              "      <td>male</td>\n",
              "      <td>62.0</td>\n",
              "      <td>0</td>\n",
              "      <td>0</td>\n",
              "      <td>240276</td>\n",
              "      <td>9.6875</td>\n",
              "      <td>NaN</td>\n",
              "      <td>Q</td>\n",
              "    </tr>\n",
              "    <tr>\n",
              "      <th>3</th>\n",
              "      <td>895</td>\n",
              "      <td>0</td>\n",
              "      <td>3</td>\n",
              "      <td>Wirz, Mr. Albert</td>\n",
              "      <td>male</td>\n",
              "      <td>27.0</td>\n",
              "      <td>0</td>\n",
              "      <td>0</td>\n",
              "      <td>315154</td>\n",
              "      <td>8.6625</td>\n",
              "      <td>NaN</td>\n",
              "      <td>S</td>\n",
              "    </tr>\n",
              "    <tr>\n",
              "      <th>4</th>\n",
              "      <td>896</td>\n",
              "      <td>1</td>\n",
              "      <td>3</td>\n",
              "      <td>Hirvonen, Mrs. Alexander (Helga E Lindqvist)</td>\n",
              "      <td>female</td>\n",
              "      <td>22.0</td>\n",
              "      <td>1</td>\n",
              "      <td>1</td>\n",
              "      <td>3101298</td>\n",
              "      <td>12.2875</td>\n",
              "      <td>NaN</td>\n",
              "      <td>S</td>\n",
              "    </tr>\n",
              "    <tr>\n",
              "      <th>...</th>\n",
              "      <td>...</td>\n",
              "      <td>...</td>\n",
              "      <td>...</td>\n",
              "      <td>...</td>\n",
              "      <td>...</td>\n",
              "      <td>...</td>\n",
              "      <td>...</td>\n",
              "      <td>...</td>\n",
              "      <td>...</td>\n",
              "      <td>...</td>\n",
              "      <td>...</td>\n",
              "      <td>...</td>\n",
              "    </tr>\n",
              "    <tr>\n",
              "      <th>413</th>\n",
              "      <td>1305</td>\n",
              "      <td>0</td>\n",
              "      <td>3</td>\n",
              "      <td>Spector, Mr. Woolf</td>\n",
              "      <td>male</td>\n",
              "      <td>NaN</td>\n",
              "      <td>0</td>\n",
              "      <td>0</td>\n",
              "      <td>A.5. 3236</td>\n",
              "      <td>8.0500</td>\n",
              "      <td>NaN</td>\n",
              "      <td>S</td>\n",
              "    </tr>\n",
              "    <tr>\n",
              "      <th>414</th>\n",
              "      <td>1306</td>\n",
              "      <td>1</td>\n",
              "      <td>1</td>\n",
              "      <td>Oliva y Ocana, Dona. Fermina</td>\n",
              "      <td>female</td>\n",
              "      <td>39.0</td>\n",
              "      <td>0</td>\n",
              "      <td>0</td>\n",
              "      <td>PC 17758</td>\n",
              "      <td>108.9000</td>\n",
              "      <td>C105</td>\n",
              "      <td>C</td>\n",
              "    </tr>\n",
              "    <tr>\n",
              "      <th>415</th>\n",
              "      <td>1307</td>\n",
              "      <td>0</td>\n",
              "      <td>3</td>\n",
              "      <td>Saether, Mr. Simon Sivertsen</td>\n",
              "      <td>male</td>\n",
              "      <td>38.5</td>\n",
              "      <td>0</td>\n",
              "      <td>0</td>\n",
              "      <td>SOTON/O.Q. 3101262</td>\n",
              "      <td>7.2500</td>\n",
              "      <td>NaN</td>\n",
              "      <td>S</td>\n",
              "    </tr>\n",
              "    <tr>\n",
              "      <th>416</th>\n",
              "      <td>1308</td>\n",
              "      <td>0</td>\n",
              "      <td>3</td>\n",
              "      <td>Ware, Mr. Frederick</td>\n",
              "      <td>male</td>\n",
              "      <td>NaN</td>\n",
              "      <td>0</td>\n",
              "      <td>0</td>\n",
              "      <td>359309</td>\n",
              "      <td>8.0500</td>\n",
              "      <td>NaN</td>\n",
              "      <td>S</td>\n",
              "    </tr>\n",
              "    <tr>\n",
              "      <th>417</th>\n",
              "      <td>1309</td>\n",
              "      <td>0</td>\n",
              "      <td>3</td>\n",
              "      <td>Peter, Master. Michael J</td>\n",
              "      <td>male</td>\n",
              "      <td>NaN</td>\n",
              "      <td>1</td>\n",
              "      <td>1</td>\n",
              "      <td>2668</td>\n",
              "      <td>22.3583</td>\n",
              "      <td>NaN</td>\n",
              "      <td>C</td>\n",
              "    </tr>\n",
              "  </tbody>\n",
              "</table>\n",
              "<p>418 rows × 12 columns</p>\n",
              "</div>"
            ],
            "text/plain": [
              "     PassengerId  Survived  Pclass  ...      Fare Cabin  Embarked\n",
              "0            892         0       3  ...    7.8292   NaN         Q\n",
              "1            893         1       3  ...    7.0000   NaN         S\n",
              "2            894         0       2  ...    9.6875   NaN         Q\n",
              "3            895         0       3  ...    8.6625   NaN         S\n",
              "4            896         1       3  ...   12.2875   NaN         S\n",
              "..           ...       ...     ...  ...       ...   ...       ...\n",
              "413         1305         0       3  ...    8.0500   NaN         S\n",
              "414         1306         1       1  ...  108.9000  C105         C\n",
              "415         1307         0       3  ...    7.2500   NaN         S\n",
              "416         1308         0       3  ...    8.0500   NaN         S\n",
              "417         1309         0       3  ...   22.3583   NaN         C\n",
              "\n",
              "[418 rows x 12 columns]"
            ]
          },
          "metadata": {
            "tags": []
          }
        }
      ]
    },
    {
      "cell_type": "markdown",
      "metadata": {
        "id": "BELJl-wZ_7V6"
      },
      "source": [
        "**Analyzing Titanic Data by Sex**"
      ]
    },
    {
      "cell_type": "code",
      "metadata": {
        "colab": {
          "base_uri": "https://localhost:8080/",
          "height": 762
        },
        "id": "bbaniEM1ADK2",
        "outputId": "1197bed0-c8b3-4a08-a51d-0e77afaf8617"
      },
      "source": [
        "sorted_values = list_of_titanic_passengers.sort_values(\"Sex\")\n",
        "display(sorted_values)\n",
        "\n"
      ],
      "execution_count": 30,
      "outputs": [
        {
          "output_type": "display_data",
          "data": {
            "text/html": [
              "<div>\n",
              "<style scoped>\n",
              "    .dataframe tbody tr th:only-of-type {\n",
              "        vertical-align: middle;\n",
              "    }\n",
              "\n",
              "    .dataframe tbody tr th {\n",
              "        vertical-align: top;\n",
              "    }\n",
              "\n",
              "    .dataframe thead th {\n",
              "        text-align: right;\n",
              "    }\n",
              "</style>\n",
              "<table border=\"1\" class=\"dataframe\">\n",
              "  <thead>\n",
              "    <tr style=\"text-align: right;\">\n",
              "      <th></th>\n",
              "      <th>PassengerId</th>\n",
              "      <th>Survived</th>\n",
              "      <th>Pclass</th>\n",
              "      <th>Name</th>\n",
              "      <th>Sex</th>\n",
              "      <th>Age</th>\n",
              "      <th>SibSp</th>\n",
              "      <th>Parch</th>\n",
              "      <th>Ticket</th>\n",
              "      <th>Fare</th>\n",
              "      <th>Cabin</th>\n",
              "      <th>Embarked</th>\n",
              "    </tr>\n",
              "  </thead>\n",
              "  <tbody>\n",
              "    <tr>\n",
              "      <th>208</th>\n",
              "      <td>1100</td>\n",
              "      <td>1</td>\n",
              "      <td>1</td>\n",
              "      <td>Rosenbaum, Miss. Edith Louise</td>\n",
              "      <td>female</td>\n",
              "      <td>33.0</td>\n",
              "      <td>0</td>\n",
              "      <td>0</td>\n",
              "      <td>PC 17613</td>\n",
              "      <td>27.7208</td>\n",
              "      <td>A11</td>\n",
              "      <td>C</td>\n",
              "    </tr>\n",
              "    <tr>\n",
              "      <th>138</th>\n",
              "      <td>1030</td>\n",
              "      <td>1</td>\n",
              "      <td>3</td>\n",
              "      <td>Drapkin, Miss. Jennie</td>\n",
              "      <td>female</td>\n",
              "      <td>23.0</td>\n",
              "      <td>0</td>\n",
              "      <td>0</td>\n",
              "      <td>SOTON/OQ 392083</td>\n",
              "      <td>8.0500</td>\n",
              "      <td>NaN</td>\n",
              "      <td>S</td>\n",
              "    </tr>\n",
              "    <tr>\n",
              "      <th>330</th>\n",
              "      <td>1222</td>\n",
              "      <td>1</td>\n",
              "      <td>2</td>\n",
              "      <td>Davies, Mrs. John Morgan (Elizabeth Agnes Mary...</td>\n",
              "      <td>female</td>\n",
              "      <td>48.0</td>\n",
              "      <td>0</td>\n",
              "      <td>2</td>\n",
              "      <td>C.A. 33112</td>\n",
              "      <td>36.7500</td>\n",
              "      <td>NaN</td>\n",
              "      <td>S</td>\n",
              "    </tr>\n",
              "    <tr>\n",
              "      <th>140</th>\n",
              "      <td>1032</td>\n",
              "      <td>1</td>\n",
              "      <td>3</td>\n",
              "      <td>Goodwin, Miss. Jessie Allis</td>\n",
              "      <td>female</td>\n",
              "      <td>10.0</td>\n",
              "      <td>5</td>\n",
              "      <td>2</td>\n",
              "      <td>CA 2144</td>\n",
              "      <td>46.9000</td>\n",
              "      <td>NaN</td>\n",
              "      <td>S</td>\n",
              "    </tr>\n",
              "    <tr>\n",
              "      <th>141</th>\n",
              "      <td>1033</td>\n",
              "      <td>1</td>\n",
              "      <td>1</td>\n",
              "      <td>Daniels, Miss. Sarah</td>\n",
              "      <td>female</td>\n",
              "      <td>33.0</td>\n",
              "      <td>0</td>\n",
              "      <td>0</td>\n",
              "      <td>113781</td>\n",
              "      <td>151.5500</td>\n",
              "      <td>NaN</td>\n",
              "      <td>S</td>\n",
              "    </tr>\n",
              "    <tr>\n",
              "      <th>...</th>\n",
              "      <td>...</td>\n",
              "      <td>...</td>\n",
              "      <td>...</td>\n",
              "      <td>...</td>\n",
              "      <td>...</td>\n",
              "      <td>...</td>\n",
              "      <td>...</td>\n",
              "      <td>...</td>\n",
              "      <td>...</td>\n",
              "      <td>...</td>\n",
              "      <td>...</td>\n",
              "      <td>...</td>\n",
              "    </tr>\n",
              "    <tr>\n",
              "      <th>167</th>\n",
              "      <td>1059</td>\n",
              "      <td>0</td>\n",
              "      <td>3</td>\n",
              "      <td>Ford, Mr. Edward Watson</td>\n",
              "      <td>male</td>\n",
              "      <td>18.0</td>\n",
              "      <td>2</td>\n",
              "      <td>2</td>\n",
              "      <td>W./C. 6608</td>\n",
              "      <td>34.3750</td>\n",
              "      <td>NaN</td>\n",
              "      <td>S</td>\n",
              "    </tr>\n",
              "    <tr>\n",
              "      <th>166</th>\n",
              "      <td>1058</td>\n",
              "      <td>0</td>\n",
              "      <td>1</td>\n",
              "      <td>Brandeis, Mr. Emil</td>\n",
              "      <td>male</td>\n",
              "      <td>48.0</td>\n",
              "      <td>0</td>\n",
              "      <td>0</td>\n",
              "      <td>PC 17591</td>\n",
              "      <td>50.4958</td>\n",
              "      <td>B10</td>\n",
              "      <td>C</td>\n",
              "    </tr>\n",
              "    <tr>\n",
              "      <th>164</th>\n",
              "      <td>1056</td>\n",
              "      <td>0</td>\n",
              "      <td>2</td>\n",
              "      <td>Peruschitz, Rev. Joseph Maria</td>\n",
              "      <td>male</td>\n",
              "      <td>41.0</td>\n",
              "      <td>0</td>\n",
              "      <td>0</td>\n",
              "      <td>237393</td>\n",
              "      <td>13.0000</td>\n",
              "      <td>NaN</td>\n",
              "      <td>S</td>\n",
              "    </tr>\n",
              "    <tr>\n",
              "      <th>131</th>\n",
              "      <td>1023</td>\n",
              "      <td>0</td>\n",
              "      <td>1</td>\n",
              "      <td>Gracie, Col. Archibald IV</td>\n",
              "      <td>male</td>\n",
              "      <td>53.0</td>\n",
              "      <td>0</td>\n",
              "      <td>0</td>\n",
              "      <td>113780</td>\n",
              "      <td>28.5000</td>\n",
              "      <td>C51</td>\n",
              "      <td>C</td>\n",
              "    </tr>\n",
              "    <tr>\n",
              "      <th>417</th>\n",
              "      <td>1309</td>\n",
              "      <td>0</td>\n",
              "      <td>3</td>\n",
              "      <td>Peter, Master. Michael J</td>\n",
              "      <td>male</td>\n",
              "      <td>NaN</td>\n",
              "      <td>1</td>\n",
              "      <td>1</td>\n",
              "      <td>2668</td>\n",
              "      <td>22.3583</td>\n",
              "      <td>NaN</td>\n",
              "      <td>C</td>\n",
              "    </tr>\n",
              "  </tbody>\n",
              "</table>\n",
              "<p>418 rows × 12 columns</p>\n",
              "</div>"
            ],
            "text/plain": [
              "     PassengerId  Survived  Pclass  ...      Fare Cabin  Embarked\n",
              "208         1100         1       1  ...   27.7208   A11         C\n",
              "138         1030         1       3  ...    8.0500   NaN         S\n",
              "330         1222         1       2  ...   36.7500   NaN         S\n",
              "140         1032         1       3  ...   46.9000   NaN         S\n",
              "141         1033         1       1  ...  151.5500   NaN         S\n",
              "..           ...       ...     ...  ...       ...   ...       ...\n",
              "167         1059         0       3  ...   34.3750   NaN         S\n",
              "166         1058         0       1  ...   50.4958   B10         C\n",
              "164         1056         0       2  ...   13.0000   NaN         S\n",
              "131         1023         0       1  ...   28.5000   C51         C\n",
              "417         1309         0       3  ...   22.3583   NaN         C\n",
              "\n",
              "[418 rows x 12 columns]"
            ]
          },
          "metadata": {
            "tags": []
          }
        }
      ]
    },
    {
      "cell_type": "markdown",
      "metadata": {
        "id": "1VlZNDvnFV03"
      },
      "source": [
        "**Filtering Titanic Data by Name & Sex**\n",
        "\n"
      ]
    },
    {
      "cell_type": "code",
      "metadata": {
        "colab": {
          "base_uri": "https://localhost:8080/"
        },
        "id": "PHz1sHFrHTAs",
        "outputId": "fa1e2052-bfb4-4415-c9b3-8a58dff1d12e"
      },
      "source": [
        "name_sex = list_of_titanic_passengers[[\"Name\", \"Sex\"]]\n",
        "print(name_sex)"
      ],
      "execution_count": 45,
      "outputs": [
        {
          "output_type": "stream",
          "text": [
            "                                             Name     Sex\n",
            "0                                Kelly, Mr. James    male\n",
            "1                Wilkes, Mrs. James (Ellen Needs)  female\n",
            "2                       Myles, Mr. Thomas Francis    male\n",
            "3                                Wirz, Mr. Albert    male\n",
            "4    Hirvonen, Mrs. Alexander (Helga E Lindqvist)  female\n",
            "..                                            ...     ...\n",
            "413                            Spector, Mr. Woolf    male\n",
            "414                  Oliva y Ocana, Dona. Fermina  female\n",
            "415                  Saether, Mr. Simon Sivertsen    male\n",
            "416                           Ware, Mr. Frederick    male\n",
            "417                      Peter, Master. Michael J    male\n",
            "\n",
            "[418 rows x 2 columns]\n"
          ],
          "name": "stdout"
        }
      ]
    },
    {
      "cell_type": "markdown",
      "metadata": {
        "id": "akuhtl-ZLYlm"
      },
      "source": [
        "**Analyzing Titanic data by Sex using Value Count**"
      ]
    },
    {
      "cell_type": "code",
      "metadata": {
        "colab": {
          "base_uri": "https://localhost:8080/",
          "height": 69
        },
        "id": "4SgaFlCxL4Gp",
        "outputId": "62e474e2-d203-444f-fab8-334d678c1a66"
      },
      "source": [
        "list_of_titanic_passengers[\"Sex\"].value_counts()\n",
        "#Sex_map = {'female' = 0, 'male' = 1}\n",
        "#list_of_female_passengers= list_of_titanic_passengers[list_of_titanic_passengers[\"Sex\"]==0]\n",
        "display(list_of_female_passengers)"
      ],
      "execution_count": 72,
      "outputs": [
        {
          "output_type": "display_data",
          "data": {
            "text/html": [
              "<div>\n",
              "<style scoped>\n",
              "    .dataframe tbody tr th:only-of-type {\n",
              "        vertical-align: middle;\n",
              "    }\n",
              "\n",
              "    .dataframe tbody tr th {\n",
              "        vertical-align: top;\n",
              "    }\n",
              "\n",
              "    .dataframe thead th {\n",
              "        text-align: right;\n",
              "    }\n",
              "</style>\n",
              "<table border=\"1\" class=\"dataframe\">\n",
              "  <thead>\n",
              "    <tr style=\"text-align: right;\">\n",
              "      <th></th>\n",
              "      <th>PassengerId</th>\n",
              "      <th>Survived</th>\n",
              "      <th>Pclass</th>\n",
              "      <th>Name</th>\n",
              "      <th>Sex</th>\n",
              "      <th>Age</th>\n",
              "      <th>SibSp</th>\n",
              "      <th>Parch</th>\n",
              "      <th>Ticket</th>\n",
              "      <th>Fare</th>\n",
              "      <th>Cabin</th>\n",
              "      <th>Embarked</th>\n",
              "    </tr>\n",
              "  </thead>\n",
              "  <tbody>\n",
              "  </tbody>\n",
              "</table>\n",
              "</div>"
            ],
            "text/plain": [
              "Empty DataFrame\n",
              "Columns: [PassengerId, Survived, Pclass, Name, Sex, Age, SibSp, Parch, Ticket, Fare, Cabin, Embarked]\n",
              "Index: []"
            ]
          },
          "metadata": {
            "tags": []
          }
        }
      ]
    },
    {
      "cell_type": "markdown",
      "metadata": {
        "id": "k-mgBga1Yv3_"
      },
      "source": [
        "**Saving the data treated from Titanic**"
      ]
    },
    {
      "cell_type": "code",
      "metadata": {
        "id": "GkqvqkVyYx1X"
      },
      "source": [
        "list_of_titanic_passengers.to_csv('file_name.csv')"
      ],
      "execution_count": 74,
      "outputs": []
    }
  ]
}