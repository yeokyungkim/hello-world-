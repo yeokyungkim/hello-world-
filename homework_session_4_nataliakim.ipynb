{
  "nbformat": 4,
  "nbformat_minor": 0,
  "metadata": {
    "colab": {
      "name": "homework session 4_nataliakim.ipynb",
      "provenance": [],
      "collapsed_sections": [],
      "authorship_tag": "ABX9TyMJOrkCm2o5x7uVrtDOuIBq",
      "include_colab_link": true
    },
    "kernelspec": {
      "name": "python3",
      "display_name": "Python 3"
    }
  },
  "cells": [
    {
      "cell_type": "markdown",
      "metadata": {
        "id": "view-in-github",
        "colab_type": "text"
      },
      "source": [
        "<a href=\"https://colab.research.google.com/github/yeokyungkim/hello-world-/blob/main/homework_session_4_nataliakim.ipynb\" target=\"_parent\"><img src=\"https://colab.research.google.com/assets/colab-badge.svg\" alt=\"Open In Colab\"/></a>"
      ]
    },
    {
      "cell_type": "code",
      "metadata": {
        "colab": {
          "base_uri": "https://localhost:8080/"
        },
        "id": "Mnwp3YCdBiYa",
        "outputId": "7dcd1f0d-1d0e-413f-9a94-818612fbabe2"
      },
      "source": [
        "#cakes_assignment\r\n",
        "number_of_cake = 3\r\n",
        "\r\n",
        "#testing if number of cake is greater than 4\r\n",
        "if number_of_cake > 4:\r\n",
        "  print(\"Everybody is happy.\")\r\n",
        "\r\n",
        "#testing if number of cake is equal or less than 4\r\n",
        "else:\r\n",
        "  print(\"We are not happy.\")"
      ],
      "execution_count": 15,
      "outputs": [
        {
          "output_type": "stream",
          "text": [
            "We are not happy.\n"
          ],
          "name": "stdout"
        }
      ]
    },
    {
      "cell_type": "code",
      "metadata": {
        "colab": {
          "base_uri": "https://localhost:8080/"
        },
        "id": "PXp-iZLxD_LD",
        "outputId": "149e566d-c701-4235-a403-6ff593e9f761"
      },
      "source": [
        "#cakes_assignment\r\n",
        "number_of_cake = 5\r\n",
        "\r\n",
        "#testing if number of cake is greater than 4\r\n",
        "if number_of_cake > 4:\r\n",
        "  print(\"Everybody is happy.\")\r\n",
        "\r\n",
        "#testing if number of cake is equal or less than 4\r\n",
        "elif number_of_cake < 4 or number_of_cake == 4:\r\n",
        "    print(\"We are not happy.\")"
      ],
      "execution_count": 24,
      "outputs": [
        {
          "output_type": "stream",
          "text": [
            "Everybody is happy.\n"
          ],
          "name": "stdout"
        }
      ]
    },
    {
      "cell_type": "code",
      "metadata": {
        "colab": {
          "base_uri": "https://localhost:8080/"
        },
        "id": "Vcwj4IK0Fi8a",
        "outputId": "1d7216bf-5b64-40fd-89b0-6cdecc3ddbb3"
      },
      "source": [
        "number_of_cake = 4\r\n",
        "\r\n",
        "#if you have exactly 4 or less than 4 cakes\r\n",
        "if number_of_cake <= 4:\r\n",
        "  print(\"We are not happy.\")\r\n",
        "\r\n",
        "#if above conditions is not met\r\n",
        "else: \r\n",
        "  print(\"Everbody is happy.\") "
      ],
      "execution_count": 62,
      "outputs": [
        {
          "output_type": "stream",
          "text": [
            "We are not happy.\n"
          ],
          "name": "stdout"
        }
      ]
    },
    {
      "cell_type": "code",
      "metadata": {
        "colab": {
          "base_uri": "https://localhost:8080/"
        },
        "id": "fDaF1xvlJP8w",
        "outputId": "a1896060-e5b1-42df-fab2-9ac851326c82"
      },
      "source": [
        "#cakes_assignment\r\n",
        "\r\n",
        "number_of_cake = 6\r\n",
        "number_of_student = 4\r\n",
        "\r\n",
        "#substraction to calculate extra number of cake \r\n",
        "extra_number_of_cake = sub = number_of_cake - number_of_student\r\n",
        "\r\n",
        "#testing if number of cake is greater than 4\r\n",
        "if number_of_cake > number_of_student:\r\n",
        "  #if true, print below\r\n",
        "  print(\"Everybody is happy.\")\r\n",
        "\r\n",
        "#how many more people can we feed in the classroom. \r\n",
        "\r\n",
        "if number_of_cake > number_of_student:\r\n",
        "  print(\"We can feed\" + \" \" + str(sub) + \" \" + \"more people.\")"
      ],
      "execution_count": 57,
      "outputs": [
        {
          "output_type": "stream",
          "text": [
            "Everybody is happy.\n",
            "We can feed 2 more people.\n"
          ],
          "name": "stdout"
        }
      ]
    }
  ]
}