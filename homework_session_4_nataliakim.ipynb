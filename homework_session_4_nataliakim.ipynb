{
  "nbformat": 4,
  "nbformat_minor": 0,
  "metadata": {
    "colab": {
      "name": "homework session 4_nataliakim.ipynb",
      "provenance": [],
      "collapsed_sections": [],
      "authorship_tag": "ABX9TyPzCA2Gew8wRH3AWzZPZ/Mc",
      "include_colab_link": true
    },
    "kernelspec": {
      "name": "python3",
      "display_name": "Python 3"
    }
  },
  "cells": [
    {
      "cell_type": "markdown",
      "metadata": {
        "id": "view-in-github",
        "colab_type": "text"
      },
      "source": [
        "<a href=\"https://colab.research.google.com/github/yeokyungkim/hello-world-/blob/main/homework_session_4_nataliakim.ipynb\" target=\"_parent\"><img src=\"https://colab.research.google.com/assets/colab-badge.svg\" alt=\"Open In Colab\"/></a>"
      ]
    },
    {
      "cell_type": "code",
      "metadata": {
        "colab": {
          "base_uri": "https://localhost:8080/"
        },
        "id": "Mnwp3YCdBiYa",
        "outputId": "ed668725-0f4f-4c64-e5c2-8a3e9cc8767f"
      },
      "source": [
        "#Homework_1_cakes_assignment\r\n",
        "number_of_cake = 3\r\n",
        "\r\n",
        "\r\n",
        "#testing if number of cake is greater than 4\r\n",
        "if number_of_cake > 4:\r\n",
        "  print(\"Everybody is happy.\")\r\n",
        "\r\n",
        "#testing if number of cake is equal to 4\r\n",
        "elif number_of_cake == 4:\r\n",
        " print(\"We are not happy.\")\r\n",
        "else:\r\n",
        "  print(\"We are not happy.\")"
      ],
      "execution_count": null,
      "outputs": [
        {
          "output_type": "stream",
          "text": [
            "We are not happy.\n"
          ],
          "name": "stdout"
        }
      ]
    },
    {
      "cell_type": "markdown",
      "metadata": {
        "id": "x7HxDNK-P2SH"
      },
      "source": [
        "# New Section"
      ]
    },
    {
      "cell_type": "code",
      "metadata": {
        "colab": {
          "base_uri": "https://localhost:8080/"
        },
        "id": "PXp-iZLxD_LD",
        "outputId": "ac885a9a-4080-446a-973b-931ae2971e38"
      },
      "source": [
        "#Homework_1_cakes_assignment\r\n",
        "number_of_cake = 3\r\n",
        "\r\n",
        "#testing if number of cake is greater than 4\r\n",
        "if number_of_cake > 4:\r\n",
        "  print(\"Everybody is happy.\")\r\n",
        "\r\n",
        "#testing if number of cake is equal or less than 4\r\n",
        "elif number_of_cake < 4 or number_of_cake == 4:\r\n",
        "    print(\"We are not happy.\")"
      ],
      "execution_count": null,
      "outputs": [
        {
          "output_type": "stream",
          "text": [
            "We are not happy.\n"
          ],
          "name": "stdout"
        }
      ]
    },
    {
      "cell_type": "code",
      "metadata": {
        "colab": {
          "base_uri": "https://localhost:8080/"
        },
        "id": "Vcwj4IK0Fi8a",
        "outputId": "c5feed95-cbaf-4e18-e50d-5b61e5712179"
      },
      "source": [
        "#Homework_1_cakes_assignment\r\n",
        "number_of_cake = 4\r\n",
        "\r\n",
        "#if you have exactly 4 or less than 4 cakes\r\n",
        "if number_of_cake <= 4:\r\n",
        "  print(\"We are not happy.\")\r\n",
        "\r\n",
        "#if above conditions is not met\r\n",
        "else: \r\n",
        "  print(\"Everbody is happy.\") "
      ],
      "execution_count": null,
      "outputs": [
        {
          "output_type": "stream",
          "text": [
            "We are not happy.\n"
          ],
          "name": "stdout"
        }
      ]
    },
    {
      "cell_type": "code",
      "metadata": {
        "colab": {
          "base_uri": "https://localhost:8080/"
        },
        "id": "R3zMMVMv5FFE",
        "outputId": "f04a9035-27f3-4396-c228-0aba82964a60"
      },
      "source": [
        "#Homework_1_cakes_assignment\r\n",
        "number_of_cake = 5\r\n",
        "\r\n",
        "if number_of_cake > 4:\r\n",
        "  print (\"Everyone is happy.\")\r\n",
        "else:\r\n",
        "  print (\"We are not happy.\")\r\n",
        "\r\n",
        "#if number of cakes is greater than number of student \r\n",
        "  if number_of_cake == 4:\r\n",
        "   print(\"Even though we have 4 cakes, we are still not happy.\")\r\n",
        "  \r\n",
        "  "
      ],
      "execution_count": null,
      "outputs": [
        {
          "output_type": "stream",
          "text": [
            "Everyone is happy.\n"
          ],
          "name": "stdout"
        }
      ]
    },
    {
      "cell_type": "code",
      "metadata": {
        "colab": {
          "base_uri": "https://localhost:8080/"
        },
        "id": "fDaF1xvlJP8w",
        "outputId": "276ba45c-da1f-41d1-a8cd-778abfaa6de4"
      },
      "source": [
        "#Homework_2_cakes_assignment\r\n",
        "\r\n",
        "number_of_cake = 3\r\n",
        "number_of_student = 4\r\n",
        "\r\n",
        "#substraction to calculate extra number of cake \r\n",
        "extra_number_of_cake = sub = number_of_cake - number_of_student\r\n",
        "\r\n",
        "#testing if number of cake is greater than 4\r\n",
        "if number_of_cake > number_of_student:\r\n",
        "  #if true, print below\r\n",
        "  print(\"Everybody is happy.\")\r\n",
        "  #if false, print below\r\n",
        "elif number_of_cake == number_of_student:\r\n",
        "  print(\"We are not happy.\")\r\n",
        "else:\r\n",
        "  print(\"We are not happy.\")\r\n",
        "\r\n",
        "\r\n",
        "#If there is extra cakes, how many more people can we feed in the classroom? \r\n",
        "\r\n",
        "if number_of_cake > number_of_student:\r\n",
        "  print(\"If there is\" + \" \" + str(number_of_cake) + \" \" + \"cakes,\" + \" \" + \"we can feed\" + \" \" + str(sub) + \" \" + \"more people.\")"
      ],
      "execution_count": null,
      "outputs": [
        {
          "output_type": "stream",
          "text": [
            "We are not happy.\n"
          ],
          "name": "stdout"
        }
      ]
    }
  ]
}