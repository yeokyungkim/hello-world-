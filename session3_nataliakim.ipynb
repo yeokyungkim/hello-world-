{
  "nbformat": 4,
  "nbformat_minor": 0,
  "metadata": {
    "colab": {
      "name": "session3_nataliakim.ipynb",
      "provenance": [],
      "collapsed_sections": [],
      "authorship_tag": "ABX9TyN4g5Ca2uJ2yBfeZVI5Lfpw",
      "include_colab_link": true
    },
    "kernelspec": {
      "name": "python3",
      "display_name": "Python 3"
    }
  },
  "cells": [
    {
      "cell_type": "markdown",
      "metadata": {
        "id": "view-in-github",
        "colab_type": "text"
      },
      "source": [
        "<a href=\"https://colab.research.google.com/github/yeokyungkim/hello-world-/blob/main/session3_nataliakim.ipynb\" target=\"_parent\"><img src=\"https://colab.research.google.com/assets/colab-badge.svg\" alt=\"Open In Colab\"/></a>"
      ]
    },
    {
      "cell_type": "code",
      "metadata": {
        "colab": {
          "base_uri": "https://localhost:8080/"
        },
        "id": "Q5WBy9Jb4G2Q",
        "outputId": "5f08949f-4a63-43cb-e6a3-cf66713d9270"
      },
      "source": [
        "Greetings = \"Hello, My Name is Natalia Kim!\"\r\n",
        "Greetings = Greetings.split(\",\")\r\n",
        "NameofUser = Greetings[1]\r\n",
        "#print (NameofUser)\r\n",
        "FirstName = NameofUser[12:19]\r\n",
        "#print (FirstName)\r\n",
        "LastName = NameofUser[20:23]\r\n",
        "#print (LastName)\r\n",
        "print (FirstName+\" \"+LastName)"
      ],
      "execution_count": 2,
      "outputs": [
        {
          "output_type": "stream",
          "text": [
            "Natalia Kim\n"
          ],
          "name": "stdout"
        }
      ]
    },
    {
      "cell_type": "code",
      "metadata": {
        "id": "BDg06WCx6I60"
      },
      "source": [
        ""
      ],
      "execution_count": null,
      "outputs": []
    }
  ]
}