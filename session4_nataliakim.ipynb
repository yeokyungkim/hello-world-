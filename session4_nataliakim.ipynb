{
  "nbformat": 4,
  "nbformat_minor": 0,
  "metadata": {
    "colab": {
      "name": "session4_nataliakim.ipynb",
      "provenance": [],
      "authorship_tag": "ABX9TyPkZkO8SXL0fnhfGok8zWuj",
      "include_colab_link": true
    },
    "kernelspec": {
      "name": "python3",
      "display_name": "Python 3"
    }
  },
  "cells": [
    {
      "cell_type": "markdown",
      "metadata": {
        "id": "view-in-github",
        "colab_type": "text"
      },
      "source": [
        "<a href=\"https://colab.research.google.com/github/yeokyungkim/hello-world-/blob/main/session4_nataliakim.ipynb\" target=\"_parent\"><img src=\"https://colab.research.google.com/assets/colab-badge.svg\" alt=\"Open In Colab\"/></a>"
      ]
    },
    {
      "cell_type": "code",
      "metadata": {
        "colab": {
          "base_uri": "https://localhost:8080/",
          "height": 266
        },
        "id": "OzmJXmCkXanF",
        "outputId": "45c1ee37-6ba5-456c-de3f-bb19960ab6e2"
      },
      "source": [
        "firstchild = \"Gemma Kang\"\r\n",
        "print(firstchild.upper())\r\n",
        "secondchild = \"Ella Kang\"\r\n",
        "print(secondchild.lower())\r\n",
        "age = [9, 5]\r\n",
        "age = age.split(\",\")\r\n",
        "variable_txt = \"My first Child is\" + firstchild + \" and She is\" + age (0) + \"old.\"\r\n",
        "print(variable_txt)"
      ],
      "execution_count": 26,
      "outputs": [
        {
          "output_type": "stream",
          "text": [
            "GEMMA KANG\n",
            "ella kang\n"
          ],
          "name": "stdout"
        },
        {
          "output_type": "error",
          "ename": "AttributeError",
          "evalue": "ignored",
          "traceback": [
            "\u001b[0;31m---------------------------------------------------------------------------\u001b[0m",
            "\u001b[0;31mAttributeError\u001b[0m                            Traceback (most recent call last)",
            "\u001b[0;32m<ipython-input-26-78f16a51a904>\u001b[0m in \u001b[0;36m<module>\u001b[0;34m()\u001b[0m\n\u001b[1;32m      4\u001b[0m \u001b[0mprint\u001b[0m\u001b[0;34m(\u001b[0m\u001b[0msecondchild\u001b[0m\u001b[0;34m.\u001b[0m\u001b[0mlower\u001b[0m\u001b[0;34m(\u001b[0m\u001b[0;34m)\u001b[0m\u001b[0;34m)\u001b[0m\u001b[0;34m\u001b[0m\u001b[0;34m\u001b[0m\u001b[0m\n\u001b[1;32m      5\u001b[0m \u001b[0mage\u001b[0m \u001b[0;34m=\u001b[0m \u001b[0;34m[\u001b[0m\u001b[0;36m9\u001b[0m\u001b[0;34m,\u001b[0m \u001b[0;36m5\u001b[0m\u001b[0;34m]\u001b[0m\u001b[0;34m\u001b[0m\u001b[0;34m\u001b[0m\u001b[0m\n\u001b[0;32m----> 6\u001b[0;31m \u001b[0mage\u001b[0m \u001b[0;34m=\u001b[0m \u001b[0mage\u001b[0m\u001b[0;34m.\u001b[0m\u001b[0msplit\u001b[0m\u001b[0;34m(\u001b[0m\u001b[0;34m\",\"\u001b[0m\u001b[0;34m)\u001b[0m\u001b[0;34m\u001b[0m\u001b[0;34m\u001b[0m\u001b[0m\n\u001b[0m\u001b[1;32m      7\u001b[0m \u001b[0mvariable_txt\u001b[0m \u001b[0;34m=\u001b[0m \u001b[0;34m\"My first Child is\"\u001b[0m \u001b[0;34m+\u001b[0m \u001b[0mfirstchild\u001b[0m \u001b[0;34m+\u001b[0m \u001b[0;34m\" and She is\"\u001b[0m \u001b[0;34m+\u001b[0m \u001b[0mage\u001b[0m \u001b[0;34m(\u001b[0m\u001b[0;36m0\u001b[0m\u001b[0;34m)\u001b[0m \u001b[0;34m+\u001b[0m \u001b[0;34m\"old.\"\u001b[0m\u001b[0;34m\u001b[0m\u001b[0;34m\u001b[0m\u001b[0m\n\u001b[1;32m      8\u001b[0m \u001b[0mprint\u001b[0m\u001b[0;34m(\u001b[0m\u001b[0mvariable_txt\u001b[0m\u001b[0;34m)\u001b[0m\u001b[0;34m\u001b[0m\u001b[0;34m\u001b[0m\u001b[0m\n",
            "\u001b[0;31mAttributeError\u001b[0m: 'list' object has no attribute 'split'"
          ]
        }
      ]
    },
    {
      "cell_type": "code",
      "metadata": {
        "colab": {
          "base_uri": "https://localhost:8080/"
        },
        "id": "_6qYwYNUidY-",
        "outputId": "b35d927a-e2f8-4a99-e239-a129c6812b39"
      },
      "source": [
        "a = 10\r\n",
        "b = 15\r\n",
        "if b > a:\r\n",
        "  print (\"b is greater than a\")\r\n",
        "elif a == b:\r\n",
        "  print (\"b is equal to a\")"
      ],
      "execution_count": 29,
      "outputs": [
        {
          "output_type": "stream",
          "text": [
            "b is greater than a\n"
          ],
          "name": "stdout"
        }
      ]
    },
    {
      "cell_type": "code",
      "metadata": {
        "colab": {
          "base_uri": "https://localhost:8080/"
        },
        "id": "qnMPmbjeiysz",
        "outputId": "cc059db0-4736-49aa-b992-b9cb4dca62e8"
      },
      "source": [
        "#assignment of variables\r\n",
        "age = 39\r\n",
        "year = 2021\r\n",
        "if age < year:\r\n",
        "  print (\"My age is 39.\")\r\n",
        "else: \r\n",
        "  print (\"I lost track of my age.\")"
      ],
      "execution_count": 23,
      "outputs": [
        {
          "output_type": "stream",
          "text": [
            "My age is 39.\n"
          ],
          "name": "stdout"
        }
      ]
    },
    {
      "cell_type": "code",
      "metadata": {
        "colab": {
          "base_uri": "https://localhost:8080/"
        },
        "id": "NzCrdcmvj9D_",
        "outputId": "aaf8bcce-85da-4811-d054-00f7b092f3c5"
      },
      "source": [
        "age = 39\r\n",
        "if age <40:\r\n",
        "  print (\"I am still in my 30s.\")"
      ],
      "execution_count": 30,
      "outputs": [
        {
          "output_type": "stream",
          "text": [
            "I am still in my 30s.\n"
          ],
          "name": "stdout"
        }
      ]
    },
    {
      "cell_type": "code",
      "metadata": {
        "colab": {
          "base_uri": "https://localhost:8080/"
        },
        "id": "XM6g9gC0fK9i",
        "outputId": "ff180a80-e870-472d-914a-0e8c3e317cc4"
      },
      "source": [
        "a = 1\r\n",
        "b = 2\r\n",
        "if a!= b:\r\n",
        "  print(\"a = b\")\r\n",
        "else:\r\n",
        "  print(\"a is not equal to b.\")"
      ],
      "execution_count": 14,
      "outputs": [
        {
          "output_type": "stream",
          "text": [
            "a = b\n"
          ],
          "name": "stdout"
        }
      ]
    },
    {
      "cell_type": "code",
      "metadata": {
        "colab": {
          "base_uri": "https://localhost:8080/"
        },
        "id": "omWZlFJigBiE",
        "outputId": "6e761044-22d8-4af2-c7be-dd2992d48268"
      },
      "source": [
        "a = 1\r\n",
        "b = 2\r\n",
        "if a > b:\r\n",
        "  print (\"true\")\r\n",
        "else:\r\n",
        "  print (\"false\")"
      ],
      "execution_count": 16,
      "outputs": [
        {
          "output_type": "stream",
          "text": [
            "false\n"
          ],
          "name": "stdout"
        }
      ]
    }
  ]
}