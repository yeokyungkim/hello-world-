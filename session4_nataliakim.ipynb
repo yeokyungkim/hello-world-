{
  "nbformat": 4,
  "nbformat_minor": 0,
  "metadata": {
    "colab": {
      "name": "session4_nataliakim.ipynb",
      "provenance": [],
      "collapsed_sections": [],
      "authorship_tag": "ABX9TyOa9YAPSJDFBKsGfteO+ENX",
      "include_colab_link": true
    },
    "kernelspec": {
      "name": "python3",
      "display_name": "Python 3"
    }
  },
  "cells": [
    {
      "cell_type": "markdown",
      "metadata": {
        "id": "view-in-github",
        "colab_type": "text"
      },
      "source": [
        "<a href=\"https://colab.research.google.com/github/yeokyungkim/hello-world-/blob/main/session4_nataliakim.ipynb\" target=\"_parent\"><img src=\"https://colab.research.google.com/assets/colab-badge.svg\" alt=\"Open In Colab\"/></a>"
      ]
    },
    {
      "cell_type": "code",
      "metadata": {
        "colab": {
          "base_uri": "https://localhost:8080/",
          "height": 266
        },
        "id": "OzmJXmCkXanF",
        "outputId": "468b24a7-5a1b-483e-9a66-0fa6bcab7596"
      },
      "source": [
        "firstchild = \"Gemma Kang\"\r\n",
        "print(firstchild.upper())\r\n",
        "secondchild = \"Ella Kang\"\r\n",
        "print(secondchild.lower())\r\n",
        "age = (\"9\",\"5\")\r\n",
        "age = age.split(\",\")\r\n",
        "variable_txt = \"My first Child is\" + firstchild + \" and She is\" + age (0) + \" years old.\"\r\n",
        "print(variable_txt)"
      ],
      "execution_count": null,
      "outputs": [
        {
          "output_type": "stream",
          "text": [
            "GEMMA KANG\n",
            "ella kang\n"
          ],
          "name": "stdout"
        },
        {
          "output_type": "error",
          "ename": "TypeError",
          "evalue": "ignored",
          "traceback": [
            "\u001b[0;31m---------------------------------------------------------------------------\u001b[0m",
            "\u001b[0;31mTypeError\u001b[0m                                 Traceback (most recent call last)",
            "\u001b[0;32m<ipython-input-50-434c93a246a3>\u001b[0m in \u001b[0;36m<module>\u001b[0;34m()\u001b[0m\n\u001b[1;32m      3\u001b[0m \u001b[0msecondchild\u001b[0m \u001b[0;34m=\u001b[0m \u001b[0;34m\"Ella Kang\"\u001b[0m\u001b[0;34m\u001b[0m\u001b[0;34m\u001b[0m\u001b[0m\n\u001b[1;32m      4\u001b[0m \u001b[0mprint\u001b[0m\u001b[0;34m(\u001b[0m\u001b[0msecondchild\u001b[0m\u001b[0;34m.\u001b[0m\u001b[0mlower\u001b[0m\u001b[0;34m(\u001b[0m\u001b[0;34m)\u001b[0m\u001b[0;34m)\u001b[0m\u001b[0;34m\u001b[0m\u001b[0;34m\u001b[0m\u001b[0m\n\u001b[0;32m----> 5\u001b[0;31m \u001b[0mage\u001b[0m \u001b[0;34m=\u001b[0m \u001b[0mlist\u001b[0m\u001b[0;34m(\u001b[0m\u001b[0;34m\"9\"\u001b[0m\u001b[0;34m,\u001b[0m\u001b[0;34m\"5\"\u001b[0m\u001b[0;34m)\u001b[0m\u001b[0;34m\u001b[0m\u001b[0;34m\u001b[0m\u001b[0m\n\u001b[0m\u001b[1;32m      6\u001b[0m \u001b[0mage\u001b[0m \u001b[0;34m=\u001b[0m \u001b[0mage\u001b[0m\u001b[0;34m.\u001b[0m\u001b[0msplit\u001b[0m\u001b[0;34m(\u001b[0m\u001b[0;34m\",\"\u001b[0m\u001b[0;34m)\u001b[0m\u001b[0;34m\u001b[0m\u001b[0;34m\u001b[0m\u001b[0m\n\u001b[1;32m      7\u001b[0m \u001b[0mvariable_txt\u001b[0m \u001b[0;34m=\u001b[0m \u001b[0;34m\"My first Child is\"\u001b[0m \u001b[0;34m+\u001b[0m \u001b[0mfirstchild\u001b[0m \u001b[0;34m+\u001b[0m \u001b[0;34m\" and She is\"\u001b[0m \u001b[0;34m+\u001b[0m \u001b[0mage\u001b[0m \u001b[0;34m(\u001b[0m\u001b[0;36m0\u001b[0m\u001b[0;34m)\u001b[0m \u001b[0;34m+\u001b[0m \u001b[0;34m\" years old.\"\u001b[0m\u001b[0;34m\u001b[0m\u001b[0;34m\u001b[0m\u001b[0m\n",
            "\u001b[0;31mTypeError\u001b[0m: list expected at most 1 arguments, got 2"
          ]
        }
      ]
    },
    {
      "cell_type": "code",
      "metadata": {
        "colab": {
          "base_uri": "https://localhost:8080/"
        },
        "id": "_6qYwYNUidY-",
        "outputId": "b35d927a-e2f8-4a99-e239-a129c6812b39"
      },
      "source": [
        "a = 10\r\n",
        "b = 15\r\n",
        "if b > a:\r\n",
        "  print (\"b is greater than a\")\r\n",
        "elif a == b:\r\n",
        "  print (\"b is equal to a\")"
      ],
      "execution_count": null,
      "outputs": [
        {
          "output_type": "stream",
          "text": [
            "b is greater than a\n"
          ],
          "name": "stdout"
        }
      ]
    },
    {
      "cell_type": "code",
      "metadata": {
        "colab": {
          "base_uri": "https://localhost:8080/"
        },
        "id": "qnMPmbjeiysz",
        "outputId": "c4b70d02-1b2b-42a5-f2ab-538585c1f79e"
      },
      "source": [
        "#age assignment \r\n",
        "age = 39\r\n",
        "year = 2021\r\n",
        "\r\n",
        "#testing if my age is smaller than current year \r\n",
        "if age < year:\r\n",
        "  print (\"My age is 39.\")\r\n",
        "else: \r\n",
        "  print (\"I lost track of my age.\")"
      ],
      "execution_count": null,
      "outputs": [
        {
          "output_type": "stream",
          "text": [
            "My age is 39.\n"
          ],
          "name": "stdout"
        }
      ]
    },
    {
      "cell_type": "code",
      "metadata": {
        "id": "XfsdNxp_vYrL"
      },
      "source": [
        "age = 39\r\n",
        "myage = 30\r\n",
        "if age > myage or age < myage:\r\n",
        "  print(\"my age is \")"
      ],
      "execution_count": null,
      "outputs": []
    },
    {
      "cell_type": "code",
      "metadata": {
        "id": "NWboGgc_v4Qp",
        "colab": {
          "base_uri": "https://localhost:8080/",
          "height": 130
        },
        "outputId": "d466b262-77f7-4977-a3bc-8e17e10f4925"
      },
      "source": [
        "#nested if test\r\n",
        "age_to_test= 9\r\n",
        "my_daughters_age = 9\r\n",
        "\r\n",
        "#testing if her age is meeting below conditions\r\n",
        "if age_to_test > my_daughters_age or age_to_test < my_daughters_age:\r\n",
        "  print (\"My daughter is younger or order than age_to_test.\")\r\n",
        "\r\n",
        "#testing if age_to_test is younger than my daughter's age\r\n",
        "  if age_to_test < my_daughters_age:        \r\n",
        "   print(\"My daughter is older.\")\r\n",
        "\r\n",
        "#testing if age_to_test is older than my daughter's age\r\n",
        "  if age_to_test > my_daughters_age:\r\n",
        "   print(\"My daughter is younger.\")\r\n",
        "\r\n",
        "#testing if it is same as my daughter's age\r\n",
        "   if age_to_test == my_daughters_age:\r\n",
        "    print(\"Yes, it is her age.\")"
      ],
      "execution_count": 98,
      "outputs": [
        {
          "output_type": "error",
          "ename": "SyntaxError",
          "evalue": "ignored",
          "traceback": [
            "\u001b[0;36m  File \u001b[0;32m\"<ipython-input-98-ed5aedb08a01>\"\u001b[0;36m, line \u001b[0;32m18\u001b[0m\n\u001b[0;31m    elif age_to_test == my_daughters_age:\u001b[0m\n\u001b[0m       ^\u001b[0m\n\u001b[0;31mSyntaxError\u001b[0m\u001b[0;31m:\u001b[0m invalid syntax\n"
          ]
        }
      ]
    },
    {
      "cell_type": "code",
      "metadata": {
        "colab": {
          "base_uri": "https://localhost:8080/"
        },
        "id": "NzCrdcmvj9D_",
        "outputId": "aaf8bcce-85da-4811-d054-00f7b092f3c5"
      },
      "source": [
        "age = 39\r\n",
        "if age <40:\r\n",
        "  print (\"I am still in my 30s.\")"
      ],
      "execution_count": null,
      "outputs": [
        {
          "output_type": "stream",
          "text": [
            "I am still in my 30s.\n"
          ],
          "name": "stdout"
        }
      ]
    },
    {
      "cell_type": "code",
      "metadata": {
        "colab": {
          "base_uri": "https://localhost:8080/"
        },
        "id": "XM6g9gC0fK9i",
        "outputId": "ff180a80-e870-472d-914a-0e8c3e317cc4"
      },
      "source": [
        "a = 1\r\n",
        "b = 2\r\n",
        "if a!= b:\r\n",
        "  print(\"a = b\")\r\n",
        "else:\r\n",
        "  print(\"a is not equal to b.\")"
      ],
      "execution_count": null,
      "outputs": [
        {
          "output_type": "stream",
          "text": [
            "a = b\n"
          ],
          "name": "stdout"
        }
      ]
    },
    {
      "cell_type": "code",
      "metadata": {
        "colab": {
          "base_uri": "https://localhost:8080/"
        },
        "id": "omWZlFJigBiE",
        "outputId": "6e761044-22d8-4af2-c7be-dd2992d48268"
      },
      "source": [
        "a = 1\r\n",
        "b = 2\r\n",
        "if a > b:\r\n",
        "  print (\"true\")\r\n",
        "else:\r\n",
        "  print (\"false\")"
      ],
      "execution_count": null,
      "outputs": [
        {
          "output_type": "stream",
          "text": [
            "false\n"
          ],
          "name": "stdout"
        }
      ]
    }
  ]
}