{
  "nbformat": 4,
  "nbformat_minor": 0,
  "metadata": {
    "colab": {
      "name": "session 5.ipynb",
      "provenance": [],
      "collapsed_sections": [],
      "include_colab_link": true
    },
    "kernelspec": {
      "name": "python3",
      "display_name": "Python 3"
    }
  },
  "cells": [
    {
      "cell_type": "markdown",
      "metadata": {
        "id": "view-in-github",
        "colab_type": "text"
      },
      "source": [
        "<a href=\"https://colab.research.google.com/github/yeokyungkim/hello-world-/blob/main/session_5.ipynb\" target=\"_parent\"><img src=\"https://colab.research.google.com/assets/colab-badge.svg\" alt=\"Open In Colab\"/></a>"
      ]
    },
    {
      "cell_type": "code",
      "metadata": {
        "id": "PluZOFzZjN01"
      },
      "source": [
        ""
      ],
      "execution_count": null,
      "outputs": []
    },
    {
      "cell_type": "markdown",
      "metadata": {
        "id": "gdibXA-2jRek"
      },
      "source": [
        "Exercise about Loop and Titanic"
      ]
    },
    {
      "cell_type": "code",
      "metadata": {
        "id": "cygQSgBLjVpB"
      },
      "source": [
        "# Exercise about Loop and Titanic\r\n",
        "num = float(input(\"Enter the number:\"))\r\n",
        "\r\n",
        "while num < 123:\r\n",
        "  print(\"Passenger\" + \" \" + str(num))\r\n",
        "  num = num + 1\r\n",
        "print(\"Passenger\" + \" \" + str(num))\r\n"
      ],
      "execution_count": null,
      "outputs": []
    },
    {
      "cell_type": "code",
      "metadata": {
        "colab": {
          "base_uri": "https://localhost:8080/"
        },
        "id": "KGgxHsOgsyK8",
        "outputId": "fae46b8c-b76d-44df-fce9-fb4e4d4a754b"
      },
      "source": [
        "# Exercise about Loop and Titanic\r\n",
        "total_number_of_passengers = float(input(\"Enter the number:\"))\r\n",
        "\r\n",
        "passenger_incremental = 1\r\n",
        "while passenger_incremental < total_number_of_passengers:\r\n",
        "  print(\"Passenger\" + \" \" + str(passenger_incremental))\r\n",
        "  passenger_incremental = passenger_incremental + 1\r\n",
        "print(\"Passenger\" + \" \" + str(passenger_incremental))\r\n"
      ],
      "execution_count": 16,
      "outputs": [
        {
          "output_type": "stream",
          "text": [
            "Enter the number:123\n",
            "Passenger 1\n",
            "Passenger 2\n",
            "Passenger 3\n",
            "Passenger 4\n",
            "Passenger 5\n",
            "Passenger 6\n",
            "Passenger 7\n",
            "Passenger 8\n",
            "Passenger 9\n",
            "Passenger 10\n",
            "Passenger 11\n",
            "Passenger 12\n",
            "Passenger 13\n",
            "Passenger 14\n",
            "Passenger 15\n",
            "Passenger 16\n",
            "Passenger 17\n",
            "Passenger 18\n",
            "Passenger 19\n",
            "Passenger 20\n",
            "Passenger 21\n",
            "Passenger 22\n",
            "Passenger 23\n",
            "Passenger 24\n",
            "Passenger 25\n",
            "Passenger 26\n",
            "Passenger 27\n",
            "Passenger 28\n",
            "Passenger 29\n",
            "Passenger 30\n",
            "Passenger 31\n",
            "Passenger 32\n",
            "Passenger 33\n",
            "Passenger 34\n",
            "Passenger 35\n",
            "Passenger 36\n",
            "Passenger 37\n",
            "Passenger 38\n",
            "Passenger 39\n",
            "Passenger 40\n",
            "Passenger 41\n",
            "Passenger 42\n",
            "Passenger 43\n",
            "Passenger 44\n",
            "Passenger 45\n",
            "Passenger 46\n",
            "Passenger 47\n",
            "Passenger 48\n",
            "Passenger 49\n",
            "Passenger 50\n",
            "Passenger 51\n",
            "Passenger 52\n",
            "Passenger 53\n",
            "Passenger 54\n",
            "Passenger 55\n",
            "Passenger 56\n",
            "Passenger 57\n",
            "Passenger 58\n",
            "Passenger 59\n",
            "Passenger 60\n",
            "Passenger 61\n",
            "Passenger 62\n",
            "Passenger 63\n",
            "Passenger 64\n",
            "Passenger 65\n",
            "Passenger 66\n",
            "Passenger 67\n",
            "Passenger 68\n",
            "Passenger 69\n",
            "Passenger 70\n",
            "Passenger 71\n",
            "Passenger 72\n",
            "Passenger 73\n",
            "Passenger 74\n",
            "Passenger 75\n",
            "Passenger 76\n",
            "Passenger 77\n",
            "Passenger 78\n",
            "Passenger 79\n",
            "Passenger 80\n",
            "Passenger 81\n",
            "Passenger 82\n",
            "Passenger 83\n",
            "Passenger 84\n",
            "Passenger 85\n",
            "Passenger 86\n",
            "Passenger 87\n",
            "Passenger 88\n",
            "Passenger 89\n",
            "Passenger 90\n",
            "Passenger 91\n",
            "Passenger 92\n",
            "Passenger 93\n",
            "Passenger 94\n",
            "Passenger 95\n",
            "Passenger 96\n",
            "Passenger 97\n",
            "Passenger 98\n",
            "Passenger 99\n",
            "Passenger 100\n",
            "Passenger 101\n",
            "Passenger 102\n",
            "Passenger 103\n",
            "Passenger 104\n",
            "Passenger 105\n",
            "Passenger 106\n",
            "Passenger 107\n",
            "Passenger 108\n",
            "Passenger 109\n",
            "Passenger 110\n",
            "Passenger 111\n",
            "Passenger 112\n",
            "Passenger 113\n",
            "Passenger 114\n",
            "Passenger 115\n",
            "Passenger 116\n",
            "Passenger 117\n",
            "Passenger 118\n",
            "Passenger 119\n",
            "Passenger 120\n",
            "Passenger 121\n",
            "Passenger 122\n",
            "Passenger 123\n"
          ],
          "name": "stdout"
        }
      ]
    }
  ]
}